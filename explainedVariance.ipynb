{
 "cells": [
  {
   "cell_type": "code",
   "execution_count": null,
   "id": "9283a322",
   "metadata": {},
   "outputs": [],
   "source": [
    "# in this notebook we compute the variance explained\n",
    "# by the linear sparce PCA and the SDP sparce pca\n",
    "# in a various datasets."
   ]
  },
  {
   "cell_type": "code",
   "execution_count": null,
   "id": "8f655c27",
   "metadata": {},
   "outputs": [],
   "source": [
    "# to compute the variance explained, we follow the paper\n",
    "#\"https://www.sciencedirect.com/science/article/pii/S0169743919303636\""
   ]
  },
  {
   "cell_type": "code",
   "execution_count": 1,
   "id": "2a1b1059",
   "metadata": {},
   "outputs": [],
   "source": [
    "using RDatasets\n",
    "using Pkg\n",
    "using NBInclude\n",
    "using MultivariateStats\n",
    "#@nbinclude(\"RandomGraphs.ipynb\")\n",
    "#@nbinclude(\"MaxCutRelaxations.ipynb\")\n",
    "using NBInclude\n",
    "using StatsBase\n",
    "using Arpack\n",
    "using NBInclude\n",
    "using DelimitedFiles\n",
    "using LightGraphs\n",
    "using JuMP \n",
    "using Mosek\n",
    "using NBInclude\n",
    "using Pkg\n",
    "using LinearAlgebra\n",
    "using MosekTools\n",
    "using Statistics\n",
    "using Random\n",
    "using Distributions\n",
    "using Plots\n",
    "using BenchmarkTools\n",
    " using DataFrames"
   ]
  },
  {
   "cell_type": "code",
   "execution_count": 2,
   "id": "f2f73cb6",
   "metadata": {},
   "outputs": [
    {
     "data": {
      "text/plain": [
       "EigenRelSparsePCA (generic function with 1 method)"
      ]
     },
     "execution_count": 2,
     "metadata": {},
     "output_type": "execute_result"
    }
   ],
   "source": [
    "function SdpSparsePCA(A,k)\n",
    "    n = size(A)[1]\n",
    "    m = Model(Mosek.Optimizer)\n",
    "    set_silent(m)\n",
    "      @variable(m,X[1:n,1:n],PSD ) \n",
    "      @constraint(m,tr(X)==1)\n",
    "    \n",
    "      @variable(m,Y[1:n,1:n],Symmetric)  \n",
    "          @constraint(m,Y.>=X )\n",
    "           @constraint(m,Y.>=-X )\n",
    "           @constraint(m,sum(Y)<=k)\n",
    "       @objective(m,Max,tr(A*X))\n",
    "      status = optimize!(m)\n",
    "     return([value.(X),value.(Y),objective_value(m),solve_time(m)])\n",
    "end      \n",
    "\n",
    "#function to compute the linear relaxation of the semidefinite relaxation of sparse PCA of the matrix A\n",
    "#with target sparcity k.\n",
    "#@param: A the matrix to compute the sparse PCA\n",
    "#@param: k, the target sparcity.\n",
    "function EigenRelSparsePCA(A,k)\n",
    "    n = size(A)[1]\n",
    "    m = Model(Mosek.Optimizer)\n",
    "    set_silent(m)\n",
    "      @variable(m,-1<=X[1:n,1:n]<=1,Symmetric ) \n",
    "      @constraint(m,tr(X)==1)\n",
    "      @variable(m,Y[1:n,1:n],Symmetric)  \n",
    "          @constraint(m,Y.>=X )\n",
    "           @constraint(m,Y.>=-X )\n",
    "           @constraint(m,sum(Y)<=k)\n",
    "    \n",
    "    \n",
    "      eigenFacto =  eigen(A)\n",
    "    eigenVectors = eigenFacto.vectors\n",
    "    rounded = round.(eigenFacto.vectors,digits=3)\n",
    "    cons = rounded.*100\n",
    "      \n",
    "       \n",
    "      for i in 1:n\n",
    "        @constraint(m,X[i,i]>=0)\n",
    "               v =  cons[:,i]\n",
    "              @constraint(m,transpose(v)*X*v >=0)\n",
    "     #   println(i)\n",
    "     #   println(sum(v))\n",
    "        end  \n",
    "    \n",
    "       @objective(m,Max,tr(A*X))\n",
    "      status = optimize!(m)\n",
    "     return([value.(X),value.(Y),objective_value(m),solve_time(m)])\n",
    "end      \n",
    "\n",
    "\n",
    "\n"
   ]
  },
  {
   "cell_type": "code",
   "execution_count": 3,
   "id": "bdde6bb0",
   "metadata": {},
   "outputs": [
    {
     "data": {
      "text/plain": [
       "computeVarianceSDP (generic function with 1 method)"
      ]
     },
     "execution_count": 3,
     "metadata": {},
     "output_type": "execute_result"
    }
   ],
   "source": [
    "#function to compute the variance explained by sparse PCAs\n",
    "# k is a vector where k[i] is the target sparcity of pc i. Length of k is the number of PCs\n",
    "\n",
    "#data is the data set to be used\n",
    "#@returns the variance explained by the SDP and the variance explained by the LP.\n",
    "function computeVarianceSDP(k,data,normalize::Bool)\n",
    "#currentCovMatrix = cor(data)    \n",
    "  n = size(data)[1]   \n",
    "    \n",
    "  if normalize == true\n",
    "    \n",
    "    currentCovMatrix = (1/(n-1))* scattermat(data) \n",
    "        \n",
    "    else\n",
    "        currentCovMatrix = scattermat(data) \n",
    "    end    \n",
    "    \n",
    "    dims = size(currentCovMatrix)[1]\n",
    "     \n",
    "numPc = length(k)   \n",
    "#sdp \n",
    "  SdpSol=SdpSparsePCA(currentCovMatrix,k[1])[1]\n",
    "currentPc =eigen(SdpSol).vectors[:,dims]\n",
    "PCs = currentPc  \n",
    " currentCovMatrix = currentCovMatrix-(transpose(currentPc)*currentCovMatrix*currentPc)*currentPc*transpose(currentPc)\n",
    " for i in 2:numPc\n",
    "     \n",
    "SdpSol=SdpSparsePCA(currentCovMatrix,k[i])[1]        \n",
    "currentPc =eigen(SdpSol).vectors[:,dims] \n",
    "PCs = hcat(PCs,currentPc) \n",
    "    \n",
    "currentCovMatrix = currentCovMatrix-(transpose(currentPc)*currentCovMatrix*currentPc)*currentPc*transpose(currentPc)    \n",
    "    end\n",
    "    \n",
    "PCs= round.(PCs,digits=4)\n",
    " That = data*PCs*pinv(transpose(PCs)*PCs) \n",
    "    \n",
    "   # return(That)\n",
    "VarianceExplained = tr(PCs*transpose(That)*That*transpose(PCs))/tr(data*transpose(data))\n",
    "   \n",
    " return(VarianceExplained)   \n",
    "end"
   ]
  },
  {
   "cell_type": "code",
   "execution_count": 4,
   "id": "aa65f629",
   "metadata": {},
   "outputs": [
    {
     "data": {
      "text/plain": [
       "computeVarianceLP (generic function with 1 method)"
      ]
     },
     "execution_count": 4,
     "metadata": {},
     "output_type": "execute_result"
    }
   ],
   "source": [
    "#function to compute the variance explained by sparse PCAs\n",
    "# k is a vector where k[i] is the target sparcity of pc i. Length of k is the number of PCs\n",
    "\n",
    "#data is the data set to be used\n",
    "#@returns the variance explained by the SDP and the variance explained by the LP.\n",
    "# data is assumed to be centered\n",
    "function computeVarianceLP(k,data,normalize::Bool)\n",
    "#currentCovMatrix = cor(data)\n",
    " n = size(data)[1]   \n",
    " \n",
    "    if normalize == true\n",
    "    \n",
    "    currentCovMatrix = (1/(n-1))* scattermat(data) \n",
    "        \n",
    "    else\n",
    "        currentCovMatrix = scattermat(data) \n",
    "    end\n",
    "        \n",
    "dims = size(currentCovMatrix)[1]\n",
    "numPc = length(k)   \n",
    "#sdp \n",
    "  SdpSol=EigenRelSparsePCA(currentCovMatrix,k[1])[1]\n",
    "currentPc =eigen(SdpSol).vectors[:,dims]\n",
    "PCs = currentPc\n",
    " \n",
    " currentCovMatrix = currentCovMatrix-(transpose(currentPc)*currentCovMatrix*currentPc)*currentPc*transpose(currentPc)\n",
    " for i in 2:numPc\n",
    "     \n",
    "SdpSol=EigenRelSparsePCA(currentCovMatrix,k[i])[1]        \n",
    "currentPc =eigen(SdpSol).vectors[:,dims] \n",
    "PCs = hcat(PCs,currentPc) \n",
    "    \n",
    "currentCovMatrix = currentCovMatrix-(transpose(currentPc)*currentCovMatrix*currentPc)*currentPc*transpose(currentPc)    \n",
    "    end\n",
    "    \n",
    "PCs= round.(PCs,digits=4)\n",
    " That = data*PCs*pinv(transpose(PCs)*PCs) \n",
    "    \n",
    "   # return(That)\n",
    "VarianceExplained = tr(PCs*transpose(That)*That*transpose(PCs))/tr(data*transpose(data))\n",
    "   \n",
    " return(VarianceExplained)   \n",
    "end"
   ]
  },
  {
   "cell_type": "code",
   "execution_count": 23,
   "id": "9aeebe41",
   "metadata": {},
   "outputs": [
    {
     "data": {
      "text/plain": [
       "processDataset (generic function with 1 method)"
      ]
     },
     "execution_count": 23,
     "metadata": {},
     "output_type": "execute_result"
    }
   ],
   "source": [
    "# fucntion to curate the datasets we will use. \n",
    "\n",
    "\n",
    "function processDataset(min_number_covariates,max_number_covariates)\n",
    "    \n",
    "    datas =  RDatasets.datasets()\n",
    "    num_data_tables = size(datas)[1]\n",
    "    datas[!,:num_float_vars]= zeros(size(datas)[1])\n",
    "\n",
    "      \n",
    "for i in 1:  num_data_tables\n",
    "        \n",
    "     currentTable = dataset(datas[i,1], datas[i,2])\n",
    "     currentTable = select(currentTable, findall(col -> eltype(col) <: Float64, eachcol(currentTable)))\n",
    "      datas[i,size(datas)[2]]= size(currentTable)[2]   \n",
    "     end\n",
    "    \n",
    "  datas =  datas[datas.num_float_vars .> min_number_covariates, :]\n",
    "   datas = datas[datas.num_float_vars .<=max_number_covariates,:]\n",
    "\n",
    "    \n",
    "    return(datas)\n",
    "end\n",
    "\n"
   ]
  },
  {
   "cell_type": "code",
   "execution_count": 50,
   "id": "44d93c49",
   "metadata": {},
   "outputs": [
    {
     "data": {
      "text/plain": [
       "plot_explained_variances (generic function with 1 method)"
      ]
     },
     "execution_count": 50,
     "metadata": {},
     "output_type": "execute_result"
    }
   ],
   "source": [
    "# function to give the value of the variance explained, fixing\n",
    "# the same vectors for both methods\n",
    "\n",
    "function give_variances(datasetName::String,tableName::String,sparcityPatern,normalize::Bool)\n",
    "   \n",
    "    num_Pcs = length(sparcityPatern) \n",
    "    \n",
    "    dat = dataset(datasetName, tableName)\n",
    "    dat = select(dat, findall(col -> eltype(col) <: Float64, eachcol(dat)))\n",
    "    dat =Matrix(dat)    \n",
    "    \n",
    "    #Careful, for the pca, observations must be in columns. For our methods, our observations\n",
    "    # are in rows. Also, the fit function regularizes the matrix by default\n",
    "    \n",
    "    # normalize the data\n",
    "    dat = mapslices(x -> x.-mean(x), dat, dims=1)\n",
    "    \n",
    "    dat_for_normal_PCA = transpose(dat)\n",
    "    totalVarExplainedPCA = principalratio(fit(PCA,iris2Reg,maxoutdim=num_Pcs)) \n",
    "     return( computeVarianceLP(sparcityPatern,dat,normalize),  computeVarianceSDP(sparcityPatern,dat),totalVarExplainedPCA)\n",
    "end\n",
    "\n",
    "\n",
    "#function to return the best variance explained found by altering the sparcity target. \n",
    "function findBestKoneComponent(datasetName::String,tableName::String,normalize::Bool)\n",
    "   \n",
    "    dat = dataset(datasetName, tableName)\n",
    "    dat = select(dat, findall(col -> eltype(col) <: Float64, eachcol(dat)))\n",
    "    dat =Matrix(dat)\n",
    "    dat = mapslices(x -> x.-mean(x), dat, dims=1)\n",
    "\n",
    "    numVars = size(dat)[2]\n",
    "    max_sparcity = Int64(floor(numVars/2))+1\n",
    "    bestLP = 0\n",
    "    bestSDP = 0\n",
    "    \n",
    "    #compute the pca explained variance\n",
    "    \n",
    "    \n",
    "    dat_for_normal_PCA = transpose(dat)\n",
    "    totalVarExplainedPCA = principalratio(fit(PCA,dat_for_normal_PCA,maxoutdim=1)) \n",
    "    \n",
    "    \n",
    "      for i in 1:max_sparcity\n",
    "        bestLP = max(bestLP, computeVarianceLP([i],dat,normalize))\n",
    "        bestSDP =  max(bestSDP, computeVarianceSDP([i],dat,normalize))\n",
    "    end\n",
    "    return(bestLP,bestSDP,totalVarExplainedPCA)\n",
    "end\n",
    "\n",
    "\n",
    "\n",
    "#function to plot the best variance explained against different datasets\n",
    "# we take p datasets of the RDatasets, with at least 10 variables.\n",
    "function plot_explained_variances()\n",
    "    \n",
    "    # first select the datasets to run our methods. We select datasets\n",
    "    # that after selecting \n",
    "    datas =  RDatasets.datasets()\n",
    "datas =  datas[datas.Columns .> 15, :]\n",
    "datas = datas[datas.Columns.<=20,:]\n",
    "    \n",
    "    \n",
    "    \n",
    "    plot(scatter(xpepe,xticks=(1:3,labelsx)))\n",
    "    \n",
    "end\n",
    "\n",
    "\n",
    " "
   ]
  },
  {
   "cell_type": "code",
   "execution_count": null,
   "id": "123d1009",
   "metadata": {},
   "outputs": [],
   "source": []
  },
  {
   "cell_type": "markdown",
   "id": "2d631a15",
   "metadata": {},
   "source": [
    "<h1>Computation of variance explained on different datasets<h1>"
   ]
  },
  {
   "cell_type": "code",
   "execution_count": null,
   "id": "790689db",
   "metadata": {},
   "outputs": [],
   "source": [
    "# first an example using the Iris dataset"
   ]
  },
  {
   "cell_type": "markdown",
   "id": "0dcefa49",
   "metadata": {},
   "source": [
    "<h3>Iris dataset<h3>"
   ]
  },
  {
   "cell_type": "code",
   "execution_count": 41,
   "id": "bb61add4",
   "metadata": {},
   "outputs": [
    {
     "data": {
      "text/plain": [
       "150×4 Matrix{Float64}:\n",
       " 5.1  3.5  1.4  0.2\n",
       " 4.9  3.0  1.4  0.2\n",
       " 4.7  3.2  1.3  0.2\n",
       " 4.6  3.1  1.5  0.2\n",
       " 5.0  3.6  1.4  0.2\n",
       " 5.4  3.9  1.7  0.4\n",
       " 4.6  3.4  1.4  0.3\n",
       " 5.0  3.4  1.5  0.2\n",
       " 4.4  2.9  1.4  0.2\n",
       " 4.9  3.1  1.5  0.1\n",
       " 5.4  3.7  1.5  0.2\n",
       " 4.8  3.4  1.6  0.2\n",
       " 4.8  3.0  1.4  0.1\n",
       " ⋮              \n",
       " 6.0  3.0  4.8  1.8\n",
       " 6.9  3.1  5.4  2.1\n",
       " 6.7  3.1  5.6  2.4\n",
       " 6.9  3.1  5.1  2.3\n",
       " 5.8  2.7  5.1  1.9\n",
       " 6.8  3.2  5.9  2.3\n",
       " 6.7  3.3  5.7  2.5\n",
       " 6.7  3.0  5.2  2.3\n",
       " 6.3  2.5  5.0  1.9\n",
       " 6.5  3.0  5.2  2.0\n",
       " 6.2  3.4  5.4  2.3\n",
       " 5.9  3.0  5.1  1.8"
      ]
     },
     "execution_count": 41,
     "metadata": {},
     "output_type": "execute_result"
    }
   ],
   "source": [
    "irisRaw = dataset(\"datasets\", \"iris\")\n",
    "iris = select(irisRaw, findall(col -> eltype(col) <: Float64, eachcol(irisRaw)))\n",
    "iris =Matrix(iris)"
   ]
  },
  {
   "cell_type": "code",
   "execution_count": 10,
   "id": "f957ab84",
   "metadata": {},
   "outputs": [
    {
     "data": {
      "image/svg+xml": [
       "<?xml version=\"1.0\" encoding=\"utf-8\"?>\n",
       "<svg xmlns=\"http://www.w3.org/2000/svg\" xmlns:xlink=\"http://www.w3.org/1999/xlink\" width=\"600\" height=\"400\" viewBox=\"0 0 2400 1600\">\n",
       "<defs>\n",
       "  <clipPath id=\"clip760\">\n",
       "    <rect x=\"0\" y=\"0\" width=\"2400\" height=\"1600\"/>\n",
       "  </clipPath>\n",
       "</defs>\n",
       "<path clip-path=\"url(#clip760)\" d=\"\n",
       "M0 1600 L2400 1600 L2400 0 L0 0  Z\n",
       "  \" fill=\"#ffffff\" fill-rule=\"evenodd\" fill-opacity=\"1\"/>\n",
       "<defs>\n",
       "  <clipPath id=\"clip761\">\n",
       "    <rect x=\"480\" y=\"0\" width=\"1681\" height=\"1600\"/>\n",
       "  </clipPath>\n",
       "</defs>\n",
       "<path clip-path=\"url(#clip760)\" d=\"\n",
       "M155.765 1486.45 L2352.76 1486.45 L2352.76 47.2441 L155.765 47.2441  Z\n",
       "  \" fill=\"#ffffff\" fill-rule=\"evenodd\" fill-opacity=\"1\"/>\n",
       "<defs>\n",
       "  <clipPath id=\"clip762\">\n",
       "    <rect x=\"155\" y=\"47\" width=\"2198\" height=\"1440\"/>\n",
       "  </clipPath>\n",
       "</defs>\n",
       "<polyline clip-path=\"url(#clip762)\" style=\"stroke:#000000; stroke-linecap:butt; stroke-linejoin:round; stroke-width:2; stroke-opacity:0.1; fill:none\" points=\"\n",
       "  217.944,1486.45 217.944,47.2441 \n",
       "  \"/>\n",
       "<polyline clip-path=\"url(#clip762)\" style=\"stroke:#000000; stroke-linecap:butt; stroke-linejoin:round; stroke-width:2; stroke-opacity:0.1; fill:none\" points=\"\n",
       "  1254.26,1486.45 1254.26,47.2441 \n",
       "  \"/>\n",
       "<polyline clip-path=\"url(#clip762)\" style=\"stroke:#000000; stroke-linecap:butt; stroke-linejoin:round; stroke-width:2; stroke-opacity:0.1; fill:none\" points=\"\n",
       "  2290.58,1486.45 2290.58,47.2441 \n",
       "  \"/>\n",
       "<polyline clip-path=\"url(#clip760)\" style=\"stroke:#000000; stroke-linecap:butt; stroke-linejoin:round; stroke-width:4; stroke-opacity:1; fill:none\" points=\"\n",
       "  155.765,1486.45 2352.76,1486.45 \n",
       "  \"/>\n",
       "<polyline clip-path=\"url(#clip760)\" style=\"stroke:#000000; stroke-linecap:butt; stroke-linejoin:round; stroke-width:4; stroke-opacity:1; fill:none\" points=\"\n",
       "  217.944,1486.45 217.944,1467.55 \n",
       "  \"/>\n",
       "<polyline clip-path=\"url(#clip760)\" style=\"stroke:#000000; stroke-linecap:butt; stroke-linejoin:round; stroke-width:4; stroke-opacity:1; fill:none\" points=\"\n",
       "  1254.26,1486.45 1254.26,1467.55 \n",
       "  \"/>\n",
       "<polyline clip-path=\"url(#clip760)\" style=\"stroke:#000000; stroke-linecap:butt; stroke-linejoin:round; stroke-width:4; stroke-opacity:1; fill:none\" points=\"\n",
       "  2290.58,1486.45 2290.58,1467.55 \n",
       "  \"/>\n",
       "<path clip-path=\"url(#clip760)\" d=\"M169.611 1535.82 Q164.449 1535.82 162.458 1537 Q160.467 1538.18 160.467 1541.02 Q160.467 1543.29 161.949 1544.63 Q163.453 1545.95 166.023 1545.95 Q169.565 1545.95 171.694 1543.45 Q173.847 1540.93 173.847 1536.76 L173.847 1535.82 L169.611 1535.82 M178.106 1534.06 L178.106 1548.85 L173.847 1548.85 L173.847 1544.91 Q172.389 1547.27 170.213 1548.41 Q168.037 1549.52 164.889 1549.52 Q160.907 1549.52 158.546 1547.3 Q156.208 1545.05 156.208 1541.3 Q156.208 1536.93 159.125 1534.7 Q162.065 1532.48 167.875 1532.48 L173.847 1532.48 L173.847 1532.07 Q173.847 1529.13 171.902 1527.53 Q169.981 1525.91 166.486 1525.91 Q164.264 1525.91 162.157 1526.44 Q160.051 1526.97 158.106 1528.04 L158.106 1524.1 Q160.444 1523.2 162.643 1522.76 Q164.842 1522.3 166.926 1522.3 Q172.551 1522.3 175.328 1525.21 Q178.106 1528.13 178.106 1534.06 Z\" fill=\"#000000\" fill-rule=\"evenodd\" fill-opacity=\"1\" /><path clip-path=\"url(#clip760)\" d=\"M203.407 1523.69 L203.407 1527.71 Q201.601 1526.79 199.657 1526.32 Q197.713 1525.86 195.629 1525.86 Q192.458 1525.86 190.861 1526.83 Q189.287 1527.81 189.287 1529.75 Q189.287 1531.23 190.421 1532.09 Q191.555 1532.92 194.981 1533.69 L196.439 1534.01 Q200.976 1534.98 202.875 1536.76 Q204.796 1538.52 204.796 1541.7 Q204.796 1545.31 201.925 1547.41 Q199.078 1549.52 194.078 1549.52 Q191.995 1549.52 189.726 1549.1 Q187.481 1548.71 184.981 1547.9 L184.981 1543.5 Q187.342 1544.73 189.634 1545.35 Q191.926 1545.95 194.171 1545.95 Q197.18 1545.95 198.8 1544.94 Q200.421 1543.89 200.421 1542.02 Q200.421 1540.28 199.24 1539.36 Q198.083 1538.43 194.125 1537.57 L192.643 1537.23 Q188.685 1536.39 186.926 1534.68 Q185.166 1532.95 185.166 1529.94 Q185.166 1526.28 187.759 1524.29 Q190.351 1522.3 195.12 1522.3 Q197.481 1522.3 199.564 1522.64 Q201.648 1522.99 203.407 1523.69 Z\" fill=\"#000000\" fill-rule=\"evenodd\" fill-opacity=\"1\" /><path clip-path=\"url(#clip760)\" d=\"M228.638 1526.86 L228.638 1512.83 L232.898 1512.83 L232.898 1548.85 L228.638 1548.85 L228.638 1544.96 Q227.296 1547.27 225.236 1548.41 Q223.198 1549.52 220.328 1549.52 Q215.629 1549.52 212.666 1545.77 Q209.726 1542.02 209.726 1535.91 Q209.726 1529.8 212.666 1526.05 Q215.629 1522.3 220.328 1522.3 Q223.198 1522.3 225.236 1523.43 Q227.296 1524.54 228.638 1526.86 M214.124 1535.91 Q214.124 1540.61 216.046 1543.29 Q217.99 1545.95 221.37 1545.95 Q224.749 1545.95 226.694 1543.29 Q228.638 1540.61 228.638 1535.91 Q228.638 1531.21 226.694 1528.55 Q224.749 1525.86 221.37 1525.86 Q217.99 1525.86 216.046 1528.55 Q214.124 1531.21 214.124 1535.91 Z\" fill=\"#000000\" fill-rule=\"evenodd\" fill-opacity=\"1\" /><path clip-path=\"url(#clip760)\" d=\"M254.796 1512.83 L254.796 1516.37 L250.721 1516.37 Q248.43 1516.37 247.527 1517.3 Q246.647 1518.22 246.647 1520.63 L246.647 1522.92 L253.661 1522.92 L253.661 1526.23 L246.647 1526.23 L246.647 1548.85 L242.365 1548.85 L242.365 1526.23 L238.291 1526.23 L238.291 1522.92 L242.365 1522.92 L242.365 1521.12 Q242.365 1516.79 244.379 1514.82 Q246.393 1512.83 250.768 1512.83 L254.796 1512.83 Z\" fill=\"#000000\" fill-rule=\"evenodd\" fill-opacity=\"1\" /><path clip-path=\"url(#clip760)\" d=\"M259.772 1544.91 L267.411 1544.91 L267.411 1518.55 L259.101 1520.21 L259.101 1515.95 L267.365 1514.29 L272.041 1514.29 L272.041 1544.91 L279.68 1544.91 L279.68 1548.85 L259.772 1548.85 L259.772 1544.91 Z\" fill=\"#000000\" fill-rule=\"evenodd\" fill-opacity=\"1\" /><path clip-path=\"url(#clip760)\" d=\"M1206.11 1535.82 Q1200.95 1535.82 1198.96 1537 Q1196.97 1538.18 1196.97 1541.02 Q1196.97 1543.29 1198.45 1544.63 Q1199.96 1545.95 1202.52 1545.95 Q1206.07 1545.95 1208.2 1543.45 Q1210.35 1540.93 1210.35 1536.76 L1210.35 1535.82 L1206.11 1535.82 M1214.61 1534.06 L1214.61 1548.85 L1210.35 1548.85 L1210.35 1544.91 Q1208.89 1547.27 1206.71 1548.41 Q1204.54 1549.52 1201.39 1549.52 Q1197.41 1549.52 1195.05 1547.3 Q1192.71 1545.05 1192.71 1541.3 Q1192.71 1536.93 1195.63 1534.7 Q1198.57 1532.48 1204.38 1532.48 L1210.35 1532.48 L1210.35 1532.07 Q1210.35 1529.13 1208.4 1527.53 Q1206.48 1525.91 1202.99 1525.91 Q1200.77 1525.91 1198.66 1526.44 Q1196.55 1526.97 1194.61 1528.04 L1194.61 1524.1 Q1196.95 1523.2 1199.14 1522.76 Q1201.34 1522.3 1203.43 1522.3 Q1209.05 1522.3 1211.83 1525.21 Q1214.61 1528.13 1214.61 1534.06 Z\" fill=\"#000000\" fill-rule=\"evenodd\" fill-opacity=\"1\" /><path clip-path=\"url(#clip760)\" d=\"M1239.91 1523.69 L1239.91 1527.71 Q1238.1 1526.79 1236.16 1526.32 Q1234.21 1525.86 1232.13 1525.86 Q1228.96 1525.86 1227.36 1526.83 Q1225.79 1527.81 1225.79 1529.75 Q1225.79 1531.23 1226.92 1532.09 Q1228.06 1532.92 1231.48 1533.69 L1232.94 1534.01 Q1237.48 1534.98 1239.38 1536.76 Q1241.3 1538.52 1241.3 1541.7 Q1241.3 1545.31 1238.43 1547.41 Q1235.58 1549.52 1230.58 1549.52 Q1228.5 1549.52 1226.23 1549.1 Q1223.98 1548.71 1221.48 1547.9 L1221.48 1543.5 Q1223.84 1544.73 1226.14 1545.35 Q1228.43 1545.95 1230.67 1545.95 Q1233.68 1545.95 1235.3 1544.94 Q1236.92 1543.89 1236.92 1542.02 Q1236.92 1540.28 1235.74 1539.36 Q1234.58 1538.43 1230.63 1537.57 L1229.14 1537.23 Q1225.19 1536.39 1223.43 1534.68 Q1221.67 1532.95 1221.67 1529.94 Q1221.67 1526.28 1224.26 1524.29 Q1226.85 1522.3 1231.62 1522.3 Q1233.98 1522.3 1236.07 1522.64 Q1238.15 1522.99 1239.91 1523.69 Z\" fill=\"#000000\" fill-rule=\"evenodd\" fill-opacity=\"1\" /><path clip-path=\"url(#clip760)\" d=\"M1265.14 1526.86 L1265.14 1512.83 L1269.4 1512.83 L1269.4 1548.85 L1265.14 1548.85 L1265.14 1544.96 Q1263.8 1547.27 1261.74 1548.41 Q1259.7 1549.52 1256.83 1549.52 Q1252.13 1549.52 1249.17 1545.77 Q1246.23 1542.02 1246.23 1535.91 Q1246.23 1529.8 1249.17 1526.05 Q1252.13 1522.3 1256.83 1522.3 Q1259.7 1522.3 1261.74 1523.43 Q1263.8 1524.54 1265.14 1526.86 M1250.63 1535.91 Q1250.63 1540.61 1252.55 1543.29 Q1254.49 1545.95 1257.87 1545.95 Q1261.25 1545.95 1263.2 1543.29 Q1265.14 1540.61 1265.14 1535.91 Q1265.14 1531.21 1263.2 1528.55 Q1261.25 1525.86 1257.87 1525.86 Q1254.49 1525.86 1252.55 1528.55 Q1250.63 1531.21 1250.63 1535.91 Z\" fill=\"#000000\" fill-rule=\"evenodd\" fill-opacity=\"1\" /><path clip-path=\"url(#clip760)\" d=\"M1291.3 1512.83 L1291.3 1516.37 L1287.22 1516.37 Q1284.93 1516.37 1284.03 1517.3 Q1283.15 1518.22 1283.15 1520.63 L1283.15 1522.92 L1290.16 1522.92 L1290.16 1526.23 L1283.15 1526.23 L1283.15 1548.85 L1278.87 1548.85 L1278.87 1526.23 L1274.79 1526.23 L1274.79 1522.92 L1278.87 1522.92 L1278.87 1521.12 Q1278.87 1516.79 1280.88 1514.82 Q1282.89 1512.83 1287.27 1512.83 L1291.3 1512.83 Z\" fill=\"#000000\" fill-rule=\"evenodd\" fill-opacity=\"1\" /><path clip-path=\"url(#clip760)\" d=\"M1299.49 1544.91 L1315.81 1544.91 L1315.81 1548.85 L1293.87 1548.85 L1293.87 1544.91 Q1296.53 1542.16 1301.11 1537.53 Q1305.72 1532.88 1306.9 1531.53 Q1309.14 1529.01 1310.02 1527.27 Q1310.93 1525.51 1310.93 1523.82 Q1310.93 1521.07 1308.98 1519.33 Q1307.06 1517.6 1303.96 1517.6 Q1301.76 1517.6 1299.31 1518.36 Q1296.88 1519.13 1294.1 1520.68 L1294.1 1515.95 Q1296.92 1514.82 1299.38 1514.24 Q1301.83 1513.66 1303.87 1513.66 Q1309.24 1513.66 1312.43 1516.35 Q1315.63 1519.03 1315.63 1523.52 Q1315.63 1525.65 1314.82 1527.57 Q1314.03 1529.47 1311.92 1532.07 Q1311.34 1532.74 1308.24 1535.95 Q1305.14 1539.15 1299.49 1544.91 Z\" fill=\"#000000\" fill-rule=\"evenodd\" fill-opacity=\"1\" /><path clip-path=\"url(#clip760)\" d=\"M2241.95 1535.82 Q2236.79 1535.82 2234.8 1537 Q2232.81 1538.18 2232.81 1541.02 Q2232.81 1543.29 2234.29 1544.63 Q2235.8 1545.95 2238.37 1545.95 Q2241.91 1545.95 2244.04 1543.45 Q2246.19 1540.93 2246.19 1536.76 L2246.19 1535.82 L2241.95 1535.82 M2250.45 1534.06 L2250.45 1548.85 L2246.19 1548.85 L2246.19 1544.91 Q2244.73 1547.27 2242.56 1548.41 Q2240.38 1549.52 2237.23 1549.52 Q2233.25 1549.52 2230.89 1547.3 Q2228.55 1545.05 2228.55 1541.3 Q2228.55 1536.93 2231.47 1534.7 Q2234.41 1532.48 2240.22 1532.48 L2246.19 1532.48 L2246.19 1532.07 Q2246.19 1529.13 2244.25 1527.53 Q2242.32 1525.91 2238.83 1525.91 Q2236.61 1525.91 2234.5 1526.44 Q2232.39 1526.97 2230.45 1528.04 L2230.45 1524.1 Q2232.79 1523.2 2234.99 1522.76 Q2237.19 1522.3 2239.27 1522.3 Q2244.89 1522.3 2247.67 1525.21 Q2250.45 1528.13 2250.45 1534.06 Z\" fill=\"#000000\" fill-rule=\"evenodd\" fill-opacity=\"1\" /><path clip-path=\"url(#clip760)\" d=\"M2275.75 1523.69 L2275.75 1527.71 Q2273.95 1526.79 2272 1526.32 Q2270.06 1525.86 2267.97 1525.86 Q2264.8 1525.86 2263.2 1526.83 Q2261.63 1527.81 2261.63 1529.75 Q2261.63 1531.23 2262.76 1532.09 Q2263.9 1532.92 2267.32 1533.69 L2268.78 1534.01 Q2273.32 1534.98 2275.22 1536.76 Q2277.14 1538.52 2277.14 1541.7 Q2277.14 1545.31 2274.27 1547.41 Q2271.42 1549.52 2266.42 1549.52 Q2264.34 1549.52 2262.07 1549.1 Q2259.82 1548.71 2257.32 1547.9 L2257.32 1543.5 Q2259.69 1544.73 2261.98 1545.35 Q2264.27 1545.95 2266.51 1545.95 Q2269.52 1545.95 2271.14 1544.94 Q2272.76 1543.89 2272.76 1542.02 Q2272.76 1540.28 2271.58 1539.36 Q2270.43 1538.43 2266.47 1537.57 L2264.99 1537.23 Q2261.03 1536.39 2259.27 1534.68 Q2257.51 1532.95 2257.51 1529.94 Q2257.51 1526.28 2260.1 1524.29 Q2262.7 1522.3 2267.46 1522.3 Q2269.82 1522.3 2271.91 1522.64 Q2273.99 1522.99 2275.75 1523.69 Z\" fill=\"#000000\" fill-rule=\"evenodd\" fill-opacity=\"1\" /><path clip-path=\"url(#clip760)\" d=\"M2300.98 1526.86 L2300.98 1512.83 L2305.24 1512.83 L2305.24 1548.85 L2300.98 1548.85 L2300.98 1544.96 Q2299.64 1547.27 2297.58 1548.41 Q2295.54 1549.52 2292.67 1549.52 Q2287.97 1549.52 2285.01 1545.77 Q2282.07 1542.02 2282.07 1535.91 Q2282.07 1529.8 2285.01 1526.05 Q2287.97 1522.3 2292.67 1522.3 Q2295.54 1522.3 2297.58 1523.43 Q2299.64 1524.54 2300.98 1526.86 M2286.47 1535.91 Q2286.47 1540.61 2288.39 1543.29 Q2290.33 1545.95 2293.71 1545.95 Q2297.09 1545.95 2299.04 1543.29 Q2300.98 1540.61 2300.98 1535.91 Q2300.98 1531.21 2299.04 1528.55 Q2297.09 1525.86 2293.71 1525.86 Q2290.33 1525.86 2288.39 1528.55 Q2286.47 1531.21 2286.47 1535.91 Z\" fill=\"#000000\" fill-rule=\"evenodd\" fill-opacity=\"1\" /><path clip-path=\"url(#clip760)\" d=\"M2327.14 1512.83 L2327.14 1516.37 L2323.07 1516.37 Q2320.77 1516.37 2319.87 1517.3 Q2318.99 1518.22 2318.99 1520.63 L2318.99 1522.92 L2326 1522.92 L2326 1526.23 L2318.99 1526.23 L2318.99 1548.85 L2314.71 1548.85 L2314.71 1526.23 L2310.63 1526.23 L2310.63 1522.92 L2314.71 1522.92 L2314.71 1521.12 Q2314.71 1516.79 2316.72 1514.82 Q2318.74 1512.83 2323.11 1512.83 L2327.14 1512.83 Z\" fill=\"#000000\" fill-rule=\"evenodd\" fill-opacity=\"1\" /><path clip-path=\"url(#clip760)\" d=\"M2345.47 1530.21 Q2348.83 1530.93 2350.7 1533.2 Q2352.6 1535.47 2352.6 1538.8 Q2352.6 1543.92 2349.08 1546.72 Q2345.57 1549.52 2339.08 1549.52 Q2336.91 1549.52 2334.59 1549.08 Q2332.3 1548.66 2329.85 1547.81 L2329.85 1543.29 Q2331.79 1544.43 2334.11 1545.01 Q2336.42 1545.58 2338.94 1545.58 Q2343.34 1545.58 2345.63 1543.85 Q2347.95 1542.11 2347.95 1538.8 Q2347.95 1535.75 2345.8 1534.03 Q2343.67 1532.3 2339.85 1532.3 L2335.82 1532.3 L2335.82 1528.45 L2340.03 1528.45 Q2343.48 1528.45 2345.31 1527.09 Q2347.14 1525.7 2347.14 1523.11 Q2347.14 1520.45 2345.24 1519.03 Q2343.37 1517.6 2339.85 1517.6 Q2337.93 1517.6 2335.73 1518.01 Q2333.53 1518.43 2330.89 1519.31 L2330.89 1515.14 Q2333.55 1514.4 2335.87 1514.03 Q2338.2 1513.66 2340.26 1513.66 Q2345.59 1513.66 2348.69 1516.09 Q2351.79 1518.5 2351.79 1522.62 Q2351.79 1525.49 2350.15 1527.48 Q2348.5 1529.45 2345.47 1530.21 Z\" fill=\"#000000\" fill-rule=\"evenodd\" fill-opacity=\"1\" /><polyline clip-path=\"url(#clip762)\" style=\"stroke:#000000; stroke-linecap:butt; stroke-linejoin:round; stroke-width:2; stroke-opacity:0.1; fill:none\" points=\"\n",
       "  155.765,1445.72 2352.76,1445.72 \n",
       "  \"/>\n",
       "<polyline clip-path=\"url(#clip762)\" style=\"stroke:#000000; stroke-linecap:butt; stroke-linejoin:round; stroke-width:2; stroke-opacity:0.1; fill:none\" points=\"\n",
       "  155.765,1106.28 2352.76,1106.28 \n",
       "  \"/>\n",
       "<polyline clip-path=\"url(#clip762)\" style=\"stroke:#000000; stroke-linecap:butt; stroke-linejoin:round; stroke-width:2; stroke-opacity:0.1; fill:none\" points=\"\n",
       "  155.765,766.846 2352.76,766.846 \n",
       "  \"/>\n",
       "<polyline clip-path=\"url(#clip762)\" style=\"stroke:#000000; stroke-linecap:butt; stroke-linejoin:round; stroke-width:2; stroke-opacity:0.1; fill:none\" points=\"\n",
       "  155.765,427.411 2352.76,427.411 \n",
       "  \"/>\n",
       "<polyline clip-path=\"url(#clip762)\" style=\"stroke:#000000; stroke-linecap:butt; stroke-linejoin:round; stroke-width:2; stroke-opacity:0.1; fill:none\" points=\"\n",
       "  155.765,87.9763 2352.76,87.9763 \n",
       "  \"/>\n",
       "<polyline clip-path=\"url(#clip760)\" style=\"stroke:#000000; stroke-linecap:butt; stroke-linejoin:round; stroke-width:4; stroke-opacity:1; fill:none\" points=\"\n",
       "  155.765,1486.45 155.765,47.2441 \n",
       "  \"/>\n",
       "<polyline clip-path=\"url(#clip760)\" style=\"stroke:#000000; stroke-linecap:butt; stroke-linejoin:round; stroke-width:4; stroke-opacity:1; fill:none\" points=\"\n",
       "  155.765,1445.72 174.663,1445.72 \n",
       "  \"/>\n",
       "<polyline clip-path=\"url(#clip760)\" style=\"stroke:#000000; stroke-linecap:butt; stroke-linejoin:round; stroke-width:4; stroke-opacity:1; fill:none\" points=\"\n",
       "  155.765,1106.28 174.663,1106.28 \n",
       "  \"/>\n",
       "<polyline clip-path=\"url(#clip760)\" style=\"stroke:#000000; stroke-linecap:butt; stroke-linejoin:round; stroke-width:4; stroke-opacity:1; fill:none\" points=\"\n",
       "  155.765,766.846 174.663,766.846 \n",
       "  \"/>\n",
       "<polyline clip-path=\"url(#clip760)\" style=\"stroke:#000000; stroke-linecap:butt; stroke-linejoin:round; stroke-width:4; stroke-opacity:1; fill:none\" points=\"\n",
       "  155.765,427.411 174.663,427.411 \n",
       "  \"/>\n",
       "<polyline clip-path=\"url(#clip760)\" style=\"stroke:#000000; stroke-linecap:butt; stroke-linejoin:round; stroke-width:4; stroke-opacity:1; fill:none\" points=\"\n",
       "  155.765,87.9763 174.663,87.9763 \n",
       "  \"/>\n",
       "<path clip-path=\"url(#clip760)\" d=\"M53.3995 1459.06 L61.0384 1459.06 L61.0384 1432.69 L52.7282 1434.36 L52.7282 1430.1 L60.9921 1428.44 L65.668 1428.44 L65.668 1459.06 L73.3068 1459.06 L73.3068 1463 L53.3995 1463 L53.3995 1459.06 Z\" fill=\"#000000\" fill-rule=\"evenodd\" fill-opacity=\"1\" /><path clip-path=\"url(#clip760)\" d=\"M82.7512 1457.12 L87.6354 1457.12 L87.6354 1463 L82.7512 1463 L82.7512 1457.12 Z\" fill=\"#000000\" fill-rule=\"evenodd\" fill-opacity=\"1\" /><path clip-path=\"url(#clip760)\" d=\"M107.821 1431.51 Q104.209 1431.51 102.381 1435.08 Q100.575 1438.62 100.575 1445.75 Q100.575 1452.86 102.381 1456.42 Q104.209 1459.96 107.821 1459.96 Q111.455 1459.96 113.26 1456.42 Q115.089 1452.86 115.089 1445.75 Q115.089 1438.62 113.26 1435.08 Q111.455 1431.51 107.821 1431.51 M107.821 1427.81 Q113.631 1427.81 116.686 1432.42 Q119.765 1437 119.765 1445.75 Q119.765 1454.48 116.686 1459.08 Q113.631 1463.67 107.821 1463.67 Q102.01 1463.67 98.9317 1459.08 Q95.8761 1454.48 95.8761 1445.75 Q95.8761 1437 98.9317 1432.42 Q102.01 1427.81 107.821 1427.81 Z\" fill=\"#000000\" fill-rule=\"evenodd\" fill-opacity=\"1\" /><path clip-path=\"url(#clip760)\" d=\"M54.3949 1119.63 L62.0337 1119.63 L62.0337 1093.26 L53.7236 1094.93 L53.7236 1090.67 L61.9874 1089 L66.6633 1089 L66.6633 1119.63 L74.3022 1119.63 L74.3022 1123.56 L54.3949 1123.56 L54.3949 1119.63 Z\" fill=\"#000000\" fill-rule=\"evenodd\" fill-opacity=\"1\" /><path clip-path=\"url(#clip760)\" d=\"M83.7466 1117.68 L88.6308 1117.68 L88.6308 1123.56 L83.7466 1123.56 L83.7466 1117.68 Z\" fill=\"#000000\" fill-rule=\"evenodd\" fill-opacity=\"1\" /><path clip-path=\"url(#clip760)\" d=\"M98.8622 1089 L117.219 1089 L117.219 1092.94 L103.145 1092.94 L103.145 1101.41 Q104.163 1101.06 105.182 1100.9 Q106.2 1100.71 107.219 1100.71 Q113.006 1100.71 116.385 1103.89 Q119.765 1107.06 119.765 1112.47 Q119.765 1118.05 116.293 1121.15 Q112.82 1124.23 106.501 1124.23 Q104.325 1124.23 102.057 1123.86 Q99.8113 1123.49 97.4039 1122.75 L97.4039 1118.05 Q99.4872 1119.19 101.709 1119.74 Q103.932 1120.3 106.408 1120.3 Q110.413 1120.3 112.751 1118.19 Q115.089 1116.08 115.089 1112.47 Q115.089 1108.86 112.751 1106.76 Q110.413 1104.65 106.408 1104.65 Q104.534 1104.65 102.659 1105.07 Q100.807 1105.48 98.8622 1106.36 L98.8622 1089 Z\" fill=\"#000000\" fill-rule=\"evenodd\" fill-opacity=\"1\" /><path clip-path=\"url(#clip760)\" d=\"M56.6171 780.191 L72.9365 780.191 L72.9365 784.126 L50.9921 784.126 L50.9921 780.191 Q53.6541 777.436 58.2375 772.807 Q62.8439 768.154 64.0245 766.811 Q66.2698 764.288 67.1494 762.552 Q68.0522 760.793 68.0522 759.103 Q68.0522 756.348 66.1078 754.612 Q64.1865 752.876 61.0847 752.876 Q58.8856 752.876 56.4319 753.64 Q54.0014 754.404 51.2236 755.955 L51.2236 751.233 Q54.0477 750.098 56.5014 749.52 Q58.955 748.941 60.9921 748.941 Q66.3624 748.941 69.5568 751.626 Q72.7513 754.311 72.7513 758.802 Q72.7513 760.932 71.9411 762.853 Q71.1541 764.751 69.0476 767.344 Q68.4689 768.015 65.367 771.233 Q62.2652 774.427 56.6171 780.191 Z\" fill=\"#000000\" fill-rule=\"evenodd\" fill-opacity=\"1\" /><path clip-path=\"url(#clip760)\" d=\"M82.7512 778.246 L87.6354 778.246 L87.6354 784.126 L82.7512 784.126 L82.7512 778.246 Z\" fill=\"#000000\" fill-rule=\"evenodd\" fill-opacity=\"1\" /><path clip-path=\"url(#clip760)\" d=\"M107.821 752.645 Q104.209 752.645 102.381 756.209 Q100.575 759.751 100.575 766.881 Q100.575 773.987 102.381 777.552 Q104.209 781.094 107.821 781.094 Q111.455 781.094 113.26 777.552 Q115.089 773.987 115.089 766.881 Q115.089 759.751 113.26 756.209 Q111.455 752.645 107.821 752.645 M107.821 748.941 Q113.631 748.941 116.686 753.547 Q119.765 758.131 119.765 766.881 Q119.765 775.608 116.686 780.214 Q113.631 784.797 107.821 784.797 Q102.01 784.797 98.9317 780.214 Q95.8761 775.608 95.8761 766.881 Q95.8761 758.131 98.9317 753.547 Q102.01 748.941 107.821 748.941 Z\" fill=\"#000000\" fill-rule=\"evenodd\" fill-opacity=\"1\" /><path clip-path=\"url(#clip760)\" d=\"M57.6125 440.756 L73.9318 440.756 L73.9318 444.691 L51.9875 444.691 L51.9875 440.756 Q54.6495 438.001 59.2328 433.372 Q63.8393 428.719 65.0198 427.376 Q67.2652 424.853 68.1448 423.117 Q69.0476 421.358 69.0476 419.668 Q69.0476 416.914 67.1032 415.177 Q65.1819 413.441 62.08 413.441 Q59.881 413.441 57.4273 414.205 Q54.9967 414.969 52.219 416.52 L52.219 411.798 Q55.043 410.664 57.4967 410.085 Q59.9504 409.506 61.9874 409.506 Q67.3578 409.506 70.5522 412.191 Q73.7466 414.876 73.7466 419.367 Q73.7466 421.497 72.9365 423.418 Q72.1494 425.316 70.0429 427.909 Q69.4642 428.58 66.3624 431.798 Q63.2606 434.992 57.6125 440.756 Z\" fill=\"#000000\" fill-rule=\"evenodd\" fill-opacity=\"1\" /><path clip-path=\"url(#clip760)\" d=\"M83.7466 438.812 L88.6308 438.812 L88.6308 444.691 L83.7466 444.691 L83.7466 438.812 Z\" fill=\"#000000\" fill-rule=\"evenodd\" fill-opacity=\"1\" /><path clip-path=\"url(#clip760)\" d=\"M98.8622 410.131 L117.219 410.131 L117.219 414.066 L103.145 414.066 L103.145 422.538 Q104.163 422.191 105.182 422.029 Q106.2 421.844 107.219 421.844 Q113.006 421.844 116.385 425.015 Q119.765 428.187 119.765 433.603 Q119.765 439.182 116.293 442.284 Q112.82 445.362 106.501 445.362 Q104.325 445.362 102.057 444.992 Q99.8113 444.622 97.4039 443.881 L97.4039 439.182 Q99.4872 440.316 101.709 440.872 Q103.932 441.427 106.408 441.427 Q110.413 441.427 112.751 439.321 Q115.089 437.214 115.089 433.603 Q115.089 429.992 112.751 427.886 Q110.413 425.779 106.408 425.779 Q104.534 425.779 102.659 426.196 Q100.807 426.613 98.8622 427.492 L98.8622 410.131 Z\" fill=\"#000000\" fill-rule=\"evenodd\" fill-opacity=\"1\" /><path clip-path=\"url(#clip760)\" d=\"M66.7559 86.6221 Q70.1124 87.3397 71.9874 89.6082 Q73.8855 91.8767 73.8855 95.21 Q73.8855 100.326 70.367 103.127 Q66.8485 105.928 60.3671 105.928 Q58.1912 105.928 55.8764 105.488 Q53.5847 105.071 51.131 104.215 L51.131 99.7008 Q53.0754 100.835 55.3903 101.414 Q57.7051 101.992 60.2282 101.992 Q64.6263 101.992 66.918 100.256 Q69.2328 98.5202 69.2328 95.21 Q69.2328 92.1545 67.08 90.4415 Q64.9504 88.7054 61.131 88.7054 L57.1032 88.7054 L57.1032 84.8629 L61.3161 84.8629 Q64.7652 84.8629 66.5939 83.4971 Q68.4226 82.1083 68.4226 79.5157 Q68.4226 76.8537 66.5245 75.4416 Q64.6495 74.0064 61.131 74.0064 Q59.2097 74.0064 57.0106 74.4231 Q54.8115 74.8398 52.1727 75.7194 L52.1727 71.5528 Q54.8347 70.812 57.1495 70.4416 Q59.4875 70.0713 61.5476 70.0713 Q66.8717 70.0713 69.9735 72.5018 Q73.0753 74.9092 73.0753 79.0296 Q73.0753 81.8999 71.4318 83.8907 Q69.7883 85.8582 66.7559 86.6221 Z\" fill=\"#000000\" fill-rule=\"evenodd\" fill-opacity=\"1\" /><path clip-path=\"url(#clip760)\" d=\"M82.7512 99.3767 L87.6354 99.3767 L87.6354 105.256 L82.7512 105.256 L82.7512 99.3767 Z\" fill=\"#000000\" fill-rule=\"evenodd\" fill-opacity=\"1\" /><path clip-path=\"url(#clip760)\" d=\"M107.821 73.775 Q104.209 73.775 102.381 77.3398 Q100.575 80.8814 100.575 88.011 Q100.575 95.1174 102.381 98.6822 Q104.209 102.224 107.821 102.224 Q111.455 102.224 113.26 98.6822 Q115.089 95.1174 115.089 88.011 Q115.089 80.8814 113.26 77.3398 Q111.455 73.775 107.821 73.775 M107.821 70.0713 Q113.631 70.0713 116.686 74.6777 Q119.765 79.261 119.765 88.011 Q119.765 96.7378 116.686 101.344 Q113.631 105.928 107.821 105.928 Q102.01 105.928 98.9317 101.344 Q95.8761 96.7378 95.8761 88.011 Q95.8761 79.261 98.9317 74.6777 Q102.01 70.0713 107.821 70.0713 Z\" fill=\"#000000\" fill-rule=\"evenodd\" fill-opacity=\"1\" /><circle clip-path=\"url(#clip762)\" cx=\"217.944\" cy=\"1445.72\" r=\"14.4\" fill=\"#009af9\" fill-rule=\"evenodd\" fill-opacity=\"1\" stroke=\"#000000\" stroke-opacity=\"1\" stroke-width=\"3.2\"/>\n",
       "<circle clip-path=\"url(#clip762)\" cx=\"1254.26\" cy=\"766.846\" r=\"14.4\" fill=\"#009af9\" fill-rule=\"evenodd\" fill-opacity=\"1\" stroke=\"#000000\" stroke-opacity=\"1\" stroke-width=\"3.2\"/>\n",
       "<circle clip-path=\"url(#clip762)\" cx=\"2290.58\" cy=\"87.9763\" r=\"14.4\" fill=\"#009af9\" fill-rule=\"evenodd\" fill-opacity=\"1\" stroke=\"#000000\" stroke-opacity=\"1\" stroke-width=\"3.2\"/>\n",
       "<path clip-path=\"url(#clip760)\" d=\"\n",
       "M1982.98 198.898 L2279.52 198.898 L2279.52 95.2176 L1982.98 95.2176  Z\n",
       "  \" fill=\"#ffffff\" fill-rule=\"evenodd\" fill-opacity=\"1\"/>\n",
       "<polyline clip-path=\"url(#clip760)\" style=\"stroke:#000000; stroke-linecap:butt; stroke-linejoin:round; stroke-width:4; stroke-opacity:1; fill:none\" points=\"\n",
       "  1982.98,198.898 2279.52,198.898 2279.52,95.2176 1982.98,95.2176 1982.98,198.898 \n",
       "  \"/>\n",
       "<circle clip-path=\"url(#clip760)\" cx=\"2080.63\" cy=\"147.058\" r=\"23.04\" fill=\"#009af9\" fill-rule=\"evenodd\" fill-opacity=\"1\" stroke=\"#000000\" stroke-opacity=\"1\" stroke-width=\"5.12\"/>\n",
       "<path clip-path=\"url(#clip760)\" d=\"M2192.11 166.745 Q2190.31 171.375 2188.59 172.787 Q2186.88 174.199 2184.01 174.199 L2180.61 174.199 L2180.61 170.634 L2183.11 170.634 Q2184.87 170.634 2185.84 169.8 Q2186.81 168.967 2187.99 165.865 L2188.76 163.921 L2178.27 138.412 L2182.78 138.412 L2190.89 158.689 L2198.99 138.412 L2203.5 138.412 L2192.11 166.745 Z\" fill=\"#000000\" fill-rule=\"evenodd\" fill-opacity=\"1\" /><path clip-path=\"url(#clip760)\" d=\"M2210.79 160.402 L2218.43 160.402 L2218.43 134.037 L2210.12 135.703 L2210.12 131.444 L2218.39 129.778 L2223.06 129.778 L2223.06 160.402 L2230.7 160.402 L2230.7 164.338 L2210.79 164.338 L2210.79 160.402 Z\" fill=\"#000000\" fill-rule=\"evenodd\" fill-opacity=\"1\" /></svg>\n"
      ]
     },
     "execution_count": 10,
     "metadata": {},
     "output_type": "execute_result"
    }
   ],
   "source": [
    "#xpepe = [ 1, 2, 3]\n",
    "#labelsx = [\"asdf1\",\"asdf2\",\"asdf3\" ]\n",
    "#plot(scatter(xpepe,xticks=(1:3,labelsx)))"
   ]
  },
  {
   "cell_type": "code",
   "execution_count": 72,
   "id": "64ad5635",
   "metadata": {},
   "outputs": [
    {
     "data": {
      "text/plain": [
       "(0.9217920792666314, 0.9373067405651081)"
      ]
     },
     "execution_count": 72,
     "metadata": {},
     "output_type": "execute_result"
    }
   ],
   "source": [
    " results = give_variances(\"datasets\",\"iris\",[2,2],true)"
   ]
  },
  {
   "cell_type": "markdown",
   "id": "25e02d3f",
   "metadata": {},
   "source": [
    "<h2>Now we compute the variance explained of the selected datasets<h2>"
   ]
  },
  {
   "cell_type": "code",
   "execution_count": null,
   "id": "4253a0df",
   "metadata": {},
   "outputs": [],
   "source": [
    "# first select the datasets to use. We want between 8 and 20 float64 covariates.\n",
    "datasets_to_use = processDataset(8,20)"
   ]
  },
  {
   "cell_type": "code",
   "execution_count": null,
   "id": "fb903f72",
   "metadata": {},
   "outputs": [],
   "source": [
    "# Because of lack of memory problem, we run the method to find variance outside a function\n",
    "\n",
    "number_tables, number_cols= size(datasets_to_use)\n",
    "computed_variances = zeros(number_tables,3)\n",
    "\n",
    " for i in 1: number_tables\n",
    "    println(i)\n",
    "   computed_variances[i,:] .=  findBestKoneComponent(String(datasets_to_use[i,1]),String(datasets_to_use[i,2]),false)\n",
    "    end \n",
    "\n"
   ]
  },
  {
   "cell_type": "code",
   "execution_count": null,
   "id": "d7dcbecb",
   "metadata": {},
   "outputs": [],
   "source": []
  },
  {
   "cell_type": "code",
   "execution_count": 58,
   "id": "8518a9c6",
   "metadata": {},
   "outputs": [
    {
     "data": {
      "text/plain": [
       "explained_variances (generic function with 1 method)"
      ]
     },
     "execution_count": 58,
     "metadata": {},
     "output_type": "execute_result"
    }
   ],
   "source": [
    "\n",
    "#function to plot the best variance explained against different datasets\n",
    "# we take p datasets of the RDatasets, with at least 10 variables.\n",
    "# param dataSet dataset containing the names of tables to be used to computes variance explained\n",
    "# by the pca, SDP sparce plca and LP sparce PCA.\n",
    "# We assume dataSet was selected using the processDataset function.\n",
    "function explained_variances(dataSet::Any)\n",
    "    \n",
    "    number_tables, number_cols= size(dataSet)\n",
    "    \n",
    "    computed_variances = zeros(number_tables,3)\n",
    "    \n",
    "     \n",
    "    for i in 1: number_tables\n",
    " \n",
    "   computed_variances[i,:] .=  findBestKoneComponent(String(dataSet[i,1]),String(dataSet[i,2]),false)\n",
    "    end \n",
    "   return(computed_variances)  \n",
    "\n",
    "end\n",
    "\n",
    "\n",
    " "
   ]
  },
  {
   "cell_type": "code",
   "execution_count": null,
   "id": "c699ffaf",
   "metadata": {},
   "outputs": [],
   "source": [
    "variances_results = explained_variances(datasets_to_use)"
   ]
  }
 ],
 "metadata": {
  "kernelspec": {
   "display_name": "Julia 1.7.3",
   "language": "julia",
   "name": "julia-1.7"
  },
  "language_info": {
   "file_extension": ".jl",
   "mimetype": "application/julia",
   "name": "julia",
   "version": "1.7.3"
  }
 },
 "nbformat": 4,
 "nbformat_minor": 5
}
