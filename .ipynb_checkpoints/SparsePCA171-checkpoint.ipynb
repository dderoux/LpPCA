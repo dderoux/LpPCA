{
 "cells": [
  {
   "cell_type": "code",
   "execution_count": 1,
   "id": "7d99f5ad",
   "metadata": {},
   "outputs": [],
   "source": [
    "using Pkg\n",
    "using NBInclude\n",
    "\n",
    "#@nbinclude(\"RandomGraphs.ipynb\")\n",
    "#@nbinclude(\"MaxCutRelaxations.ipynb\")\n",
    "using NBInclude\n",
    "using StatsBase\n",
    "using Arpack\n",
    "using NBInclude\n",
    "using DelimitedFiles\n",
    "using LightGraphs\n",
    "using JuMP \n",
    "using Mosek\n",
    "using NBInclude\n",
    "using Pkg\n",
    "using LinearAlgebra\n",
    "using MosekTools\n",
    "using Statistics\n",
    "using Random\n",
    "using Distributions\n",
    "using Plots\n",
    "using BenchmarkTools"
   ]
  },
  {
   "cell_type": "code",
   "execution_count": 2,
   "id": "bfba7fda",
   "metadata": {},
   "outputs": [
    {
     "data": {
      "text/plain": [
       "EigenRelSparsePCA (generic function with 1 method)"
      ]
     },
     "execution_count": 2,
     "metadata": {},
     "output_type": "execute_result"
    }
   ],
   "source": [
    "#function to compute the sparse PCA semidefinite approximation of the matrix A\n",
    "#with target sparcity k.\n",
    "#@param: A the matrix to compute the sparse PCA\n",
    "#@param: k, the target sparcity.\n",
    "function SdpSparsePCA(A,k)\n",
    "    n = size(A)[1]\n",
    "    m = Model(Mosek.Optimizer)\n",
    "    set_silent(m)\n",
    "      @variable(m,X[1:n,1:n],PSD ) \n",
    "      @constraint(m,tr(X)==1)\n",
    "    \n",
    "      @variable(m,Y[1:n,1:n],Symmetric)  \n",
    "          @constraint(m,Y.>=X )\n",
    "           @constraint(m,Y.>=-X )\n",
    "           @constraint(m,sum(Y)<=k)\n",
    "       @objective(m,Max,tr(A*X))\n",
    "      status = optimize!(m)\n",
    "     return([value.(X),value.(Y),objective_value(m),solve_time(m)])\n",
    "end      \n",
    "\n",
    "#function to compute the linear relaxation of the semidefinite relaxation of sparse PCA of the matrix A\n",
    "#with target sparcity k.\n",
    "#@param: A the matrix to compute the sparse PCA\n",
    "#@param: k, the target sparcity.\n",
    "function EigenRelSparsePCA(A,k)\n",
    "    n = size(A)[1]\n",
    "    m = Model(Mosek.Optimizer)\n",
    "    set_silent(m)\n",
    "      @variable(m,-1<=X[1:n,1:n]<=1,Symmetric ) \n",
    "      @constraint(m,tr(X)==1)\n",
    "      @variable(m,Y[1:n,1:n],Symmetric)  \n",
    "          @constraint(m,Y.>=X )\n",
    "           @constraint(m,Y.>=-X )\n",
    "           @constraint(m,sum(Y)<=k)\n",
    "    \n",
    "    \n",
    "      eigenFacto =  eigen(A)\n",
    "    eigenVectors = eigenFacto.vectors\n",
    "    rounded = round.(eigenFacto.vectors,digits=3)\n",
    "    cons = rounded.*100\n",
    "      \n",
    "       \n",
    "      for i in 1:n\n",
    "        @constraint(m,X[i,i]>=0)\n",
    "               v =  cons[:,i]\n",
    "              @constraint(m,transpose(v)*X*v >=0)\n",
    "     #   println(i)\n",
    "     #   println(sum(v))\n",
    "        end  \n",
    "    \n",
    "       @objective(m,Max,tr(A*X))\n",
    "      status = optimize!(m)\n",
    "     return([value.(X),value.(Y),objective_value(m),solve_time(m)])\n",
    "end      \n",
    "\n",
    "\n",
    "\n"
   ]
  },
  {
   "cell_type": "code",
   "execution_count": 3,
   "id": "7dfaa796",
   "metadata": {},
   "outputs": [
    {
     "data": {
      "text/plain": [
       "compareOPTValuesSParsePCAEigenRel (generic function with 1 method)"
      ]
     },
     "execution_count": 3,
     "metadata": {},
     "output_type": "execute_result"
    }
   ],
   "source": [
    "#function to plot the time taken to solve the semidefinite relaxation of sparse PCA.\n",
    "# In average. We report the standard deviation and the average time.\n",
    "#@param startSize: size of the first graphs we try.\n",
    "#@param endSize: largest size of graphs that we try.\n",
    "#@param sampleSize: number of graph to average\n",
    "function plotTimesSParsePCASemidefinite(startSize,endSize,sampleSize)\n",
    "sizeGraph= collect(startSize:5:endSize) \n",
    "lenSizeGraph = length(sizeGraph)\n",
    "results = zeros(3,lenSizeGraph)\n",
    "results[1,:] = sizeGraph\n",
    "q=1\n",
    "for i in sizeGraph\n",
    "    println(i)\n",
    "    graphDeg = Int64(round(i/10))\n",
    "    if isodd(i*graphDeg)\n",
    "        graphDeg=graphDeg+1\n",
    "    end\n",
    "        \n",
    "    meanTime = zeros(sampleSize)  \n",
    "        \n",
    "    for j in  1:sampleSize  \n",
    "    #B= Matrix(adjacency_matrix(random_regular_graph(i,graphDeg)))\n",
    "     B=  rand(Normal(0,100),i,i)\n",
    "                   \n",
    "    PsdMatrix = (1/(i-1))*B*transpose(B)\n",
    "    k =  Int64(round(sqrt(i)))\n",
    "    sparseSolution = SdpSparsePCA(PsdMatrix,k)\n",
    "    meanTime[j] = sparseSolution[4]\n",
    "        end\n",
    "    results[2,q]=  mean(meanTime)\n",
    "    results[3,q]=  std(meanTime)\n",
    "    q=q+1\n",
    "    \n",
    "    end\n",
    "   \n",
    "        \n",
    "        \n",
    "    return(results)\n",
    "end\n",
    "\n",
    "#function to plot the time taken to solve the linear relaxation of the semidefinite relaxation of sparse PCA.\n",
    "#@param startSize: size of the first graphs we try.\n",
    "#@param endSize: largest size of graphs that we try.\n",
    "function plotTimesSParsePCAEigenRel(startSize,endSize,sampleSize)\n",
    "sizeGraph= collect(startSize:5:endSize) \n",
    "lenSizeGraph = length(sizeGraph)\n",
    "results = zeros(3,lenSizeGraph)\n",
    "results[1,:] = sizeGraph\n",
    "q=1\n",
    " for i in sizeGraph\n",
    "    print(i)\n",
    "    graphDeg = Int64(round(i/10))\n",
    "    if isodd(i*graphDeg)\n",
    "        graphDeg=graphDeg+1\n",
    "    end\n",
    "   meanTime = zeros(sampleSize)  \n",
    "    for j in  1:sampleSize  \n",
    "    #B= Matrix(adjacency_matrix(random_regular_graph(i,graphDeg)))\n",
    "     B=  rand(Normal(0,100),i,i)\n",
    "                   \n",
    "    PsdMatrix = (1/(i-1))*B*transpose(B)\n",
    "    k =  Int64(round(sqrt(i)))\n",
    "    sparseSolution = EigenRelSparsePCA(PsdMatrix,k)\n",
    "    meanTime[j] = sparseSolution[4]\n",
    "        end\n",
    "\n",
    "        results[2,q]=  mean(meanTime)\n",
    "    results[3,q]=  std(meanTime)\n",
    "    q=q+1\n",
    "    \n",
    "    end\n",
    "    \n",
    "        \n",
    "        \n",
    "    return(results)\n",
    "end\n",
    "\n",
    "\n",
    "\n",
    "#function to plot the time taken to solve the linear relaxation of the semidefinite relaxation of sparse PCA.\n",
    "#@param startSize: size of the first graphs we try.\n",
    "#@param endSize: largest size of graphs that we try.\n",
    "#@param matrixType: type of matrices for comparaison. if matrixType== 0 is a regular graph. If not,\n",
    "#if B has entries distributed as normal(0,100).\n",
    "#@param int constantK. If constantK==0 then we set k= sqrt(i), where i is the graph size.\n",
    "#if constantK is not 0, then we set k to that value. \n",
    "function compareOPTValuesSParsePCAEigenRel(startSize,endSize,matrixType,constantK)\n",
    "sizeGraph= collect(startSize:5:endSize) \n",
    "lenSizeGraph = length(sizeGraph)\n",
    "results = zeros(5,lenSizeGraph)\n",
    "results[1,:] = sizeGraph\n",
    "q=1\n",
    "for i in sizeGraph\n",
    "    print(i)\n",
    "    \n",
    "        if matrixType==0\n",
    "        \n",
    "            graphDeg = Int64(round(i/10))\n",
    "    if isodd(i*graphDeg)\n",
    "        graphDeg=graphDeg+1\n",
    "                B= Matrix(adjacency_matrix(random_regular_graph(i,graphDeg)))\n",
    "                  \n",
    "    end\n",
    "        \n",
    "         \n",
    "    else\n",
    "    #B= Matrix(adjacency_matrix(random_regular_graph(i,graphDeg)))\n",
    "     B= rand(Normal(0,100),i,i)\n",
    "     \n",
    "    end\n",
    "    \n",
    "    PsdMatrix = (1/(i-1))*B*transpose(B)\n",
    "        \n",
    "    if constantK ==0\n",
    "        \n",
    "    k =  Int64(round(sqrt(i)))\n",
    "        else\n",
    "            k=constantK\n",
    "        end\n",
    "    sparseSolutionLP = EigenRelSparsePCA(PsdMatrix,k)\n",
    "    sparseSolutionSDP = SdpSparsePCA(PsdMatrix,k)    \n",
    "    results[2,q]=  sparseSolutionLP[4]\n",
    "    results[3,q]=  sparseSolutionLP[3]\n",
    "    results[4,q]=  sparseSolutionSDP[4]\n",
    "    results[5,q]=  sparseSolutionSDP[3]\n",
    "\n",
    "    q=q+1\n",
    "end\n",
    "\n",
    "    return(results)\n",
    "end\n",
    "\n"
   ]
  },
  {
   "cell_type": "code",
   "execution_count": 4,
   "id": "c15aebba",
   "metadata": {},
   "outputs": [
    {
     "data": {
      "text/plain": [
       "ObjectiveVSIteration (generic function with 1 method)"
      ]
     },
     "execution_count": 4,
     "metadata": {},
     "output_type": "execute_result"
    }
   ],
   "source": [
    "\n",
    "#function to plot the objective as more and more cuts are added to the Linear relaxations. We solve the problem for\n",
    "#numGraphs graphs and at a targetspacity. divide by the solution of the SDP and then divide each result by \n",
    "# this quantity. \n",
    "#@param matrixType: type of matrices for comparaison. if matrixType== d>0 is a regular graph of degree d. If matrixType==0\n",
    "# B has entries distributed as normal(0,20).\n",
    "#@param int targetSparcity. If targetSparcity==0 then we set k= sqrt(i), where i is the graph size.\n",
    "#rounds is the number of experiments we are doing. Each round adds 5 cuts to the LPs.\n",
    " function ObjectiveVSIteration(numGraphs,matrixType,targetSparcity,graphSize,rounds)\n",
    "\n",
    "    maxNumCuts = rounds*5\n",
    "    results  =zeros(7,rounds)\n",
    "    sdpResults = zeros(numGraphs)\n",
    "      graphs = Array{Any,1}(undef,numGraphs)\n",
    "      graphsStoredCuts = Array{Any,1}(undef,numGraphs)\n",
    "      graphsStoredCutsEigen =  Array{Any,1}(undef,numGraphs)\n",
    "      [graphsStoredCuts[r] = zeros(graphSize) for r in 1:numGraphs]\n",
    "     \n",
    "       if matrixType==0\n",
    "        \n",
    "            for r in 1: numGraphs\n",
    "            currentGraph = rand(Normal(0,20),graphSize,graphSize)\n",
    "            graphs[r]=  (1/(graphSize-1))*currentGraph*transpose(currentGraph)\n",
    "            end \n",
    "       else \n",
    "             if isodd(matrixType)\n",
    "             matrixType=matrixType+1\n",
    "             end\n",
    "        \n",
    "           for r in 1: numGraphs\n",
    "            currentGraph = Matrix(adjacency_matrix(random_regular_graph(graphSize,matrixType)))\n",
    "            graphs[r]=  (1/(graphSize-1))*currentGraph*transpose(currentGraph)\n",
    "            end \n",
    "    \n",
    "    \n",
    "    end\n",
    "\n",
    "       [ graphsStoredCutsEigen[r] = eigen(graphs[r]).vectors for r in 1:numGraphs]\n",
    "     \n",
    "        [sdpResults[r] = SdpSparsePCA(graphs[r],targetSparcity)[3] for r in 1:numGraphs ]\n",
    "       \n",
    "\n",
    "    count = 1\n",
    "     cutValue = zeros(numGraphs)\n",
    "        cutValueEigen = zeros(numGraphs)\n",
    "    \n",
    "    for i in 5:5:maxNumCuts\n",
    "       \n",
    "        for j in 1:numGraphs\n",
    "    \n",
    "            solvedIterated = solverIteratelyLP(graphs[j],5,targetSparcity, graphsStoredCuts[j],0)  \n",
    "             cutValue[j]=solvedIterated[1]\n",
    "           \n",
    "            graphsStoredCuts[j]=  solvedIterated[2]\n",
    "            \n",
    "        cutValue[j]= sdpResults[j]/cutValue[j]\n",
    "             solvedIteratedEigen = solverIteratelyLP(graphs[j],5,targetSparcity, graphsStoredCutsEigen[j],i)\n",
    "                cutValueEigen[j]=sdpResults[j]/solvedIteratedEigen[1]\n",
    "                graphsStoredCutsEigen[j]= solvedIteratedEigen[2]\n",
    "\n",
    "             \n",
    "        end\n",
    "#        return([cutValue,cutValueEigen])\n",
    "        results[1,count] = i\n",
    "        results[2,count] = median(cutValue)\n",
    "        results[3,count] = minimum(cutValue)\n",
    "        results[4,count] = maximum(cutValue)\n",
    "        results[5,count] = median(cutValueEigen)\n",
    "        results[6,count] = minimum(cutValueEigen)\n",
    "        results[7,count] = maximum(cutValueEigen)\n",
    "            \n",
    "       count = count+1 \n",
    "    end\n",
    "\n",
    "    return(results)\n",
    "end\n",
    "\n",
    "\n",
    "\n"
   ]
  },
  {
   "cell_type": "code",
   "execution_count": 5,
   "id": "0d3dc3dc",
   "metadata": {},
   "outputs": [
    {
     "data": {
      "text/plain": [
       "solverIteratelyLP (generic function with 1 method)"
      ]
     },
     "execution_count": 5,
     "metadata": {},
     "output_type": "execute_result"
    }
   ],
   "source": [
    "#if eigens = 0, the method is not using eigenvectors.\n",
    "# if eigens = i>0, uses eigens from 1 to i.\n",
    "function solverIteratelyLP(adjMatrix,numCuts,targetSparcity, Hinicial,eigens)\n",
    "\n",
    "    n = size(adjMatrix)[1]\n",
    "    m = Model(Mosek.Optimizer)\n",
    "    set_silent(m)\n",
    "    resultantH = Hinicial\n",
    "      @variable(m,X[1:n,1:n],Symmetric ) \n",
    "      @constraint(m,tr(X)==1)\n",
    "      @variable(m,Y[1:n,1:n],Symmetric)  \n",
    "          @constraint(m,Y.>=X )\n",
    "           @constraint(m,Y.>=-X )\n",
    "           @constraint(m,sum(Y)<=targetSparcity)\n",
    "    \n",
    "    if(eigens>0 && eigens<=n)\n",
    "        \n",
    "        for s in 1:eigens\n",
    "        @constraint(m, transpose(Hinicial[:,s])*X*Hinicial[:,s]>=0)  \n",
    "        end\n",
    "    else\n",
    "    \n",
    "        for s in 1:size(Hinicial,2)\n",
    "        @constraint(m, transpose(Hinicial[:,s])*X*Hinicial[:,s]>=0)  \n",
    "        end\n",
    "    end\n",
    "    \n",
    "        @objective(m,Max,tr(adjMatrix*X))\n",
    "         status = optimize!(m)\n",
    "    \n",
    "    if(eigens>n)   \n",
    "        \n",
    "     for s in 1:numCuts\n",
    "      maxEigVecto = eigen(value.(X)).vectors[:,1]\n",
    "      @constraint(m, transpose(maxEigVecto)*X*maxEigVecto>=0)  \n",
    "      resultantH = hcat(resultantH,maxEigVecto)\n",
    "      status = optimize!(m)\n",
    "      end        \n",
    "        elseif (eigens==0)\n",
    "            for s in 1:numCuts\n",
    "      maxEigVecto = eigen(value.(X)).vectors[:,1]\n",
    "      @constraint(m, transpose(maxEigVecto)*X*maxEigVecto>=0)  \n",
    "      resultantH = hcat(resultantH,maxEigVecto)\n",
    "      status = optimize!(m)\n",
    "      end  \n",
    "            end\n",
    "                \n",
    "        \n",
    "    return(objective_value(m),resultantH)\n",
    "\n",
    "end\n"
   ]
  },
  {
   "cell_type": "code",
   "execution_count": 6,
   "id": "11225cc7",
   "metadata": {},
   "outputs": [
    {
     "data": {
      "text/plain": [
       "EigenLptime (generic function with 1 method)"
      ]
     },
     "execution_count": 6,
     "metadata": {},
     "output_type": "execute_result"
    }
   ],
   "source": [
    "#function to compare the methods of creating cuts vs our eigenRelaxation\n",
    "#For these experiments, we set the number of generated cuts to n, the size of the graph\n",
    "# we measure the time taken to generate the n cuts using either the eigenDecomposition\n",
    "# and the LPs.\n",
    "# for the matrices, we simply use a matrix with normal (0,20) entries.\n",
    "# We measure only the time required to solve the optimization programs, and not the time \n",
    "# taken by JUMP to formulate them.\n",
    "function compareTimes(maxGraphSizes,targetSparcity,sampleSize)\n",
    "    len = length(10:5:maxGraphSizes)\n",
    "    results = zeros(5,len)\n",
    "    count = 1\n",
    "for i in 10:5:maxGraphSizes\n",
    "        meanTimeLPcuts = zeros(sampleSize)  \n",
    "        meanTimeEigen =  zeros(sampleSize)\n",
    "            B = rand(Normal(0,20),i,i)\n",
    "            currentGraph=  (1/(i-1))*B*transpose(B)\n",
    "                \n",
    "       results[1,count]=i\n",
    "        \n",
    "        for j in 1:sampleSize\n",
    "        meanTimeLPcuts[j]= iterativeLptime(currentGraph,targetSparcity)\n",
    "        meanTimeEigen[j] =     EigenLptime(currentGraph,targetSparcity)\n",
    "      \n",
    "        end\n",
    "         results[2,count]= mean(meanTimeLPcuts)\n",
    "       results[3,count]= std(meanTimeLPcuts)\n",
    "        results[4,count] = mean(meanTimeEigen)\n",
    "          results[5,count] = std(meanTimeEigen)\n",
    "       count = count+1\n",
    "    end\n",
    "        return(results)\n",
    "end\n",
    "\n",
    "\n",
    "\n",
    "# measures the time taken to iteratively solve the SDP    \n",
    "function iterativeLptime(adjMatrix,targetSparcity)\n",
    "        \n",
    "         n = size(adjMatrix)[1]\n",
    "    m = Model(Mosek.Optimizer)\n",
    "    set_silent(m)\n",
    "      @variable(m,X[1:n,1:n],Symmetric ) \n",
    "      @constraint(m,tr(X)==1)\n",
    "      @variable(m,Y[1:n,1:n],Symmetric)  \n",
    "          @constraint(m,Y.>=X )\n",
    "           @constraint(m,Y.>=-X )\n",
    "           @constraint(m,sum(Y)<=targetSparcity)\n",
    "         @objective(m,Max,tr(adjMatrix*X))\n",
    "         status = optimize!(m)\n",
    "    timetoSolveLp = solve_time(m)\n",
    "   for s in 1:n\n",
    "      maxEigVecto = eigen(value.(X)).vectors[:,1]\n",
    "      @constraint(m, transpose(maxEigVecto)*X*maxEigVecto>=0)  \n",
    "      status = optimize!(m)\n",
    "      timetoSolveLp = timetoSolveLp + solve_time(m) \n",
    "            \n",
    "        end\n",
    "        return(timetoSolveLp)\n",
    "    end\n",
    "            \n",
    "function EigenLptime(adjMatrix,targetSparcity)\n",
    "        \n",
    "         n = size(adjMatrix)[1]\n",
    "    m = Model(Mosek.Optimizer)\n",
    "    set_silent(m)\n",
    "       @variable(m,X[1:n,1:n],Symmetric ) \n",
    "      @constraint(m,tr(X)==1)\n",
    "      @variable(m,Y[1:n,1:n],Symmetric)  \n",
    "          @constraint(m,Y.>=X )\n",
    "           @constraint(m,Y.>=-X )\n",
    "           @constraint(m,sum(Y)<=targetSparcity)\n",
    "    timeSolveEigen = @elapsed eigeVectors =  eigen(adjMatrix).vectors\n",
    "        \n",
    "        \n",
    "   for s in 1:n\n",
    "      EigVecto =eigeVectors[:,s]\n",
    "      @constraint(m, transpose(EigVecto)*X*EigVecto>=0)  \n",
    "        end\n",
    "      status = optimize!(m)\n",
    "      timeSolveEigen = timeSolveEigen + solve_time(m) \n",
    "            \n",
    "        return(timeSolveEigen)\n",
    "    end\n",
    "    \n",
    "    \n",
    "    "
   ]
  },
  {
   "cell_type": "markdown",
   "id": "fa1e5374",
   "metadata": {},
   "source": [
    "<h1>Experiments <h1>"
   ]
  },
  {
   "cell_type": "code",
   "execution_count": 31,
   "id": "e7059d8a",
   "metadata": {},
   "outputs": [
    {
     "data": {
      "text/plain": [
       "TaskLocalRNG()"
      ]
     },
     "execution_count": 31,
     "metadata": {},
     "output_type": "execute_result"
    }
   ],
   "source": [
    "Random.seed!(123412341234)"
   ]
  },
  {
   "cell_type": "markdown",
   "id": "7691915e",
   "metadata": {},
   "source": [
    "<h2>Time experiments <h2>"
   ]
  },
  {
   "cell_type": "code",
   "execution_count": null,
   "id": "f27f5820",
   "metadata": {},
   "outputs": [],
   "source": [
    "# we evaluate the time taken to solve each of the semidefinite program\n",
    "# and the linear relaxation of SParse PCA. For the semidefinite program\n",
    "#we report the time taken by the solver. For the linear relaxation."
   ]
  },
  {
   "cell_type": "code",
   "execution_count": null,
   "id": "3272c5fd",
   "metadata": {},
   "outputs": [],
   "source": [
    "timeExperimentsSDP =  plotTimesSParsePCASemidefinite(10,70,5)\n",
    "#save(\"/tmp/MoreSparcities.jld\", \"IndepConsNegResults\", MoreSparcities, \"sizeGraphMoreSparcities\", sizeGraph )\n",
    "timeExperimentsLP =  plotTimesSParsePCAEigenRel(10,70,5)\n"
   ]
  },
  {
   "cell_type": "code",
   "execution_count": null,
   "id": "ae024536",
   "metadata": {},
   "outputs": [],
   "source": []
  },
  {
   "cell_type": "code",
   "execution_count": 39,
   "id": "16ed1305",
   "metadata": {},
   "outputs": [
    {
     "data": {
      "text/plain": [
       "3×13 Matrix{Float64}:\n",
       " 10.0          15.0         20.0        …  60.0      65.0       70.0\n",
       "  0.0156        0.0718       0.1812        40.7216   75.1906   127.1\n",
       "  0.000547723   0.00895545   0.0259075      8.45967   8.96368   12.5144"
      ]
     },
     "execution_count": 39,
     "metadata": {},
     "output_type": "execute_result"
    }
   ],
   "source": [
    "timeExperimentsSDP"
   ]
  },
  {
   "cell_type": "code",
   "execution_count": 43,
   "id": "e7f8df87",
   "metadata": {},
   "outputs": [
    {
     "name": "stdout",
     "output_type": "stream",
     "text": [
      "10152025303540455055606570"
     ]
    },
    {
     "data": {
      "text/plain": [
       "3×13 Matrix{Float64}:\n",
       " 10.0  15.0         20.0         …  60.0        65.0        70.0\n",
       "  0.0   0.0062       0.0122          0.269       0.3         0.3406\n",
       "  0.0   0.00849706   0.00683374      0.0131529   0.0298998   0.033975"
      ]
     },
     "execution_count": 43,
     "metadata": {},
     "output_type": "execute_result"
    }
   ],
   "source": [
    "timeExperimentsLP =  plotTimesSParsePCAEigenRel(10,70,5)\n"
   ]
  },
  {
   "cell_type": "code",
   "execution_count": 9,
   "id": "7c76ccc2",
   "metadata": {},
   "outputs": [
    {
     "data": {
      "image/svg+xml": [
       "<?xml version=\"1.0\" encoding=\"utf-8\"?>\n",
       "<svg xmlns=\"http://www.w3.org/2000/svg\" xmlns:xlink=\"http://www.w3.org/1999/xlink\" width=\"600\" height=\"400\" viewBox=\"0 0 2400 1600\">\n",
       "<defs>\n",
       "  <clipPath id=\"clip880\">\n",
       "    <rect x=\"0\" y=\"0\" width=\"2400\" height=\"1600\"/>\n",
       "  </clipPath>\n",
       "</defs>\n",
       "<path clip-path=\"url(#clip880)\" d=\"\n",
       "M0 1600 L2400 1600 L2400 0 L0 0  Z\n",
       "  \" fill=\"#ffffff\" fill-rule=\"evenodd\" fill-opacity=\"1\"/>\n",
       "<defs>\n",
       "  <clipPath id=\"clip881\">\n",
       "    <rect x=\"480\" y=\"0\" width=\"1681\" height=\"1600\"/>\n",
       "  </clipPath>\n",
       "</defs>\n",
       "<path clip-path=\"url(#clip880)\" d=\"\n",
       "M249.542 1423.18 L2352.76 1423.18 L2352.76 47.2441 L249.542 47.2441  Z\n",
       "  \" fill=\"#ffffff\" fill-rule=\"evenodd\" fill-opacity=\"1\"/>\n",
       "<defs>\n",
       "  <clipPath id=\"clip882\">\n",
       "    <rect x=\"249\" y=\"47\" width=\"2104\" height=\"1377\"/>\n",
       "  </clipPath>\n",
       "</defs>\n",
       "<polyline clip-path=\"url(#clip882)\" style=\"stroke:#000000; stroke-linecap:butt; stroke-linejoin:round; stroke-width:2; stroke-opacity:0.1; fill:none\" points=\"\n",
       "  309.067,1423.18 309.067,47.2441 \n",
       "  \"/>\n",
       "<polyline clip-path=\"url(#clip882)\" style=\"stroke:#000000; stroke-linecap:butt; stroke-linejoin:round; stroke-width:2; stroke-opacity:0.1; fill:none\" points=\"\n",
       "  805.108,1423.18 805.108,47.2441 \n",
       "  \"/>\n",
       "<polyline clip-path=\"url(#clip882)\" style=\"stroke:#000000; stroke-linecap:butt; stroke-linejoin:round; stroke-width:2; stroke-opacity:0.1; fill:none\" points=\"\n",
       "  1301.15,1423.18 1301.15,47.2441 \n",
       "  \"/>\n",
       "<polyline clip-path=\"url(#clip882)\" style=\"stroke:#000000; stroke-linecap:butt; stroke-linejoin:round; stroke-width:2; stroke-opacity:0.1; fill:none\" points=\"\n",
       "  1797.19,1423.18 1797.19,47.2441 \n",
       "  \"/>\n",
       "<polyline clip-path=\"url(#clip882)\" style=\"stroke:#000000; stroke-linecap:butt; stroke-linejoin:round; stroke-width:2; stroke-opacity:0.1; fill:none\" points=\"\n",
       "  2293.23,1423.18 2293.23,47.2441 \n",
       "  \"/>\n",
       "<polyline clip-path=\"url(#clip880)\" style=\"stroke:#000000; stroke-linecap:butt; stroke-linejoin:round; stroke-width:4; stroke-opacity:1; fill:none\" points=\"\n",
       "  249.542,1423.18 2352.76,1423.18 \n",
       "  \"/>\n",
       "<polyline clip-path=\"url(#clip880)\" style=\"stroke:#000000; stroke-linecap:butt; stroke-linejoin:round; stroke-width:4; stroke-opacity:1; fill:none\" points=\"\n",
       "  309.067,1423.18 309.067,1404.28 \n",
       "  \"/>\n",
       "<polyline clip-path=\"url(#clip880)\" style=\"stroke:#000000; stroke-linecap:butt; stroke-linejoin:round; stroke-width:4; stroke-opacity:1; fill:none\" points=\"\n",
       "  805.108,1423.18 805.108,1404.28 \n",
       "  \"/>\n",
       "<polyline clip-path=\"url(#clip880)\" style=\"stroke:#000000; stroke-linecap:butt; stroke-linejoin:round; stroke-width:4; stroke-opacity:1; fill:none\" points=\"\n",
       "  1301.15,1423.18 1301.15,1404.28 \n",
       "  \"/>\n",
       "<polyline clip-path=\"url(#clip880)\" style=\"stroke:#000000; stroke-linecap:butt; stroke-linejoin:round; stroke-width:4; stroke-opacity:1; fill:none\" points=\"\n",
       "  1797.19,1423.18 1797.19,1404.28 \n",
       "  \"/>\n",
       "<polyline clip-path=\"url(#clip880)\" style=\"stroke:#000000; stroke-linecap:butt; stroke-linejoin:round; stroke-width:4; stroke-opacity:1; fill:none\" points=\"\n",
       "  2293.23,1423.18 2293.23,1404.28 \n",
       "  \"/>\n",
       "<path clip-path=\"url(#clip880)\" d=\"M283.755 1481.64 L291.393 1481.64 L291.393 1455.28 L283.083 1456.95 L283.083 1452.69 L291.347 1451.02 L296.023 1451.02 L296.023 1481.64 L303.662 1481.64 L303.662 1485.58 L283.755 1485.58 L283.755 1481.64 Z\" fill=\"#000000\" fill-rule=\"evenodd\" fill-opacity=\"1\" /><path clip-path=\"url(#clip880)\" d=\"M323.106 1454.1 Q319.495 1454.1 317.666 1457.66 Q315.861 1461.2 315.861 1468.33 Q315.861 1475.44 317.666 1479.01 Q319.495 1482.55 323.106 1482.55 Q326.74 1482.55 328.546 1479.01 Q330.375 1475.44 330.375 1468.33 Q330.375 1461.2 328.546 1457.66 Q326.74 1454.1 323.106 1454.1 M323.106 1450.39 Q328.916 1450.39 331.972 1455 Q335.051 1459.58 335.051 1468.33 Q335.051 1477.06 331.972 1481.67 Q328.916 1486.25 323.106 1486.25 Q317.296 1486.25 314.217 1481.67 Q311.162 1477.06 311.162 1468.33 Q311.162 1459.58 314.217 1455 Q317.296 1450.39 323.106 1450.39 Z\" fill=\"#000000\" fill-rule=\"evenodd\" fill-opacity=\"1\" /><path clip-path=\"url(#clip880)\" d=\"M780.293 1481.64 L787.932 1481.64 L787.932 1455.28 L779.622 1456.95 L779.622 1452.69 L787.886 1451.02 L792.562 1451.02 L792.562 1481.64 L800.201 1481.64 L800.201 1485.58 L780.293 1485.58 L780.293 1481.64 Z\" fill=\"#000000\" fill-rule=\"evenodd\" fill-opacity=\"1\" /><path clip-path=\"url(#clip880)\" d=\"M809.691 1451.02 L828.048 1451.02 L828.048 1454.96 L813.974 1454.96 L813.974 1463.43 Q814.992 1463.08 816.011 1462.92 Q817.029 1462.73 818.048 1462.73 Q823.835 1462.73 827.214 1465.9 Q830.594 1469.08 830.594 1474.49 Q830.594 1480.07 827.122 1483.17 Q823.65 1486.25 817.33 1486.25 Q815.154 1486.25 812.886 1485.88 Q810.64 1485.51 808.233 1484.77 L808.233 1480.07 Q810.316 1481.2 812.538 1481.76 Q814.761 1482.32 817.238 1482.32 Q821.242 1482.32 823.58 1480.21 Q825.918 1478.1 825.918 1474.49 Q825.918 1470.88 823.58 1468.77 Q821.242 1466.67 817.238 1466.67 Q815.363 1466.67 813.488 1467.08 Q811.636 1467.5 809.691 1468.38 L809.691 1451.02 Z\" fill=\"#000000\" fill-rule=\"evenodd\" fill-opacity=\"1\" /><path clip-path=\"url(#clip880)\" d=\"M1279.92 1481.64 L1296.24 1481.64 L1296.24 1485.58 L1274.3 1485.58 L1274.3 1481.64 Q1276.96 1478.89 1281.54 1474.26 Q1286.15 1469.61 1287.33 1468.27 Q1289.57 1465.74 1290.45 1464.01 Q1291.36 1462.25 1291.36 1460.56 Q1291.36 1457.8 1289.41 1456.07 Q1287.49 1454.33 1284.39 1454.33 Q1282.19 1454.33 1279.74 1455.09 Q1277.31 1455.86 1274.53 1457.41 L1274.53 1452.69 Q1277.35 1451.55 1279.81 1450.97 Q1282.26 1450.39 1284.3 1450.39 Q1289.67 1450.39 1292.86 1453.08 Q1296.06 1455.77 1296.06 1460.26 Q1296.06 1462.39 1295.25 1464.31 Q1294.46 1466.2 1292.35 1468.8 Q1291.77 1469.47 1288.67 1472.69 Q1285.57 1475.88 1279.92 1481.64 Z\" fill=\"#000000\" fill-rule=\"evenodd\" fill-opacity=\"1\" /><path clip-path=\"url(#clip880)\" d=\"M1316.06 1454.1 Q1312.45 1454.1 1310.62 1457.66 Q1308.81 1461.2 1308.81 1468.33 Q1308.81 1475.44 1310.62 1479.01 Q1312.45 1482.55 1316.06 1482.55 Q1319.69 1482.55 1321.5 1479.01 Q1323.32 1475.44 1323.32 1468.33 Q1323.32 1461.2 1321.5 1457.66 Q1319.69 1454.1 1316.06 1454.1 M1316.06 1450.39 Q1321.87 1450.39 1324.92 1455 Q1328 1459.58 1328 1468.33 Q1328 1477.06 1324.92 1481.67 Q1321.87 1486.25 1316.06 1486.25 Q1310.25 1486.25 1307.17 1481.67 Q1304.11 1477.06 1304.11 1468.33 Q1304.11 1459.58 1307.17 1455 Q1310.25 1450.39 1316.06 1450.39 Z\" fill=\"#000000\" fill-rule=\"evenodd\" fill-opacity=\"1\" /><path clip-path=\"url(#clip880)\" d=\"M1776.46 1481.64 L1792.78 1481.64 L1792.78 1485.58 L1770.84 1485.58 L1770.84 1481.64 Q1773.5 1478.89 1778.08 1474.26 Q1782.69 1469.61 1783.87 1468.27 Q1786.11 1465.74 1786.99 1464.01 Q1787.9 1462.25 1787.9 1460.56 Q1787.9 1457.8 1785.95 1456.07 Q1784.03 1454.33 1780.93 1454.33 Q1778.73 1454.33 1776.28 1455.09 Q1773.85 1455.86 1771.07 1457.41 L1771.07 1452.69 Q1773.89 1451.55 1776.35 1450.97 Q1778.8 1450.39 1780.84 1450.39 Q1786.21 1450.39 1789.4 1453.08 Q1792.6 1455.77 1792.6 1460.26 Q1792.6 1462.39 1791.78 1464.31 Q1791 1466.2 1788.89 1468.8 Q1788.31 1469.47 1785.21 1472.69 Q1782.11 1475.88 1776.46 1481.64 Z\" fill=\"#000000\" fill-rule=\"evenodd\" fill-opacity=\"1\" /><path clip-path=\"url(#clip880)\" d=\"M1802.64 1451.02 L1821 1451.02 L1821 1454.96 L1806.92 1454.96 L1806.92 1463.43 Q1807.94 1463.08 1808.96 1462.92 Q1809.98 1462.73 1811 1462.73 Q1816.78 1462.73 1820.16 1465.9 Q1823.54 1469.08 1823.54 1474.49 Q1823.54 1480.07 1820.07 1483.17 Q1816.6 1486.25 1810.28 1486.25 Q1808.1 1486.25 1805.84 1485.88 Q1803.59 1485.51 1801.18 1484.77 L1801.18 1480.07 Q1803.27 1481.2 1805.49 1481.76 Q1807.71 1482.32 1810.19 1482.32 Q1814.19 1482.32 1816.53 1480.21 Q1818.87 1478.1 1818.87 1474.49 Q1818.87 1470.88 1816.53 1468.77 Q1814.19 1466.67 1810.19 1466.67 Q1808.31 1466.67 1806.44 1467.08 Q1804.59 1467.5 1802.64 1468.38 L1802.64 1451.02 Z\" fill=\"#000000\" fill-rule=\"evenodd\" fill-opacity=\"1\" /><path clip-path=\"url(#clip880)\" d=\"M2282.07 1466.95 Q2285.43 1467.66 2287.31 1469.93 Q2289.2 1472.2 2289.2 1475.53 Q2289.2 1480.65 2285.68 1483.45 Q2282.17 1486.25 2275.68 1486.25 Q2273.51 1486.25 2271.19 1485.81 Q2268.9 1485.39 2266.45 1484.54 L2266.45 1480.02 Q2268.39 1481.16 2270.71 1481.74 Q2273.02 1482.32 2275.55 1482.32 Q2279.94 1482.32 2282.24 1480.58 Q2284.55 1478.84 2284.55 1475.53 Q2284.55 1472.48 2282.4 1470.77 Q2280.27 1469.03 2276.45 1469.03 L2272.42 1469.03 L2272.42 1465.19 L2276.63 1465.19 Q2280.08 1465.19 2281.91 1463.82 Q2283.74 1462.43 2283.74 1459.84 Q2283.74 1457.18 2281.84 1455.77 Q2279.97 1454.33 2276.45 1454.33 Q2274.53 1454.33 2272.33 1454.75 Q2270.13 1455.16 2267.49 1456.04 L2267.49 1451.88 Q2270.15 1451.14 2272.47 1450.77 Q2274.81 1450.39 2276.87 1450.39 Q2282.19 1450.39 2285.29 1452.83 Q2288.39 1455.23 2288.39 1459.35 Q2288.39 1462.22 2286.75 1464.21 Q2285.11 1466.18 2282.07 1466.95 Z\" fill=\"#000000\" fill-rule=\"evenodd\" fill-opacity=\"1\" /><path clip-path=\"url(#clip880)\" d=\"M2308.07 1454.1 Q2304.46 1454.1 2302.63 1457.66 Q2300.82 1461.2 2300.82 1468.33 Q2300.82 1475.44 2302.63 1479.01 Q2304.46 1482.55 2308.07 1482.55 Q2311.7 1482.55 2313.51 1479.01 Q2315.34 1475.44 2315.34 1468.33 Q2315.34 1461.2 2313.51 1457.66 Q2311.7 1454.1 2308.07 1454.1 M2308.07 1450.39 Q2313.88 1450.39 2316.93 1455 Q2320.01 1459.58 2320.01 1468.33 Q2320.01 1477.06 2316.93 1481.67 Q2313.88 1486.25 2308.07 1486.25 Q2302.26 1486.25 2299.18 1481.67 Q2296.12 1477.06 2296.12 1468.33 Q2296.12 1459.58 2299.18 1455 Q2302.26 1450.39 2308.07 1450.39 Z\" fill=\"#000000\" fill-rule=\"evenodd\" fill-opacity=\"1\" /><path clip-path=\"url(#clip880)\" d=\"M1107.74 1533.45 L1107.74 1538.98 Q1105.26 1537.71 1102.59 1537.07 Q1099.91 1536.44 1097.05 1536.44 Q1092.69 1536.44 1090.49 1537.77 Q1088.33 1539.11 1088.33 1541.79 Q1088.33 1543.82 1089.89 1545 Q1091.45 1546.15 1096.16 1547.2 L1098.16 1547.64 Q1104.4 1548.98 1107.01 1551.43 Q1109.65 1553.85 1109.65 1558.21 Q1109.65 1563.17 1105.71 1566.07 Q1101.79 1568.97 1094.92 1568.97 Q1092.05 1568.97 1088.93 1568.39 Q1085.84 1567.85 1082.41 1566.74 L1082.41 1560.69 Q1085.65 1562.38 1088.8 1563.24 Q1091.96 1564.07 1095.04 1564.07 Q1099.18 1564.07 1101.41 1562.66 Q1103.64 1561.23 1103.64 1558.65 Q1103.64 1556.27 1102.01 1554.99 Q1100.42 1553.72 1094.98 1552.54 L1092.94 1552.07 Q1087.5 1550.92 1085.08 1548.56 Q1082.66 1546.18 1082.66 1542.04 Q1082.66 1537.01 1086.23 1534.27 Q1089.79 1531.54 1096.35 1531.54 Q1099.59 1531.54 1102.46 1532.01 Q1105.32 1532.49 1107.74 1533.45 Z\" fill=\"#000000\" fill-rule=\"evenodd\" fill-opacity=\"1\" /><path clip-path=\"url(#clip880)\" d=\"M1118.98 1532.4 L1124.83 1532.4 L1124.83 1568.04 L1118.98 1568.04 L1118.98 1532.4 M1118.98 1518.52 L1124.83 1518.52 L1124.83 1525.93 L1118.98 1525.93 L1118.98 1518.52 Z\" fill=\"#000000\" fill-rule=\"evenodd\" fill-opacity=\"1\" /><path clip-path=\"url(#clip880)\" d=\"M1134.54 1532.4 L1162.36 1532.4 L1162.36 1537.74 L1140.34 1563.37 L1162.36 1563.37 L1162.36 1568.04 L1133.75 1568.04 L1133.75 1562.7 L1155.77 1537.07 L1134.54 1537.07 L1134.54 1532.4 Z\" fill=\"#000000\" fill-rule=\"evenodd\" fill-opacity=\"1\" /><path clip-path=\"url(#clip880)\" d=\"M1201.8 1548.76 L1201.8 1551.62 L1174.87 1551.62 Q1175.25 1557.67 1178.5 1560.85 Q1181.78 1564 1187.6 1564 Q1190.97 1564 1194.13 1563.17 Q1197.31 1562.35 1200.43 1560.69 L1200.43 1566.23 Q1197.28 1567.57 1193.97 1568.27 Q1190.66 1568.97 1187.25 1568.97 Q1178.72 1568.97 1173.72 1564 Q1168.76 1559.04 1168.76 1550.57 Q1168.76 1541.82 1173.47 1536.69 Q1178.21 1531.54 1186.23 1531.54 Q1193.43 1531.54 1197.59 1536.18 Q1201.8 1540.8 1201.8 1548.76 M1195.94 1547.04 Q1195.88 1542.23 1193.23 1539.37 Q1190.62 1536.5 1186.3 1536.5 Q1181.39 1536.5 1178.43 1539.27 Q1175.51 1542.04 1175.06 1547.07 L1195.94 1547.04 Z\" fill=\"#000000\" fill-rule=\"evenodd\" fill-opacity=\"1\" /><path clip-path=\"url(#clip880)\" d=\"M1245.94 1536.5 Q1241.23 1536.5 1238.49 1540.19 Q1235.76 1543.85 1235.76 1550.25 Q1235.76 1556.65 1238.46 1560.34 Q1241.2 1564 1245.94 1564 Q1250.62 1564 1253.36 1560.31 Q1256.1 1556.62 1256.1 1550.25 Q1256.1 1543.92 1253.36 1540.23 Q1250.62 1536.5 1245.94 1536.5 M1245.94 1531.54 Q1253.58 1531.54 1257.94 1536.5 Q1262.3 1541.47 1262.3 1550.25 Q1262.3 1559 1257.94 1564 Q1253.58 1568.97 1245.94 1568.97 Q1238.27 1568.97 1233.91 1564 Q1229.58 1559 1229.58 1550.25 Q1229.58 1541.47 1233.91 1536.5 Q1238.27 1531.54 1245.94 1531.54 Z\" fill=\"#000000\" fill-rule=\"evenodd\" fill-opacity=\"1\" /><path clip-path=\"url(#clip880)\" d=\"M1290.06 1518.52 L1290.06 1523.39 L1284.45 1523.39 Q1281.3 1523.39 1280.06 1524.66 Q1278.85 1525.93 1278.85 1529.24 L1278.85 1532.4 L1288.5 1532.4 L1288.5 1536.95 L1278.85 1536.95 L1278.85 1568.04 L1272.96 1568.04 L1272.96 1536.95 L1267.36 1536.95 L1267.36 1532.4 L1272.96 1532.4 L1272.96 1529.91 Q1272.96 1523.96 1275.73 1521.26 Q1278.5 1518.52 1284.52 1518.52 L1290.06 1518.52 Z\" fill=\"#000000\" fill-rule=\"evenodd\" fill-opacity=\"1\" /><path clip-path=\"url(#clip880)\" d=\"M1343.43 1539.24 Q1345.63 1535.29 1348.68 1533.41 Q1351.74 1531.54 1355.88 1531.54 Q1361.45 1531.54 1364.47 1535.45 Q1367.5 1539.33 1367.5 1546.53 L1367.5 1568.04 L1361.61 1568.04 L1361.61 1546.72 Q1361.61 1541.59 1359.79 1539.11 Q1357.98 1536.63 1354.25 1536.63 Q1349.7 1536.63 1347.06 1539.65 Q1344.42 1542.68 1344.42 1547.9 L1344.42 1568.04 L1338.53 1568.04 L1338.53 1546.72 Q1338.53 1541.56 1336.72 1539.11 Q1334.9 1536.63 1331.12 1536.63 Q1326.63 1536.63 1323.99 1539.68 Q1321.34 1542.71 1321.34 1547.9 L1321.34 1568.04 L1315.46 1568.04 L1315.46 1532.4 L1321.34 1532.4 L1321.34 1537.93 Q1323.35 1534.66 1326.15 1533.1 Q1328.95 1531.54 1332.8 1531.54 Q1336.69 1531.54 1339.39 1533.51 Q1342.13 1535.48 1343.43 1539.24 Z\" fill=\"#000000\" fill-rule=\"evenodd\" fill-opacity=\"1\" /><path clip-path=\"url(#clip880)\" d=\"M1395.38 1550.12 Q1388.28 1550.12 1385.54 1551.75 Q1382.81 1553.37 1382.81 1557.29 Q1382.81 1560.4 1384.84 1562.25 Q1386.91 1564.07 1390.44 1564.07 Q1395.31 1564.07 1398.24 1560.63 Q1401.2 1557.16 1401.2 1551.43 L1401.2 1550.12 L1395.38 1550.12 M1407.06 1547.71 L1407.06 1568.04 L1401.2 1568.04 L1401.2 1562.63 Q1399.2 1565.88 1396.2 1567.44 Q1393.21 1568.97 1388.88 1568.97 Q1383.41 1568.97 1380.16 1565.91 Q1376.95 1562.82 1376.95 1557.67 Q1376.95 1551.65 1380.96 1548.6 Q1385 1545.54 1392.99 1545.54 L1401.2 1545.54 L1401.2 1544.97 Q1401.2 1540.93 1398.53 1538.73 Q1395.89 1536.5 1391.08 1536.5 Q1388.02 1536.5 1385.13 1537.23 Q1382.23 1537.97 1379.56 1539.43 L1379.56 1534.02 Q1382.77 1532.78 1385.8 1532.17 Q1388.82 1531.54 1391.69 1531.54 Q1399.42 1531.54 1403.24 1535.55 Q1407.06 1539.56 1407.06 1547.71 Z\" fill=\"#000000\" fill-rule=\"evenodd\" fill-opacity=\"1\" /><path clip-path=\"url(#clip880)\" d=\"M1424.91 1522.27 L1424.91 1532.4 L1436.98 1532.4 L1436.98 1536.95 L1424.91 1536.95 L1424.91 1556.3 Q1424.91 1560.66 1426.09 1561.9 Q1427.3 1563.14 1430.96 1563.14 L1436.98 1563.14 L1436.98 1568.04 L1430.96 1568.04 Q1424.18 1568.04 1421.6 1565.53 Q1419.03 1562.98 1419.03 1556.3 L1419.03 1536.95 L1414.73 1536.95 L1414.73 1532.4 L1419.03 1532.4 L1419.03 1522.27 L1424.91 1522.27 Z\" fill=\"#000000\" fill-rule=\"evenodd\" fill-opacity=\"1\" /><path clip-path=\"url(#clip880)\" d=\"M1465.34 1537.87 Q1464.35 1537.3 1463.17 1537.04 Q1462.03 1536.76 1460.63 1536.76 Q1455.66 1536.76 1452.99 1540 Q1450.35 1543.22 1450.35 1549.27 L1450.35 1568.04 L1444.46 1568.04 L1444.46 1532.4 L1450.35 1532.4 L1450.35 1537.93 Q1452.19 1534.69 1455.15 1533.13 Q1458.11 1531.54 1462.34 1531.54 Q1462.95 1531.54 1463.68 1531.63 Q1464.41 1531.7 1465.3 1531.85 L1465.34 1537.87 Z\" fill=\"#000000\" fill-rule=\"evenodd\" fill-opacity=\"1\" /><path clip-path=\"url(#clip880)\" d=\"M1471.48 1532.4 L1477.34 1532.4 L1477.34 1568.04 L1471.48 1568.04 L1471.48 1532.4 M1471.48 1518.52 L1477.34 1518.52 L1477.34 1525.93 L1471.48 1525.93 L1471.48 1518.52 Z\" fill=\"#000000\" fill-rule=\"evenodd\" fill-opacity=\"1\" /><path clip-path=\"url(#clip880)\" d=\"M1519.22 1532.4 L1506.33 1549.74 L1519.89 1568.04 L1512.98 1568.04 L1502.61 1554.04 L1492.23 1568.04 L1485.32 1568.04 L1499.17 1549.39 L1486.5 1532.4 L1493.41 1532.4 L1502.86 1545.1 L1512.32 1532.4 L1519.22 1532.4 Z\" fill=\"#000000\" fill-rule=\"evenodd\" fill-opacity=\"1\" /><polyline clip-path=\"url(#clip882)\" style=\"stroke:#000000; stroke-linecap:butt; stroke-linejoin:round; stroke-width:2; stroke-opacity:0.1; fill:none\" points=\"\n",
       "  249.542,1384.24 2352.76,1384.24 \n",
       "  \"/>\n",
       "<polyline clip-path=\"url(#clip882)\" style=\"stroke:#000000; stroke-linecap:butt; stroke-linejoin:round; stroke-width:2; stroke-opacity:0.1; fill:none\" points=\"\n",
       "  249.542,1107.35 2352.76,1107.35 \n",
       "  \"/>\n",
       "<polyline clip-path=\"url(#clip882)\" style=\"stroke:#000000; stroke-linecap:butt; stroke-linejoin:round; stroke-width:2; stroke-opacity:0.1; fill:none\" points=\"\n",
       "  249.542,830.462 2352.76,830.462 \n",
       "  \"/>\n",
       "<polyline clip-path=\"url(#clip882)\" style=\"stroke:#000000; stroke-linecap:butt; stroke-linejoin:round; stroke-width:2; stroke-opacity:0.1; fill:none\" points=\"\n",
       "  249.542,553.573 2352.76,553.573 \n",
       "  \"/>\n",
       "<polyline clip-path=\"url(#clip882)\" style=\"stroke:#000000; stroke-linecap:butt; stroke-linejoin:round; stroke-width:2; stroke-opacity:0.1; fill:none\" points=\"\n",
       "  249.542,276.685 2352.76,276.685 \n",
       "  \"/>\n",
       "<polyline clip-path=\"url(#clip880)\" style=\"stroke:#000000; stroke-linecap:butt; stroke-linejoin:round; stroke-width:4; stroke-opacity:1; fill:none\" points=\"\n",
       "  249.542,1423.18 249.542,47.2441 \n",
       "  \"/>\n",
       "<polyline clip-path=\"url(#clip880)\" style=\"stroke:#000000; stroke-linecap:butt; stroke-linejoin:round; stroke-width:4; stroke-opacity:1; fill:none\" points=\"\n",
       "  249.542,1384.24 268.44,1384.24 \n",
       "  \"/>\n",
       "<polyline clip-path=\"url(#clip880)\" style=\"stroke:#000000; stroke-linecap:butt; stroke-linejoin:round; stroke-width:4; stroke-opacity:1; fill:none\" points=\"\n",
       "  249.542,1107.35 268.44,1107.35 \n",
       "  \"/>\n",
       "<polyline clip-path=\"url(#clip880)\" style=\"stroke:#000000; stroke-linecap:butt; stroke-linejoin:round; stroke-width:4; stroke-opacity:1; fill:none\" points=\"\n",
       "  249.542,830.462 268.44,830.462 \n",
       "  \"/>\n",
       "<polyline clip-path=\"url(#clip880)\" style=\"stroke:#000000; stroke-linecap:butt; stroke-linejoin:round; stroke-width:4; stroke-opacity:1; fill:none\" points=\"\n",
       "  249.542,553.573 268.44,553.573 \n",
       "  \"/>\n",
       "<polyline clip-path=\"url(#clip880)\" style=\"stroke:#000000; stroke-linecap:butt; stroke-linejoin:round; stroke-width:4; stroke-opacity:1; fill:none\" points=\"\n",
       "  249.542,276.685 268.44,276.685 \n",
       "  \"/>\n",
       "<path clip-path=\"url(#clip880)\" d=\"M126.205 1370.04 Q122.593 1370.04 120.765 1373.6 Q118.959 1377.14 118.959 1384.27 Q118.959 1391.38 120.765 1394.94 Q122.593 1398.49 126.205 1398.49 Q129.839 1398.49 131.644 1394.94 Q133.473 1391.38 133.473 1384.27 Q133.473 1377.14 131.644 1373.6 Q129.839 1370.04 126.205 1370.04 M126.205 1366.33 Q132.015 1366.33 135.07 1370.94 Q138.149 1375.52 138.149 1384.27 Q138.149 1393 135.07 1397.61 Q132.015 1402.19 126.205 1402.19 Q120.394 1402.19 117.316 1397.61 Q114.26 1393 114.26 1384.27 Q114.26 1375.52 117.316 1370.94 Q120.394 1366.33 126.205 1366.33 Z\" fill=\"#000000\" fill-rule=\"evenodd\" fill-opacity=\"1\" /><path clip-path=\"url(#clip880)\" d=\"M146.366 1395.64 L151.251 1395.64 L151.251 1401.52 L146.366 1401.52 L146.366 1395.64 Z\" fill=\"#000000\" fill-rule=\"evenodd\" fill-opacity=\"1\" /><path clip-path=\"url(#clip880)\" d=\"M171.436 1370.04 Q167.825 1370.04 165.996 1373.6 Q164.19 1377.14 164.19 1384.27 Q164.19 1391.38 165.996 1394.94 Q167.825 1398.49 171.436 1398.49 Q175.07 1398.49 176.876 1394.94 Q178.704 1391.38 178.704 1384.27 Q178.704 1377.14 176.876 1373.6 Q175.07 1370.04 171.436 1370.04 M171.436 1366.33 Q177.246 1366.33 180.301 1370.94 Q183.38 1375.52 183.38 1384.27 Q183.38 1393 180.301 1397.61 Q177.246 1402.19 171.436 1402.19 Q165.626 1402.19 162.547 1397.61 Q159.491 1393 159.491 1384.27 Q159.491 1375.52 162.547 1370.94 Q165.626 1366.33 171.436 1366.33 Z\" fill=\"#000000\" fill-rule=\"evenodd\" fill-opacity=\"1\" /><path clip-path=\"url(#clip880)\" d=\"M201.598 1370.04 Q197.987 1370.04 196.158 1373.6 Q194.352 1377.14 194.352 1384.27 Q194.352 1391.38 196.158 1394.94 Q197.987 1398.49 201.598 1398.49 Q205.232 1398.49 207.037 1394.94 Q208.866 1391.38 208.866 1384.27 Q208.866 1377.14 207.037 1373.6 Q205.232 1370.04 201.598 1370.04 M201.598 1366.33 Q207.408 1366.33 210.463 1370.94 Q213.542 1375.52 213.542 1384.27 Q213.542 1393 210.463 1397.61 Q207.408 1402.19 201.598 1402.19 Q195.787 1402.19 192.709 1397.61 Q189.653 1393 189.653 1384.27 Q189.653 1375.52 192.709 1370.94 Q195.787 1366.33 201.598 1366.33 Z\" fill=\"#000000\" fill-rule=\"evenodd\" fill-opacity=\"1\" /><path clip-path=\"url(#clip880)\" d=\"M127.2 1093.15 Q123.589 1093.15 121.76 1096.71 Q119.955 1100.26 119.955 1107.38 Q119.955 1114.49 121.76 1118.06 Q123.589 1121.6 127.2 1121.6 Q130.834 1121.6 132.64 1118.06 Q134.468 1114.49 134.468 1107.38 Q134.468 1100.26 132.64 1096.71 Q130.834 1093.15 127.2 1093.15 M127.2 1089.44 Q133.01 1089.44 136.066 1094.05 Q139.144 1098.63 139.144 1107.38 Q139.144 1116.11 136.066 1120.72 Q133.01 1125.3 127.2 1125.3 Q121.39 1125.3 118.311 1120.72 Q115.256 1116.11 115.256 1107.38 Q115.256 1098.63 118.311 1094.05 Q121.39 1089.44 127.2 1089.44 Z\" fill=\"#000000\" fill-rule=\"evenodd\" fill-opacity=\"1\" /><path clip-path=\"url(#clip880)\" d=\"M147.362 1118.75 L152.246 1118.75 L152.246 1124.63 L147.362 1124.63 L147.362 1118.75 Z\" fill=\"#000000\" fill-rule=\"evenodd\" fill-opacity=\"1\" /><path clip-path=\"url(#clip880)\" d=\"M166.459 1120.69 L182.778 1120.69 L182.778 1124.63 L160.834 1124.63 L160.834 1120.69 Q163.496 1117.94 168.079 1113.31 Q172.686 1108.66 173.866 1107.32 Q176.112 1104.79 176.991 1103.06 Q177.894 1101.3 177.894 1099.61 Q177.894 1096.85 175.95 1095.12 Q174.028 1093.38 170.927 1093.38 Q168.727 1093.38 166.274 1094.14 Q163.843 1094.91 161.065 1096.46 L161.065 1091.74 Q163.89 1090.6 166.343 1090.02 Q168.797 1089.44 170.834 1089.44 Q176.204 1089.44 179.399 1092.13 Q182.593 1094.82 182.593 1099.31 Q182.593 1101.44 181.783 1103.36 Q180.996 1105.26 178.889 1107.85 Q178.311 1108.52 175.209 1111.74 Q172.107 1114.93 166.459 1120.69 Z\" fill=\"#000000\" fill-rule=\"evenodd\" fill-opacity=\"1\" /><path clip-path=\"url(#clip880)\" d=\"M192.639 1090.07 L210.996 1090.07 L210.996 1094.01 L196.922 1094.01 L196.922 1102.48 Q197.94 1102.13 198.959 1101.97 Q199.977 1101.78 200.996 1101.78 Q206.783 1101.78 210.162 1104.95 Q213.542 1108.13 213.542 1113.54 Q213.542 1119.12 210.07 1122.22 Q206.598 1125.3 200.278 1125.3 Q198.102 1125.3 195.834 1124.93 Q193.588 1124.56 191.181 1123.82 L191.181 1119.12 Q193.264 1120.25 195.487 1120.81 Q197.709 1121.37 200.186 1121.37 Q204.19 1121.37 206.528 1119.26 Q208.866 1117.15 208.866 1113.54 Q208.866 1109.93 206.528 1107.82 Q204.19 1105.72 200.186 1105.72 Q198.311 1105.72 196.436 1106.13 Q194.584 1106.55 192.639 1107.43 L192.639 1090.07 Z\" fill=\"#000000\" fill-rule=\"evenodd\" fill-opacity=\"1\" /><path clip-path=\"url(#clip880)\" d=\"M126.205 816.26 Q122.593 816.26 120.765 819.825 Q118.959 823.367 118.959 830.496 Q118.959 837.603 120.765 841.168 Q122.593 844.709 126.205 844.709 Q129.839 844.709 131.644 841.168 Q133.473 837.603 133.473 830.496 Q133.473 823.367 131.644 819.825 Q129.839 816.26 126.205 816.26 M126.205 812.557 Q132.015 812.557 135.07 817.163 Q138.149 821.746 138.149 830.496 Q138.149 839.223 135.07 843.83 Q132.015 848.413 126.205 848.413 Q120.394 848.413 117.316 843.83 Q114.26 839.223 114.26 830.496 Q114.26 821.746 117.316 817.163 Q120.394 812.557 126.205 812.557 Z\" fill=\"#000000\" fill-rule=\"evenodd\" fill-opacity=\"1\" /><path clip-path=\"url(#clip880)\" d=\"M146.366 841.862 L151.251 841.862 L151.251 847.742 L146.366 847.742 L146.366 841.862 Z\" fill=\"#000000\" fill-rule=\"evenodd\" fill-opacity=\"1\" /><path clip-path=\"url(#clip880)\" d=\"M161.482 813.182 L179.839 813.182 L179.839 817.117 L165.765 817.117 L165.765 825.589 Q166.783 825.242 167.802 825.08 Q168.82 824.894 169.839 824.894 Q175.626 824.894 179.005 828.066 Q182.385 831.237 182.385 836.654 Q182.385 842.232 178.913 845.334 Q175.44 848.413 169.121 848.413 Q166.945 848.413 164.677 848.042 Q162.431 847.672 160.024 846.931 L160.024 842.232 Q162.107 843.367 164.329 843.922 Q166.552 844.478 169.028 844.478 Q173.033 844.478 175.371 842.371 Q177.709 840.265 177.709 836.654 Q177.709 833.043 175.371 830.936 Q173.033 828.83 169.028 828.83 Q167.153 828.83 165.278 829.246 Q163.427 829.663 161.482 830.543 L161.482 813.182 Z\" fill=\"#000000\" fill-rule=\"evenodd\" fill-opacity=\"1\" /><path clip-path=\"url(#clip880)\" d=\"M201.598 816.26 Q197.987 816.26 196.158 819.825 Q194.352 823.367 194.352 830.496 Q194.352 837.603 196.158 841.168 Q197.987 844.709 201.598 844.709 Q205.232 844.709 207.037 841.168 Q208.866 837.603 208.866 830.496 Q208.866 823.367 207.037 819.825 Q205.232 816.26 201.598 816.26 M201.598 812.557 Q207.408 812.557 210.463 817.163 Q213.542 821.746 213.542 830.496 Q213.542 839.223 210.463 843.83 Q207.408 848.413 201.598 848.413 Q195.787 848.413 192.709 843.83 Q189.653 839.223 189.653 830.496 Q189.653 821.746 192.709 817.163 Q195.787 812.557 201.598 812.557 Z\" fill=\"#000000\" fill-rule=\"evenodd\" fill-opacity=\"1\" /><path clip-path=\"url(#clip880)\" d=\"M127.2 539.372 Q123.589 539.372 121.76 542.937 Q119.955 546.478 119.955 553.608 Q119.955 560.714 121.76 564.279 Q123.589 567.821 127.2 567.821 Q130.834 567.821 132.64 564.279 Q134.468 560.714 134.468 553.608 Q134.468 546.478 132.64 542.937 Q130.834 539.372 127.2 539.372 M127.2 535.668 Q133.01 535.668 136.066 540.275 Q139.144 544.858 139.144 553.608 Q139.144 562.335 136.066 566.941 Q133.01 571.525 127.2 571.525 Q121.39 571.525 118.311 566.941 Q115.256 562.335 115.256 553.608 Q115.256 544.858 118.311 540.275 Q121.39 535.668 127.2 535.668 Z\" fill=\"#000000\" fill-rule=\"evenodd\" fill-opacity=\"1\" /><path clip-path=\"url(#clip880)\" d=\"M147.362 564.974 L152.246 564.974 L152.246 570.853 L147.362 570.853 L147.362 564.974 Z\" fill=\"#000000\" fill-rule=\"evenodd\" fill-opacity=\"1\" /><path clip-path=\"url(#clip880)\" d=\"M161.251 536.293 L183.473 536.293 L183.473 538.284 L170.927 570.853 L166.042 570.853 L177.848 540.228 L161.251 540.228 L161.251 536.293 Z\" fill=\"#000000\" fill-rule=\"evenodd\" fill-opacity=\"1\" /><path clip-path=\"url(#clip880)\" d=\"M192.639 536.293 L210.996 536.293 L210.996 540.228 L196.922 540.228 L196.922 548.701 Q197.94 548.353 198.959 548.191 Q199.977 548.006 200.996 548.006 Q206.783 548.006 210.162 551.177 Q213.542 554.349 213.542 559.765 Q213.542 565.344 210.07 568.446 Q206.598 571.525 200.278 571.525 Q198.102 571.525 195.834 571.154 Q193.588 570.784 191.181 570.043 L191.181 565.344 Q193.264 566.478 195.487 567.034 Q197.709 567.589 200.186 567.589 Q204.19 567.589 206.528 565.483 Q208.866 563.376 208.866 559.765 Q208.866 556.154 206.528 554.048 Q204.19 551.941 200.186 551.941 Q198.311 551.941 196.436 552.358 Q194.584 552.775 192.639 553.654 L192.639 536.293 Z\" fill=\"#000000\" fill-rule=\"evenodd\" fill-opacity=\"1\" /><path clip-path=\"url(#clip880)\" d=\"M117.015 290.03 L124.654 290.03 L124.654 263.664 L116.343 265.331 L116.343 261.072 L124.607 259.405 L129.283 259.405 L129.283 290.03 L136.922 290.03 L136.922 293.965 L117.015 293.965 L117.015 290.03 Z\" fill=\"#000000\" fill-rule=\"evenodd\" fill-opacity=\"1\" /><path clip-path=\"url(#clip880)\" d=\"M146.366 288.085 L151.251 288.085 L151.251 293.965 L146.366 293.965 L146.366 288.085 Z\" fill=\"#000000\" fill-rule=\"evenodd\" fill-opacity=\"1\" /><path clip-path=\"url(#clip880)\" d=\"M171.436 262.484 Q167.825 262.484 165.996 266.048 Q164.19 269.59 164.19 276.72 Q164.19 283.826 165.996 287.391 Q167.825 290.932 171.436 290.932 Q175.07 290.932 176.876 287.391 Q178.704 283.826 178.704 276.72 Q178.704 269.59 176.876 266.048 Q175.07 262.484 171.436 262.484 M171.436 258.78 Q177.246 258.78 180.301 263.386 Q183.38 267.97 183.38 276.72 Q183.38 285.446 180.301 290.053 Q177.246 294.636 171.436 294.636 Q165.626 294.636 162.547 290.053 Q159.491 285.446 159.491 276.72 Q159.491 267.97 162.547 263.386 Q165.626 258.78 171.436 258.78 Z\" fill=\"#000000\" fill-rule=\"evenodd\" fill-opacity=\"1\" /><path clip-path=\"url(#clip880)\" d=\"M201.598 262.484 Q197.987 262.484 196.158 266.048 Q194.352 269.59 194.352 276.72 Q194.352 283.826 196.158 287.391 Q197.987 290.932 201.598 290.932 Q205.232 290.932 207.037 287.391 Q208.866 283.826 208.866 276.72 Q208.866 269.59 207.037 266.048 Q205.232 262.484 201.598 262.484 M201.598 258.78 Q207.408 258.78 210.463 263.386 Q213.542 267.97 213.542 276.72 Q213.542 285.446 210.463 290.053 Q207.408 294.636 201.598 294.636 Q195.787 294.636 192.709 290.053 Q189.653 285.446 189.653 276.72 Q189.653 267.97 192.709 263.386 Q195.787 258.78 201.598 258.78 Z\" fill=\"#000000\" fill-rule=\"evenodd\" fill-opacity=\"1\" /><path clip-path=\"url(#clip880)\" d=\"M18.2347 979.846 L28.3562 979.846 L28.3562 967.783 L32.9077 967.783 L32.9077 979.846 L52.2594 979.846 Q56.6199 979.846 57.8613 978.668 Q59.1026 977.459 59.1026 973.799 L59.1026 967.783 L64.0042 967.783 L64.0042 973.799 Q64.0042 980.578 61.4897 983.156 Q58.9434 985.734 52.2594 985.734 L32.9077 985.734 L32.9077 990.031 L28.3562 990.031 L28.3562 985.734 L18.2347 985.734 L18.2347 979.846 Z\" fill=\"#000000\" fill-rule=\"evenodd\" fill-opacity=\"1\" /><path clip-path=\"url(#clip880)\" d=\"M28.3562 960.081 L28.3562 954.224 L64.0042 954.224 L64.0042 960.081 L28.3562 960.081 M14.479 960.081 L14.479 954.224 L21.895 954.224 L21.895 960.081 L14.479 960.081 Z\" fill=\"#000000\" fill-rule=\"evenodd\" fill-opacity=\"1\" /><path clip-path=\"url(#clip880)\" d=\"M35.1993 914.216 Q31.2526 912.019 29.3747 908.964 Q27.4968 905.908 27.4968 901.771 Q27.4968 896.201 31.4117 893.177 Q35.2948 890.153 42.4881 890.153 L64.0042 890.153 L64.0042 896.042 L42.679 896.042 Q37.5546 896.042 35.072 897.856 Q32.5894 899.67 32.5894 903.394 Q32.5894 907.945 35.6131 910.587 Q38.6368 913.229 43.8567 913.229 L64.0042 913.229 L64.0042 919.117 L42.679 919.117 Q37.5228 919.117 35.072 920.931 Q32.5894 922.746 32.5894 926.533 Q32.5894 931.021 35.6449 933.663 Q38.6686 936.305 43.8567 936.305 L64.0042 936.305 L64.0042 942.193 L28.3562 942.193 L28.3562 936.305 L33.8944 936.305 Q30.616 934.299 29.0564 931.499 Q27.4968 928.698 27.4968 924.846 Q27.4968 920.963 29.4702 918.258 Q31.4436 915.521 35.1993 914.216 Z\" fill=\"#000000\" fill-rule=\"evenodd\" fill-opacity=\"1\" /><path clip-path=\"url(#clip880)\" d=\"M44.7161 847.98 L47.5806 847.98 L47.5806 874.907 Q53.6281 874.525 56.8109 871.279 Q59.9619 868.001 59.9619 862.176 Q59.9619 858.802 59.1344 855.651 Q58.3069 852.468 56.6518 849.349 L62.1899 849.349 Q63.5267 852.5 64.227 855.81 Q64.9272 859.12 64.9272 862.526 Q64.9272 871.056 59.9619 876.053 Q54.9967 881.018 46.5303 881.018 Q37.7774 881.018 32.6531 876.308 Q27.4968 871.565 27.4968 863.545 Q27.4968 856.351 32.1438 852.182 Q36.7589 847.98 44.7161 847.98 M42.9973 853.837 Q38.1912 853.901 35.3266 856.542 Q32.4621 859.152 32.4621 863.481 Q32.4621 868.383 35.2312 871.343 Q38.0002 874.271 43.0292 874.716 L42.9973 853.837 Z\" fill=\"#000000\" fill-rule=\"evenodd\" fill-opacity=\"1\" /><path clip-path=\"url(#clip880)\" d=\"M28.3562 817.648 L28.3562 811.791 L64.0042 811.791 L64.0042 817.648 L28.3562 817.648 M14.479 817.648 L14.479 811.791 L21.895 811.791 L21.895 817.648 L14.479 817.648 Z\" fill=\"#000000\" fill-rule=\"evenodd\" fill-opacity=\"1\" /><path clip-path=\"url(#clip880)\" d=\"M42.4881 769.905 L64.0042 769.905 L64.0042 775.762 L42.679 775.762 Q37.6183 775.762 35.1038 777.735 Q32.5894 779.708 32.5894 783.655 Q32.5894 788.397 35.6131 791.135 Q38.6368 793.872 43.8567 793.872 L64.0042 793.872 L64.0042 799.76 L28.3562 799.76 L28.3562 793.872 L33.8944 793.872 Q30.6797 791.771 29.0883 788.939 Q27.4968 786.074 27.4968 782.35 Q27.4968 776.207 31.3163 773.056 Q35.1038 769.905 42.4881 769.905 Z\" fill=\"#000000\" fill-rule=\"evenodd\" fill-opacity=\"1\" /><path clip-path=\"url(#clip880)\" d=\"M29.4065 714.778 L34.9447 714.778 Q33.6716 717.261 33.035 719.934 Q32.3984 722.608 32.3984 725.472 Q32.3984 729.833 33.7352 732.029 Q35.072 734.193 37.7456 734.193 Q39.7826 734.193 40.9603 732.634 Q42.1061 731.074 43.1565 726.364 L43.6021 724.358 Q44.9389 718.12 47.3897 715.51 Q49.8086 712.868 54.1691 712.868 Q59.1344 712.868 62.0308 716.815 Q64.9272 720.73 64.9272 727.605 Q64.9272 730.47 64.3543 733.589 Q63.8132 736.676 62.6992 740.114 L56.6518 740.114 Q58.3387 736.867 59.198 733.716 Q60.0256 730.565 60.0256 727.478 Q60.0256 723.34 58.6251 721.112 Q57.1929 718.884 54.6147 718.884 Q52.2276 718.884 50.9545 720.507 Q49.6813 722.099 48.5037 727.541 L48.0262 729.578 Q46.8804 735.021 44.5251 737.44 Q42.138 739.859 38.0002 739.859 Q32.9713 739.859 30.2341 736.294 Q27.4968 732.729 27.4968 726.173 Q27.4968 722.926 27.9743 720.062 Q28.4517 717.197 29.4065 714.778 Z\" fill=\"#000000\" fill-rule=\"evenodd\" fill-opacity=\"1\" /><path clip-path=\"url(#clip880)\" d=\"M44.7161 673.051 L47.5806 673.051 L47.5806 699.978 Q53.6281 699.596 56.8109 696.349 Q59.9619 693.071 59.9619 687.246 Q59.9619 683.873 59.1344 680.722 Q58.3069 677.539 56.6518 674.419 L62.1899 674.419 Q63.5267 677.57 64.227 680.881 Q64.9272 684.191 64.9272 687.596 Q64.9272 696.127 59.9619 701.124 Q54.9967 706.089 46.5303 706.089 Q37.7774 706.089 32.6531 701.378 Q27.4968 696.636 27.4968 688.615 Q27.4968 681.422 32.1438 677.252 Q36.7589 673.051 44.7161 673.051 M42.9973 678.907 Q38.1912 678.971 35.3266 681.613 Q32.4621 684.223 32.4621 688.551 Q32.4621 693.453 35.2312 696.413 Q38.0002 699.341 43.0292 699.787 L42.9973 678.907 Z\" fill=\"#000000\" fill-rule=\"evenodd\" fill-opacity=\"1\" /><path clip-path=\"url(#clip880)\" d=\"M29.7248 637.785 L35.1993 637.785 Q33.8307 640.267 33.1623 642.782 Q32.4621 645.265 32.4621 647.811 Q32.4621 653.508 36.0905 656.659 Q39.6872 659.81 46.212 659.81 Q52.7369 659.81 56.3653 656.659 Q59.9619 653.508 59.9619 647.811 Q59.9619 645.265 59.2935 642.782 Q58.5933 640.267 57.2247 637.785 L62.6355 637.785 Q63.7814 640.236 64.3543 642.877 Q64.9272 645.487 64.9272 648.447 Q64.9272 656.5 59.8664 661.242 Q54.8057 665.985 46.212 665.985 Q37.491 665.985 32.4939 661.211 Q27.4968 656.405 27.4968 648.065 Q27.4968 645.36 28.0697 642.782 Q28.6108 640.204 29.7248 637.785 Z\" fill=\"#000000\" fill-rule=\"evenodd\" fill-opacity=\"1\" /><path clip-path=\"url(#clip880)\" d=\"M32.4621 613.786 Q32.4621 618.497 36.1542 621.234 Q39.8145 623.971 46.212 623.971 Q52.6095 623.971 56.3017 621.266 Q59.9619 618.529 59.9619 613.786 Q59.9619 609.107 56.2698 606.37 Q52.5777 603.633 46.212 603.633 Q39.8781 603.633 36.186 606.37 Q32.4621 609.107 32.4621 613.786 M27.4968 613.786 Q27.4968 606.147 32.4621 601.787 Q37.4273 597.426 46.212 597.426 Q54.9649 597.426 59.9619 601.787 Q64.9272 606.147 64.9272 613.786 Q64.9272 621.457 59.9619 625.817 Q54.9649 630.146 46.212 630.146 Q37.4273 630.146 32.4621 625.817 Q27.4968 621.457 27.4968 613.786 Z\" fill=\"#000000\" fill-rule=\"evenodd\" fill-opacity=\"1\" /><path clip-path=\"url(#clip880)\" d=\"M42.4881 558.086 L64.0042 558.086 L64.0042 563.943 L42.679 563.943 Q37.6183 563.943 35.1038 565.916 Q32.5894 567.889 32.5894 571.836 Q32.5894 576.579 35.6131 579.316 Q38.6368 582.053 43.8567 582.053 L64.0042 582.053 L64.0042 587.941 L28.3562 587.941 L28.3562 582.053 L33.8944 582.053 Q30.6797 579.952 29.0883 577.12 Q27.4968 574.255 27.4968 570.531 Q27.4968 564.388 31.3163 561.237 Q35.1038 558.086 42.4881 558.086 Z\" fill=\"#000000\" fill-rule=\"evenodd\" fill-opacity=\"1\" /><path clip-path=\"url(#clip880)\" d=\"M33.7671 522.947 L14.479 522.947 L14.479 517.091 L64.0042 517.091 L64.0042 522.947 L58.657 522.947 Q61.8398 524.794 63.3994 527.626 Q64.9272 530.427 64.9272 534.374 Q64.9272 540.835 59.771 544.909 Q54.6147 548.951 46.212 548.951 Q37.8093 548.951 32.6531 544.909 Q27.4968 540.835 27.4968 534.374 Q27.4968 530.427 29.0564 527.626 Q30.5842 524.794 33.7671 522.947 M46.212 542.904 Q52.6732 542.904 56.3653 540.262 Q60.0256 537.589 60.0256 532.942 Q60.0256 528.295 56.3653 525.621 Q52.6732 522.947 46.212 522.947 Q39.7508 522.947 36.0905 525.621 Q32.3984 528.295 32.3984 532.942 Q32.3984 537.589 36.0905 540.262 Q39.7508 542.904 46.212 542.904 Z\" fill=\"#000000\" fill-rule=\"evenodd\" fill-opacity=\"1\" /><path clip-path=\"url(#clip880)\" d=\"M29.4065 482.302 L34.9447 482.302 Q33.6716 484.785 33.035 487.459 Q32.3984 490.132 32.3984 492.997 Q32.3984 497.357 33.7352 499.554 Q35.072 501.718 37.7456 501.718 Q39.7826 501.718 40.9603 500.158 Q42.1061 498.599 43.1565 493.888 L43.6021 491.883 Q44.9389 485.644 47.3897 483.035 Q49.8086 480.393 54.1691 480.393 Q59.1344 480.393 62.0308 484.339 Q64.9272 488.254 64.9272 495.129 Q64.9272 497.994 64.3543 501.113 Q63.8132 504.2 62.6992 507.638 L56.6518 507.638 Q58.3387 504.391 59.198 501.24 Q60.0256 498.089 60.0256 495.002 Q60.0256 490.864 58.6251 488.636 Q57.1929 486.408 54.6147 486.408 Q52.2276 486.408 50.9545 488.032 Q49.6813 489.623 48.5037 495.066 L48.0262 497.103 Q46.8804 502.545 44.5251 504.964 Q42.138 507.383 38.0002 507.383 Q32.9713 507.383 30.2341 503.819 Q27.4968 500.254 27.4968 493.697 Q27.4968 490.451 27.9743 487.586 Q28.4517 484.721 29.4065 482.302 Z\" fill=\"#000000\" fill-rule=\"evenodd\" fill-opacity=\"1\" /><circle clip-path=\"url(#clip882)\" cx=\"309.067\" cy=\"1332.18\" r=\"14.4\" fill=\"#009af9\" fill-rule=\"evenodd\" fill-opacity=\"1\" stroke=\"#000000\" stroke-opacity=\"1\" stroke-width=\"3.2\"/>\n",
       "<circle clip-path=\"url(#clip882)\" cx=\"805.108\" cy=\"1315.57\" r=\"14.4\" fill=\"#009af9\" fill-rule=\"evenodd\" fill-opacity=\"1\" stroke=\"#000000\" stroke-opacity=\"1\" stroke-width=\"3.2\"/>\n",
       "<circle clip-path=\"url(#clip882)\" cx=\"1301.15\" cy=\"1176.02\" r=\"14.4\" fill=\"#009af9\" fill-rule=\"evenodd\" fill-opacity=\"1\" stroke=\"#000000\" stroke-opacity=\"1\" stroke-width=\"3.2\"/>\n",
       "<circle clip-path=\"url(#clip882)\" cx=\"1797.19\" cy=\"605.628\" r=\"14.4\" fill=\"#009af9\" fill-rule=\"evenodd\" fill-opacity=\"1\" stroke=\"#000000\" stroke-opacity=\"1\" stroke-width=\"3.2\"/>\n",
       "<circle clip-path=\"url(#clip882)\" cx=\"2293.23\" cy=\"86.1857\" r=\"14.4\" fill=\"#009af9\" fill-rule=\"evenodd\" fill-opacity=\"1\" stroke=\"#000000\" stroke-opacity=\"1\" stroke-width=\"3.2\"/>\n",
       "<path clip-path=\"url(#clip882)\" d=\"M309.067 1350.52 L293.067 1366.52 L309.067 1382.52 L325.067 1366.52 L309.067 1350.52 Z\" fill=\"#e26f46\" fill-rule=\"evenodd\" fill-opacity=\"1\" stroke=\"#000000\" stroke-opacity=\"1\" stroke-width=\"3.2\"/>\n",
       "<path clip-path=\"url(#clip882)\" d=\"M805.108 1368.24 L789.108 1384.24 L805.108 1400.24 L821.108 1384.24 L805.108 1368.24 Z\" fill=\"#e26f46\" fill-rule=\"evenodd\" fill-opacity=\"1\" stroke=\"#000000\" stroke-opacity=\"1\" stroke-width=\"3.2\"/>\n",
       "<path clip-path=\"url(#clip882)\" d=\"M1301.15 1368.24 L1285.15 1384.24 L1301.15 1400.24 L1317.15 1384.24 L1301.15 1368.24 Z\" fill=\"#e26f46\" fill-rule=\"evenodd\" fill-opacity=\"1\" stroke=\"#000000\" stroke-opacity=\"1\" stroke-width=\"3.2\"/>\n",
       "<path clip-path=\"url(#clip882)\" d=\"M1797.19 1350.52 L1781.19 1366.52 L1797.19 1382.52 L1813.19 1366.52 L1797.19 1350.52 Z\" fill=\"#e26f46\" fill-rule=\"evenodd\" fill-opacity=\"1\" stroke=\"#000000\" stroke-opacity=\"1\" stroke-width=\"3.2\"/>\n",
       "<path clip-path=\"url(#clip882)\" d=\"M2293.23 1350.52 L2277.23 1366.52 L2293.23 1382.52 L2309.23 1366.52 L2293.23 1350.52 Z\" fill=\"#e26f46\" fill-rule=\"evenodd\" fill-opacity=\"1\" stroke=\"#000000\" stroke-opacity=\"1\" stroke-width=\"3.2\"/>\n",
       "<path clip-path=\"url(#clip880)\" d=\"\n",
       "M319.649 248.629 L773.686 248.629 L773.686 93.1086 L319.649 93.1086  Z\n",
       "  \" fill=\"#ffffff\" fill-rule=\"evenodd\" fill-opacity=\"1\"/>\n",
       "<polyline clip-path=\"url(#clip880)\" style=\"stroke:#000000; stroke-linecap:butt; stroke-linejoin:round; stroke-width:4; stroke-opacity:1; fill:none\" points=\"\n",
       "  319.649,248.629 773.686,248.629 773.686,93.1086 319.649,93.1086 319.649,248.629 \n",
       "  \"/>\n",
       "<circle clip-path=\"url(#clip880)\" cx=\"413.125\" cy=\"144.949\" r=\"23.04\" fill=\"#009af9\" fill-rule=\"evenodd\" fill-opacity=\"1\" stroke=\"#000000\" stroke-opacity=\"1\" stroke-width=\"5.12\"/>\n",
       "<path clip-path=\"url(#clip880)\" d=\"M528.847 128.803 L528.847 133.363 Q526.185 132.09 523.824 131.465 Q521.463 130.84 519.263 130.84 Q515.444 130.84 513.361 132.321 Q511.301 133.803 511.301 136.534 Q511.301 138.826 512.666 140.007 Q514.055 141.164 517.898 141.882 L520.722 142.46 Q525.953 143.456 528.43 145.979 Q530.93 148.479 530.93 152.692 Q530.93 157.715 527.55 160.307 Q524.194 162.9 517.689 162.9 Q515.236 162.9 512.458 162.344 Q509.703 161.789 506.74 160.701 L506.74 155.886 Q509.588 157.483 512.319 158.293 Q515.051 159.104 517.689 159.104 Q521.694 159.104 523.87 157.53 Q526.046 155.956 526.046 153.039 Q526.046 150.493 524.472 149.057 Q522.921 147.622 519.356 146.905 L516.509 146.349 Q511.277 145.307 508.939 143.085 Q506.602 140.863 506.602 136.905 Q506.602 132.321 509.819 129.682 Q513.06 127.044 518.731 127.044 Q521.162 127.044 523.685 127.483 Q526.208 127.923 528.847 128.803 Z\" fill=\"#000000\" fill-rule=\"evenodd\" fill-opacity=\"1\" /><path clip-path=\"url(#clip880)\" d=\"M542.898 131.511 L542.898 158.386 L548.546 158.386 Q555.698 158.386 559.009 155.145 Q562.342 151.905 562.342 144.914 Q562.342 137.969 559.009 134.752 Q555.698 131.511 548.546 131.511 L542.898 131.511 M538.222 127.669 L547.828 127.669 Q557.874 127.669 562.573 131.858 Q567.272 136.025 567.272 144.914 Q567.272 153.849 562.55 158.039 Q557.828 162.229 547.828 162.229 L538.222 162.229 L538.222 127.669 Z\" fill=\"#000000\" fill-rule=\"evenodd\" fill-opacity=\"1\" /><path clip-path=\"url(#clip880)\" d=\"M579.402 131.511 L579.402 144.497 L585.282 144.497 Q588.546 144.497 590.328 142.807 Q592.11 141.118 592.11 137.993 Q592.11 134.891 590.328 133.201 Q588.546 131.511 585.282 131.511 L579.402 131.511 M574.726 127.669 L585.282 127.669 Q591.092 127.669 594.055 130.307 Q597.041 132.923 597.041 137.993 Q597.041 143.108 594.055 145.724 Q591.092 148.34 585.282 148.34 L579.402 148.34 L579.402 162.229 L574.726 162.229 L574.726 127.669 Z\" fill=\"#000000\" fill-rule=\"evenodd\" fill-opacity=\"1\" /><path clip-path=\"url(#clip880)\" d=\"M622.828 170.099 L622.828 173.409 L598.198 173.409 L598.198 170.099 L622.828 170.099 Z\" fill=\"#000000\" fill-rule=\"evenodd\" fill-opacity=\"1\" /><path clip-path=\"url(#clip880)\" d=\"M631.045 128.942 L631.045 136.303 L639.818 136.303 L639.818 139.613 L631.045 139.613 L631.045 153.687 Q631.045 156.858 631.902 157.761 Q632.781 158.664 635.443 158.664 L639.818 158.664 L639.818 162.229 L635.443 162.229 Q630.513 162.229 628.638 160.4 Q626.763 158.548 626.763 153.687 L626.763 139.613 L623.638 139.613 L623.638 136.303 L626.763 136.303 L626.763 128.942 L631.045 128.942 Z\" fill=\"#000000\" fill-rule=\"evenodd\" fill-opacity=\"1\" /><path clip-path=\"url(#clip880)\" d=\"M645.42 136.303 L649.679 136.303 L649.679 162.229 L645.42 162.229 L645.42 136.303 M645.42 126.21 L649.679 126.21 L649.679 131.604 L645.42 131.604 L645.42 126.21 Z\" fill=\"#000000\" fill-rule=\"evenodd\" fill-opacity=\"1\" /><path clip-path=\"url(#clip880)\" d=\"M678.777 141.28 Q680.374 138.409 682.596 137.044 Q684.818 135.678 687.827 135.678 Q691.878 135.678 694.077 138.525 Q696.276 141.349 696.276 146.581 L696.276 162.229 L691.994 162.229 L691.994 146.719 Q691.994 142.993 690.675 141.187 Q689.355 139.382 686.647 139.382 Q683.337 139.382 681.415 141.581 Q679.494 143.78 679.494 147.576 L679.494 162.229 L675.212 162.229 L675.212 146.719 Q675.212 142.969 673.892 141.187 Q672.573 139.382 669.818 139.382 Q666.554 139.382 664.633 141.604 Q662.712 143.803 662.712 147.576 L662.712 162.229 L658.429 162.229 L658.429 136.303 L662.712 136.303 L662.712 140.331 Q664.17 137.946 666.207 136.812 Q668.244 135.678 671.045 135.678 Q673.869 135.678 675.837 137.113 Q677.827 138.548 678.777 141.28 Z\" fill=\"#000000\" fill-rule=\"evenodd\" fill-opacity=\"1\" /><path clip-path=\"url(#clip880)\" d=\"M726.948 148.201 L726.948 150.284 L707.364 150.284 Q707.642 154.682 710.003 156.997 Q712.387 159.289 716.624 159.289 Q719.077 159.289 721.369 158.687 Q723.684 158.085 725.952 156.881 L725.952 160.909 Q723.661 161.881 721.253 162.391 Q718.846 162.9 716.369 162.9 Q710.165 162.9 706.531 159.289 Q702.92 155.678 702.92 149.52 Q702.92 143.155 706.346 139.428 Q709.795 135.678 715.628 135.678 Q720.86 135.678 723.892 139.057 Q726.948 142.414 726.948 148.201 M722.688 146.951 Q722.642 143.456 720.721 141.372 Q718.823 139.289 715.674 139.289 Q712.11 139.289 709.957 141.303 Q707.827 143.317 707.503 146.974 L722.688 146.951 Z\" fill=\"#000000\" fill-rule=\"evenodd\" fill-opacity=\"1\" /><path clip-path=\"url(#clip880)\" d=\"M413.125 171.189 L387.525 196.789 L413.125 222.389 L438.725 196.789 L413.125 171.189 Z\" fill=\"#e26f46\" fill-rule=\"evenodd\" fill-opacity=\"1\" stroke=\"#000000\" stroke-opacity=\"1\" stroke-width=\"5.12\"/>\n",
       "<path clip-path=\"url(#clip880)\" d=\"M506.602 179.509 L511.277 179.509 L511.277 210.133 L528.106 210.133 L528.106 214.069 L506.602 214.069 L506.602 179.509 Z\" fill=\"#000000\" fill-rule=\"evenodd\" fill-opacity=\"1\" /><path clip-path=\"url(#clip880)\" d=\"M537.689 183.351 L537.689 196.337 L543.569 196.337 Q546.833 196.337 548.615 194.647 Q550.398 192.958 550.398 189.833 Q550.398 186.731 548.615 185.041 Q546.833 183.351 543.569 183.351 L537.689 183.351 M533.013 179.509 L543.569 179.509 Q549.379 179.509 552.342 182.147 Q555.328 184.763 555.328 189.833 Q555.328 194.948 552.342 197.564 Q549.379 200.18 543.569 200.18 L537.689 200.18 L537.689 214.069 L533.013 214.069 L533.013 179.509 Z\" fill=\"#000000\" fill-rule=\"evenodd\" fill-opacity=\"1\" /><path clip-path=\"url(#clip880)\" d=\"M581.115 221.939 L581.115 225.249 L556.485 225.249 L556.485 221.939 L581.115 221.939 Z\" fill=\"#000000\" fill-rule=\"evenodd\" fill-opacity=\"1\" /><path clip-path=\"url(#clip880)\" d=\"M589.333 180.782 L589.333 188.143 L598.106 188.143 L598.106 191.453 L589.333 191.453 L589.333 205.527 Q589.333 208.698 590.189 209.601 Q591.069 210.504 593.731 210.504 L598.106 210.504 L598.106 214.069 L593.731 214.069 Q588.8 214.069 586.925 212.24 Q585.05 210.388 585.05 205.527 L585.05 191.453 L581.925 191.453 L581.925 188.143 L585.05 188.143 L585.05 180.782 L589.333 180.782 Z\" fill=\"#000000\" fill-rule=\"evenodd\" fill-opacity=\"1\" /><path clip-path=\"url(#clip880)\" d=\"M603.707 188.143 L607.967 188.143 L607.967 214.069 L603.707 214.069 L603.707 188.143 M603.707 178.05 L607.967 178.05 L607.967 183.444 L603.707 183.444 L603.707 178.05 Z\" fill=\"#000000\" fill-rule=\"evenodd\" fill-opacity=\"1\" /><path clip-path=\"url(#clip880)\" d=\"M637.064 193.12 Q638.661 190.249 640.883 188.884 Q643.105 187.518 646.115 187.518 Q650.166 187.518 652.365 190.365 Q654.564 193.189 654.564 198.421 L654.564 214.069 L650.281 214.069 L650.281 198.559 Q650.281 194.833 648.962 193.027 Q647.642 191.222 644.934 191.222 Q641.624 191.222 639.703 193.421 Q637.781 195.62 637.781 199.416 L637.781 214.069 L633.499 214.069 L633.499 198.559 Q633.499 194.809 632.18 193.027 Q630.86 191.222 628.105 191.222 Q624.842 191.222 622.92 193.444 Q620.999 195.643 620.999 199.416 L620.999 214.069 L616.717 214.069 L616.717 188.143 L620.999 188.143 L620.999 192.171 Q622.457 189.786 624.494 188.652 Q626.531 187.518 629.332 187.518 Q632.156 187.518 634.124 188.953 Q636.115 190.388 637.064 193.12 Z\" fill=\"#000000\" fill-rule=\"evenodd\" fill-opacity=\"1\" /><path clip-path=\"url(#clip880)\" d=\"M685.235 200.041 L685.235 202.124 L665.652 202.124 Q665.929 206.522 668.29 208.837 Q670.675 211.129 674.911 211.129 Q677.364 211.129 679.656 210.527 Q681.971 209.925 684.239 208.721 L684.239 212.749 Q681.948 213.721 679.54 214.231 Q677.133 214.74 674.656 214.74 Q668.452 214.74 664.818 211.129 Q661.207 207.518 661.207 201.36 Q661.207 194.995 664.633 191.268 Q668.082 187.518 673.915 187.518 Q679.147 187.518 682.179 190.897 Q685.235 194.254 685.235 200.041 M680.976 198.791 Q680.929 195.296 679.008 193.212 Q677.11 191.129 673.962 191.129 Q670.397 191.129 668.244 193.143 Q666.115 195.157 665.79 198.814 L680.976 198.791 Z\" fill=\"#000000\" fill-rule=\"evenodd\" fill-opacity=\"1\" /></svg>\n"
      ]
     },
     "execution_count": 9,
     "metadata": {},
     "output_type": "execute_result"
    }
   ],
   "source": [
    "p = plot(timeExperimentsSDP[1,:],timeExperimentsSDP[2,:],grid=true,legend=:topleft,labels=\"SDP_time\",seriestype = :scatter,xlabel= \"size of matrix\",ylabel=\"time in seconds\")\n",
    "plot!(timeExperimentsLP[1,:],timeExperimentsLP[2,:],grid=true,labels=\"LP_time\",seriestype = :scatter,markershape= :diamond)"
   ]
  },
  {
   "cell_type": "code",
   "execution_count": null,
   "id": "bcf5b55e",
   "metadata": {},
   "outputs": [],
   "source": [
    "# We now plot the time taken to produce cuts and add them iteratively versus \n",
    "#finding the eigenvectors of the matrix."
   ]
  },
  {
   "cell_type": "code",
   "execution_count": 56,
   "id": "3d9fd3d5",
   "metadata": {},
   "outputs": [
    {
     "data": {
      "image/svg+xml": [
       "<?xml version=\"1.0\" encoding=\"utf-8\"?>\n",
       "<svg xmlns=\"http://www.w3.org/2000/svg\" xmlns:xlink=\"http://www.w3.org/1999/xlink\" width=\"700\" height=\"500\" viewBox=\"0 0 2800 2000\">\n",
       "<defs>\n",
       "  <clipPath id=\"clip200\">\n",
       "    <rect x=\"0\" y=\"0\" width=\"2800\" height=\"2000\"/>\n",
       "  </clipPath>\n",
       "</defs>\n",
       "<path clip-path=\"url(#clip200)\" d=\"\n",
       "M0 2000 L2800 2000 L2800 0 L0 0  Z\n",
       "  \" fill=\"#ffffff\" fill-rule=\"evenodd\" fill-opacity=\"1\"/>\n",
       "<defs>\n",
       "  <clipPath id=\"clip201\">\n",
       "    <rect x=\"560\" y=\"0\" width=\"1961\" height=\"1961\"/>\n",
       "  </clipPath>\n",
       "</defs>\n",
       "<path clip-path=\"url(#clip200)\" d=\"\n",
       "M239.784 1813.32 L2752.76 1813.32 L2752.76 47.2441 L239.784 47.2441  Z\n",
       "  \" fill=\"#ffffff\" fill-rule=\"evenodd\" fill-opacity=\"1\"/>\n",
       "<defs>\n",
       "  <clipPath id=\"clip202\">\n",
       "    <rect x=\"239\" y=\"47\" width=\"2514\" height=\"1767\"/>\n",
       "  </clipPath>\n",
       "</defs>\n",
       "<polyline clip-path=\"url(#clip202)\" style=\"stroke:#000000; stroke-linecap:butt; stroke-linejoin:round; stroke-width:2; stroke-opacity:0.1; fill:none\" points=\"\n",
       "  310.905,1813.32 310.905,47.2441 \n",
       "  \"/>\n",
       "<polyline clip-path=\"url(#clip202)\" style=\"stroke:#000000; stroke-linecap:butt; stroke-linejoin:round; stroke-width:2; stroke-opacity:0.1; fill:none\" points=\"\n",
       "  706.027,1813.32 706.027,47.2441 \n",
       "  \"/>\n",
       "<polyline clip-path=\"url(#clip202)\" style=\"stroke:#000000; stroke-linecap:butt; stroke-linejoin:round; stroke-width:2; stroke-opacity:0.1; fill:none\" points=\"\n",
       "  1101.15,1813.32 1101.15,47.2441 \n",
       "  \"/>\n",
       "<polyline clip-path=\"url(#clip202)\" style=\"stroke:#000000; stroke-linecap:butt; stroke-linejoin:round; stroke-width:2; stroke-opacity:0.1; fill:none\" points=\"\n",
       "  1496.27,1813.32 1496.27,47.2441 \n",
       "  \"/>\n",
       "<polyline clip-path=\"url(#clip202)\" style=\"stroke:#000000; stroke-linecap:butt; stroke-linejoin:round; stroke-width:2; stroke-opacity:0.1; fill:none\" points=\"\n",
       "  1891.39,1813.32 1891.39,47.2441 \n",
       "  \"/>\n",
       "<polyline clip-path=\"url(#clip202)\" style=\"stroke:#000000; stroke-linecap:butt; stroke-linejoin:round; stroke-width:2; stroke-opacity:0.1; fill:none\" points=\"\n",
       "  2286.51,1813.32 2286.51,47.2441 \n",
       "  \"/>\n",
       "<polyline clip-path=\"url(#clip202)\" style=\"stroke:#000000; stroke-linecap:butt; stroke-linejoin:round; stroke-width:2; stroke-opacity:0.1; fill:none\" points=\"\n",
       "  2681.63,1813.32 2681.63,47.2441 \n",
       "  \"/>\n",
       "<polyline clip-path=\"url(#clip200)\" style=\"stroke:#000000; stroke-linecap:butt; stroke-linejoin:round; stroke-width:4; stroke-opacity:1; fill:none\" points=\"\n",
       "  239.784,1813.32 2752.76,1813.32 \n",
       "  \"/>\n",
       "<polyline clip-path=\"url(#clip200)\" style=\"stroke:#000000; stroke-linecap:butt; stroke-linejoin:round; stroke-width:4; stroke-opacity:1; fill:none\" points=\"\n",
       "  310.905,1813.32 310.905,1794.42 \n",
       "  \"/>\n",
       "<polyline clip-path=\"url(#clip200)\" style=\"stroke:#000000; stroke-linecap:butt; stroke-linejoin:round; stroke-width:4; stroke-opacity:1; fill:none\" points=\"\n",
       "  706.027,1813.32 706.027,1794.42 \n",
       "  \"/>\n",
       "<polyline clip-path=\"url(#clip200)\" style=\"stroke:#000000; stroke-linecap:butt; stroke-linejoin:round; stroke-width:4; stroke-opacity:1; fill:none\" points=\"\n",
       "  1101.15,1813.32 1101.15,1794.42 \n",
       "  \"/>\n",
       "<polyline clip-path=\"url(#clip200)\" style=\"stroke:#000000; stroke-linecap:butt; stroke-linejoin:round; stroke-width:4; stroke-opacity:1; fill:none\" points=\"\n",
       "  1496.27,1813.32 1496.27,1794.42 \n",
       "  \"/>\n",
       "<polyline clip-path=\"url(#clip200)\" style=\"stroke:#000000; stroke-linecap:butt; stroke-linejoin:round; stroke-width:4; stroke-opacity:1; fill:none\" points=\"\n",
       "  1891.39,1813.32 1891.39,1794.42 \n",
       "  \"/>\n",
       "<polyline clip-path=\"url(#clip200)\" style=\"stroke:#000000; stroke-linecap:butt; stroke-linejoin:round; stroke-width:4; stroke-opacity:1; fill:none\" points=\"\n",
       "  2286.51,1813.32 2286.51,1794.42 \n",
       "  \"/>\n",
       "<polyline clip-path=\"url(#clip200)\" style=\"stroke:#000000; stroke-linecap:butt; stroke-linejoin:round; stroke-width:4; stroke-opacity:1; fill:none\" points=\"\n",
       "  2681.63,1813.32 2681.63,1794.42 \n",
       "  \"/>\n",
       "<path clip-path=\"url(#clip200)\" d=\"M285.593 1874.98 L293.232 1874.98 L293.232 1848.62 L284.922 1850.28 L284.922 1846.02 L293.186 1844.36 L297.862 1844.36 L297.862 1874.98 L305.5 1874.98 L305.5 1878.92 L285.593 1878.92 L285.593 1874.98 Z\" fill=\"#000000\" fill-rule=\"evenodd\" fill-opacity=\"1\" /><path clip-path=\"url(#clip200)\" d=\"M324.945 1847.44 Q321.334 1847.44 319.505 1851 Q317.699 1854.54 317.699 1861.67 Q317.699 1868.78 319.505 1872.34 Q321.334 1875.88 324.945 1875.88 Q328.579 1875.88 330.385 1872.34 Q332.213 1868.78 332.213 1861.67 Q332.213 1854.54 330.385 1851 Q328.579 1847.44 324.945 1847.44 M324.945 1843.73 Q330.755 1843.73 333.81 1848.34 Q336.889 1852.92 336.889 1861.67 Q336.889 1870.4 333.81 1875 Q330.755 1879.59 324.945 1879.59 Q319.135 1879.59 316.056 1875 Q313 1870.4 313 1861.67 Q313 1852.92 316.056 1848.34 Q319.135 1843.73 324.945 1843.73 Z\" fill=\"#000000\" fill-rule=\"evenodd\" fill-opacity=\"1\" /><path clip-path=\"url(#clip200)\" d=\"M684.8 1874.98 L701.12 1874.98 L701.12 1878.92 L679.175 1878.92 L679.175 1874.98 Q681.837 1872.23 686.421 1867.6 Q691.027 1862.94 692.208 1861.6 Q694.453 1859.08 695.333 1857.34 Q696.235 1855.58 696.235 1853.89 Q696.235 1851.14 694.291 1849.4 Q692.37 1847.67 689.268 1847.67 Q687.069 1847.67 684.615 1848.43 Q682.184 1849.19 679.407 1850.75 L679.407 1846.02 Q682.231 1844.89 684.684 1844.31 Q687.138 1843.73 689.175 1843.73 Q694.545 1843.73 697.74 1846.42 Q700.934 1849.1 700.934 1853.59 Q700.934 1855.72 700.124 1857.64 Q699.337 1859.54 697.231 1862.13 Q696.652 1862.81 693.55 1866.02 Q690.448 1869.22 684.8 1874.98 Z\" fill=\"#000000\" fill-rule=\"evenodd\" fill-opacity=\"1\" /><path clip-path=\"url(#clip200)\" d=\"M720.934 1847.44 Q717.323 1847.44 715.494 1851 Q713.689 1854.54 713.689 1861.67 Q713.689 1868.78 715.494 1872.34 Q717.323 1875.88 720.934 1875.88 Q724.568 1875.88 726.374 1872.34 Q728.203 1868.78 728.203 1861.67 Q728.203 1854.54 726.374 1851 Q724.568 1847.44 720.934 1847.44 M720.934 1843.73 Q726.744 1843.73 729.8 1848.34 Q732.879 1852.92 732.879 1861.67 Q732.879 1870.4 729.8 1875 Q726.744 1879.59 720.934 1879.59 Q715.124 1879.59 712.045 1875 Q708.99 1870.4 708.99 1861.67 Q708.99 1852.92 712.045 1848.34 Q715.124 1843.73 720.934 1843.73 Z\" fill=\"#000000\" fill-rule=\"evenodd\" fill-opacity=\"1\" /><path clip-path=\"url(#clip200)\" d=\"M1089.99 1860.28 Q1093.35 1861 1095.22 1863.27 Q1097.12 1865.54 1097.12 1868.87 Q1097.12 1873.99 1093.6 1876.79 Q1090.08 1879.59 1083.6 1879.59 Q1081.43 1879.59 1079.11 1879.15 Q1076.82 1878.73 1074.37 1877.88 L1074.37 1873.36 Q1076.31 1874.5 1078.63 1875.07 Q1080.94 1875.65 1083.46 1875.65 Q1087.86 1875.65 1090.15 1873.92 Q1092.47 1872.18 1092.47 1868.87 Q1092.47 1865.82 1090.32 1864.1 Q1088.19 1862.37 1084.37 1862.37 L1080.34 1862.37 L1080.34 1858.52 L1084.55 1858.52 Q1088 1858.52 1089.83 1857.16 Q1091.66 1855.77 1091.66 1853.18 Q1091.66 1850.51 1089.76 1849.1 Q1087.88 1847.67 1084.37 1847.67 Q1082.44 1847.67 1080.25 1848.08 Q1078.05 1848.5 1075.41 1849.38 L1075.41 1845.21 Q1078.07 1844.47 1080.38 1844.1 Q1082.72 1843.73 1084.78 1843.73 Q1090.11 1843.73 1093.21 1846.16 Q1096.31 1848.57 1096.31 1852.69 Q1096.31 1855.56 1094.67 1857.55 Q1093.02 1859.52 1089.99 1860.28 Z\" fill=\"#000000\" fill-rule=\"evenodd\" fill-opacity=\"1\" /><path clip-path=\"url(#clip200)\" d=\"M1115.99 1847.44 Q1112.38 1847.44 1110.55 1851 Q1108.74 1854.54 1108.74 1861.67 Q1108.74 1868.78 1110.55 1872.34 Q1112.38 1875.88 1115.99 1875.88 Q1119.62 1875.88 1121.43 1872.34 Q1123.25 1868.78 1123.25 1861.67 Q1123.25 1854.54 1121.43 1851 Q1119.62 1847.44 1115.99 1847.44 M1115.99 1843.73 Q1121.8 1843.73 1124.85 1848.34 Q1127.93 1852.92 1127.93 1861.67 Q1127.93 1870.4 1124.85 1875 Q1121.8 1879.59 1115.99 1879.59 Q1110.18 1879.59 1107.1 1875 Q1104.04 1870.4 1104.04 1861.67 Q1104.04 1852.92 1107.1 1848.34 Q1110.18 1843.73 1115.99 1843.73 Z\" fill=\"#000000\" fill-rule=\"evenodd\" fill-opacity=\"1\" /><path clip-path=\"url(#clip200)\" d=\"M1484.44 1848.43 L1472.64 1866.88 L1484.44 1866.88 L1484.44 1848.43 M1483.21 1844.36 L1489.09 1844.36 L1489.09 1866.88 L1494.02 1866.88 L1494.02 1870.77 L1489.09 1870.77 L1489.09 1878.92 L1484.44 1878.92 L1484.44 1870.77 L1468.84 1870.77 L1468.84 1866.26 L1483.21 1844.36 Z\" fill=\"#000000\" fill-rule=\"evenodd\" fill-opacity=\"1\" /><path clip-path=\"url(#clip200)\" d=\"M1511.76 1847.44 Q1508.14 1847.44 1506.32 1851 Q1504.51 1854.54 1504.51 1861.67 Q1504.51 1868.78 1506.32 1872.34 Q1508.14 1875.88 1511.76 1875.88 Q1515.39 1875.88 1517.2 1872.34 Q1519.02 1868.78 1519.02 1861.67 Q1519.02 1854.54 1517.2 1851 Q1515.39 1847.44 1511.76 1847.44 M1511.76 1843.73 Q1517.57 1843.73 1520.62 1848.34 Q1523.7 1852.92 1523.7 1861.67 Q1523.7 1870.4 1520.62 1875 Q1517.57 1879.59 1511.76 1879.59 Q1505.95 1879.59 1502.87 1875 Q1499.81 1870.4 1499.81 1861.67 Q1499.81 1852.92 1502.87 1848.34 Q1505.95 1843.73 1511.76 1843.73 Z\" fill=\"#000000\" fill-rule=\"evenodd\" fill-opacity=\"1\" /><path clip-path=\"url(#clip200)\" d=\"M1866.09 1844.36 L1884.45 1844.36 L1884.45 1848.29 L1870.37 1848.29 L1870.37 1856.76 Q1871.39 1856.42 1872.41 1856.26 Q1873.43 1856.07 1874.45 1856.07 Q1880.23 1856.07 1883.61 1859.24 Q1886.99 1862.41 1886.99 1867.83 Q1886.99 1873.41 1883.52 1876.51 Q1880.05 1879.59 1873.73 1879.59 Q1871.55 1879.59 1869.28 1879.22 Q1867.04 1878.85 1864.63 1878.11 L1864.63 1873.41 Q1866.72 1874.54 1868.94 1875.1 Q1871.16 1875.65 1873.64 1875.65 Q1877.64 1875.65 1879.98 1873.55 Q1882.32 1871.44 1882.32 1867.83 Q1882.32 1864.22 1879.98 1862.11 Q1877.64 1860.01 1873.64 1860.01 Q1871.76 1860.01 1869.89 1860.42 Q1868.03 1860.84 1866.09 1861.72 L1866.09 1844.36 Z\" fill=\"#000000\" fill-rule=\"evenodd\" fill-opacity=\"1\" /><path clip-path=\"url(#clip200)\" d=\"M1906.21 1847.44 Q1902.59 1847.44 1900.77 1851 Q1898.96 1854.54 1898.96 1861.67 Q1898.96 1868.78 1900.77 1872.34 Q1902.59 1875.88 1906.21 1875.88 Q1909.84 1875.88 1911.65 1872.34 Q1913.47 1868.78 1913.47 1861.67 Q1913.47 1854.54 1911.65 1851 Q1909.84 1847.44 1906.21 1847.44 M1906.21 1843.73 Q1912.02 1843.73 1915.07 1848.34 Q1918.15 1852.92 1918.15 1861.67 Q1918.15 1870.4 1915.07 1875 Q1912.02 1879.59 1906.21 1879.59 Q1900.4 1879.59 1897.32 1875 Q1894.26 1870.4 1894.26 1861.67 Q1894.26 1852.92 1897.32 1848.34 Q1900.4 1843.73 1906.21 1843.73 Z\" fill=\"#000000\" fill-rule=\"evenodd\" fill-opacity=\"1\" /><path clip-path=\"url(#clip200)\" d=\"M2271.92 1859.77 Q2268.77 1859.77 2266.92 1861.93 Q2265.09 1864.08 2265.09 1867.83 Q2265.09 1871.56 2266.92 1873.73 Q2268.77 1875.88 2271.92 1875.88 Q2275.07 1875.88 2276.89 1873.73 Q2278.75 1871.56 2278.75 1867.83 Q2278.75 1864.08 2276.89 1861.93 Q2275.07 1859.77 2271.92 1859.77 M2281.2 1845.12 L2281.2 1849.38 Q2279.44 1848.55 2277.64 1848.11 Q2275.85 1847.67 2274.09 1847.67 Q2269.46 1847.67 2267.01 1850.79 Q2264.58 1853.92 2264.23 1860.24 Q2265.6 1858.22 2267.66 1857.16 Q2269.72 1856.07 2272.2 1856.07 Q2277.4 1856.07 2280.41 1859.24 Q2283.45 1862.39 2283.45 1867.83 Q2283.45 1873.15 2280.3 1876.37 Q2277.15 1879.59 2271.92 1879.59 Q2265.92 1879.59 2262.75 1875 Q2259.58 1870.4 2259.58 1861.67 Q2259.58 1853.48 2263.47 1848.62 Q2267.36 1843.73 2273.91 1843.73 Q2275.67 1843.73 2277.45 1844.08 Q2279.26 1844.43 2281.2 1845.12 Z\" fill=\"#000000\" fill-rule=\"evenodd\" fill-opacity=\"1\" /><path clip-path=\"url(#clip200)\" d=\"M2301.5 1847.44 Q2297.89 1847.44 2296.06 1851 Q2294.26 1854.54 2294.26 1861.67 Q2294.26 1868.78 2296.06 1872.34 Q2297.89 1875.88 2301.5 1875.88 Q2305.14 1875.88 2306.94 1872.34 Q2308.77 1868.78 2308.77 1861.67 Q2308.77 1854.54 2306.94 1851 Q2305.14 1847.44 2301.5 1847.44 M2301.5 1843.73 Q2307.31 1843.73 2310.37 1848.34 Q2313.45 1852.92 2313.45 1861.67 Q2313.45 1870.4 2310.37 1875 Q2307.31 1879.59 2301.5 1879.59 Q2295.69 1879.59 2292.61 1875 Q2289.56 1870.4 2289.56 1861.67 Q2289.56 1852.92 2292.61 1848.34 Q2295.69 1843.73 2301.5 1843.73 Z\" fill=\"#000000\" fill-rule=\"evenodd\" fill-opacity=\"1\" /><path clip-path=\"url(#clip200)\" d=\"M2654.99 1844.36 L2677.21 1844.36 L2677.21 1846.35 L2664.67 1878.92 L2659.78 1878.92 L2671.59 1848.29 L2654.99 1848.29 L2654.99 1844.36 Z\" fill=\"#000000\" fill-rule=\"evenodd\" fill-opacity=\"1\" /><path clip-path=\"url(#clip200)\" d=\"M2696.33 1847.44 Q2692.72 1847.44 2690.89 1851 Q2689.09 1854.54 2689.09 1861.67 Q2689.09 1868.78 2690.89 1872.34 Q2692.72 1875.88 2696.33 1875.88 Q2699.97 1875.88 2701.77 1872.34 Q2703.6 1868.78 2703.6 1861.67 Q2703.6 1854.54 2701.77 1851 Q2699.97 1847.44 2696.33 1847.44 M2696.33 1843.73 Q2702.14 1843.73 2705.2 1848.34 Q2708.28 1852.92 2708.28 1861.67 Q2708.28 1870.4 2705.2 1875 Q2702.14 1879.59 2696.33 1879.59 Q2690.52 1879.59 2687.44 1875 Q2684.39 1870.4 2684.39 1861.67 Q2684.39 1852.92 2687.44 1848.34 Q2690.52 1843.73 2696.33 1843.73 Z\" fill=\"#000000\" fill-rule=\"evenodd\" fill-opacity=\"1\" /><path clip-path=\"url(#clip200)\" d=\"M1302.86 1929.58 L1302.86 1935.12 Q1300.38 1933.85 1297.71 1933.21 Q1295.03 1932.58 1292.17 1932.58 Q1287.81 1932.58 1285.61 1933.91 Q1283.45 1935.25 1283.45 1937.92 Q1283.45 1939.96 1285.01 1941.14 Q1286.57 1942.28 1291.28 1943.33 L1293.28 1943.78 Q1299.52 1945.12 1302.13 1947.57 Q1304.77 1949.99 1304.77 1954.35 Q1304.77 1959.31 1300.83 1962.21 Q1296.91 1965.1 1290.04 1965.1 Q1287.17 1965.1 1284.05 1964.53 Q1280.97 1963.99 1277.53 1962.88 L1277.53 1956.83 Q1280.77 1958.52 1283.93 1959.37 Q1287.08 1960.2 1290.16 1960.2 Q1294.3 1960.2 1296.53 1958.8 Q1298.76 1957.37 1298.76 1954.79 Q1298.76 1952.4 1297.13 1951.13 Q1295.54 1949.86 1290.1 1948.68 L1288.06 1948.2 Q1282.62 1947.06 1280.2 1944.7 Q1277.78 1942.31 1277.78 1938.18 Q1277.78 1933.15 1281.35 1930.41 Q1284.91 1927.67 1291.47 1927.67 Q1294.72 1927.67 1297.58 1928.15 Q1300.44 1928.63 1302.86 1929.58 Z\" fill=\"#000000\" fill-rule=\"evenodd\" fill-opacity=\"1\" /><path clip-path=\"url(#clip200)\" d=\"M1314.1 1928.53 L1319.96 1928.53 L1319.96 1964.18 L1314.1 1964.18 L1314.1 1928.53 M1314.1 1914.66 L1319.96 1914.66 L1319.96 1922.07 L1314.1 1922.07 L1314.1 1914.66 Z\" fill=\"#000000\" fill-rule=\"evenodd\" fill-opacity=\"1\" /><path clip-path=\"url(#clip200)\" d=\"M1329.66 1928.53 L1357.48 1928.53 L1357.48 1933.88 L1335.46 1959.5 L1357.48 1959.5 L1357.48 1964.18 L1328.87 1964.18 L1328.87 1958.83 L1350.89 1933.21 L1329.66 1933.21 L1329.66 1928.53 Z\" fill=\"#000000\" fill-rule=\"evenodd\" fill-opacity=\"1\" /><path clip-path=\"url(#clip200)\" d=\"M1396.92 1944.89 L1396.92 1947.76 L1369.99 1947.76 Q1370.37 1953.8 1373.62 1956.99 Q1376.9 1960.14 1382.72 1960.14 Q1386.1 1960.14 1389.25 1959.31 Q1392.43 1958.48 1395.55 1956.83 L1395.55 1962.37 Q1392.4 1963.7 1389.09 1964.4 Q1385.78 1965.1 1382.37 1965.1 Q1373.84 1965.1 1368.84 1960.14 Q1363.88 1955.17 1363.88 1946.71 Q1363.88 1937.95 1368.59 1932.83 Q1373.33 1927.67 1381.35 1927.67 Q1388.55 1927.67 1392.72 1932.32 Q1396.92 1936.94 1396.92 1944.89 M1391.06 1943.17 Q1391 1938.37 1388.36 1935.5 Q1385.75 1932.64 1381.42 1932.64 Q1376.51 1932.64 1373.55 1935.41 Q1370.63 1938.18 1370.18 1943.21 L1391.06 1943.17 Z\" fill=\"#000000\" fill-rule=\"evenodd\" fill-opacity=\"1\" /><path clip-path=\"url(#clip200)\" d=\"M1441.06 1932.64 Q1436.35 1932.64 1433.62 1936.33 Q1430.88 1939.99 1430.88 1946.39 Q1430.88 1952.79 1433.58 1956.48 Q1436.32 1960.14 1441.06 1960.14 Q1445.74 1960.14 1448.48 1956.45 Q1451.22 1952.75 1451.22 1946.39 Q1451.22 1940.05 1448.48 1936.36 Q1445.74 1932.64 1441.06 1932.64 M1441.06 1927.67 Q1448.7 1927.67 1453.06 1932.64 Q1457.42 1937.6 1457.42 1946.39 Q1457.42 1955.14 1453.06 1960.14 Q1448.7 1965.1 1441.06 1965.1 Q1433.39 1965.1 1429.03 1960.14 Q1424.7 1955.14 1424.7 1946.39 Q1424.7 1937.6 1429.03 1932.64 Q1433.39 1927.67 1441.06 1927.67 Z\" fill=\"#000000\" fill-rule=\"evenodd\" fill-opacity=\"1\" /><path clip-path=\"url(#clip200)\" d=\"M1485.18 1914.66 L1485.18 1919.53 L1479.58 1919.53 Q1476.42 1919.53 1475.18 1920.8 Q1473.97 1922.07 1473.97 1925.38 L1473.97 1928.53 L1483.62 1928.53 L1483.62 1933.08 L1473.97 1933.08 L1473.97 1964.18 L1468.09 1964.18 L1468.09 1933.08 L1462.48 1933.08 L1462.48 1928.53 L1468.09 1928.53 L1468.09 1926.05 Q1468.09 1920.1 1470.85 1917.39 Q1473.62 1914.66 1479.64 1914.66 L1485.18 1914.66 Z\" fill=\"#000000\" fill-rule=\"evenodd\" fill-opacity=\"1\" /><path clip-path=\"url(#clip200)\" d=\"M1538.55 1935.38 Q1540.75 1931.43 1543.81 1929.55 Q1546.86 1927.67 1551 1927.67 Q1556.57 1927.67 1559.59 1931.59 Q1562.62 1935.47 1562.62 1942.66 L1562.62 1964.18 L1556.73 1964.18 L1556.73 1942.86 Q1556.73 1937.73 1554.91 1935.25 Q1553.1 1932.77 1549.38 1932.77 Q1544.82 1932.77 1542.18 1935.79 Q1539.54 1938.81 1539.54 1944.03 L1539.54 1964.18 L1533.65 1964.18 L1533.65 1942.86 Q1533.65 1937.7 1531.84 1935.25 Q1530.02 1932.77 1526.24 1932.77 Q1521.75 1932.77 1519.11 1935.82 Q1516.46 1938.85 1516.46 1944.03 L1516.46 1964.18 L1510.58 1964.18 L1510.58 1928.53 L1516.46 1928.53 L1516.46 1934.07 Q1518.47 1930.79 1521.27 1929.23 Q1524.07 1927.67 1527.92 1927.67 Q1531.81 1927.67 1534.51 1929.65 Q1537.25 1931.62 1538.55 1935.38 Z\" fill=\"#000000\" fill-rule=\"evenodd\" fill-opacity=\"1\" /><path clip-path=\"url(#clip200)\" d=\"M1590.5 1946.26 Q1583.4 1946.26 1580.66 1947.88 Q1577.93 1949.51 1577.93 1953.42 Q1577.93 1956.54 1579.96 1958.39 Q1582.03 1960.2 1585.56 1960.2 Q1590.43 1960.2 1593.36 1956.76 Q1596.32 1953.3 1596.32 1947.57 L1596.32 1946.26 L1590.5 1946.26 M1602.18 1943.84 L1602.18 1964.18 L1596.32 1964.18 L1596.32 1958.77 Q1594.32 1962.02 1591.33 1963.58 Q1588.33 1965.1 1584.01 1965.1 Q1578.53 1965.1 1575.28 1962.05 Q1572.07 1958.96 1572.07 1953.8 Q1572.07 1947.79 1576.08 1944.73 Q1580.12 1941.68 1588.11 1941.68 L1596.32 1941.68 L1596.32 1941.11 Q1596.32 1937.06 1593.65 1934.87 Q1591.01 1932.64 1586.2 1932.64 Q1583.15 1932.64 1580.25 1933.37 Q1577.35 1934.1 1574.68 1935.57 L1574.68 1930.16 Q1577.89 1928.91 1580.92 1928.31 Q1583.94 1927.67 1586.81 1927.67 Q1594.54 1927.67 1598.36 1931.68 Q1602.18 1935.69 1602.18 1943.84 Z\" fill=\"#000000\" fill-rule=\"evenodd\" fill-opacity=\"1\" /><path clip-path=\"url(#clip200)\" d=\"M1620.04 1918.41 L1620.04 1928.53 L1632.1 1928.53 L1632.1 1933.08 L1620.04 1933.08 L1620.04 1952.44 Q1620.04 1956.8 1621.21 1958.04 Q1622.42 1959.28 1626.08 1959.28 L1632.1 1959.28 L1632.1 1964.18 L1626.08 1964.18 Q1619.3 1964.18 1616.72 1961.67 Q1614.15 1959.12 1614.15 1952.44 L1614.15 1933.08 L1609.85 1933.08 L1609.85 1928.53 L1614.15 1928.53 L1614.15 1918.41 L1620.04 1918.41 Z\" fill=\"#000000\" fill-rule=\"evenodd\" fill-opacity=\"1\" /><path clip-path=\"url(#clip200)\" d=\"M1660.46 1934.01 Q1659.47 1933.43 1658.29 1933.18 Q1657.15 1932.89 1655.75 1932.89 Q1650.78 1932.89 1648.11 1936.14 Q1645.47 1939.35 1645.47 1945.4 L1645.47 1964.18 L1639.58 1964.18 L1639.58 1928.53 L1645.47 1928.53 L1645.47 1934.07 Q1647.31 1930.82 1650.27 1929.27 Q1653.23 1927.67 1657.47 1927.67 Q1658.07 1927.67 1658.8 1927.77 Q1659.53 1927.83 1660.43 1927.99 L1660.46 1934.01 Z\" fill=\"#000000\" fill-rule=\"evenodd\" fill-opacity=\"1\" /><path clip-path=\"url(#clip200)\" d=\"M1666.6 1928.53 L1672.46 1928.53 L1672.46 1964.18 L1666.6 1964.18 L1666.6 1928.53 M1666.6 1914.66 L1672.46 1914.66 L1672.46 1922.07 L1666.6 1922.07 L1666.6 1914.66 Z\" fill=\"#000000\" fill-rule=\"evenodd\" fill-opacity=\"1\" /><path clip-path=\"url(#clip200)\" d=\"M1714.34 1928.53 L1701.45 1945.88 L1715.01 1964.18 L1708.1 1964.18 L1697.73 1950.18 L1687.35 1964.18 L1680.45 1964.18 L1694.29 1945.53 L1681.62 1928.53 L1688.53 1928.53 L1697.98 1941.23 L1707.44 1928.53 L1714.34 1928.53 Z\" fill=\"#000000\" fill-rule=\"evenodd\" fill-opacity=\"1\" /><polyline clip-path=\"url(#clip202)\" style=\"stroke:#000000; stroke-linecap:butt; stroke-linejoin:round; stroke-width:2; stroke-opacity:0.1; fill:none\" points=\"\n",
       "  239.784,1763.31 2752.76,1763.31 \n",
       "  \"/>\n",
       "<polyline clip-path=\"url(#clip202)\" style=\"stroke:#000000; stroke-linecap:butt; stroke-linejoin:round; stroke-width:2; stroke-opacity:0.1; fill:none\" points=\"\n",
       "  239.784,1464.97 2752.76,1464.97 \n",
       "  \"/>\n",
       "<polyline clip-path=\"url(#clip202)\" style=\"stroke:#000000; stroke-linecap:butt; stroke-linejoin:round; stroke-width:2; stroke-opacity:0.1; fill:none\" points=\"\n",
       "  239.784,1166.63 2752.76,1166.63 \n",
       "  \"/>\n",
       "<polyline clip-path=\"url(#clip202)\" style=\"stroke:#000000; stroke-linecap:butt; stroke-linejoin:round; stroke-width:2; stroke-opacity:0.1; fill:none\" points=\"\n",
       "  239.784,868.296 2752.76,868.296 \n",
       "  \"/>\n",
       "<polyline clip-path=\"url(#clip202)\" style=\"stroke:#000000; stroke-linecap:butt; stroke-linejoin:round; stroke-width:2; stroke-opacity:0.1; fill:none\" points=\"\n",
       "  239.784,569.959 2752.76,569.959 \n",
       "  \"/>\n",
       "<polyline clip-path=\"url(#clip202)\" style=\"stroke:#000000; stroke-linecap:butt; stroke-linejoin:round; stroke-width:2; stroke-opacity:0.1; fill:none\" points=\"\n",
       "  239.784,271.623 2752.76,271.623 \n",
       "  \"/>\n",
       "<polyline clip-path=\"url(#clip200)\" style=\"stroke:#000000; stroke-linecap:butt; stroke-linejoin:round; stroke-width:4; stroke-opacity:1; fill:none\" points=\"\n",
       "  239.784,1813.32 239.784,47.2441 \n",
       "  \"/>\n",
       "<polyline clip-path=\"url(#clip200)\" style=\"stroke:#000000; stroke-linecap:butt; stroke-linejoin:round; stroke-width:4; stroke-opacity:1; fill:none\" points=\"\n",
       "  239.784,1763.31 258.681,1763.31 \n",
       "  \"/>\n",
       "<polyline clip-path=\"url(#clip200)\" style=\"stroke:#000000; stroke-linecap:butt; stroke-linejoin:round; stroke-width:4; stroke-opacity:1; fill:none\" points=\"\n",
       "  239.784,1464.97 258.681,1464.97 \n",
       "  \"/>\n",
       "<polyline clip-path=\"url(#clip200)\" style=\"stroke:#000000; stroke-linecap:butt; stroke-linejoin:round; stroke-width:4; stroke-opacity:1; fill:none\" points=\"\n",
       "  239.784,1166.63 258.681,1166.63 \n",
       "  \"/>\n",
       "<polyline clip-path=\"url(#clip200)\" style=\"stroke:#000000; stroke-linecap:butt; stroke-linejoin:round; stroke-width:4; stroke-opacity:1; fill:none\" points=\"\n",
       "  239.784,868.296 258.681,868.296 \n",
       "  \"/>\n",
       "<polyline clip-path=\"url(#clip200)\" style=\"stroke:#000000; stroke-linecap:butt; stroke-linejoin:round; stroke-width:4; stroke-opacity:1; fill:none\" points=\"\n",
       "  239.784,569.959 258.681,569.959 \n",
       "  \"/>\n",
       "<polyline clip-path=\"url(#clip200)\" style=\"stroke:#000000; stroke-linecap:butt; stroke-linejoin:round; stroke-width:4; stroke-opacity:1; fill:none\" points=\"\n",
       "  239.784,271.623 258.681,271.623 \n",
       "  \"/>\n",
       "<path clip-path=\"url(#clip200)\" d=\"M185.839 1749.11 Q182.228 1749.11 180.399 1752.67 Q178.594 1756.21 178.594 1763.34 Q178.594 1770.45 180.399 1774.01 Q182.228 1777.55 185.839 1777.55 Q189.473 1777.55 191.279 1774.01 Q193.108 1770.45 193.108 1763.34 Q193.108 1756.21 191.279 1752.67 Q189.473 1749.11 185.839 1749.11 M185.839 1745.4 Q191.649 1745.4 194.705 1750.01 Q197.784 1754.59 197.784 1763.34 Q197.784 1772.07 194.705 1776.67 Q191.649 1781.26 185.839 1781.26 Q180.029 1781.26 176.95 1776.67 Q173.895 1772.07 173.895 1763.34 Q173.895 1754.59 176.95 1750.01 Q180.029 1745.4 185.839 1745.4 Z\" fill=\"#000000\" fill-rule=\"evenodd\" fill-opacity=\"1\" /><path clip-path=\"url(#clip200)\" d=\"M150.701 1478.31 L167.02 1478.31 L167.02 1482.25 L145.076 1482.25 L145.076 1478.31 Q147.738 1475.56 152.321 1470.93 Q156.927 1466.28 158.108 1464.93 Q160.353 1462.41 161.233 1460.68 Q162.136 1458.92 162.136 1457.23 Q162.136 1454.47 160.191 1452.74 Q158.27 1451 155.168 1451 Q152.969 1451 150.515 1451.76 Q148.085 1452.53 145.307 1454.08 L145.307 1449.36 Q148.131 1448.22 150.585 1447.64 Q153.039 1447.06 155.076 1447.06 Q160.446 1447.06 163.64 1449.75 Q166.835 1452.43 166.835 1456.93 Q166.835 1459.06 166.025 1460.98 Q165.238 1462.87 163.131 1465.47 Q162.552 1466.14 159.451 1469.36 Q156.349 1472.55 150.701 1478.31 Z\" fill=\"#000000\" fill-rule=\"evenodd\" fill-opacity=\"1\" /><path clip-path=\"url(#clip200)\" d=\"M176.881 1447.69 L195.237 1447.69 L195.237 1451.62 L181.163 1451.62 L181.163 1460.1 Q182.182 1459.75 183.2 1459.59 Q184.219 1459.4 185.237 1459.4 Q191.024 1459.4 194.404 1462.57 Q197.784 1465.75 197.784 1471.16 Q197.784 1476.74 194.311 1479.84 Q190.839 1482.92 184.52 1482.92 Q182.344 1482.92 180.075 1482.55 Q177.83 1482.18 175.423 1481.44 L175.423 1476.74 Q177.506 1477.87 179.728 1478.43 Q181.95 1478.99 184.427 1478.99 Q188.432 1478.99 190.77 1476.88 Q193.108 1474.77 193.108 1471.16 Q193.108 1467.55 190.77 1465.44 Q188.432 1463.34 184.427 1463.34 Q182.552 1463.34 180.677 1463.75 Q178.825 1464.17 176.881 1465.05 L176.881 1447.69 Z\" fill=\"#000000\" fill-rule=\"evenodd\" fill-opacity=\"1\" /><path clip-path=\"url(#clip200)\" d=\"M145.724 1149.35 L164.08 1149.35 L164.08 1153.29 L150.006 1153.29 L150.006 1161.76 Q151.025 1161.41 152.043 1161.25 Q153.062 1161.07 154.08 1161.07 Q159.867 1161.07 163.247 1164.24 Q166.626 1167.41 166.626 1172.82 Q166.626 1178.4 163.154 1181.51 Q159.682 1184.58 153.363 1184.58 Q151.187 1184.58 148.918 1184.21 Q146.673 1183.84 144.265 1183.1 L144.265 1178.4 Q146.349 1179.54 148.571 1180.09 Q150.793 1180.65 153.27 1180.65 Q157.275 1180.65 159.613 1178.54 Q161.95 1176.44 161.95 1172.82 Q161.95 1169.21 159.613 1167.11 Q157.275 1165 153.27 1165 Q151.395 1165 149.52 1165.42 Q147.668 1165.83 145.724 1166.71 L145.724 1149.35 Z\" fill=\"#000000\" fill-rule=\"evenodd\" fill-opacity=\"1\" /><path clip-path=\"url(#clip200)\" d=\"M185.839 1152.43 Q182.228 1152.43 180.399 1156 Q178.594 1159.54 178.594 1166.67 Q178.594 1173.77 180.399 1177.34 Q182.228 1180.88 185.839 1180.88 Q189.473 1180.88 191.279 1177.34 Q193.108 1173.77 193.108 1166.67 Q193.108 1159.54 191.279 1156 Q189.473 1152.43 185.839 1152.43 M185.839 1148.73 Q191.649 1148.73 194.705 1153.33 Q197.784 1157.92 197.784 1166.67 Q197.784 1175.39 194.705 1180 Q191.649 1184.58 185.839 1184.58 Q180.029 1184.58 176.95 1180 Q173.895 1175.39 173.895 1166.67 Q173.895 1157.92 176.95 1153.33 Q180.029 1148.73 185.839 1148.73 Z\" fill=\"#000000\" fill-rule=\"evenodd\" fill-opacity=\"1\" /><path clip-path=\"url(#clip200)\" d=\"M145.492 851.016 L167.714 851.016 L167.714 853.007 L155.168 885.576 L150.284 885.576 L162.089 854.951 L145.492 854.951 L145.492 851.016 Z\" fill=\"#000000\" fill-rule=\"evenodd\" fill-opacity=\"1\" /><path clip-path=\"url(#clip200)\" d=\"M176.881 851.016 L195.237 851.016 L195.237 854.951 L181.163 854.951 L181.163 863.423 Q182.182 863.076 183.2 862.914 Q184.219 862.729 185.237 862.729 Q191.024 862.729 194.404 865.9 Q197.784 869.072 197.784 874.488 Q197.784 880.067 194.311 883.169 Q190.839 886.247 184.52 886.247 Q182.344 886.247 180.075 885.877 Q177.83 885.507 175.423 884.766 L175.423 880.067 Q177.506 881.201 179.728 881.757 Q181.95 882.312 184.427 882.312 Q188.432 882.312 190.77 880.206 Q193.108 878.099 193.108 874.488 Q193.108 870.877 190.77 868.771 Q188.432 866.664 184.427 866.664 Q182.552 866.664 180.677 867.081 Q178.825 867.498 176.881 868.377 L176.881 851.016 Z\" fill=\"#000000\" fill-rule=\"evenodd\" fill-opacity=\"1\" /><path clip-path=\"url(#clip200)\" d=\"M116.326 583.304 L123.965 583.304 L123.965 556.939 L115.654 558.605 L115.654 554.346 L123.918 552.679 L128.594 552.679 L128.594 583.304 L136.233 583.304 L136.233 587.239 L116.326 587.239 L116.326 583.304 Z\" fill=\"#000000\" fill-rule=\"evenodd\" fill-opacity=\"1\" /><path clip-path=\"url(#clip200)\" d=\"M155.677 555.758 Q152.066 555.758 150.238 559.323 Q148.432 562.864 148.432 569.994 Q148.432 577.101 150.238 580.665 Q152.066 584.207 155.677 584.207 Q159.312 584.207 161.117 580.665 Q162.946 577.101 162.946 569.994 Q162.946 562.864 161.117 559.323 Q159.312 555.758 155.677 555.758 M155.677 552.054 Q161.488 552.054 164.543 556.661 Q167.622 561.244 167.622 569.994 Q167.622 578.721 164.543 583.327 Q161.488 587.911 155.677 587.911 Q149.867 587.911 146.789 583.327 Q143.733 578.721 143.733 569.994 Q143.733 561.244 146.789 556.661 Q149.867 552.054 155.677 552.054 Z\" fill=\"#000000\" fill-rule=\"evenodd\" fill-opacity=\"1\" /><path clip-path=\"url(#clip200)\" d=\"M185.839 555.758 Q182.228 555.758 180.399 559.323 Q178.594 562.864 178.594 569.994 Q178.594 577.101 180.399 580.665 Q182.228 584.207 185.839 584.207 Q189.473 584.207 191.279 580.665 Q193.108 577.101 193.108 569.994 Q193.108 562.864 191.279 559.323 Q189.473 555.758 185.839 555.758 M185.839 552.054 Q191.649 552.054 194.705 556.661 Q197.784 561.244 197.784 569.994 Q197.784 578.721 194.705 583.327 Q191.649 587.911 185.839 587.911 Q180.029 587.911 176.95 583.327 Q173.895 578.721 173.895 569.994 Q173.895 561.244 176.95 556.661 Q180.029 552.054 185.839 552.054 Z\" fill=\"#000000\" fill-rule=\"evenodd\" fill-opacity=\"1\" /><path clip-path=\"url(#clip200)\" d=\"M117.321 284.967 L124.96 284.967 L124.96 258.602 L116.65 260.268 L116.65 256.009 L124.914 254.343 L129.59 254.343 L129.59 284.967 L137.228 284.967 L137.228 288.903 L117.321 288.903 L117.321 284.967 Z\" fill=\"#000000\" fill-rule=\"evenodd\" fill-opacity=\"1\" /><path clip-path=\"url(#clip200)\" d=\"M150.701 284.967 L167.02 284.967 L167.02 288.903 L145.076 288.903 L145.076 284.967 Q147.738 282.213 152.321 277.583 Q156.927 272.93 158.108 271.588 Q160.353 269.065 161.233 267.329 Q162.136 265.569 162.136 263.88 Q162.136 261.125 160.191 259.389 Q158.27 257.653 155.168 257.653 Q152.969 257.653 150.515 258.417 Q148.085 259.181 145.307 260.731 L145.307 256.009 Q148.131 254.875 150.585 254.296 Q153.039 253.718 155.076 253.718 Q160.446 253.718 163.64 256.403 Q166.835 259.088 166.835 263.579 Q166.835 265.708 166.025 267.63 Q165.238 269.528 163.131 272.12 Q162.552 272.792 159.451 276.009 Q156.349 279.204 150.701 284.967 Z\" fill=\"#000000\" fill-rule=\"evenodd\" fill-opacity=\"1\" /><path clip-path=\"url(#clip200)\" d=\"M176.881 254.343 L195.237 254.343 L195.237 258.278 L181.163 258.278 L181.163 266.75 Q182.182 266.403 183.2 266.241 Q184.219 266.055 185.237 266.055 Q191.024 266.055 194.404 269.227 Q197.784 272.398 197.784 277.815 Q197.784 283.393 194.311 286.495 Q190.839 289.574 184.52 289.574 Q182.344 289.574 180.075 289.204 Q177.83 288.833 175.423 288.092 L175.423 283.393 Q177.506 284.528 179.728 285.083 Q181.95 285.639 184.427 285.639 Q188.432 285.639 190.77 283.532 Q193.108 281.426 193.108 277.815 Q193.108 274.204 190.77 272.097 Q188.432 269.991 184.427 269.991 Q182.552 269.991 180.677 270.407 Q178.825 270.824 176.881 271.704 L176.881 254.343 Z\" fill=\"#000000\" fill-rule=\"evenodd\" fill-opacity=\"1\" /><path clip-path=\"url(#clip200)\" d=\"M13.629 1174.91 L23.7505 1174.91 L23.7505 1162.85 L28.302 1162.85 L28.302 1174.91 L47.6537 1174.91 Q52.0142 1174.91 53.2555 1173.74 Q54.4968 1172.53 54.4968 1168.87 L54.4968 1162.85 L59.3984 1162.85 L59.3984 1168.87 Q59.3984 1175.65 56.884 1178.22 Q54.3377 1180.8 47.6537 1180.8 L28.302 1180.8 L28.302 1185.1 L23.7505 1185.1 L23.7505 1180.8 L13.629 1180.8 L13.629 1174.91 Z\" fill=\"#000000\" fill-rule=\"evenodd\" fill-opacity=\"1\" /><path clip-path=\"url(#clip200)\" d=\"M23.7505 1155.15 L23.7505 1149.29 L59.3984 1149.29 L59.3984 1155.15 L23.7505 1155.15 M9.87325 1155.15 L9.87325 1149.29 L17.2893 1149.29 L17.2893 1155.15 L9.87325 1155.15 Z\" fill=\"#000000\" fill-rule=\"evenodd\" fill-opacity=\"1\" /><path clip-path=\"url(#clip200)\" d=\"M30.5936 1109.28 Q26.6469 1107.09 24.769 1104.03 Q22.8911 1100.98 22.8911 1096.84 Q22.8911 1091.27 26.806 1088.25 Q30.6891 1085.22 37.8824 1085.22 L59.3984 1085.22 L59.3984 1091.11 L38.0733 1091.11 Q32.9489 1091.11 30.4663 1092.92 Q27.9837 1094.74 27.9837 1098.46 Q27.9837 1103.01 31.0074 1105.66 Q34.0311 1108.3 39.251 1108.3 L59.3984 1108.3 L59.3984 1114.19 L38.0733 1114.19 Q32.9171 1114.19 30.4663 1116 Q27.9837 1117.81 27.9837 1121.6 Q27.9837 1126.09 31.0392 1128.73 Q34.0629 1131.37 39.251 1131.37 L59.3984 1131.37 L59.3984 1137.26 L23.7505 1137.26 L23.7505 1131.37 L29.2887 1131.37 Q26.0103 1129.37 24.4507 1126.57 Q22.8911 1123.77 22.8911 1119.91 Q22.8911 1116.03 24.8645 1113.33 Q26.8379 1110.59 30.5936 1109.28 Z\" fill=\"#000000\" fill-rule=\"evenodd\" fill-opacity=\"1\" /><path clip-path=\"url(#clip200)\" d=\"M40.1104 1043.05 L42.9749 1043.05 L42.9749 1069.98 Q49.0223 1069.59 52.2052 1066.35 Q55.3562 1063.07 55.3562 1057.24 Q55.3562 1053.87 54.5287 1050.72 Q53.7011 1047.54 52.0461 1044.42 L57.5842 1044.42 Q58.921 1047.57 59.6212 1050.88 Q60.3215 1054.19 60.3215 1057.59 Q60.3215 1066.12 55.3562 1071.12 Q50.391 1076.09 41.9246 1076.09 Q33.1717 1076.09 28.0473 1071.38 Q22.8911 1066.63 22.8911 1058.61 Q22.8911 1051.42 27.5381 1047.25 Q32.1532 1043.05 40.1104 1043.05 M38.3916 1048.91 Q33.5855 1048.97 30.7209 1051.61 Q27.8564 1054.22 27.8564 1058.55 Q27.8564 1063.45 30.6254 1066.41 Q33.3945 1069.34 38.4234 1069.79 L38.3916 1048.91 Z\" fill=\"#000000\" fill-rule=\"evenodd\" fill-opacity=\"1\" /><path clip-path=\"url(#clip200)\" d=\"M23.7505 1012.72 L23.7505 1006.86 L59.3984 1006.86 L59.3984 1012.72 L23.7505 1012.72 M9.87325 1012.72 L9.87325 1006.86 L17.2893 1006.86 L17.2893 1012.72 L9.87325 1012.72 Z\" fill=\"#000000\" fill-rule=\"evenodd\" fill-opacity=\"1\" /><path clip-path=\"url(#clip200)\" d=\"M37.8824 964.974 L59.3984 964.974 L59.3984 970.83 L38.0733 970.83 Q33.0126 970.83 30.4981 972.803 Q27.9837 974.777 27.9837 978.724 Q27.9837 983.466 31.0074 986.203 Q34.0311 988.941 39.251 988.941 L59.3984 988.941 L59.3984 994.829 L23.7505 994.829 L23.7505 988.941 L29.2887 988.941 Q26.074 986.84 24.4825 984.007 Q22.8911 981.143 22.8911 977.419 Q22.8911 971.276 26.7105 968.125 Q30.4981 964.974 37.8824 964.974 Z\" fill=\"#000000\" fill-rule=\"evenodd\" fill-opacity=\"1\" /><path clip-path=\"url(#clip200)\" d=\"M24.8008 909.847 L30.339 909.847 Q29.0659 912.329 28.4293 915.003 Q27.7927 917.676 27.7927 920.541 Q27.7927 924.902 29.1295 927.098 Q30.4663 929.262 33.1399 929.262 Q35.1769 929.262 36.3546 927.702 Q37.5004 926.143 38.5508 921.432 L38.9964 919.427 Q40.3332 913.189 42.7839 910.579 Q45.2029 907.937 49.5634 907.937 Q54.5287 907.937 57.4251 911.884 Q60.3215 915.799 60.3215 922.674 Q60.3215 925.538 59.7486 928.657 Q59.2075 931.745 58.0935 935.182 L52.0461 935.182 Q53.733 931.936 54.5923 928.785 Q55.4199 925.634 55.4199 922.546 Q55.4199 918.408 54.0194 916.18 Q52.5871 913.953 50.009 913.953 Q47.6219 913.953 46.3487 915.576 Q45.0756 917.167 43.8979 922.61 L43.4205 924.647 Q42.2747 930.09 39.9194 932.509 Q37.5322 934.928 33.3945 934.928 Q28.3656 934.928 25.6284 931.363 Q22.8911 927.798 22.8911 921.241 Q22.8911 917.995 23.3685 915.13 Q23.846 912.266 24.8008 909.847 Z\" fill=\"#000000\" fill-rule=\"evenodd\" fill-opacity=\"1\" /><path clip-path=\"url(#clip200)\" d=\"M40.1104 868.119 L42.9749 868.119 L42.9749 895.046 Q49.0223 894.664 52.2052 891.418 Q55.3562 888.14 55.3562 882.315 Q55.3562 878.941 54.5287 875.79 Q53.7011 872.607 52.0461 869.488 L57.5842 869.488 Q58.921 872.639 59.6212 875.949 Q60.3215 879.259 60.3215 882.665 Q60.3215 891.195 55.3562 896.192 Q50.391 901.157 41.9246 901.157 Q33.1717 901.157 28.0473 896.447 Q22.8911 891.704 22.8911 883.684 Q22.8911 876.49 27.5381 872.321 Q32.1532 868.119 40.1104 868.119 M38.3916 873.976 Q33.5855 874.04 30.7209 876.681 Q27.8564 879.291 27.8564 883.62 Q27.8564 888.522 30.6254 891.482 Q33.3945 894.41 38.4234 894.855 L38.3916 873.976 Z\" fill=\"#000000\" fill-rule=\"evenodd\" fill-opacity=\"1\" /><path clip-path=\"url(#clip200)\" d=\"M25.1191 832.853 L30.5936 832.853 Q29.225 835.336 28.5566 837.85 Q27.8564 840.333 27.8564 842.879 Q27.8564 848.577 31.4848 851.728 Q35.0814 854.879 41.6063 854.879 Q48.1311 854.879 51.7596 851.728 Q55.3562 848.577 55.3562 842.879 Q55.3562 840.333 54.6878 837.85 Q53.9876 835.336 52.619 832.853 L58.0298 832.853 Q59.1756 835.304 59.7486 837.946 Q60.3215 840.556 60.3215 843.516 Q60.3215 851.569 55.2607 856.311 Q50.2 861.053 41.6063 861.053 Q32.8853 861.053 27.8882 856.279 Q22.8911 851.473 22.8911 843.134 Q22.8911 840.429 23.464 837.85 Q24.0051 835.272 25.1191 832.853 Z\" fill=\"#000000\" fill-rule=\"evenodd\" fill-opacity=\"1\" /><path clip-path=\"url(#clip200)\" d=\"M27.8564 808.855 Q27.8564 813.565 31.5485 816.303 Q35.2088 819.04 41.6063 819.04 Q48.0038 819.04 51.6959 816.334 Q55.3562 813.597 55.3562 808.855 Q55.3562 804.176 51.6641 801.439 Q47.972 798.701 41.6063 798.701 Q35.2724 798.701 31.5803 801.439 Q27.8564 804.176 27.8564 808.855 M22.8911 808.855 Q22.8911 801.216 27.8564 796.855 Q32.8216 792.495 41.6063 792.495 Q50.3591 792.495 55.3562 796.855 Q60.3215 801.216 60.3215 808.855 Q60.3215 816.525 55.3562 820.886 Q50.3591 825.215 41.6063 825.215 Q32.8216 825.215 27.8564 820.886 Q22.8911 816.525 22.8911 808.855 Z\" fill=\"#000000\" fill-rule=\"evenodd\" fill-opacity=\"1\" /><path clip-path=\"url(#clip200)\" d=\"M37.8824 753.155 L59.3984 753.155 L59.3984 759.011 L38.0733 759.011 Q33.0126 759.011 30.4981 760.985 Q27.9837 762.958 27.9837 766.905 Q27.9837 771.647 31.0074 774.384 Q34.0311 777.122 39.251 777.122 L59.3984 777.122 L59.3984 783.01 L23.7505 783.01 L23.7505 777.122 L29.2887 777.122 Q26.074 775.021 24.4825 772.188 Q22.8911 769.324 22.8911 765.6 Q22.8911 759.457 26.7105 756.306 Q30.4981 753.155 37.8824 753.155 Z\" fill=\"#000000\" fill-rule=\"evenodd\" fill-opacity=\"1\" /><path clip-path=\"url(#clip200)\" d=\"M29.1613 718.016 L9.87325 718.016 L9.87325 712.16 L59.3984 712.16 L59.3984 718.016 L54.0512 718.016 Q57.2341 719.862 58.7937 722.695 Q60.3215 725.496 60.3215 729.442 Q60.3215 735.904 55.1652 739.978 Q50.009 744.02 41.6063 744.02 Q33.2036 744.02 28.0473 739.978 Q22.8911 735.904 22.8911 729.442 Q22.8911 725.496 24.4507 722.695 Q25.9785 719.862 29.1613 718.016 M41.6063 737.973 Q48.0675 737.973 51.7596 735.331 Q55.4199 732.657 55.4199 728.01 Q55.4199 723.363 51.7596 720.69 Q48.0675 718.016 41.6063 718.016 Q35.1451 718.016 31.4848 720.69 Q27.7927 723.363 27.7927 728.01 Q27.7927 732.657 31.4848 735.331 Q35.1451 737.973 41.6063 737.973 Z\" fill=\"#000000\" fill-rule=\"evenodd\" fill-opacity=\"1\" /><path clip-path=\"url(#clip200)\" d=\"M24.8008 677.371 L30.339 677.371 Q29.0659 679.854 28.4293 682.527 Q27.7927 685.201 27.7927 688.065 Q27.7927 692.426 29.1295 694.622 Q30.4663 696.786 33.1399 696.786 Q35.1769 696.786 36.3546 695.227 Q37.5004 693.667 38.5508 688.957 L38.9964 686.951 Q40.3332 680.713 42.7839 678.103 Q45.2029 675.461 49.5634 675.461 Q54.5287 675.461 57.4251 679.408 Q60.3215 683.323 60.3215 690.198 Q60.3215 693.062 59.7486 696.182 Q59.2075 699.269 58.0935 702.707 L52.0461 702.707 Q53.733 699.46 54.5923 696.309 Q55.4199 693.158 55.4199 690.071 Q55.4199 685.933 54.0194 683.705 Q52.5871 681.477 50.009 681.477 Q47.6219 681.477 46.3487 683.1 Q45.0756 684.692 43.8979 690.134 L43.4205 692.171 Q42.2747 697.614 39.9194 700.033 Q37.5322 702.452 33.3945 702.452 Q28.3656 702.452 25.6284 698.887 Q22.8911 695.322 22.8911 688.766 Q22.8911 685.519 23.3685 682.655 Q23.846 679.79 24.8008 677.371 Z\" fill=\"#000000\" fill-rule=\"evenodd\" fill-opacity=\"1\" /><polyline clip-path=\"url(#clip202)\" style=\"stroke:#000000; stroke-linecap:butt; stroke-linejoin:round; stroke-width:4; stroke-opacity:1; fill:none\" stroke-dasharray=\"16, 10\" points=\"\n",
       "  310.905,1763.12 508.466,1762.45 706.027,1761.14 903.588,1756.26 1101.15,1748.31 1298.71,1727.32 1496.27,1696.48 1693.83,1654.71 1891.39,1555.81 2088.95,1449.09 \n",
       "  2286.51,1277.36 2484.07,866.022 2681.63,246.567 \n",
       "  \"/>\n",
       "<path clip-path=\"url(#clip202)\" d=\"M298.905 1751.12 L298.905 1775.12 L322.905 1775.12 L322.905 1751.12 L298.905 1751.12 Z\" fill=\"#000000\" fill-rule=\"evenodd\" fill-opacity=\"1\" stroke=\"none\"/>\n",
       "<path clip-path=\"url(#clip202)\" d=\"M496.466 1750.45 L496.466 1774.45 L520.466 1774.45 L520.466 1750.45 L496.466 1750.45 Z\" fill=\"#000000\" fill-rule=\"evenodd\" fill-opacity=\"1\" stroke=\"none\"/>\n",
       "<path clip-path=\"url(#clip202)\" d=\"M694.027 1749.14 L694.027 1773.14 L718.027 1773.14 L718.027 1749.14 L694.027 1749.14 Z\" fill=\"#000000\" fill-rule=\"evenodd\" fill-opacity=\"1\" stroke=\"none\"/>\n",
       "<path clip-path=\"url(#clip202)\" d=\"M891.588 1744.26 L891.588 1768.26 L915.588 1768.26 L915.588 1744.26 L891.588 1744.26 Z\" fill=\"#000000\" fill-rule=\"evenodd\" fill-opacity=\"1\" stroke=\"none\"/>\n",
       "<path clip-path=\"url(#clip202)\" d=\"M1089.15 1736.31 L1089.15 1760.31 L1113.15 1760.31 L1113.15 1736.31 L1089.15 1736.31 Z\" fill=\"#000000\" fill-rule=\"evenodd\" fill-opacity=\"1\" stroke=\"none\"/>\n",
       "<path clip-path=\"url(#clip202)\" d=\"M1286.71 1715.32 L1286.71 1739.32 L1310.71 1739.32 L1310.71 1715.32 L1286.71 1715.32 Z\" fill=\"#000000\" fill-rule=\"evenodd\" fill-opacity=\"1\" stroke=\"none\"/>\n",
       "<path clip-path=\"url(#clip202)\" d=\"M1484.27 1684.48 L1484.27 1708.48 L1508.27 1708.48 L1508.27 1684.48 L1484.27 1684.48 Z\" fill=\"#000000\" fill-rule=\"evenodd\" fill-opacity=\"1\" stroke=\"none\"/>\n",
       "<path clip-path=\"url(#clip202)\" d=\"M1681.83 1642.71 L1681.83 1666.71 L1705.83 1666.71 L1705.83 1642.71 L1681.83 1642.71 Z\" fill=\"#000000\" fill-rule=\"evenodd\" fill-opacity=\"1\" stroke=\"none\"/>\n",
       "<path clip-path=\"url(#clip202)\" d=\"M1879.39 1543.81 L1879.39 1567.81 L1903.39 1567.81 L1903.39 1543.81 L1879.39 1543.81 Z\" fill=\"#000000\" fill-rule=\"evenodd\" fill-opacity=\"1\" stroke=\"none\"/>\n",
       "<path clip-path=\"url(#clip202)\" d=\"M2076.95 1437.09 L2076.95 1461.09 L2100.95 1461.09 L2100.95 1437.09 L2076.95 1437.09 Z\" fill=\"#000000\" fill-rule=\"evenodd\" fill-opacity=\"1\" stroke=\"none\"/>\n",
       "<path clip-path=\"url(#clip202)\" d=\"M2274.51 1265.36 L2274.51 1289.36 L2298.51 1289.36 L2298.51 1265.36 L2274.51 1265.36 Z\" fill=\"#000000\" fill-rule=\"evenodd\" fill-opacity=\"1\" stroke=\"none\"/>\n",
       "<path clip-path=\"url(#clip202)\" d=\"M2472.07 854.022 L2472.07 878.022 L2496.07 878.022 L2496.07 854.022 L2472.07 854.022 Z\" fill=\"#000000\" fill-rule=\"evenodd\" fill-opacity=\"1\" stroke=\"none\"/>\n",
       "<path clip-path=\"url(#clip202)\" d=\"M2669.63 234.567 L2669.63 258.567 L2693.63 258.567 L2693.63 234.567 L2669.63 234.567 Z\" fill=\"#000000\" fill-rule=\"evenodd\" fill-opacity=\"1\" stroke=\"none\"/>\n",
       "<polyline clip-path=\"url(#clip202)\" style=\"stroke:#000000; stroke-linecap:butt; stroke-linejoin:round; stroke-width:4; stroke-opacity:1; fill:none\" stroke-dasharray=\"16, 10\" points=\"\n",
       "  310.905,1763.13 310.905,1763.11 \n",
       "  \"/>\n",
       "<polyline clip-path=\"url(#clip202)\" style=\"stroke:#000000; stroke-linecap:butt; stroke-linejoin:round; stroke-width:4; stroke-opacity:1; fill:none\" stroke-dasharray=\"16, 10\" points=\"\n",
       "  508.466,1762.56 508.466,1762.34 \n",
       "  \"/>\n",
       "<polyline clip-path=\"url(#clip202)\" style=\"stroke:#000000; stroke-linecap:butt; stroke-linejoin:round; stroke-width:4; stroke-opacity:1; fill:none\" stroke-dasharray=\"16, 10\" points=\"\n",
       "  706.027,1761.45 706.027,1760.83 \n",
       "  \"/>\n",
       "<polyline clip-path=\"url(#clip202)\" style=\"stroke:#000000; stroke-linecap:butt; stroke-linejoin:round; stroke-width:4; stroke-opacity:1; fill:none\" stroke-dasharray=\"16, 10\" points=\"\n",
       "  903.588,1757.77 903.588,1754.75 \n",
       "  \"/>\n",
       "<polyline clip-path=\"url(#clip202)\" style=\"stroke:#000000; stroke-linecap:butt; stroke-linejoin:round; stroke-width:4; stroke-opacity:1; fill:none\" stroke-dasharray=\"16, 10\" points=\"\n",
       "  1101.15,1749.95 1101.15,1746.67 \n",
       "  \"/>\n",
       "<polyline clip-path=\"url(#clip202)\" style=\"stroke:#000000; stroke-linecap:butt; stroke-linejoin:round; stroke-width:4; stroke-opacity:1; fill:none\" stroke-dasharray=\"16, 10\" points=\"\n",
       "  1298.71,1732.54 1298.71,1722.1 \n",
       "  \"/>\n",
       "<polyline clip-path=\"url(#clip202)\" style=\"stroke:#000000; stroke-linecap:butt; stroke-linejoin:round; stroke-width:4; stroke-opacity:1; fill:none\" stroke-dasharray=\"16, 10\" points=\"\n",
       "  1496.27,1707.06 1496.27,1685.9 \n",
       "  \"/>\n",
       "<polyline clip-path=\"url(#clip202)\" style=\"stroke:#000000; stroke-linecap:butt; stroke-linejoin:round; stroke-width:4; stroke-opacity:1; fill:none\" stroke-dasharray=\"16, 10\" points=\"\n",
       "  1693.83,1660.37 1693.83,1649.05 \n",
       "  \"/>\n",
       "<polyline clip-path=\"url(#clip202)\" style=\"stroke:#000000; stroke-linecap:butt; stroke-linejoin:round; stroke-width:4; stroke-opacity:1; fill:none\" stroke-dasharray=\"16, 10\" points=\"\n",
       "  1891.39,1574.04 1891.39,1537.59 \n",
       "  \"/>\n",
       "<polyline clip-path=\"url(#clip202)\" style=\"stroke:#000000; stroke-linecap:butt; stroke-linejoin:round; stroke-width:4; stroke-opacity:1; fill:none\" stroke-dasharray=\"16, 10\" points=\"\n",
       "  2088.95,1499.92 2088.95,1398.25 \n",
       "  \"/>\n",
       "<polyline clip-path=\"url(#clip202)\" style=\"stroke:#000000; stroke-linecap:butt; stroke-linejoin:round; stroke-width:4; stroke-opacity:1; fill:none\" stroke-dasharray=\"16, 10\" points=\"\n",
       "  2286.51,1378.31 2286.51,1176.4 \n",
       "  \"/>\n",
       "<polyline clip-path=\"url(#clip202)\" style=\"stroke:#000000; stroke-linecap:butt; stroke-linejoin:round; stroke-width:4; stroke-opacity:1; fill:none\" stroke-dasharray=\"16, 10\" points=\"\n",
       "  2484.07,972.989 2484.07,759.054 \n",
       "  \"/>\n",
       "<polyline clip-path=\"url(#clip202)\" style=\"stroke:#000000; stroke-linecap:butt; stroke-linejoin:round; stroke-width:4; stroke-opacity:1; fill:none\" stroke-dasharray=\"16, 10\" points=\"\n",
       "  2681.63,395.907 2681.63,97.2273 \n",
       "  \"/>\n",
       "<line clip-path=\"url(#clip202)\" x1=\"322.905\" y1=\"1763.13\" x2=\"298.905\" y2=\"1763.13\" style=\"stroke:#000000; stroke-width:4; stroke-opacity:1\"/>\n",
       "<line clip-path=\"url(#clip202)\" x1=\"322.905\" y1=\"1763.11\" x2=\"298.905\" y2=\"1763.11\" style=\"stroke:#000000; stroke-width:4; stroke-opacity:1\"/>\n",
       "<line clip-path=\"url(#clip202)\" x1=\"520.466\" y1=\"1762.56\" x2=\"496.466\" y2=\"1762.56\" style=\"stroke:#000000; stroke-width:4; stroke-opacity:1\"/>\n",
       "<line clip-path=\"url(#clip202)\" x1=\"520.466\" y1=\"1762.34\" x2=\"496.466\" y2=\"1762.34\" style=\"stroke:#000000; stroke-width:4; stroke-opacity:1\"/>\n",
       "<line clip-path=\"url(#clip202)\" x1=\"718.027\" y1=\"1761.45\" x2=\"694.027\" y2=\"1761.45\" style=\"stroke:#000000; stroke-width:4; stroke-opacity:1\"/>\n",
       "<line clip-path=\"url(#clip202)\" x1=\"718.027\" y1=\"1760.83\" x2=\"694.027\" y2=\"1760.83\" style=\"stroke:#000000; stroke-width:4; stroke-opacity:1\"/>\n",
       "<line clip-path=\"url(#clip202)\" x1=\"915.588\" y1=\"1757.77\" x2=\"891.588\" y2=\"1757.77\" style=\"stroke:#000000; stroke-width:4; stroke-opacity:1\"/>\n",
       "<line clip-path=\"url(#clip202)\" x1=\"915.588\" y1=\"1754.75\" x2=\"891.588\" y2=\"1754.75\" style=\"stroke:#000000; stroke-width:4; stroke-opacity:1\"/>\n",
       "<line clip-path=\"url(#clip202)\" x1=\"1113.15\" y1=\"1749.95\" x2=\"1089.15\" y2=\"1749.95\" style=\"stroke:#000000; stroke-width:4; stroke-opacity:1\"/>\n",
       "<line clip-path=\"url(#clip202)\" x1=\"1113.15\" y1=\"1746.67\" x2=\"1089.15\" y2=\"1746.67\" style=\"stroke:#000000; stroke-width:4; stroke-opacity:1\"/>\n",
       "<line clip-path=\"url(#clip202)\" x1=\"1310.71\" y1=\"1732.54\" x2=\"1286.71\" y2=\"1732.54\" style=\"stroke:#000000; stroke-width:4; stroke-opacity:1\"/>\n",
       "<line clip-path=\"url(#clip202)\" x1=\"1310.71\" y1=\"1722.1\" x2=\"1286.71\" y2=\"1722.1\" style=\"stroke:#000000; stroke-width:4; stroke-opacity:1\"/>\n",
       "<line clip-path=\"url(#clip202)\" x1=\"1508.27\" y1=\"1707.06\" x2=\"1484.27\" y2=\"1707.06\" style=\"stroke:#000000; stroke-width:4; stroke-opacity:1\"/>\n",
       "<line clip-path=\"url(#clip202)\" x1=\"1508.27\" y1=\"1685.9\" x2=\"1484.27\" y2=\"1685.9\" style=\"stroke:#000000; stroke-width:4; stroke-opacity:1\"/>\n",
       "<line clip-path=\"url(#clip202)\" x1=\"1705.83\" y1=\"1660.37\" x2=\"1681.83\" y2=\"1660.37\" style=\"stroke:#000000; stroke-width:4; stroke-opacity:1\"/>\n",
       "<line clip-path=\"url(#clip202)\" x1=\"1705.83\" y1=\"1649.05\" x2=\"1681.83\" y2=\"1649.05\" style=\"stroke:#000000; stroke-width:4; stroke-opacity:1\"/>\n",
       "<line clip-path=\"url(#clip202)\" x1=\"1903.39\" y1=\"1574.04\" x2=\"1879.39\" y2=\"1574.04\" style=\"stroke:#000000; stroke-width:4; stroke-opacity:1\"/>\n",
       "<line clip-path=\"url(#clip202)\" x1=\"1903.39\" y1=\"1537.59\" x2=\"1879.39\" y2=\"1537.59\" style=\"stroke:#000000; stroke-width:4; stroke-opacity:1\"/>\n",
       "<line clip-path=\"url(#clip202)\" x1=\"2100.95\" y1=\"1499.92\" x2=\"2076.95\" y2=\"1499.92\" style=\"stroke:#000000; stroke-width:4; stroke-opacity:1\"/>\n",
       "<line clip-path=\"url(#clip202)\" x1=\"2100.95\" y1=\"1398.25\" x2=\"2076.95\" y2=\"1398.25\" style=\"stroke:#000000; stroke-width:4; stroke-opacity:1\"/>\n",
       "<line clip-path=\"url(#clip202)\" x1=\"2298.51\" y1=\"1378.31\" x2=\"2274.51\" y2=\"1378.31\" style=\"stroke:#000000; stroke-width:4; stroke-opacity:1\"/>\n",
       "<line clip-path=\"url(#clip202)\" x1=\"2298.51\" y1=\"1176.4\" x2=\"2274.51\" y2=\"1176.4\" style=\"stroke:#000000; stroke-width:4; stroke-opacity:1\"/>\n",
       "<line clip-path=\"url(#clip202)\" x1=\"2496.07\" y1=\"972.989\" x2=\"2472.07\" y2=\"972.989\" style=\"stroke:#000000; stroke-width:4; stroke-opacity:1\"/>\n",
       "<line clip-path=\"url(#clip202)\" x1=\"2496.07\" y1=\"759.054\" x2=\"2472.07\" y2=\"759.054\" style=\"stroke:#000000; stroke-width:4; stroke-opacity:1\"/>\n",
       "<line clip-path=\"url(#clip202)\" x1=\"2693.63\" y1=\"395.907\" x2=\"2669.63\" y2=\"395.907\" style=\"stroke:#000000; stroke-width:4; stroke-opacity:1\"/>\n",
       "<line clip-path=\"url(#clip202)\" x1=\"2693.63\" y1=\"97.2273\" x2=\"2669.63\" y2=\"97.2273\" style=\"stroke:#000000; stroke-width:4; stroke-opacity:1\"/>\n",
       "<polyline clip-path=\"url(#clip202)\" style=\"stroke:#000000; stroke-linecap:butt; stroke-linejoin:round; stroke-width:4; stroke-opacity:1; fill:none\" stroke-dasharray=\"16, 10\" points=\"\n",
       "  310.905,1763.31 508.466,1763.23 706.027,1763.16 903.588,1763.01 1101.15,1762.82 1298.71,1762.67 1496.27,1762.34 1693.83,1761.93 1891.39,1761.48 2088.95,1760.88 \n",
       "  2286.51,1760.1 2484.07,1759.73 2681.63,1759.24 \n",
       "  \"/>\n",
       "<path clip-path=\"url(#clip202)\" d=\"M310.905 1751.31 L298.905 1763.31 L310.905 1775.31 L322.905 1763.31 L310.905 1751.31 Z\" fill=\"#000000\" fill-rule=\"evenodd\" fill-opacity=\"1\" stroke=\"none\"/>\n",
       "<path clip-path=\"url(#clip202)\" d=\"M508.466 1751.23 L496.466 1763.23 L508.466 1775.23 L520.466 1763.23 L508.466 1751.23 Z\" fill=\"#000000\" fill-rule=\"evenodd\" fill-opacity=\"1\" stroke=\"none\"/>\n",
       "<path clip-path=\"url(#clip202)\" d=\"M706.027 1751.16 L694.027 1763.16 L706.027 1775.16 L718.027 1763.16 L706.027 1751.16 Z\" fill=\"#000000\" fill-rule=\"evenodd\" fill-opacity=\"1\" stroke=\"none\"/>\n",
       "<path clip-path=\"url(#clip202)\" d=\"M903.588 1751.01 L891.588 1763.01 L903.588 1775.01 L915.588 1763.01 L903.588 1751.01 Z\" fill=\"#000000\" fill-rule=\"evenodd\" fill-opacity=\"1\" stroke=\"none\"/>\n",
       "<path clip-path=\"url(#clip202)\" d=\"M1101.15 1750.82 L1089.15 1762.82 L1101.15 1774.82 L1113.15 1762.82 L1101.15 1750.82 Z\" fill=\"#000000\" fill-rule=\"evenodd\" fill-opacity=\"1\" stroke=\"none\"/>\n",
       "<path clip-path=\"url(#clip202)\" d=\"M1298.71 1750.67 L1286.71 1762.67 L1298.71 1774.67 L1310.71 1762.67 L1298.71 1750.67 Z\" fill=\"#000000\" fill-rule=\"evenodd\" fill-opacity=\"1\" stroke=\"none\"/>\n",
       "<path clip-path=\"url(#clip202)\" d=\"M1496.27 1750.34 L1484.27 1762.34 L1496.27 1774.34 L1508.27 1762.34 L1496.27 1750.34 Z\" fill=\"#000000\" fill-rule=\"evenodd\" fill-opacity=\"1\" stroke=\"none\"/>\n",
       "<path clip-path=\"url(#clip202)\" d=\"M1693.83 1749.93 L1681.83 1761.93 L1693.83 1773.93 L1705.83 1761.93 L1693.83 1749.93 Z\" fill=\"#000000\" fill-rule=\"evenodd\" fill-opacity=\"1\" stroke=\"none\"/>\n",
       "<path clip-path=\"url(#clip202)\" d=\"M1891.39 1749.48 L1879.39 1761.48 L1891.39 1773.48 L1903.39 1761.48 L1891.39 1749.48 Z\" fill=\"#000000\" fill-rule=\"evenodd\" fill-opacity=\"1\" stroke=\"none\"/>\n",
       "<path clip-path=\"url(#clip202)\" d=\"M2088.95 1748.88 L2076.95 1760.88 L2088.95 1772.88 L2100.95 1760.88 L2088.95 1748.88 Z\" fill=\"#000000\" fill-rule=\"evenodd\" fill-opacity=\"1\" stroke=\"none\"/>\n",
       "<path clip-path=\"url(#clip202)\" d=\"M2286.51 1748.1 L2274.51 1760.1 L2286.51 1772.1 L2298.51 1760.1 L2286.51 1748.1 Z\" fill=\"#000000\" fill-rule=\"evenodd\" fill-opacity=\"1\" stroke=\"none\"/>\n",
       "<path clip-path=\"url(#clip202)\" d=\"M2484.07 1747.73 L2472.07 1759.73 L2484.07 1771.73 L2496.07 1759.73 L2484.07 1747.73 Z\" fill=\"#000000\" fill-rule=\"evenodd\" fill-opacity=\"1\" stroke=\"none\"/>\n",
       "<path clip-path=\"url(#clip202)\" d=\"M2681.63 1747.24 L2669.63 1759.24 L2681.63 1771.24 L2693.63 1759.24 L2681.63 1747.24 Z\" fill=\"#000000\" fill-rule=\"evenodd\" fill-opacity=\"1\" stroke=\"none\"/>\n",
       "<polyline clip-path=\"url(#clip202)\" style=\"stroke:#000000; stroke-linecap:butt; stroke-linejoin:round; stroke-width:4; stroke-opacity:1; fill:none\" stroke-dasharray=\"16, 10\" points=\"\n",
       "  310.905,1763.31 310.905,1763.31 \n",
       "  \"/>\n",
       "<polyline clip-path=\"url(#clip202)\" style=\"stroke:#000000; stroke-linecap:butt; stroke-linejoin:round; stroke-width:4; stroke-opacity:1; fill:none\" stroke-dasharray=\"16, 10\" points=\"\n",
       "  508.466,1763.33 508.466,1763.13 \n",
       "  \"/>\n",
       "<polyline clip-path=\"url(#clip202)\" style=\"stroke:#000000; stroke-linecap:butt; stroke-linejoin:round; stroke-width:4; stroke-opacity:1; fill:none\" stroke-dasharray=\"16, 10\" points=\"\n",
       "  706.027,1763.24 706.027,1763.08 \n",
       "  \"/>\n",
       "<polyline clip-path=\"url(#clip202)\" style=\"stroke:#000000; stroke-linecap:butt; stroke-linejoin:round; stroke-width:4; stroke-opacity:1; fill:none\" stroke-dasharray=\"16, 10\" points=\"\n",
       "  903.588,1763.12 903.588,1762.91 \n",
       "  \"/>\n",
       "<polyline clip-path=\"url(#clip202)\" style=\"stroke:#000000; stroke-linecap:butt; stroke-linejoin:round; stroke-width:4; stroke-opacity:1; fill:none\" stroke-dasharray=\"16, 10\" points=\"\n",
       "  1101.15,1762.92 1101.15,1762.72 \n",
       "  \"/>\n",
       "<polyline clip-path=\"url(#clip202)\" style=\"stroke:#000000; stroke-linecap:butt; stroke-linejoin:round; stroke-width:4; stroke-opacity:1; fill:none\" stroke-dasharray=\"16, 10\" points=\"\n",
       "  1298.71,1762.77 1298.71,1762.57 \n",
       "  \"/>\n",
       "<polyline clip-path=\"url(#clip202)\" style=\"stroke:#000000; stroke-linecap:butt; stroke-linejoin:round; stroke-width:4; stroke-opacity:1; fill:none\" stroke-dasharray=\"16, 10\" points=\"\n",
       "  1496.27,1762.42 1496.27,1762.25 \n",
       "  \"/>\n",
       "<polyline clip-path=\"url(#clip202)\" style=\"stroke:#000000; stroke-linecap:butt; stroke-linejoin:round; stroke-width:4; stroke-opacity:1; fill:none\" stroke-dasharray=\"16, 10\" points=\"\n",
       "  1693.83,1762.03 1693.83,1761.82 \n",
       "  \"/>\n",
       "<polyline clip-path=\"url(#clip202)\" style=\"stroke:#000000; stroke-linecap:butt; stroke-linejoin:round; stroke-width:4; stroke-opacity:1; fill:none\" stroke-dasharray=\"16, 10\" points=\"\n",
       "  1891.39,1761.72 1891.39,1761.23 \n",
       "  \"/>\n",
       "<polyline clip-path=\"url(#clip202)\" style=\"stroke:#000000; stroke-linecap:butt; stroke-linejoin:round; stroke-width:4; stroke-opacity:1; fill:none\" stroke-dasharray=\"16, 10\" points=\"\n",
       "  2088.95,1761.11 2088.95,1760.65 \n",
       "  \"/>\n",
       "<polyline clip-path=\"url(#clip202)\" style=\"stroke:#000000; stroke-linecap:butt; stroke-linejoin:round; stroke-width:4; stroke-opacity:1; fill:none\" stroke-dasharray=\"16, 10\" points=\"\n",
       "  2286.51,1760.25 2286.51,1759.94 \n",
       "  \"/>\n",
       "<polyline clip-path=\"url(#clip202)\" style=\"stroke:#000000; stroke-linecap:butt; stroke-linejoin:round; stroke-width:4; stroke-opacity:1; fill:none\" stroke-dasharray=\"16, 10\" points=\"\n",
       "  2484.07,1760.08 2484.07,1759.37 \n",
       "  \"/>\n",
       "<polyline clip-path=\"url(#clip202)\" style=\"stroke:#000000; stroke-linecap:butt; stroke-linejoin:round; stroke-width:4; stroke-opacity:1; fill:none\" stroke-dasharray=\"16, 10\" points=\"\n",
       "  2681.63,1759.65 2681.63,1758.84 \n",
       "  \"/>\n",
       "<line clip-path=\"url(#clip202)\" x1=\"322.905\" y1=\"1763.31\" x2=\"298.905\" y2=\"1763.31\" style=\"stroke:#000000; stroke-width:4; stroke-opacity:1\"/>\n",
       "<line clip-path=\"url(#clip202)\" x1=\"322.905\" y1=\"1763.31\" x2=\"298.905\" y2=\"1763.31\" style=\"stroke:#000000; stroke-width:4; stroke-opacity:1\"/>\n",
       "<line clip-path=\"url(#clip202)\" x1=\"520.466\" y1=\"1763.33\" x2=\"496.466\" y2=\"1763.33\" style=\"stroke:#000000; stroke-width:4; stroke-opacity:1\"/>\n",
       "<line clip-path=\"url(#clip202)\" x1=\"520.466\" y1=\"1763.13\" x2=\"496.466\" y2=\"1763.13\" style=\"stroke:#000000; stroke-width:4; stroke-opacity:1\"/>\n",
       "<line clip-path=\"url(#clip202)\" x1=\"718.027\" y1=\"1763.24\" x2=\"694.027\" y2=\"1763.24\" style=\"stroke:#000000; stroke-width:4; stroke-opacity:1\"/>\n",
       "<line clip-path=\"url(#clip202)\" x1=\"718.027\" y1=\"1763.08\" x2=\"694.027\" y2=\"1763.08\" style=\"stroke:#000000; stroke-width:4; stroke-opacity:1\"/>\n",
       "<line clip-path=\"url(#clip202)\" x1=\"915.588\" y1=\"1763.12\" x2=\"891.588\" y2=\"1763.12\" style=\"stroke:#000000; stroke-width:4; stroke-opacity:1\"/>\n",
       "<line clip-path=\"url(#clip202)\" x1=\"915.588\" y1=\"1762.91\" x2=\"891.588\" y2=\"1762.91\" style=\"stroke:#000000; stroke-width:4; stroke-opacity:1\"/>\n",
       "<line clip-path=\"url(#clip202)\" x1=\"1113.15\" y1=\"1762.92\" x2=\"1089.15\" y2=\"1762.92\" style=\"stroke:#000000; stroke-width:4; stroke-opacity:1\"/>\n",
       "<line clip-path=\"url(#clip202)\" x1=\"1113.15\" y1=\"1762.72\" x2=\"1089.15\" y2=\"1762.72\" style=\"stroke:#000000; stroke-width:4; stroke-opacity:1\"/>\n",
       "<line clip-path=\"url(#clip202)\" x1=\"1310.71\" y1=\"1762.77\" x2=\"1286.71\" y2=\"1762.77\" style=\"stroke:#000000; stroke-width:4; stroke-opacity:1\"/>\n",
       "<line clip-path=\"url(#clip202)\" x1=\"1310.71\" y1=\"1762.57\" x2=\"1286.71\" y2=\"1762.57\" style=\"stroke:#000000; stroke-width:4; stroke-opacity:1\"/>\n",
       "<line clip-path=\"url(#clip202)\" x1=\"1508.27\" y1=\"1762.42\" x2=\"1484.27\" y2=\"1762.42\" style=\"stroke:#000000; stroke-width:4; stroke-opacity:1\"/>\n",
       "<line clip-path=\"url(#clip202)\" x1=\"1508.27\" y1=\"1762.25\" x2=\"1484.27\" y2=\"1762.25\" style=\"stroke:#000000; stroke-width:4; stroke-opacity:1\"/>\n",
       "<line clip-path=\"url(#clip202)\" x1=\"1705.83\" y1=\"1762.03\" x2=\"1681.83\" y2=\"1762.03\" style=\"stroke:#000000; stroke-width:4; stroke-opacity:1\"/>\n",
       "<line clip-path=\"url(#clip202)\" x1=\"1705.83\" y1=\"1761.82\" x2=\"1681.83\" y2=\"1761.82\" style=\"stroke:#000000; stroke-width:4; stroke-opacity:1\"/>\n",
       "<line clip-path=\"url(#clip202)\" x1=\"1903.39\" y1=\"1761.72\" x2=\"1879.39\" y2=\"1761.72\" style=\"stroke:#000000; stroke-width:4; stroke-opacity:1\"/>\n",
       "<line clip-path=\"url(#clip202)\" x1=\"1903.39\" y1=\"1761.23\" x2=\"1879.39\" y2=\"1761.23\" style=\"stroke:#000000; stroke-width:4; stroke-opacity:1\"/>\n",
       "<line clip-path=\"url(#clip202)\" x1=\"2100.95\" y1=\"1761.11\" x2=\"2076.95\" y2=\"1761.11\" style=\"stroke:#000000; stroke-width:4; stroke-opacity:1\"/>\n",
       "<line clip-path=\"url(#clip202)\" x1=\"2100.95\" y1=\"1760.65\" x2=\"2076.95\" y2=\"1760.65\" style=\"stroke:#000000; stroke-width:4; stroke-opacity:1\"/>\n",
       "<line clip-path=\"url(#clip202)\" x1=\"2298.51\" y1=\"1760.25\" x2=\"2274.51\" y2=\"1760.25\" style=\"stroke:#000000; stroke-width:4; stroke-opacity:1\"/>\n",
       "<line clip-path=\"url(#clip202)\" x1=\"2298.51\" y1=\"1759.94\" x2=\"2274.51\" y2=\"1759.94\" style=\"stroke:#000000; stroke-width:4; stroke-opacity:1\"/>\n",
       "<line clip-path=\"url(#clip202)\" x1=\"2496.07\" y1=\"1760.08\" x2=\"2472.07\" y2=\"1760.08\" style=\"stroke:#000000; stroke-width:4; stroke-opacity:1\"/>\n",
       "<line clip-path=\"url(#clip202)\" x1=\"2496.07\" y1=\"1759.37\" x2=\"2472.07\" y2=\"1759.37\" style=\"stroke:#000000; stroke-width:4; stroke-opacity:1\"/>\n",
       "<line clip-path=\"url(#clip202)\" x1=\"2693.63\" y1=\"1759.65\" x2=\"2669.63\" y2=\"1759.65\" style=\"stroke:#000000; stroke-width:4; stroke-opacity:1\"/>\n",
       "<line clip-path=\"url(#clip202)\" x1=\"2693.63\" y1=\"1758.84\" x2=\"2669.63\" y2=\"1758.84\" style=\"stroke:#000000; stroke-width:4; stroke-opacity:1\"/>\n",
       "<path clip-path=\"url(#clip200)\" d=\"\n",
       "M323.549 261.633 L915.336 261.633 L915.336 106.113 L323.549 106.113  Z\n",
       "  \" fill=\"#ffffff\" fill-rule=\"evenodd\" fill-opacity=\"1\"/>\n",
       "<polyline clip-path=\"url(#clip200)\" style=\"stroke:#000000; stroke-linecap:butt; stroke-linejoin:round; stroke-width:4; stroke-opacity:1; fill:none\" points=\"\n",
       "  323.549,261.633 915.336,261.633 915.336,106.113 323.549,106.113 323.549,261.633 \n",
       "  \"/>\n",
       "<polyline clip-path=\"url(#clip200)\" style=\"stroke:#000000; stroke-linecap:butt; stroke-linejoin:round; stroke-width:4; stroke-opacity:1; fill:none\" stroke-dasharray=\"16, 10\" points=\"\n",
       "  351.471,157.953 519.003,157.953 \n",
       "  \"/>\n",
       "<path clip-path=\"url(#clip200)\" d=\"M409.637 132.353 L409.637 183.553 L460.837 183.553 L460.837 132.353 L409.637 132.353 Z\" fill=\"#000000\" fill-rule=\"evenodd\" fill-opacity=\"1\" stroke=\"none\"/>\n",
       "<path clip-path=\"url(#clip200)\" d=\"M569.17 141.807 L569.17 146.368 Q566.508 145.094 564.147 144.469 Q561.786 143.844 559.587 143.844 Q555.767 143.844 553.684 145.326 Q551.624 146.807 551.624 149.539 Q551.624 151.831 552.989 153.011 Q554.378 154.168 558.221 154.886 L561.045 155.465 Q566.276 156.46 568.753 158.983 Q571.253 161.483 571.253 165.696 Q571.253 170.719 567.874 173.312 Q564.517 175.904 558.013 175.904 Q555.559 175.904 552.781 175.349 Q550.027 174.793 547.064 173.705 L547.064 168.891 Q549.911 170.488 552.642 171.298 Q555.374 172.108 558.013 172.108 Q562.017 172.108 564.193 170.534 Q566.369 168.96 566.369 166.043 Q566.369 163.497 564.795 162.062 Q563.244 160.627 559.679 159.909 L556.832 159.354 Q551.601 158.312 549.263 156.09 Q546.925 153.868 546.925 149.909 Q546.925 145.326 550.142 142.687 Q553.383 140.048 559.054 140.048 Q561.485 140.048 564.008 140.488 Q566.531 140.928 569.17 141.807 Z\" fill=\"#000000\" fill-rule=\"evenodd\" fill-opacity=\"1\" /><path clip-path=\"url(#clip200)\" d=\"M583.221 144.516 L583.221 171.391 L588.869 171.391 Q596.022 171.391 599.332 168.15 Q602.665 164.909 602.665 157.918 Q602.665 150.974 599.332 147.756 Q596.022 144.516 588.869 144.516 L583.221 144.516 M578.545 140.673 L588.151 140.673 Q598.198 140.673 602.897 144.863 Q607.596 149.03 607.596 157.918 Q607.596 166.854 602.873 171.043 Q598.151 175.233 588.151 175.233 L578.545 175.233 L578.545 140.673 Z\" fill=\"#000000\" fill-rule=\"evenodd\" fill-opacity=\"1\" /><path clip-path=\"url(#clip200)\" d=\"M619.725 144.516 L619.725 157.502 L625.605 157.502 Q628.869 157.502 630.651 155.812 Q632.433 154.122 632.433 150.997 Q632.433 147.895 630.651 146.206 Q628.869 144.516 625.605 144.516 L619.725 144.516 M615.049 140.673 L625.605 140.673 Q631.415 140.673 634.378 143.312 Q637.364 145.928 637.364 150.997 Q637.364 156.113 634.378 158.729 Q631.415 161.344 625.605 161.344 L619.725 161.344 L619.725 175.233 L615.049 175.233 L615.049 140.673 Z\" fill=\"#000000\" fill-rule=\"evenodd\" fill-opacity=\"1\" /><path clip-path=\"url(#clip200)\" d=\"M663.151 183.104 L663.151 186.414 L638.521 186.414 L638.521 183.104 L663.151 183.104 Z\" fill=\"#000000\" fill-rule=\"evenodd\" fill-opacity=\"1\" /><path clip-path=\"url(#clip200)\" d=\"M671.368 141.946 L671.368 149.307 L680.142 149.307 L680.142 152.618 L671.368 152.618 L671.368 166.692 Q671.368 169.863 672.225 170.766 Q673.105 171.668 675.767 171.668 L680.142 171.668 L680.142 175.233 L675.767 175.233 Q670.836 175.233 668.961 173.404 Q667.086 171.553 667.086 166.692 L667.086 152.618 L663.961 152.618 L663.961 149.307 L667.086 149.307 L667.086 141.946 L671.368 141.946 Z\" fill=\"#000000\" fill-rule=\"evenodd\" fill-opacity=\"1\" /><path clip-path=\"url(#clip200)\" d=\"M685.743 149.307 L690.003 149.307 L690.003 175.233 L685.743 175.233 L685.743 149.307 M685.743 139.215 L690.003 139.215 L690.003 144.608 L685.743 144.608 L685.743 139.215 Z\" fill=\"#000000\" fill-rule=\"evenodd\" fill-opacity=\"1\" /><path clip-path=\"url(#clip200)\" d=\"M719.1 154.284 Q720.697 151.414 722.919 150.048 Q725.141 148.682 728.151 148.682 Q732.201 148.682 734.401 151.53 Q736.6 154.354 736.6 159.585 L736.6 175.233 L732.317 175.233 L732.317 159.724 Q732.317 155.997 730.998 154.192 Q729.678 152.386 726.97 152.386 Q723.66 152.386 721.739 154.585 Q719.817 156.784 719.817 160.58 L719.817 175.233 L715.535 175.233 L715.535 159.724 Q715.535 155.974 714.215 154.192 Q712.896 152.386 710.141 152.386 Q706.878 152.386 704.956 154.608 Q703.035 156.807 703.035 160.58 L703.035 175.233 L698.753 175.233 L698.753 149.307 L703.035 149.307 L703.035 153.335 Q704.493 150.951 706.53 149.817 Q708.567 148.682 711.368 148.682 Q714.192 148.682 716.16 150.118 Q718.151 151.553 719.1 154.284 Z\" fill=\"#000000\" fill-rule=\"evenodd\" fill-opacity=\"1\" /><path clip-path=\"url(#clip200)\" d=\"M767.271 161.205 L767.271 163.289 L747.688 163.289 Q747.965 167.687 750.326 170.002 Q752.711 172.293 756.947 172.293 Q759.4 172.293 761.692 171.692 Q764.007 171.09 766.275 169.886 L766.275 173.914 Q763.984 174.886 761.576 175.395 Q759.169 175.904 756.692 175.904 Q750.488 175.904 746.854 172.293 Q743.243 168.682 743.243 162.525 Q743.243 156.159 746.669 152.432 Q750.118 148.682 755.951 148.682 Q761.183 148.682 764.215 152.062 Q767.271 155.418 767.271 161.205 M763.011 159.955 Q762.965 156.46 761.044 154.377 Q759.146 152.293 755.998 152.293 Q752.433 152.293 750.28 154.307 Q748.15 156.321 747.826 159.979 L763.011 159.955 Z\" fill=\"#000000\" fill-rule=\"evenodd\" fill-opacity=\"1\" /><polyline clip-path=\"url(#clip200)\" style=\"stroke:#000000; stroke-linecap:butt; stroke-linejoin:round; stroke-width:4; stroke-opacity:1; fill:none\" stroke-dasharray=\"16, 10\" points=\"\n",
       "  351.471,209.793 519.003,209.793 \n",
       "  \"/>\n",
       "<path clip-path=\"url(#clip200)\" d=\"M435.237 184.193 L409.637 209.793 L435.237 235.393 L460.837 209.793 L435.237 184.193 Z\" fill=\"#000000\" fill-rule=\"evenodd\" fill-opacity=\"1\" stroke=\"none\"/>\n",
       "<path clip-path=\"url(#clip200)\" d=\"M546.925 192.513 L568.776 192.513 L568.776 196.448 L551.601 196.448 L551.601 206.68 L568.059 206.68 L568.059 210.615 L551.601 210.615 L551.601 223.138 L569.193 223.138 L569.193 227.073 L546.925 227.073 L546.925 192.513 Z\" fill=\"#000000\" fill-rule=\"evenodd\" fill-opacity=\"1\" /><path clip-path=\"url(#clip200)\" d=\"M576.693 201.147 L580.952 201.147 L580.952 227.073 L576.693 227.073 L576.693 201.147 M576.693 191.055 L580.952 191.055 L580.952 196.448 L576.693 196.448 L576.693 191.055 Z\" fill=\"#000000\" fill-rule=\"evenodd\" fill-opacity=\"1\" /><path clip-path=\"url(#clip200)\" d=\"M606.924 213.809 Q606.924 209.18 605.003 206.633 Q603.105 204.087 599.656 204.087 Q596.23 204.087 594.309 206.633 Q592.411 209.18 592.411 213.809 Q592.411 218.416 594.309 220.962 Q596.23 223.508 599.656 223.508 Q603.105 223.508 605.003 220.962 Q606.924 218.416 606.924 213.809 M611.184 223.856 Q611.184 230.476 608.244 233.694 Q605.304 236.934 599.239 236.934 Q596.994 236.934 595.003 236.587 Q593.012 236.263 591.137 235.569 L591.137 231.425 Q593.012 232.444 594.841 232.93 Q596.67 233.416 598.568 233.416 Q602.758 233.416 604.841 231.217 Q606.924 229.041 606.924 224.62 L606.924 222.513 Q605.605 224.805 603.545 225.939 Q601.485 227.073 598.614 227.073 Q593.846 227.073 590.929 223.439 Q588.012 219.805 588.012 213.809 Q588.012 207.791 590.929 204.157 Q593.846 200.522 598.614 200.522 Q601.485 200.522 603.545 201.657 Q605.605 202.791 606.924 205.083 L606.924 201.147 L611.184 201.147 L611.184 223.856 Z\" fill=\"#000000\" fill-rule=\"evenodd\" fill-opacity=\"1\" /><path clip-path=\"url(#clip200)\" d=\"M642.133 213.045 L642.133 215.129 L622.549 215.129 Q622.827 219.527 625.188 221.842 Q627.572 224.133 631.808 224.133 Q634.262 224.133 636.554 223.532 Q638.869 222.93 641.137 221.726 L641.137 225.754 Q638.845 226.726 636.438 227.235 Q634.031 227.744 631.554 227.744 Q625.35 227.744 621.716 224.133 Q618.105 220.522 618.105 214.365 Q618.105 207.999 621.531 204.272 Q624.98 200.522 630.813 200.522 Q636.045 200.522 639.077 203.902 Q642.133 207.258 642.133 213.045 M637.873 211.795 Q637.827 208.3 635.906 206.217 Q634.008 204.133 630.859 204.133 Q627.295 204.133 625.142 206.147 Q623.012 208.161 622.688 211.819 L637.873 211.795 Z\" fill=\"#000000\" fill-rule=\"evenodd\" fill-opacity=\"1\" /><path clip-path=\"url(#clip200)\" d=\"M670.674 211.425 L670.674 227.073 L666.415 227.073 L666.415 211.564 Q666.415 207.883 664.98 206.055 Q663.544 204.226 660.674 204.226 Q657.225 204.226 655.234 206.425 Q653.244 208.624 653.244 212.42 L653.244 227.073 L648.961 227.073 L648.961 201.147 L653.244 201.147 L653.244 205.175 Q654.771 202.837 656.832 201.68 Q658.915 200.522 661.623 200.522 Q666.091 200.522 668.382 203.3 Q670.674 206.055 670.674 211.425 Z\" fill=\"#000000\" fill-rule=\"evenodd\" fill-opacity=\"1\" /><path clip-path=\"url(#clip200)\" d=\"M679.355 192.513 L684.03 192.513 L684.03 223.138 L700.859 223.138 L700.859 227.073 L679.355 227.073 L679.355 192.513 Z\" fill=\"#000000\" fill-rule=\"evenodd\" fill-opacity=\"1\" /><path clip-path=\"url(#clip200)\" d=\"M709.702 223.184 L709.702 236.934 L705.419 236.934 L705.419 201.147 L709.702 201.147 L709.702 205.083 Q711.044 202.768 713.081 201.657 Q715.141 200.522 717.989 200.522 Q722.711 200.522 725.651 204.272 Q728.614 208.022 728.614 214.133 Q728.614 220.245 725.651 223.995 Q722.711 227.744 717.989 227.744 Q715.141 227.744 713.081 226.633 Q711.044 225.499 709.702 223.184 M724.192 214.133 Q724.192 209.434 722.248 206.772 Q720.327 204.087 716.947 204.087 Q713.567 204.087 711.623 206.772 Q709.702 209.434 709.702 214.133 Q709.702 218.832 711.623 221.518 Q713.567 224.18 716.947 224.18 Q720.327 224.18 722.248 221.518 Q724.192 218.832 724.192 214.133 Z\" fill=\"#000000\" fill-rule=\"evenodd\" fill-opacity=\"1\" /><path clip-path=\"url(#clip200)\" d=\"M755.373 234.944 L755.373 238.254 L730.743 238.254 L730.743 234.944 L755.373 234.944 Z\" fill=\"#000000\" fill-rule=\"evenodd\" fill-opacity=\"1\" /><path clip-path=\"url(#clip200)\" d=\"M763.59 193.786 L763.59 201.147 L772.363 201.147 L772.363 204.458 L763.59 204.458 L763.59 218.532 Q763.59 221.703 764.447 222.606 Q765.326 223.508 767.988 223.508 L772.363 223.508 L772.363 227.073 L767.988 227.073 Q763.058 227.073 761.183 225.244 Q759.308 223.393 759.308 218.532 L759.308 204.458 L756.183 204.458 L756.183 201.147 L759.308 201.147 L759.308 193.786 L763.59 193.786 Z\" fill=\"#000000\" fill-rule=\"evenodd\" fill-opacity=\"1\" /><path clip-path=\"url(#clip200)\" d=\"M777.965 201.147 L782.224 201.147 L782.224 227.073 L777.965 227.073 L777.965 201.147 M777.965 191.055 L782.224 191.055 L782.224 196.448 L777.965 196.448 L777.965 191.055 Z\" fill=\"#000000\" fill-rule=\"evenodd\" fill-opacity=\"1\" /><path clip-path=\"url(#clip200)\" d=\"M811.321 206.124 Q812.919 203.254 815.141 201.888 Q817.363 200.522 820.372 200.522 Q824.423 200.522 826.622 203.37 Q828.821 206.194 828.821 211.425 L828.821 227.073 L824.539 227.073 L824.539 211.564 Q824.539 207.837 823.22 206.032 Q821.9 204.226 819.192 204.226 Q815.882 204.226 813.96 206.425 Q812.039 208.624 812.039 212.42 L812.039 227.073 L807.757 227.073 L807.757 211.564 Q807.757 207.814 806.437 206.032 Q805.118 204.226 802.363 204.226 Q799.099 204.226 797.178 206.448 Q795.257 208.647 795.257 212.42 L795.257 227.073 L790.974 227.073 L790.974 201.147 L795.257 201.147 L795.257 205.175 Q796.715 202.791 798.752 201.657 Q800.789 200.522 803.59 200.522 Q806.414 200.522 808.382 201.958 Q810.372 203.393 811.321 206.124 Z\" fill=\"#000000\" fill-rule=\"evenodd\" fill-opacity=\"1\" /><path clip-path=\"url(#clip200)\" d=\"M859.492 213.045 L859.492 215.129 L839.909 215.129 Q840.187 219.527 842.548 221.842 Q844.932 224.133 849.168 224.133 Q851.622 224.133 853.914 223.532 Q856.229 222.93 858.497 221.726 L858.497 225.754 Q856.205 226.726 853.798 227.235 Q851.391 227.744 848.914 227.744 Q842.71 227.744 839.076 224.133 Q835.465 220.522 835.465 214.365 Q835.465 207.999 838.891 204.272 Q842.34 200.522 848.173 200.522 Q853.405 200.522 856.437 203.902 Q859.492 207.258 859.492 213.045 M855.233 211.795 Q855.187 208.3 853.266 206.217 Q851.368 204.133 848.219 204.133 Q844.655 204.133 842.502 206.147 Q840.372 208.161 840.048 211.819 L855.233 211.795 Z\" fill=\"#000000\" fill-rule=\"evenodd\" fill-opacity=\"1\" /></svg>\n"
      ]
     },
     "execution_count": 56,
     "metadata": {},
     "output_type": "execute_result"
    }
   ],
   "source": [
    "σs = (timeExperimentsSDP[:,3],timeExperimentsSDP[:,3])\n",
    "#plot(timeExperimentsSDP[:,1],timeExperimentsSDP[:,2],grid=true,ribbon=σs,fillalpha=.1,label =  [\"LTn/Tn\"],legend=:topleft,xaxis =\"size of graph\")\n",
    "#p = plot(timeExperimentsSDP[1,:],timeExperimentsSDP[2,:],grid=true,legend=:topleft,ribbon=σs,labels=\"SDP_time\",seriestype = :scatter,xlabel= \"size of matrix\",ylabel=\"time in seconds\")\n",
    "plotComparedResults= plot(timeExperimentsSDP[1,:],timeExperimentsSDP[2,:],marker=(:square, 3, 1.), label =(\"SDP_time\"),legend=:topleft,xaxis =\"size of matrix\",yaxis=\"time in seconds\" ,size = (700, 500),linestyle=:dash,yerror =(timeExperimentsSDP[3,:],timeExperimentsSDP[3,:]),colour=\"black\"  )\n",
    "\n",
    "#plotComparedResults= plot(comparedResults[1,:],transpose(comparedResults[2:7,:]), label =  [\"Lp/sdp Med\" \"Lp/sdp Max\" \"Lp/sdp Min\" \"Eig/sdp Med\" \"Eig/sdp Max\" \"Eig/sdp Min\"   ],title = \"LpOpt,EigOpt over SDPopt as NumCuts grows\",legend=:topright,xaxis =\"cuts\",yaxis=:log ,size = (700, 500),line = (1, styles))\n",
    " \n",
    "#plotComparedResults= \n",
    "# plot!(comparedResults[1,:],transpose(comparedResults[5:7,:]), label =  [\"opt/sdp Mean\" \"opt/sdp Max\" \"opt/sdp Min\"   ],title = \"Quotient of LpOpt and SDPopt as NumCuts grows\",legend=:bottomleft,xaxis =\"cuts\",yaxis=\"Lp/SDP\" ,size = (700, 500),line = (1, styles))\n",
    "plot!(timeExperimentsLP[1,:],timeExperimentsLP[2,:],marker=(:diamond, 3, 1.), label =(\"EigenLp_time\"),legend=:topleft,xaxis =\"size of matrix\",yaxis=\"time in seconds\" ,size = (700, 500),linestyle=:dash,yerror =(timeExperimentsLP[3,:],timeExperimentsLP[3,:]),colour=\"black\"  )\n"
   ]
  },
  {
   "cell_type": "code",
   "execution_count": 54,
   "id": "7e2f2f2d",
   "metadata": {},
   "outputs": [
    {
     "data": {
      "text/plain": [
       "5×19 Matrix{Float64}:\n",
       " 10.0         15.0         20.0         …  95.0        100.0\n",
       "  0.0094       0.022        0.0752          2.7018       3.1762\n",
       "  0.00859069   0.0139821    0.00687023      0.0637197    0.107085\n",
       "  0.00015028   0.0002502    0.013156        0.316278     0.38535\n",
       "  3.55114e-5   5.81722e-6   0.00698092      0.0109836    0.00818621"
      ]
     },
     "execution_count": 54,
     "metadata": {},
     "output_type": "execute_result"
    }
   ],
   "source": [
    "timeResults = compareTimes(100,10,5)\n"
   ]
  },
  {
   "cell_type": "code",
   "execution_count": 55,
   "id": "d6ce84fd",
   "metadata": {},
   "outputs": [
    {
     "data": {
      "image/svg+xml": [
       "<?xml version=\"1.0\" encoding=\"utf-8\"?>\n",
       "<svg xmlns=\"http://www.w3.org/2000/svg\" xmlns:xlink=\"http://www.w3.org/1999/xlink\" width=\"700\" height=\"500\" viewBox=\"0 0 2800 2000\">\n",
       "<defs>\n",
       "  <clipPath id=\"clip160\">\n",
       "    <rect x=\"0\" y=\"0\" width=\"2800\" height=\"2000\"/>\n",
       "  </clipPath>\n",
       "</defs>\n",
       "<path clip-path=\"url(#clip160)\" d=\"\n",
       "M0 2000 L2800 2000 L2800 0 L0 0  Z\n",
       "  \" fill=\"#ffffff\" fill-rule=\"evenodd\" fill-opacity=\"1\"/>\n",
       "<defs>\n",
       "  <clipPath id=\"clip161\">\n",
       "    <rect x=\"560\" y=\"0\" width=\"1961\" height=\"1961\"/>\n",
       "  </clipPath>\n",
       "</defs>\n",
       "<path clip-path=\"url(#clip160)\" d=\"\n",
       "M181.543 1813.32 L2752.76 1813.32 L2752.76 47.2441 L181.543 47.2441  Z\n",
       "  \" fill=\"#ffffff\" fill-rule=\"evenodd\" fill-opacity=\"1\"/>\n",
       "<defs>\n",
       "  <clipPath id=\"clip162\">\n",
       "    <rect x=\"181\" y=\"47\" width=\"2572\" height=\"1767\"/>\n",
       "  </clipPath>\n",
       "</defs>\n",
       "<polyline clip-path=\"url(#clip162)\" style=\"stroke:#000000; stroke-linecap:butt; stroke-linejoin:round; stroke-width:2; stroke-opacity:0.1; fill:none\" points=\"\n",
       "  523.833,1813.32 523.833,47.2441 \n",
       "  \"/>\n",
       "<polyline clip-path=\"url(#clip162)\" style=\"stroke:#000000; stroke-linecap:butt; stroke-linejoin:round; stroke-width:2; stroke-opacity:0.1; fill:none\" points=\"\n",
       "  1062.87,1813.32 1062.87,47.2441 \n",
       "  \"/>\n",
       "<polyline clip-path=\"url(#clip162)\" style=\"stroke:#000000; stroke-linecap:butt; stroke-linejoin:round; stroke-width:2; stroke-opacity:0.1; fill:none\" points=\"\n",
       "  1601.91,1813.32 1601.91,47.2441 \n",
       "  \"/>\n",
       "<polyline clip-path=\"url(#clip162)\" style=\"stroke:#000000; stroke-linecap:butt; stroke-linejoin:round; stroke-width:2; stroke-opacity:0.1; fill:none\" points=\"\n",
       "  2140.95,1813.32 2140.95,47.2441 \n",
       "  \"/>\n",
       "<polyline clip-path=\"url(#clip162)\" style=\"stroke:#000000; stroke-linecap:butt; stroke-linejoin:round; stroke-width:2; stroke-opacity:0.1; fill:none\" points=\"\n",
       "  2679.99,1813.32 2679.99,47.2441 \n",
       "  \"/>\n",
       "<polyline clip-path=\"url(#clip160)\" style=\"stroke:#000000; stroke-linecap:butt; stroke-linejoin:round; stroke-width:4; stroke-opacity:1; fill:none\" points=\"\n",
       "  181.543,1813.32 2752.76,1813.32 \n",
       "  \"/>\n",
       "<polyline clip-path=\"url(#clip160)\" style=\"stroke:#000000; stroke-linecap:butt; stroke-linejoin:round; stroke-width:4; stroke-opacity:1; fill:none\" points=\"\n",
       "  523.833,1813.32 523.833,1794.42 \n",
       "  \"/>\n",
       "<polyline clip-path=\"url(#clip160)\" style=\"stroke:#000000; stroke-linecap:butt; stroke-linejoin:round; stroke-width:4; stroke-opacity:1; fill:none\" points=\"\n",
       "  1062.87,1813.32 1062.87,1794.42 \n",
       "  \"/>\n",
       "<polyline clip-path=\"url(#clip160)\" style=\"stroke:#000000; stroke-linecap:butt; stroke-linejoin:round; stroke-width:4; stroke-opacity:1; fill:none\" points=\"\n",
       "  1601.91,1813.32 1601.91,1794.42 \n",
       "  \"/>\n",
       "<polyline clip-path=\"url(#clip160)\" style=\"stroke:#000000; stroke-linecap:butt; stroke-linejoin:round; stroke-width:4; stroke-opacity:1; fill:none\" points=\"\n",
       "  2140.95,1813.32 2140.95,1794.42 \n",
       "  \"/>\n",
       "<polyline clip-path=\"url(#clip160)\" style=\"stroke:#000000; stroke-linecap:butt; stroke-linejoin:round; stroke-width:4; stroke-opacity:1; fill:none\" points=\"\n",
       "  2679.99,1813.32 2679.99,1794.42 \n",
       "  \"/>\n",
       "<path clip-path=\"url(#clip160)\" d=\"M502.606 1874.98 L518.925 1874.98 L518.925 1878.92 L496.981 1878.92 L496.981 1874.98 Q499.643 1872.23 504.226 1867.6 Q508.833 1862.94 510.013 1861.6 Q512.259 1859.08 513.138 1857.34 Q514.041 1855.58 514.041 1853.89 Q514.041 1851.14 512.096 1849.4 Q510.175 1847.67 507.073 1847.67 Q504.874 1847.67 502.421 1848.43 Q499.99 1849.19 497.212 1850.75 L497.212 1846.02 Q500.036 1844.89 502.49 1844.31 Q504.944 1843.73 506.981 1843.73 Q512.351 1843.73 515.546 1846.42 Q518.74 1849.1 518.74 1853.59 Q518.74 1855.72 517.93 1857.64 Q517.143 1859.54 515.036 1862.13 Q514.458 1862.81 511.356 1866.02 Q508.254 1869.22 502.606 1874.98 Z\" fill=\"#000000\" fill-rule=\"evenodd\" fill-opacity=\"1\" /><path clip-path=\"url(#clip160)\" d=\"M538.74 1847.44 Q535.129 1847.44 533.3 1851 Q531.495 1854.54 531.495 1861.67 Q531.495 1868.78 533.3 1872.34 Q535.129 1875.88 538.74 1875.88 Q542.374 1875.88 544.18 1872.34 Q546.008 1868.78 546.008 1861.67 Q546.008 1854.54 544.18 1851 Q542.374 1847.44 538.74 1847.44 M538.74 1843.73 Q544.55 1843.73 547.606 1848.34 Q550.684 1852.92 550.684 1861.67 Q550.684 1870.4 547.606 1875 Q544.55 1879.59 538.74 1879.59 Q532.93 1879.59 529.851 1875 Q526.795 1870.4 526.795 1861.67 Q526.795 1852.92 529.851 1848.34 Q532.93 1843.73 538.74 1843.73 Z\" fill=\"#000000\" fill-rule=\"evenodd\" fill-opacity=\"1\" /><path clip-path=\"url(#clip160)\" d=\"M1051.04 1848.43 L1039.24 1866.88 L1051.04 1866.88 L1051.04 1848.43 M1049.82 1844.36 L1055.69 1844.36 L1055.69 1866.88 L1060.63 1866.88 L1060.63 1870.77 L1055.69 1870.77 L1055.69 1878.92 L1051.04 1878.92 L1051.04 1870.77 L1035.44 1870.77 L1035.44 1866.26 L1049.82 1844.36 Z\" fill=\"#000000\" fill-rule=\"evenodd\" fill-opacity=\"1\" /><path clip-path=\"url(#clip160)\" d=\"M1078.36 1847.44 Q1074.75 1847.44 1072.92 1851 Q1071.11 1854.54 1071.11 1861.67 Q1071.11 1868.78 1072.92 1872.34 Q1074.75 1875.88 1078.36 1875.88 Q1081.99 1875.88 1083.8 1872.34 Q1085.63 1868.78 1085.63 1861.67 Q1085.63 1854.54 1083.8 1851 Q1081.99 1847.44 1078.36 1847.44 M1078.36 1843.73 Q1084.17 1843.73 1087.22 1848.34 Q1090.3 1852.92 1090.3 1861.67 Q1090.3 1870.4 1087.22 1875 Q1084.17 1879.59 1078.36 1879.59 Q1072.55 1879.59 1069.47 1875 Q1066.41 1870.4 1066.41 1861.67 Q1066.41 1852.92 1069.47 1848.34 Q1072.55 1843.73 1078.36 1843.73 Z\" fill=\"#000000\" fill-rule=\"evenodd\" fill-opacity=\"1\" /><path clip-path=\"url(#clip160)\" d=\"M1587.31 1859.77 Q1584.17 1859.77 1582.31 1861.93 Q1580.49 1864.08 1580.49 1867.83 Q1580.49 1871.56 1582.31 1873.73 Q1584.17 1875.88 1587.31 1875.88 Q1590.46 1875.88 1592.29 1873.73 Q1594.14 1871.56 1594.14 1867.83 Q1594.14 1864.08 1592.29 1861.93 Q1590.46 1859.77 1587.31 1859.77 M1596.6 1845.12 L1596.6 1849.38 Q1594.84 1848.55 1593.03 1848.11 Q1591.25 1847.67 1589.49 1847.67 Q1584.86 1847.67 1582.41 1850.79 Q1579.98 1853.92 1579.63 1860.24 Q1580.99 1858.22 1583.06 1857.16 Q1585.12 1856.07 1587.59 1856.07 Q1592.8 1856.07 1595.81 1859.24 Q1598.84 1862.39 1598.84 1867.83 Q1598.84 1873.15 1595.69 1876.37 Q1592.55 1879.59 1587.31 1879.59 Q1581.32 1879.59 1578.15 1875 Q1574.98 1870.4 1574.98 1861.67 Q1574.98 1853.48 1578.87 1848.62 Q1582.75 1843.73 1589.31 1843.73 Q1591.06 1843.73 1592.85 1844.08 Q1594.65 1844.43 1596.6 1845.12 Z\" fill=\"#000000\" fill-rule=\"evenodd\" fill-opacity=\"1\" /><path clip-path=\"url(#clip160)\" d=\"M1616.9 1847.44 Q1613.29 1847.44 1611.46 1851 Q1609.65 1854.54 1609.65 1861.67 Q1609.65 1868.78 1611.46 1872.34 Q1613.29 1875.88 1616.9 1875.88 Q1620.53 1875.88 1622.34 1872.34 Q1624.17 1868.78 1624.17 1861.67 Q1624.17 1854.54 1622.34 1851 Q1620.53 1847.44 1616.9 1847.44 M1616.9 1843.73 Q1622.71 1843.73 1625.76 1848.34 Q1628.84 1852.92 1628.84 1861.67 Q1628.84 1870.4 1625.76 1875 Q1622.71 1879.59 1616.9 1879.59 Q1611.09 1879.59 1608.01 1875 Q1604.95 1870.4 1604.95 1861.67 Q1604.95 1852.92 1608.01 1848.34 Q1611.09 1843.73 1616.9 1843.73 Z\" fill=\"#000000\" fill-rule=\"evenodd\" fill-opacity=\"1\" /><path clip-path=\"url(#clip160)\" d=\"M2125.82 1862.51 Q2122.49 1862.51 2120.57 1864.29 Q2118.67 1866.07 2118.67 1869.19 Q2118.67 1872.32 2120.57 1874.1 Q2122.49 1875.88 2125.82 1875.88 Q2129.15 1875.88 2131.07 1874.1 Q2133 1872.3 2133 1869.19 Q2133 1866.07 2131.07 1864.29 Q2129.18 1862.51 2125.82 1862.51 M2121.14 1860.51 Q2118.14 1859.77 2116.45 1857.71 Q2114.78 1855.65 2114.78 1852.69 Q2114.78 1848.55 2117.72 1846.14 Q2120.68 1843.73 2125.82 1843.73 Q2130.98 1843.73 2133.92 1846.14 Q2136.86 1848.55 2136.86 1852.69 Q2136.86 1855.65 2135.17 1857.71 Q2133.51 1859.77 2130.52 1860.51 Q2133.9 1861.3 2135.77 1863.59 Q2137.67 1865.88 2137.67 1869.19 Q2137.67 1874.22 2134.59 1876.9 Q2131.54 1879.59 2125.82 1879.59 Q2120.1 1879.59 2117.02 1876.9 Q2113.97 1874.22 2113.97 1869.19 Q2113.97 1865.88 2115.87 1863.59 Q2117.76 1861.3 2121.14 1860.51 M2119.43 1853.13 Q2119.43 1855.82 2121.1 1857.32 Q2122.79 1858.82 2125.82 1858.82 Q2128.83 1858.82 2130.52 1857.32 Q2132.23 1855.82 2132.23 1853.13 Q2132.23 1850.44 2130.52 1848.94 Q2128.83 1847.44 2125.82 1847.44 Q2122.79 1847.44 2121.1 1848.94 Q2119.43 1850.44 2119.43 1853.13 Z\" fill=\"#000000\" fill-rule=\"evenodd\" fill-opacity=\"1\" /><path clip-path=\"url(#clip160)\" d=\"M2155.98 1847.44 Q2152.37 1847.44 2150.54 1851 Q2148.74 1854.54 2148.74 1861.67 Q2148.74 1868.78 2150.54 1872.34 Q2152.37 1875.88 2155.98 1875.88 Q2159.62 1875.88 2161.42 1872.34 Q2163.25 1868.78 2163.25 1861.67 Q2163.25 1854.54 2161.42 1851 Q2159.62 1847.44 2155.98 1847.44 M2155.98 1843.73 Q2161.79 1843.73 2164.85 1848.34 Q2167.93 1852.92 2167.93 1861.67 Q2167.93 1870.4 2164.85 1875 Q2161.79 1879.59 2155.98 1879.59 Q2150.17 1879.59 2147.09 1875 Q2144.04 1870.4 2144.04 1861.67 Q2144.04 1852.92 2147.09 1848.34 Q2150.17 1843.73 2155.98 1843.73 Z\" fill=\"#000000\" fill-rule=\"evenodd\" fill-opacity=\"1\" /><path clip-path=\"url(#clip160)\" d=\"M2639.59 1874.98 L2647.23 1874.98 L2647.23 1848.62 L2638.92 1850.28 L2638.92 1846.02 L2647.18 1844.36 L2651.86 1844.36 L2651.86 1874.98 L2659.5 1874.98 L2659.5 1878.92 L2639.59 1878.92 L2639.59 1874.98 Z\" fill=\"#000000\" fill-rule=\"evenodd\" fill-opacity=\"1\" /><path clip-path=\"url(#clip160)\" d=\"M2678.94 1847.44 Q2675.33 1847.44 2673.5 1851 Q2671.7 1854.54 2671.7 1861.67 Q2671.7 1868.78 2673.5 1872.34 Q2675.33 1875.88 2678.94 1875.88 Q2682.58 1875.88 2684.38 1872.34 Q2686.21 1868.78 2686.21 1861.67 Q2686.21 1854.54 2684.38 1851 Q2682.58 1847.44 2678.94 1847.44 M2678.94 1843.73 Q2684.75 1843.73 2687.81 1848.34 Q2690.89 1852.92 2690.89 1861.67 Q2690.89 1870.4 2687.81 1875 Q2684.75 1879.59 2678.94 1879.59 Q2673.13 1879.59 2670.06 1875 Q2667 1870.4 2667 1861.67 Q2667 1852.92 2670.06 1848.34 Q2673.13 1843.73 2678.94 1843.73 Z\" fill=\"#000000\" fill-rule=\"evenodd\" fill-opacity=\"1\" /><path clip-path=\"url(#clip160)\" d=\"M2709.11 1847.44 Q2705.49 1847.44 2703.67 1851 Q2701.86 1854.54 2701.86 1861.67 Q2701.86 1868.78 2703.67 1872.34 Q2705.49 1875.88 2709.11 1875.88 Q2712.74 1875.88 2714.55 1872.34 Q2716.37 1868.78 2716.37 1861.67 Q2716.37 1854.54 2714.55 1851 Q2712.74 1847.44 2709.11 1847.44 M2709.11 1843.73 Q2714.92 1843.73 2717.97 1848.34 Q2721.05 1852.92 2721.05 1861.67 Q2721.05 1870.4 2717.97 1875 Q2714.92 1879.59 2709.11 1879.59 Q2703.3 1879.59 2700.22 1875 Q2697.16 1870.4 2697.16 1861.67 Q2697.16 1852.92 2700.22 1848.34 Q2703.3 1843.73 2709.11 1843.73 Z\" fill=\"#000000\" fill-rule=\"evenodd\" fill-opacity=\"1\" /><path clip-path=\"url(#clip160)\" d=\"M1273.74 1929.58 L1273.74 1935.12 Q1271.26 1933.85 1268.59 1933.21 Q1265.91 1932.58 1263.05 1932.58 Q1258.69 1932.58 1256.49 1933.91 Q1254.33 1935.25 1254.33 1937.92 Q1254.33 1939.96 1255.89 1941.14 Q1257.45 1942.28 1262.16 1943.33 L1264.16 1943.78 Q1270.4 1945.12 1273.01 1947.57 Q1275.65 1949.99 1275.65 1954.35 Q1275.65 1959.31 1271.71 1962.21 Q1267.79 1965.1 1260.92 1965.1 Q1258.05 1965.1 1254.93 1964.53 Q1251.85 1963.99 1248.41 1962.88 L1248.41 1956.83 Q1251.65 1958.52 1254.81 1959.37 Q1257.96 1960.2 1261.04 1960.2 Q1265.18 1960.2 1267.41 1958.8 Q1269.64 1957.37 1269.64 1954.79 Q1269.64 1952.4 1268.01 1951.13 Q1266.42 1949.86 1260.98 1948.68 L1258.94 1948.2 Q1253.5 1947.06 1251.08 1944.7 Q1248.66 1942.31 1248.66 1938.18 Q1248.66 1933.15 1252.23 1930.41 Q1255.79 1927.67 1262.35 1927.67 Q1265.6 1927.67 1268.46 1928.15 Q1271.32 1928.63 1273.74 1929.58 Z\" fill=\"#000000\" fill-rule=\"evenodd\" fill-opacity=\"1\" /><path clip-path=\"url(#clip160)\" d=\"M1284.98 1928.53 L1290.84 1928.53 L1290.84 1964.18 L1284.98 1964.18 L1284.98 1928.53 M1284.98 1914.66 L1290.84 1914.66 L1290.84 1922.07 L1284.98 1922.07 L1284.98 1914.66 Z\" fill=\"#000000\" fill-rule=\"evenodd\" fill-opacity=\"1\" /><path clip-path=\"url(#clip160)\" d=\"M1300.54 1928.53 L1328.36 1928.53 L1328.36 1933.88 L1306.34 1959.5 L1328.36 1959.5 L1328.36 1964.18 L1299.75 1964.18 L1299.75 1958.83 L1321.77 1933.21 L1300.54 1933.21 L1300.54 1928.53 Z\" fill=\"#000000\" fill-rule=\"evenodd\" fill-opacity=\"1\" /><path clip-path=\"url(#clip160)\" d=\"M1367.8 1944.89 L1367.8 1947.76 L1340.87 1947.76 Q1341.25 1953.8 1344.5 1956.99 Q1347.78 1960.14 1353.6 1960.14 Q1356.98 1960.14 1360.13 1959.31 Q1363.31 1958.48 1366.43 1956.83 L1366.43 1962.37 Q1363.28 1963.7 1359.97 1964.4 Q1356.66 1965.1 1353.25 1965.1 Q1344.72 1965.1 1339.72 1960.14 Q1334.76 1955.17 1334.76 1946.71 Q1334.76 1937.95 1339.47 1932.83 Q1344.21 1927.67 1352.23 1927.67 Q1359.43 1927.67 1363.6 1932.32 Q1367.8 1936.94 1367.8 1944.89 M1361.94 1943.17 Q1361.88 1938.37 1359.23 1935.5 Q1356.62 1932.64 1352.3 1932.64 Q1347.39 1932.64 1344.43 1935.41 Q1341.51 1938.18 1341.06 1943.21 L1361.94 1943.17 Z\" fill=\"#000000\" fill-rule=\"evenodd\" fill-opacity=\"1\" /><path clip-path=\"url(#clip160)\" d=\"M1411.94 1932.64 Q1407.23 1932.64 1404.5 1936.33 Q1401.76 1939.99 1401.76 1946.39 Q1401.76 1952.79 1404.46 1956.48 Q1407.2 1960.14 1411.94 1960.14 Q1416.62 1960.14 1419.36 1956.45 Q1422.1 1952.75 1422.1 1946.39 Q1422.1 1940.05 1419.36 1936.36 Q1416.62 1932.64 1411.94 1932.64 M1411.94 1927.67 Q1419.58 1927.67 1423.94 1932.64 Q1428.3 1937.6 1428.3 1946.39 Q1428.3 1955.14 1423.94 1960.14 Q1419.58 1965.1 1411.94 1965.1 Q1404.27 1965.1 1399.91 1960.14 Q1395.58 1955.14 1395.58 1946.39 Q1395.58 1937.6 1399.91 1932.64 Q1404.27 1927.67 1411.94 1927.67 Z\" fill=\"#000000\" fill-rule=\"evenodd\" fill-opacity=\"1\" /><path clip-path=\"url(#clip160)\" d=\"M1456.06 1914.66 L1456.06 1919.53 L1450.46 1919.53 Q1447.3 1919.53 1446.06 1920.8 Q1444.85 1922.07 1444.85 1925.38 L1444.85 1928.53 L1454.5 1928.53 L1454.5 1933.08 L1444.85 1933.08 L1444.85 1964.18 L1438.97 1964.18 L1438.97 1933.08 L1433.36 1933.08 L1433.36 1928.53 L1438.97 1928.53 L1438.97 1926.05 Q1438.97 1920.1 1441.73 1917.39 Q1444.5 1914.66 1450.52 1914.66 L1456.06 1914.66 Z\" fill=\"#000000\" fill-rule=\"evenodd\" fill-opacity=\"1\" /><path clip-path=\"url(#clip160)\" d=\"M1509.43 1935.38 Q1511.63 1931.43 1514.69 1929.55 Q1517.74 1927.67 1521.88 1927.67 Q1527.45 1927.67 1530.47 1931.59 Q1533.5 1935.47 1533.5 1942.66 L1533.5 1964.18 L1527.61 1964.18 L1527.61 1942.86 Q1527.61 1937.73 1525.79 1935.25 Q1523.98 1932.77 1520.26 1932.77 Q1515.7 1932.77 1513.06 1935.79 Q1510.42 1938.81 1510.42 1944.03 L1510.42 1964.18 L1504.53 1964.18 L1504.53 1942.86 Q1504.53 1937.7 1502.72 1935.25 Q1500.9 1932.77 1497.12 1932.77 Q1492.63 1932.77 1489.99 1935.82 Q1487.34 1938.85 1487.34 1944.03 L1487.34 1964.18 L1481.46 1964.18 L1481.46 1928.53 L1487.34 1928.53 L1487.34 1934.07 Q1489.35 1930.79 1492.15 1929.23 Q1494.95 1927.67 1498.8 1927.67 Q1502.69 1927.67 1505.39 1929.65 Q1508.13 1931.62 1509.43 1935.38 Z\" fill=\"#000000\" fill-rule=\"evenodd\" fill-opacity=\"1\" /><path clip-path=\"url(#clip160)\" d=\"M1561.38 1946.26 Q1554.28 1946.26 1551.54 1947.88 Q1548.81 1949.51 1548.81 1953.42 Q1548.81 1956.54 1550.84 1958.39 Q1552.91 1960.2 1556.44 1960.2 Q1561.31 1960.2 1564.24 1956.76 Q1567.2 1953.3 1567.2 1947.57 L1567.2 1946.26 L1561.38 1946.26 M1573.06 1943.84 L1573.06 1964.18 L1567.2 1964.18 L1567.2 1958.77 Q1565.2 1962.02 1562.21 1963.58 Q1559.21 1965.1 1554.88 1965.1 Q1549.41 1965.1 1546.16 1962.05 Q1542.95 1958.96 1542.95 1953.8 Q1542.95 1947.79 1546.96 1944.73 Q1551 1941.68 1558.99 1941.68 L1567.2 1941.68 L1567.2 1941.11 Q1567.2 1937.06 1564.53 1934.87 Q1561.89 1932.64 1557.08 1932.64 Q1554.03 1932.64 1551.13 1933.37 Q1548.23 1934.1 1545.56 1935.57 L1545.56 1930.16 Q1548.77 1928.91 1551.8 1928.31 Q1554.82 1927.67 1557.69 1927.67 Q1565.42 1927.67 1569.24 1931.68 Q1573.06 1935.69 1573.06 1943.84 Z\" fill=\"#000000\" fill-rule=\"evenodd\" fill-opacity=\"1\" /><path clip-path=\"url(#clip160)\" d=\"M1590.91 1918.41 L1590.91 1928.53 L1602.98 1928.53 L1602.98 1933.08 L1590.91 1933.08 L1590.91 1952.44 Q1590.91 1956.8 1592.09 1958.04 Q1593.3 1959.28 1596.96 1959.28 L1602.98 1959.28 L1602.98 1964.18 L1596.96 1964.18 Q1590.18 1964.18 1587.6 1961.67 Q1585.03 1959.12 1585.03 1952.44 L1585.03 1933.08 L1580.73 1933.08 L1580.73 1928.53 L1585.03 1928.53 L1585.03 1918.41 L1590.91 1918.41 Z\" fill=\"#000000\" fill-rule=\"evenodd\" fill-opacity=\"1\" /><path clip-path=\"url(#clip160)\" d=\"M1631.34 1934.01 Q1630.35 1933.43 1629.17 1933.18 Q1628.03 1932.89 1626.63 1932.89 Q1621.66 1932.89 1618.99 1936.14 Q1616.35 1939.35 1616.35 1945.4 L1616.35 1964.18 L1610.46 1964.18 L1610.46 1928.53 L1616.35 1928.53 L1616.35 1934.07 Q1618.19 1930.82 1621.15 1929.27 Q1624.11 1927.67 1628.35 1927.67 Q1628.95 1927.67 1629.68 1927.77 Q1630.41 1927.83 1631.31 1927.99 L1631.34 1934.01 Z\" fill=\"#000000\" fill-rule=\"evenodd\" fill-opacity=\"1\" /><path clip-path=\"url(#clip160)\" d=\"M1637.48 1928.53 L1643.34 1928.53 L1643.34 1964.18 L1637.48 1964.18 L1637.48 1928.53 M1637.48 1914.66 L1643.34 1914.66 L1643.34 1922.07 L1637.48 1922.07 L1637.48 1914.66 Z\" fill=\"#000000\" fill-rule=\"evenodd\" fill-opacity=\"1\" /><path clip-path=\"url(#clip160)\" d=\"M1685.22 1928.53 L1672.33 1945.88 L1685.89 1964.18 L1678.98 1964.18 L1668.61 1950.18 L1658.23 1964.18 L1651.33 1964.18 L1665.17 1945.53 L1652.5 1928.53 L1659.41 1928.53 L1668.86 1941.23 L1678.32 1928.53 L1685.22 1928.53 Z\" fill=\"#000000\" fill-rule=\"evenodd\" fill-opacity=\"1\" /><polyline clip-path=\"url(#clip162)\" style=\"stroke:#000000; stroke-linecap:butt; stroke-linejoin:round; stroke-width:2; stroke-opacity:0.1; fill:none\" points=\"\n",
       "  181.543,1763.39 2752.76,1763.39 \n",
       "  \"/>\n",
       "<polyline clip-path=\"url(#clip162)\" style=\"stroke:#000000; stroke-linecap:butt; stroke-linejoin:round; stroke-width:2; stroke-opacity:0.1; fill:none\" points=\"\n",
       "  181.543,1255.92 2752.76,1255.92 \n",
       "  \"/>\n",
       "<polyline clip-path=\"url(#clip162)\" style=\"stroke:#000000; stroke-linecap:butt; stroke-linejoin:round; stroke-width:2; stroke-opacity:0.1; fill:none\" points=\"\n",
       "  181.543,748.454 2752.76,748.454 \n",
       "  \"/>\n",
       "<polyline clip-path=\"url(#clip162)\" style=\"stroke:#000000; stroke-linecap:butt; stroke-linejoin:round; stroke-width:2; stroke-opacity:0.1; fill:none\" points=\"\n",
       "  181.543,240.986 2752.76,240.986 \n",
       "  \"/>\n",
       "<polyline clip-path=\"url(#clip160)\" style=\"stroke:#000000; stroke-linecap:butt; stroke-linejoin:round; stroke-width:4; stroke-opacity:1; fill:none\" points=\"\n",
       "  181.543,1813.32 181.543,47.2441 \n",
       "  \"/>\n",
       "<polyline clip-path=\"url(#clip160)\" style=\"stroke:#000000; stroke-linecap:butt; stroke-linejoin:round; stroke-width:4; stroke-opacity:1; fill:none\" points=\"\n",
       "  181.543,1763.39 200.441,1763.39 \n",
       "  \"/>\n",
       "<polyline clip-path=\"url(#clip160)\" style=\"stroke:#000000; stroke-linecap:butt; stroke-linejoin:round; stroke-width:4; stroke-opacity:1; fill:none\" points=\"\n",
       "  181.543,1255.92 200.441,1255.92 \n",
       "  \"/>\n",
       "<polyline clip-path=\"url(#clip160)\" style=\"stroke:#000000; stroke-linecap:butt; stroke-linejoin:round; stroke-width:4; stroke-opacity:1; fill:none\" points=\"\n",
       "  181.543,748.454 200.441,748.454 \n",
       "  \"/>\n",
       "<polyline clip-path=\"url(#clip160)\" style=\"stroke:#000000; stroke-linecap:butt; stroke-linejoin:round; stroke-width:4; stroke-opacity:1; fill:none\" points=\"\n",
       "  181.543,240.986 200.441,240.986 \n",
       "  \"/>\n",
       "<path clip-path=\"url(#clip160)\" d=\"M127.599 1749.19 Q123.988 1749.19 122.159 1752.76 Q120.353 1756.3 120.353 1763.43 Q120.353 1770.53 122.159 1774.1 Q123.988 1777.64 127.599 1777.64 Q131.233 1777.64 133.039 1774.1 Q134.867 1770.53 134.867 1763.43 Q134.867 1756.3 133.039 1752.76 Q131.233 1749.19 127.599 1749.19 M127.599 1745.49 Q133.409 1745.49 136.465 1750.09 Q139.543 1754.68 139.543 1763.43 Q139.543 1772.15 136.465 1776.76 Q133.409 1781.34 127.599 1781.34 Q121.789 1781.34 118.71 1776.76 Q115.654 1772.15 115.654 1763.43 Q115.654 1754.68 118.71 1750.09 Q121.789 1745.49 127.599 1745.49 Z\" fill=\"#000000\" fill-rule=\"evenodd\" fill-opacity=\"1\" /><path clip-path=\"url(#clip160)\" d=\"M119.636 1269.27 L127.275 1269.27 L127.275 1242.9 L118.965 1244.57 L118.965 1240.31 L127.228 1238.64 L131.904 1238.64 L131.904 1269.27 L139.543 1269.27 L139.543 1273.2 L119.636 1273.2 L119.636 1269.27 Z\" fill=\"#000000\" fill-rule=\"evenodd\" fill-opacity=\"1\" /><path clip-path=\"url(#clip160)\" d=\"M123.224 761.799 L139.543 761.799 L139.543 765.734 L117.599 765.734 L117.599 761.799 Q120.261 759.045 124.844 754.415 Q129.451 749.762 130.631 748.42 Q132.877 745.897 133.756 744.16 Q134.659 742.401 134.659 740.711 Q134.659 737.957 132.715 736.221 Q130.793 734.485 127.691 734.485 Q125.492 734.485 123.039 735.248 Q120.608 736.012 117.83 737.563 L117.83 732.841 Q120.654 731.707 123.108 731.128 Q125.562 730.549 127.599 730.549 Q132.969 730.549 136.164 733.235 Q139.358 735.92 139.358 740.41 Q139.358 742.54 138.548 744.461 Q137.761 746.36 135.654 748.952 Q135.076 749.623 131.974 752.841 Q128.872 756.035 123.224 761.799 Z\" fill=\"#000000\" fill-rule=\"evenodd\" fill-opacity=\"1\" /><path clip-path=\"url(#clip160)\" d=\"M132.414 239.631 Q135.77 240.349 137.645 242.618 Q139.543 244.886 139.543 248.219 Q139.543 253.335 136.025 256.136 Q132.506 258.937 126.025 258.937 Q123.849 258.937 121.534 258.497 Q119.242 258.08 116.789 257.224 L116.789 252.71 Q118.733 253.844 121.048 254.423 Q123.363 255.002 125.886 255.002 Q130.284 255.002 132.576 253.266 Q134.89 251.53 134.89 248.219 Q134.89 245.164 132.738 243.451 Q130.608 241.715 126.789 241.715 L122.761 241.715 L122.761 237.872 L126.974 237.872 Q130.423 237.872 132.252 236.506 Q134.08 235.118 134.08 232.525 Q134.08 229.863 132.182 228.451 Q130.307 227.016 126.789 227.016 Q124.867 227.016 122.668 227.432 Q120.469 227.849 117.83 228.729 L117.83 224.562 Q120.492 223.821 122.807 223.451 Q125.145 223.081 127.205 223.081 Q132.529 223.081 135.631 225.511 Q138.733 227.919 138.733 232.039 Q138.733 234.909 137.09 236.9 Q135.446 238.868 132.414 239.631 Z\" fill=\"#000000\" fill-rule=\"evenodd\" fill-opacity=\"1\" /><path clip-path=\"url(#clip160)\" d=\"M13.629 1174.91 L23.7505 1174.91 L23.7505 1162.85 L28.302 1162.85 L28.302 1174.91 L47.6537 1174.91 Q52.0142 1174.91 53.2555 1173.74 Q54.4968 1172.53 54.4968 1168.87 L54.4968 1162.85 L59.3984 1162.85 L59.3984 1168.87 Q59.3984 1175.65 56.884 1178.22 Q54.3377 1180.8 47.6537 1180.8 L28.302 1180.8 L28.302 1185.1 L23.7505 1185.1 L23.7505 1180.8 L13.629 1180.8 L13.629 1174.91 Z\" fill=\"#000000\" fill-rule=\"evenodd\" fill-opacity=\"1\" /><path clip-path=\"url(#clip160)\" d=\"M23.7505 1155.15 L23.7505 1149.29 L59.3984 1149.29 L59.3984 1155.15 L23.7505 1155.15 M9.87325 1155.15 L9.87325 1149.29 L17.2893 1149.29 L17.2893 1155.15 L9.87325 1155.15 Z\" fill=\"#000000\" fill-rule=\"evenodd\" fill-opacity=\"1\" /><path clip-path=\"url(#clip160)\" d=\"M30.5936 1109.28 Q26.6469 1107.09 24.769 1104.03 Q22.8911 1100.98 22.8911 1096.84 Q22.8911 1091.27 26.806 1088.25 Q30.6891 1085.22 37.8824 1085.22 L59.3984 1085.22 L59.3984 1091.11 L38.0733 1091.11 Q32.9489 1091.11 30.4663 1092.92 Q27.9837 1094.74 27.9837 1098.46 Q27.9837 1103.01 31.0074 1105.66 Q34.0311 1108.3 39.251 1108.3 L59.3984 1108.3 L59.3984 1114.19 L38.0733 1114.19 Q32.9171 1114.19 30.4663 1116 Q27.9837 1117.81 27.9837 1121.6 Q27.9837 1126.09 31.0392 1128.73 Q34.0629 1131.37 39.251 1131.37 L59.3984 1131.37 L59.3984 1137.26 L23.7505 1137.26 L23.7505 1131.37 L29.2887 1131.37 Q26.0103 1129.37 24.4507 1126.57 Q22.8911 1123.77 22.8911 1119.91 Q22.8911 1116.03 24.8645 1113.33 Q26.8379 1110.59 30.5936 1109.28 Z\" fill=\"#000000\" fill-rule=\"evenodd\" fill-opacity=\"1\" /><path clip-path=\"url(#clip160)\" d=\"M40.1104 1043.05 L42.9749 1043.05 L42.9749 1069.98 Q49.0223 1069.59 52.2052 1066.35 Q55.3562 1063.07 55.3562 1057.24 Q55.3562 1053.87 54.5287 1050.72 Q53.7011 1047.54 52.0461 1044.42 L57.5842 1044.42 Q58.921 1047.57 59.6212 1050.88 Q60.3215 1054.19 60.3215 1057.59 Q60.3215 1066.12 55.3562 1071.12 Q50.391 1076.09 41.9246 1076.09 Q33.1717 1076.09 28.0473 1071.38 Q22.8911 1066.63 22.8911 1058.61 Q22.8911 1051.42 27.5381 1047.25 Q32.1532 1043.05 40.1104 1043.05 M38.3916 1048.91 Q33.5855 1048.97 30.7209 1051.61 Q27.8564 1054.22 27.8564 1058.55 Q27.8564 1063.45 30.6254 1066.41 Q33.3945 1069.34 38.4234 1069.79 L38.3916 1048.91 Z\" fill=\"#000000\" fill-rule=\"evenodd\" fill-opacity=\"1\" /><path clip-path=\"url(#clip160)\" d=\"M23.7505 1012.72 L23.7505 1006.86 L59.3984 1006.86 L59.3984 1012.72 L23.7505 1012.72 M9.87325 1012.72 L9.87325 1006.86 L17.2893 1006.86 L17.2893 1012.72 L9.87325 1012.72 Z\" fill=\"#000000\" fill-rule=\"evenodd\" fill-opacity=\"1\" /><path clip-path=\"url(#clip160)\" d=\"M37.8824 964.974 L59.3984 964.974 L59.3984 970.83 L38.0733 970.83 Q33.0126 970.83 30.4981 972.803 Q27.9837 974.777 27.9837 978.724 Q27.9837 983.466 31.0074 986.203 Q34.0311 988.941 39.251 988.941 L59.3984 988.941 L59.3984 994.829 L23.7505 994.829 L23.7505 988.941 L29.2887 988.941 Q26.074 986.84 24.4825 984.007 Q22.8911 981.143 22.8911 977.419 Q22.8911 971.276 26.7105 968.125 Q30.4981 964.974 37.8824 964.974 Z\" fill=\"#000000\" fill-rule=\"evenodd\" fill-opacity=\"1\" /><path clip-path=\"url(#clip160)\" d=\"M24.8008 909.847 L30.339 909.847 Q29.0659 912.329 28.4293 915.003 Q27.7927 917.676 27.7927 920.541 Q27.7927 924.902 29.1295 927.098 Q30.4663 929.262 33.1399 929.262 Q35.1769 929.262 36.3546 927.702 Q37.5004 926.143 38.5508 921.432 L38.9964 919.427 Q40.3332 913.189 42.7839 910.579 Q45.2029 907.937 49.5634 907.937 Q54.5287 907.937 57.4251 911.884 Q60.3215 915.799 60.3215 922.674 Q60.3215 925.538 59.7486 928.657 Q59.2075 931.745 58.0935 935.182 L52.0461 935.182 Q53.733 931.936 54.5923 928.785 Q55.4199 925.634 55.4199 922.546 Q55.4199 918.408 54.0194 916.18 Q52.5871 913.953 50.009 913.953 Q47.6219 913.953 46.3487 915.576 Q45.0756 917.167 43.8979 922.61 L43.4205 924.647 Q42.2747 930.09 39.9194 932.509 Q37.5322 934.928 33.3945 934.928 Q28.3656 934.928 25.6284 931.363 Q22.8911 927.798 22.8911 921.241 Q22.8911 917.995 23.3685 915.13 Q23.846 912.266 24.8008 909.847 Z\" fill=\"#000000\" fill-rule=\"evenodd\" fill-opacity=\"1\" /><path clip-path=\"url(#clip160)\" d=\"M40.1104 868.119 L42.9749 868.119 L42.9749 895.046 Q49.0223 894.664 52.2052 891.418 Q55.3562 888.14 55.3562 882.315 Q55.3562 878.941 54.5287 875.79 Q53.7011 872.607 52.0461 869.488 L57.5842 869.488 Q58.921 872.639 59.6212 875.949 Q60.3215 879.259 60.3215 882.665 Q60.3215 891.195 55.3562 896.192 Q50.391 901.157 41.9246 901.157 Q33.1717 901.157 28.0473 896.447 Q22.8911 891.704 22.8911 883.684 Q22.8911 876.49 27.5381 872.321 Q32.1532 868.119 40.1104 868.119 M38.3916 873.976 Q33.5855 874.04 30.7209 876.681 Q27.8564 879.291 27.8564 883.62 Q27.8564 888.522 30.6254 891.482 Q33.3945 894.41 38.4234 894.855 L38.3916 873.976 Z\" fill=\"#000000\" fill-rule=\"evenodd\" fill-opacity=\"1\" /><path clip-path=\"url(#clip160)\" d=\"M25.1191 832.853 L30.5936 832.853 Q29.225 835.336 28.5566 837.85 Q27.8564 840.333 27.8564 842.879 Q27.8564 848.577 31.4848 851.728 Q35.0814 854.879 41.6063 854.879 Q48.1311 854.879 51.7596 851.728 Q55.3562 848.577 55.3562 842.879 Q55.3562 840.333 54.6878 837.85 Q53.9876 835.336 52.619 832.853 L58.0298 832.853 Q59.1756 835.304 59.7486 837.946 Q60.3215 840.556 60.3215 843.516 Q60.3215 851.569 55.2607 856.311 Q50.2 861.053 41.6063 861.053 Q32.8853 861.053 27.8882 856.279 Q22.8911 851.473 22.8911 843.134 Q22.8911 840.429 23.464 837.85 Q24.0051 835.272 25.1191 832.853 Z\" fill=\"#000000\" fill-rule=\"evenodd\" fill-opacity=\"1\" /><path clip-path=\"url(#clip160)\" d=\"M27.8564 808.855 Q27.8564 813.565 31.5485 816.303 Q35.2088 819.04 41.6063 819.04 Q48.0038 819.04 51.6959 816.334 Q55.3562 813.597 55.3562 808.855 Q55.3562 804.176 51.6641 801.439 Q47.972 798.701 41.6063 798.701 Q35.2724 798.701 31.5803 801.439 Q27.8564 804.176 27.8564 808.855 M22.8911 808.855 Q22.8911 801.216 27.8564 796.855 Q32.8216 792.495 41.6063 792.495 Q50.3591 792.495 55.3562 796.855 Q60.3215 801.216 60.3215 808.855 Q60.3215 816.525 55.3562 820.886 Q50.3591 825.215 41.6063 825.215 Q32.8216 825.215 27.8564 820.886 Q22.8911 816.525 22.8911 808.855 Z\" fill=\"#000000\" fill-rule=\"evenodd\" fill-opacity=\"1\" /><path clip-path=\"url(#clip160)\" d=\"M37.8824 753.155 L59.3984 753.155 L59.3984 759.011 L38.0733 759.011 Q33.0126 759.011 30.4981 760.985 Q27.9837 762.958 27.9837 766.905 Q27.9837 771.647 31.0074 774.384 Q34.0311 777.122 39.251 777.122 L59.3984 777.122 L59.3984 783.01 L23.7505 783.01 L23.7505 777.122 L29.2887 777.122 Q26.074 775.021 24.4825 772.188 Q22.8911 769.324 22.8911 765.6 Q22.8911 759.457 26.7105 756.306 Q30.4981 753.155 37.8824 753.155 Z\" fill=\"#000000\" fill-rule=\"evenodd\" fill-opacity=\"1\" /><path clip-path=\"url(#clip160)\" d=\"M29.1613 718.016 L9.87325 718.016 L9.87325 712.16 L59.3984 712.16 L59.3984 718.016 L54.0512 718.016 Q57.2341 719.862 58.7937 722.695 Q60.3215 725.496 60.3215 729.442 Q60.3215 735.904 55.1652 739.978 Q50.009 744.02 41.6063 744.02 Q33.2036 744.02 28.0473 739.978 Q22.8911 735.904 22.8911 729.442 Q22.8911 725.496 24.4507 722.695 Q25.9785 719.862 29.1613 718.016 M41.6063 737.973 Q48.0675 737.973 51.7596 735.331 Q55.4199 732.657 55.4199 728.01 Q55.4199 723.363 51.7596 720.69 Q48.0675 718.016 41.6063 718.016 Q35.1451 718.016 31.4848 720.69 Q27.7927 723.363 27.7927 728.01 Q27.7927 732.657 31.4848 735.331 Q35.1451 737.973 41.6063 737.973 Z\" fill=\"#000000\" fill-rule=\"evenodd\" fill-opacity=\"1\" /><path clip-path=\"url(#clip160)\" d=\"M24.8008 677.371 L30.339 677.371 Q29.0659 679.854 28.4293 682.527 Q27.7927 685.201 27.7927 688.065 Q27.7927 692.426 29.1295 694.622 Q30.4663 696.786 33.1399 696.786 Q35.1769 696.786 36.3546 695.227 Q37.5004 693.667 38.5508 688.957 L38.9964 686.951 Q40.3332 680.713 42.7839 678.103 Q45.2029 675.461 49.5634 675.461 Q54.5287 675.461 57.4251 679.408 Q60.3215 683.323 60.3215 690.198 Q60.3215 693.062 59.7486 696.182 Q59.2075 699.269 58.0935 702.707 L52.0461 702.707 Q53.733 699.46 54.5923 696.309 Q55.4199 693.158 55.4199 690.071 Q55.4199 685.933 54.0194 683.705 Q52.5871 681.477 50.009 681.477 Q47.6219 681.477 46.3487 683.1 Q45.0756 684.692 43.8979 690.134 L43.4205 692.171 Q42.2747 697.614 39.9194 700.033 Q37.5322 702.452 33.3945 702.452 Q28.3656 702.452 25.6284 698.887 Q22.8911 695.322 22.8911 688.766 Q22.8911 685.519 23.3685 682.655 Q23.846 679.79 24.8008 677.371 Z\" fill=\"#000000\" fill-rule=\"evenodd\" fill-opacity=\"1\" /><polyline clip-path=\"url(#clip162)\" style=\"stroke:#000000; stroke-linecap:butt; stroke-linejoin:round; stroke-width:4; stroke-opacity:1; fill:none\" stroke-dasharray=\"16, 10\" points=\"\n",
       "  254.313,1758.62 389.073,1752.23 523.833,1725.23 658.592,1706.15 793.352,1687.17 928.111,1655.71 1062.87,1598.26 1197.63,1575.53 1332.39,1509.76 1467.15,1411.41 \n",
       "  1601.91,1394.06 1736.67,1309.41 1871.43,1134.84 2006.19,1066.54 2140.95,848.933 2275.71,678.525 2410.47,584.238 2545.23,392.313 2679.99,151.57 \n",
       "  \"/>\n",
       "<path clip-path=\"url(#clip162)\" d=\"M242.313 1746.62 L242.313 1770.62 L266.313 1770.62 L266.313 1746.62 L242.313 1746.62 Z\" fill=\"#000000\" fill-rule=\"evenodd\" fill-opacity=\"1\" stroke=\"none\"/>\n",
       "<path clip-path=\"url(#clip162)\" d=\"M377.073 1740.23 L377.073 1764.23 L401.073 1764.23 L401.073 1740.23 L377.073 1740.23 Z\" fill=\"#000000\" fill-rule=\"evenodd\" fill-opacity=\"1\" stroke=\"none\"/>\n",
       "<path clip-path=\"url(#clip162)\" d=\"M511.833 1713.23 L511.833 1737.23 L535.833 1737.23 L535.833 1713.23 L511.833 1713.23 Z\" fill=\"#000000\" fill-rule=\"evenodd\" fill-opacity=\"1\" stroke=\"none\"/>\n",
       "<path clip-path=\"url(#clip162)\" d=\"M646.592 1694.15 L646.592 1718.15 L670.592 1718.15 L670.592 1694.15 L646.592 1694.15 Z\" fill=\"#000000\" fill-rule=\"evenodd\" fill-opacity=\"1\" stroke=\"none\"/>\n",
       "<path clip-path=\"url(#clip162)\" d=\"M781.352 1675.17 L781.352 1699.17 L805.352 1699.17 L805.352 1675.17 L781.352 1675.17 Z\" fill=\"#000000\" fill-rule=\"evenodd\" fill-opacity=\"1\" stroke=\"none\"/>\n",
       "<path clip-path=\"url(#clip162)\" d=\"M916.111 1643.71 L916.111 1667.71 L940.111 1667.71 L940.111 1643.71 L916.111 1643.71 Z\" fill=\"#000000\" fill-rule=\"evenodd\" fill-opacity=\"1\" stroke=\"none\"/>\n",
       "<path clip-path=\"url(#clip162)\" d=\"M1050.87 1586.26 L1050.87 1610.26 L1074.87 1610.26 L1074.87 1586.26 L1050.87 1586.26 Z\" fill=\"#000000\" fill-rule=\"evenodd\" fill-opacity=\"1\" stroke=\"none\"/>\n",
       "<path clip-path=\"url(#clip162)\" d=\"M1185.63 1563.53 L1185.63 1587.53 L1209.63 1587.53 L1209.63 1563.53 L1185.63 1563.53 Z\" fill=\"#000000\" fill-rule=\"evenodd\" fill-opacity=\"1\" stroke=\"none\"/>\n",
       "<path clip-path=\"url(#clip162)\" d=\"M1320.39 1497.76 L1320.39 1521.76 L1344.39 1521.76 L1344.39 1497.76 L1320.39 1497.76 Z\" fill=\"#000000\" fill-rule=\"evenodd\" fill-opacity=\"1\" stroke=\"none\"/>\n",
       "<path clip-path=\"url(#clip162)\" d=\"M1455.15 1399.41 L1455.15 1423.41 L1479.15 1423.41 L1479.15 1399.41 L1455.15 1399.41 Z\" fill=\"#000000\" fill-rule=\"evenodd\" fill-opacity=\"1\" stroke=\"none\"/>\n",
       "<path clip-path=\"url(#clip162)\" d=\"M1589.91 1382.06 L1589.91 1406.06 L1613.91 1406.06 L1613.91 1382.06 L1589.91 1382.06 Z\" fill=\"#000000\" fill-rule=\"evenodd\" fill-opacity=\"1\" stroke=\"none\"/>\n",
       "<path clip-path=\"url(#clip162)\" d=\"M1724.67 1297.41 L1724.67 1321.41 L1748.67 1321.41 L1748.67 1297.41 L1724.67 1297.41 Z\" fill=\"#000000\" fill-rule=\"evenodd\" fill-opacity=\"1\" stroke=\"none\"/>\n",
       "<path clip-path=\"url(#clip162)\" d=\"M1859.43 1122.84 L1859.43 1146.84 L1883.43 1146.84 L1883.43 1122.84 L1859.43 1122.84 Z\" fill=\"#000000\" fill-rule=\"evenodd\" fill-opacity=\"1\" stroke=\"none\"/>\n",
       "<path clip-path=\"url(#clip162)\" d=\"M1994.19 1054.54 L1994.19 1078.54 L2018.19 1078.54 L2018.19 1054.54 L1994.19 1054.54 Z\" fill=\"#000000\" fill-rule=\"evenodd\" fill-opacity=\"1\" stroke=\"none\"/>\n",
       "<path clip-path=\"url(#clip162)\" d=\"M2128.95 836.933 L2128.95 860.933 L2152.95 860.933 L2152.95 836.933 L2128.95 836.933 Z\" fill=\"#000000\" fill-rule=\"evenodd\" fill-opacity=\"1\" stroke=\"none\"/>\n",
       "<path clip-path=\"url(#clip162)\" d=\"M2263.71 666.525 L2263.71 690.525 L2287.71 690.525 L2287.71 666.525 L2263.71 666.525 Z\" fill=\"#000000\" fill-rule=\"evenodd\" fill-opacity=\"1\" stroke=\"none\"/>\n",
       "<path clip-path=\"url(#clip162)\" d=\"M2398.47 572.238 L2398.47 596.238 L2422.47 596.238 L2422.47 572.238 L2398.47 572.238 Z\" fill=\"#000000\" fill-rule=\"evenodd\" fill-opacity=\"1\" stroke=\"none\"/>\n",
       "<path clip-path=\"url(#clip162)\" d=\"M2533.23 380.313 L2533.23 404.313 L2557.23 404.313 L2557.23 380.313 L2533.23 380.313 Z\" fill=\"#000000\" fill-rule=\"evenodd\" fill-opacity=\"1\" stroke=\"none\"/>\n",
       "<path clip-path=\"url(#clip162)\" d=\"M2667.99 139.57 L2667.99 163.57 L2691.99 163.57 L2691.99 139.57 L2667.99 139.57 Z\" fill=\"#000000\" fill-rule=\"evenodd\" fill-opacity=\"1\" stroke=\"none\"/>\n",
       "<polyline clip-path=\"url(#clip162)\" style=\"stroke:#000000; stroke-linecap:butt; stroke-linejoin:round; stroke-width:4; stroke-opacity:1; fill:none\" stroke-dasharray=\"16, 10\" points=\"\n",
       "  254.313,1762.98 254.313,1754.26 \n",
       "  \"/>\n",
       "<polyline clip-path=\"url(#clip162)\" style=\"stroke:#000000; stroke-linecap:butt; stroke-linejoin:round; stroke-width:4; stroke-opacity:1; fill:none\" stroke-dasharray=\"16, 10\" points=\"\n",
       "  389.073,1759.32 389.073,1745.13 \n",
       "  \"/>\n",
       "<polyline clip-path=\"url(#clip162)\" style=\"stroke:#000000; stroke-linecap:butt; stroke-linejoin:round; stroke-width:4; stroke-opacity:1; fill:none\" stroke-dasharray=\"16, 10\" points=\"\n",
       "  523.833,1728.72 523.833,1721.74 \n",
       "  \"/>\n",
       "<polyline clip-path=\"url(#clip162)\" style=\"stroke:#000000; stroke-linecap:butt; stroke-linejoin:round; stroke-width:4; stroke-opacity:1; fill:none\" stroke-dasharray=\"16, 10\" points=\"\n",
       "  658.592,1712.86 658.592,1699.44 \n",
       "  \"/>\n",
       "<polyline clip-path=\"url(#clip162)\" style=\"stroke:#000000; stroke-linecap:butt; stroke-linejoin:round; stroke-width:4; stroke-opacity:1; fill:none\" stroke-dasharray=\"16, 10\" points=\"\n",
       "  793.352,1691.67 793.352,1682.67 \n",
       "  \"/>\n",
       "<polyline clip-path=\"url(#clip162)\" style=\"stroke:#000000; stroke-linecap:butt; stroke-linejoin:round; stroke-width:4; stroke-opacity:1; fill:none\" stroke-dasharray=\"16, 10\" points=\"\n",
       "  928.111,1666.53 928.111,1644.89 \n",
       "  \"/>\n",
       "<polyline clip-path=\"url(#clip162)\" style=\"stroke:#000000; stroke-linecap:butt; stroke-linejoin:round; stroke-width:4; stroke-opacity:1; fill:none\" stroke-dasharray=\"16, 10\" points=\"\n",
       "  1062.87,1613.26 1062.87,1583.26 \n",
       "  \"/>\n",
       "<polyline clip-path=\"url(#clip162)\" style=\"stroke:#000000; stroke-linecap:butt; stroke-linejoin:round; stroke-width:4; stroke-opacity:1; fill:none\" stroke-dasharray=\"16, 10\" points=\"\n",
       "  1197.63,1613.32 1197.63,1537.73 \n",
       "  \"/>\n",
       "<polyline clip-path=\"url(#clip162)\" style=\"stroke:#000000; stroke-linecap:butt; stroke-linejoin:round; stroke-width:4; stroke-opacity:1; fill:none\" stroke-dasharray=\"16, 10\" points=\"\n",
       "  1332.39,1534.51 1332.39,1485 \n",
       "  \"/>\n",
       "<polyline clip-path=\"url(#clip162)\" style=\"stroke:#000000; stroke-linecap:butt; stroke-linejoin:round; stroke-width:4; stroke-opacity:1; fill:none\" stroke-dasharray=\"16, 10\" points=\"\n",
       "  1467.15,1459.29 1467.15,1363.54 \n",
       "  \"/>\n",
       "<polyline clip-path=\"url(#clip162)\" style=\"stroke:#000000; stroke-linecap:butt; stroke-linejoin:round; stroke-width:4; stroke-opacity:1; fill:none\" stroke-dasharray=\"16, 10\" points=\"\n",
       "  1601.91,1410.43 1601.91,1377.68 \n",
       "  \"/>\n",
       "<polyline clip-path=\"url(#clip162)\" style=\"stroke:#000000; stroke-linecap:butt; stroke-linejoin:round; stroke-width:4; stroke-opacity:1; fill:none\" stroke-dasharray=\"16, 10\" points=\"\n",
       "  1736.67,1326.66 1736.67,1292.16 \n",
       "  \"/>\n",
       "<polyline clip-path=\"url(#clip162)\" style=\"stroke:#000000; stroke-linecap:butt; stroke-linejoin:round; stroke-width:4; stroke-opacity:1; fill:none\" stroke-dasharray=\"16, 10\" points=\"\n",
       "  1871.43,1153.9 1871.43,1115.79 \n",
       "  \"/>\n",
       "<polyline clip-path=\"url(#clip162)\" style=\"stroke:#000000; stroke-linecap:butt; stroke-linejoin:round; stroke-width:4; stroke-opacity:1; fill:none\" stroke-dasharray=\"16, 10\" points=\"\n",
       "  2006.19,1087.81 2006.19,1045.26 \n",
       "  \"/>\n",
       "<polyline clip-path=\"url(#clip162)\" style=\"stroke:#000000; stroke-linecap:butt; stroke-linejoin:round; stroke-width:4; stroke-opacity:1; fill:none\" stroke-dasharray=\"16, 10\" points=\"\n",
       "  2140.95,893.355 2140.95,804.512 \n",
       "  \"/>\n",
       "<polyline clip-path=\"url(#clip162)\" style=\"stroke:#000000; stroke-linecap:butt; stroke-linejoin:round; stroke-width:4; stroke-opacity:1; fill:none\" stroke-dasharray=\"16, 10\" points=\"\n",
       "  2275.71,689.328 2275.71,667.722 \n",
       "  \"/>\n",
       "<polyline clip-path=\"url(#clip162)\" style=\"stroke:#000000; stroke-linecap:butt; stroke-linejoin:round; stroke-width:4; stroke-opacity:1; fill:none\" stroke-dasharray=\"16, 10\" points=\"\n",
       "  2410.47,671.094 2410.47,497.381 \n",
       "  \"/>\n",
       "<polyline clip-path=\"url(#clip162)\" style=\"stroke:#000000; stroke-linecap:butt; stroke-linejoin:round; stroke-width:4; stroke-opacity:1; fill:none\" stroke-dasharray=\"16, 10\" points=\"\n",
       "  2545.23,424.649 2545.23,359.977 \n",
       "  \"/>\n",
       "<polyline clip-path=\"url(#clip162)\" style=\"stroke:#000000; stroke-linecap:butt; stroke-linejoin:round; stroke-width:4; stroke-opacity:1; fill:none\" stroke-dasharray=\"16, 10\" points=\"\n",
       "  2679.99,205.912 2679.99,97.2273 \n",
       "  \"/>\n",
       "<line clip-path=\"url(#clip162)\" x1=\"266.313\" y1=\"1762.98\" x2=\"242.313\" y2=\"1762.98\" style=\"stroke:#000000; stroke-width:4; stroke-opacity:1\"/>\n",
       "<line clip-path=\"url(#clip162)\" x1=\"266.313\" y1=\"1754.26\" x2=\"242.313\" y2=\"1754.26\" style=\"stroke:#000000; stroke-width:4; stroke-opacity:1\"/>\n",
       "<line clip-path=\"url(#clip162)\" x1=\"401.073\" y1=\"1759.32\" x2=\"377.073\" y2=\"1759.32\" style=\"stroke:#000000; stroke-width:4; stroke-opacity:1\"/>\n",
       "<line clip-path=\"url(#clip162)\" x1=\"401.073\" y1=\"1745.13\" x2=\"377.073\" y2=\"1745.13\" style=\"stroke:#000000; stroke-width:4; stroke-opacity:1\"/>\n",
       "<line clip-path=\"url(#clip162)\" x1=\"535.833\" y1=\"1728.72\" x2=\"511.833\" y2=\"1728.72\" style=\"stroke:#000000; stroke-width:4; stroke-opacity:1\"/>\n",
       "<line clip-path=\"url(#clip162)\" x1=\"535.833\" y1=\"1721.74\" x2=\"511.833\" y2=\"1721.74\" style=\"stroke:#000000; stroke-width:4; stroke-opacity:1\"/>\n",
       "<line clip-path=\"url(#clip162)\" x1=\"670.592\" y1=\"1712.86\" x2=\"646.592\" y2=\"1712.86\" style=\"stroke:#000000; stroke-width:4; stroke-opacity:1\"/>\n",
       "<line clip-path=\"url(#clip162)\" x1=\"670.592\" y1=\"1699.44\" x2=\"646.592\" y2=\"1699.44\" style=\"stroke:#000000; stroke-width:4; stroke-opacity:1\"/>\n",
       "<line clip-path=\"url(#clip162)\" x1=\"805.352\" y1=\"1691.67\" x2=\"781.352\" y2=\"1691.67\" style=\"stroke:#000000; stroke-width:4; stroke-opacity:1\"/>\n",
       "<line clip-path=\"url(#clip162)\" x1=\"805.352\" y1=\"1682.67\" x2=\"781.352\" y2=\"1682.67\" style=\"stroke:#000000; stroke-width:4; stroke-opacity:1\"/>\n",
       "<line clip-path=\"url(#clip162)\" x1=\"940.111\" y1=\"1666.53\" x2=\"916.111\" y2=\"1666.53\" style=\"stroke:#000000; stroke-width:4; stroke-opacity:1\"/>\n",
       "<line clip-path=\"url(#clip162)\" x1=\"940.111\" y1=\"1644.89\" x2=\"916.111\" y2=\"1644.89\" style=\"stroke:#000000; stroke-width:4; stroke-opacity:1\"/>\n",
       "<line clip-path=\"url(#clip162)\" x1=\"1074.87\" y1=\"1613.26\" x2=\"1050.87\" y2=\"1613.26\" style=\"stroke:#000000; stroke-width:4; stroke-opacity:1\"/>\n",
       "<line clip-path=\"url(#clip162)\" x1=\"1074.87\" y1=\"1583.26\" x2=\"1050.87\" y2=\"1583.26\" style=\"stroke:#000000; stroke-width:4; stroke-opacity:1\"/>\n",
       "<line clip-path=\"url(#clip162)\" x1=\"1209.63\" y1=\"1613.32\" x2=\"1185.63\" y2=\"1613.32\" style=\"stroke:#000000; stroke-width:4; stroke-opacity:1\"/>\n",
       "<line clip-path=\"url(#clip162)\" x1=\"1209.63\" y1=\"1537.73\" x2=\"1185.63\" y2=\"1537.73\" style=\"stroke:#000000; stroke-width:4; stroke-opacity:1\"/>\n",
       "<line clip-path=\"url(#clip162)\" x1=\"1344.39\" y1=\"1534.51\" x2=\"1320.39\" y2=\"1534.51\" style=\"stroke:#000000; stroke-width:4; stroke-opacity:1\"/>\n",
       "<line clip-path=\"url(#clip162)\" x1=\"1344.39\" y1=\"1485\" x2=\"1320.39\" y2=\"1485\" style=\"stroke:#000000; stroke-width:4; stroke-opacity:1\"/>\n",
       "<line clip-path=\"url(#clip162)\" x1=\"1479.15\" y1=\"1459.29\" x2=\"1455.15\" y2=\"1459.29\" style=\"stroke:#000000; stroke-width:4; stroke-opacity:1\"/>\n",
       "<line clip-path=\"url(#clip162)\" x1=\"1479.15\" y1=\"1363.54\" x2=\"1455.15\" y2=\"1363.54\" style=\"stroke:#000000; stroke-width:4; stroke-opacity:1\"/>\n",
       "<line clip-path=\"url(#clip162)\" x1=\"1613.91\" y1=\"1410.43\" x2=\"1589.91\" y2=\"1410.43\" style=\"stroke:#000000; stroke-width:4; stroke-opacity:1\"/>\n",
       "<line clip-path=\"url(#clip162)\" x1=\"1613.91\" y1=\"1377.68\" x2=\"1589.91\" y2=\"1377.68\" style=\"stroke:#000000; stroke-width:4; stroke-opacity:1\"/>\n",
       "<line clip-path=\"url(#clip162)\" x1=\"1748.67\" y1=\"1326.66\" x2=\"1724.67\" y2=\"1326.66\" style=\"stroke:#000000; stroke-width:4; stroke-opacity:1\"/>\n",
       "<line clip-path=\"url(#clip162)\" x1=\"1748.67\" y1=\"1292.16\" x2=\"1724.67\" y2=\"1292.16\" style=\"stroke:#000000; stroke-width:4; stroke-opacity:1\"/>\n",
       "<line clip-path=\"url(#clip162)\" x1=\"1883.43\" y1=\"1153.9\" x2=\"1859.43\" y2=\"1153.9\" style=\"stroke:#000000; stroke-width:4; stroke-opacity:1\"/>\n",
       "<line clip-path=\"url(#clip162)\" x1=\"1883.43\" y1=\"1115.79\" x2=\"1859.43\" y2=\"1115.79\" style=\"stroke:#000000; stroke-width:4; stroke-opacity:1\"/>\n",
       "<line clip-path=\"url(#clip162)\" x1=\"2018.19\" y1=\"1087.81\" x2=\"1994.19\" y2=\"1087.81\" style=\"stroke:#000000; stroke-width:4; stroke-opacity:1\"/>\n",
       "<line clip-path=\"url(#clip162)\" x1=\"2018.19\" y1=\"1045.26\" x2=\"1994.19\" y2=\"1045.26\" style=\"stroke:#000000; stroke-width:4; stroke-opacity:1\"/>\n",
       "<line clip-path=\"url(#clip162)\" x1=\"2152.95\" y1=\"893.355\" x2=\"2128.95\" y2=\"893.355\" style=\"stroke:#000000; stroke-width:4; stroke-opacity:1\"/>\n",
       "<line clip-path=\"url(#clip162)\" x1=\"2152.95\" y1=\"804.512\" x2=\"2128.95\" y2=\"804.512\" style=\"stroke:#000000; stroke-width:4; stroke-opacity:1\"/>\n",
       "<line clip-path=\"url(#clip162)\" x1=\"2287.71\" y1=\"689.328\" x2=\"2263.71\" y2=\"689.328\" style=\"stroke:#000000; stroke-width:4; stroke-opacity:1\"/>\n",
       "<line clip-path=\"url(#clip162)\" x1=\"2287.71\" y1=\"667.722\" x2=\"2263.71\" y2=\"667.722\" style=\"stroke:#000000; stroke-width:4; stroke-opacity:1\"/>\n",
       "<line clip-path=\"url(#clip162)\" x1=\"2422.47\" y1=\"671.094\" x2=\"2398.47\" y2=\"671.094\" style=\"stroke:#000000; stroke-width:4; stroke-opacity:1\"/>\n",
       "<line clip-path=\"url(#clip162)\" x1=\"2422.47\" y1=\"497.381\" x2=\"2398.47\" y2=\"497.381\" style=\"stroke:#000000; stroke-width:4; stroke-opacity:1\"/>\n",
       "<line clip-path=\"url(#clip162)\" x1=\"2557.23\" y1=\"424.649\" x2=\"2533.23\" y2=\"424.649\" style=\"stroke:#000000; stroke-width:4; stroke-opacity:1\"/>\n",
       "<line clip-path=\"url(#clip162)\" x1=\"2557.23\" y1=\"359.977\" x2=\"2533.23\" y2=\"359.977\" style=\"stroke:#000000; stroke-width:4; stroke-opacity:1\"/>\n",
       "<line clip-path=\"url(#clip162)\" x1=\"2691.99\" y1=\"205.912\" x2=\"2667.99\" y2=\"205.912\" style=\"stroke:#000000; stroke-width:4; stroke-opacity:1\"/>\n",
       "<line clip-path=\"url(#clip162)\" x1=\"2691.99\" y1=\"97.2273\" x2=\"2667.99\" y2=\"97.2273\" style=\"stroke:#000000; stroke-width:4; stroke-opacity:1\"/>\n",
       "<polyline clip-path=\"url(#clip162)\" style=\"stroke:#000000; stroke-linecap:butt; stroke-linejoin:round; stroke-width:4; stroke-opacity:1; fill:none\" stroke-dasharray=\"16, 10\" points=\"\n",
       "  254.313,1763.32 389.073,1763.27 523.833,1756.72 658.592,1756.86 793.352,1747.13 928.111,1745.26 1062.87,1740.41 1197.63,1734.06 1332.39,1737.31 1467.15,1729.33 \n",
       "  1601.91,1722.73 1736.67,1706.86 1871.43,1697.17 2006.19,1681.37 2140.95,1657.29 2275.71,1639.58 2410.47,1620.66 2545.23,1602.89 2679.99,1567.84 \n",
       "  \"/>\n",
       "<path clip-path=\"url(#clip162)\" d=\"M254.313 1751.32 L242.313 1763.32 L254.313 1775.32 L266.313 1763.32 L254.313 1751.32 Z\" fill=\"#000000\" fill-rule=\"evenodd\" fill-opacity=\"1\" stroke=\"none\"/>\n",
       "<path clip-path=\"url(#clip162)\" d=\"M389.073 1751.27 L377.073 1763.27 L389.073 1775.27 L401.073 1763.27 L389.073 1751.27 Z\" fill=\"#000000\" fill-rule=\"evenodd\" fill-opacity=\"1\" stroke=\"none\"/>\n",
       "<path clip-path=\"url(#clip162)\" d=\"M523.833 1744.72 L511.833 1756.72 L523.833 1768.72 L535.833 1756.72 L523.833 1744.72 Z\" fill=\"#000000\" fill-rule=\"evenodd\" fill-opacity=\"1\" stroke=\"none\"/>\n",
       "<path clip-path=\"url(#clip162)\" d=\"M658.592 1744.86 L646.592 1756.86 L658.592 1768.86 L670.592 1756.86 L658.592 1744.86 Z\" fill=\"#000000\" fill-rule=\"evenodd\" fill-opacity=\"1\" stroke=\"none\"/>\n",
       "<path clip-path=\"url(#clip162)\" d=\"M793.352 1735.13 L781.352 1747.13 L793.352 1759.13 L805.352 1747.13 L793.352 1735.13 Z\" fill=\"#000000\" fill-rule=\"evenodd\" fill-opacity=\"1\" stroke=\"none\"/>\n",
       "<path clip-path=\"url(#clip162)\" d=\"M928.111 1733.26 L916.111 1745.26 L928.111 1757.26 L940.111 1745.26 L928.111 1733.26 Z\" fill=\"#000000\" fill-rule=\"evenodd\" fill-opacity=\"1\" stroke=\"none\"/>\n",
       "<path clip-path=\"url(#clip162)\" d=\"M1062.87 1728.41 L1050.87 1740.41 L1062.87 1752.41 L1074.87 1740.41 L1062.87 1728.41 Z\" fill=\"#000000\" fill-rule=\"evenodd\" fill-opacity=\"1\" stroke=\"none\"/>\n",
       "<path clip-path=\"url(#clip162)\" d=\"M1197.63 1722.06 L1185.63 1734.06 L1197.63 1746.06 L1209.63 1734.06 L1197.63 1722.06 Z\" fill=\"#000000\" fill-rule=\"evenodd\" fill-opacity=\"1\" stroke=\"none\"/>\n",
       "<path clip-path=\"url(#clip162)\" d=\"M1332.39 1725.31 L1320.39 1737.31 L1332.39 1749.31 L1344.39 1737.31 L1332.39 1725.31 Z\" fill=\"#000000\" fill-rule=\"evenodd\" fill-opacity=\"1\" stroke=\"none\"/>\n",
       "<path clip-path=\"url(#clip162)\" d=\"M1467.15 1717.33 L1455.15 1729.33 L1467.15 1741.33 L1479.15 1729.33 L1467.15 1717.33 Z\" fill=\"#000000\" fill-rule=\"evenodd\" fill-opacity=\"1\" stroke=\"none\"/>\n",
       "<path clip-path=\"url(#clip162)\" d=\"M1601.91 1710.73 L1589.91 1722.73 L1601.91 1734.73 L1613.91 1722.73 L1601.91 1710.73 Z\" fill=\"#000000\" fill-rule=\"evenodd\" fill-opacity=\"1\" stroke=\"none\"/>\n",
       "<path clip-path=\"url(#clip162)\" d=\"M1736.67 1694.86 L1724.67 1706.86 L1736.67 1718.86 L1748.67 1706.86 L1736.67 1694.86 Z\" fill=\"#000000\" fill-rule=\"evenodd\" fill-opacity=\"1\" stroke=\"none\"/>\n",
       "<path clip-path=\"url(#clip162)\" d=\"M1871.43 1685.17 L1859.43 1697.17 L1871.43 1709.17 L1883.43 1697.17 L1871.43 1685.17 Z\" fill=\"#000000\" fill-rule=\"evenodd\" fill-opacity=\"1\" stroke=\"none\"/>\n",
       "<path clip-path=\"url(#clip162)\" d=\"M2006.19 1669.37 L1994.19 1681.37 L2006.19 1693.37 L2018.19 1681.37 L2006.19 1669.37 Z\" fill=\"#000000\" fill-rule=\"evenodd\" fill-opacity=\"1\" stroke=\"none\"/>\n",
       "<path clip-path=\"url(#clip162)\" d=\"M2140.95 1645.29 L2128.95 1657.29 L2140.95 1669.29 L2152.95 1657.29 L2140.95 1645.29 Z\" fill=\"#000000\" fill-rule=\"evenodd\" fill-opacity=\"1\" stroke=\"none\"/>\n",
       "<path clip-path=\"url(#clip162)\" d=\"M2275.71 1627.58 L2263.71 1639.58 L2275.71 1651.58 L2287.71 1639.58 L2275.71 1627.58 Z\" fill=\"#000000\" fill-rule=\"evenodd\" fill-opacity=\"1\" stroke=\"none\"/>\n",
       "<path clip-path=\"url(#clip162)\" d=\"M2410.47 1608.66 L2398.47 1620.66 L2410.47 1632.66 L2422.47 1620.66 L2410.47 1608.66 Z\" fill=\"#000000\" fill-rule=\"evenodd\" fill-opacity=\"1\" stroke=\"none\"/>\n",
       "<path clip-path=\"url(#clip162)\" d=\"M2545.23 1590.89 L2533.23 1602.89 L2545.23 1614.89 L2557.23 1602.89 L2545.23 1590.89 Z\" fill=\"#000000\" fill-rule=\"evenodd\" fill-opacity=\"1\" stroke=\"none\"/>\n",
       "<path clip-path=\"url(#clip162)\" d=\"M2679.99 1555.84 L2667.99 1567.84 L2679.99 1579.84 L2691.99 1567.84 L2679.99 1555.84 Z\" fill=\"#000000\" fill-rule=\"evenodd\" fill-opacity=\"1\" stroke=\"none\"/>\n",
       "<polyline clip-path=\"url(#clip162)\" style=\"stroke:#000000; stroke-linecap:butt; stroke-linejoin:round; stroke-width:4; stroke-opacity:1; fill:none\" stroke-dasharray=\"16, 10\" points=\"\n",
       "  254.313,1763.33 254.313,1763.3 \n",
       "  \"/>\n",
       "<polyline clip-path=\"url(#clip162)\" style=\"stroke:#000000; stroke-linecap:butt; stroke-linejoin:round; stroke-width:4; stroke-opacity:1; fill:none\" stroke-dasharray=\"16, 10\" points=\"\n",
       "  389.073,1763.27 389.073,1763.26 \n",
       "  \"/>\n",
       "<polyline clip-path=\"url(#clip162)\" style=\"stroke:#000000; stroke-linecap:butt; stroke-linejoin:round; stroke-width:4; stroke-opacity:1; fill:none\" stroke-dasharray=\"16, 10\" points=\"\n",
       "  523.833,1760.26 523.833,1753.17 \n",
       "  \"/>\n",
       "<polyline clip-path=\"url(#clip162)\" style=\"stroke:#000000; stroke-linecap:butt; stroke-linejoin:round; stroke-width:4; stroke-opacity:1; fill:none\" stroke-dasharray=\"16, 10\" points=\"\n",
       "  658.592,1760.31 658.592,1753.41 \n",
       "  \"/>\n",
       "<polyline clip-path=\"url(#clip162)\" style=\"stroke:#000000; stroke-linecap:butt; stroke-linejoin:round; stroke-width:4; stroke-opacity:1; fill:none\" stroke-dasharray=\"16, 10\" points=\"\n",
       "  793.352,1747.25 793.352,1747.01 \n",
       "  \"/>\n",
       "<polyline clip-path=\"url(#clip162)\" style=\"stroke:#000000; stroke-linecap:butt; stroke-linejoin:round; stroke-width:4; stroke-opacity:1; fill:none\" stroke-dasharray=\"16, 10\" points=\"\n",
       "  928.111,1748.92 928.111,1741.6 \n",
       "  \"/>\n",
       "<polyline clip-path=\"url(#clip162)\" style=\"stroke:#000000; stroke-linecap:butt; stroke-linejoin:round; stroke-width:4; stroke-opacity:1; fill:none\" stroke-dasharray=\"16, 10\" points=\"\n",
       "  1062.87,1743.85 1062.87,1736.98 \n",
       "  \"/>\n",
       "<polyline clip-path=\"url(#clip162)\" style=\"stroke:#000000; stroke-linecap:butt; stroke-linejoin:round; stroke-width:4; stroke-opacity:1; fill:none\" stroke-dasharray=\"16, 10\" points=\"\n",
       "  1197.63,1738.49 1197.63,1729.63 \n",
       "  \"/>\n",
       "<polyline clip-path=\"url(#clip162)\" style=\"stroke:#000000; stroke-linecap:butt; stroke-linejoin:round; stroke-width:4; stroke-opacity:1; fill:none\" stroke-dasharray=\"16, 10\" points=\"\n",
       "  1332.39,1740.99 1332.39,1733.63 \n",
       "  \"/>\n",
       "<polyline clip-path=\"url(#clip162)\" style=\"stroke:#000000; stroke-linecap:butt; stroke-linejoin:round; stroke-width:4; stroke-opacity:1; fill:none\" stroke-dasharray=\"16, 10\" points=\"\n",
       "  1467.15,1732.88 1467.15,1725.78 \n",
       "  \"/>\n",
       "<polyline clip-path=\"url(#clip162)\" style=\"stroke:#000000; stroke-linecap:butt; stroke-linejoin:round; stroke-width:4; stroke-opacity:1; fill:none\" stroke-dasharray=\"16, 10\" points=\"\n",
       "  1601.91,1723.08 1601.91,1722.37 \n",
       "  \"/>\n",
       "<polyline clip-path=\"url(#clip162)\" style=\"stroke:#000000; stroke-linecap:butt; stroke-linejoin:round; stroke-width:4; stroke-opacity:1; fill:none\" stroke-dasharray=\"16, 10\" points=\"\n",
       "  1736.67,1712.41 1736.67,1701.3 \n",
       "  \"/>\n",
       "<polyline clip-path=\"url(#clip162)\" style=\"stroke:#000000; stroke-linecap:butt; stroke-linejoin:round; stroke-width:4; stroke-opacity:1; fill:none\" stroke-dasharray=\"16, 10\" points=\"\n",
       "  1871.43,1700.74 1871.43,1693.59 \n",
       "  \"/>\n",
       "<polyline clip-path=\"url(#clip162)\" style=\"stroke:#000000; stroke-linecap:butt; stroke-linejoin:round; stroke-width:4; stroke-opacity:1; fill:none\" stroke-dasharray=\"16, 10\" points=\"\n",
       "  2006.19,1685.07 2006.19,1677.68 \n",
       "  \"/>\n",
       "<polyline clip-path=\"url(#clip162)\" style=\"stroke:#000000; stroke-linecap:butt; stroke-linejoin:round; stroke-width:4; stroke-opacity:1; fill:none\" stroke-dasharray=\"16, 10\" points=\"\n",
       "  2140.95,1663.72 2140.95,1650.86 \n",
       "  \"/>\n",
       "<polyline clip-path=\"url(#clip162)\" style=\"stroke:#000000; stroke-linecap:butt; stroke-linejoin:round; stroke-width:4; stroke-opacity:1; fill:none\" stroke-dasharray=\"16, 10\" points=\"\n",
       "  2275.71,1646.79 2275.71,1632.38 \n",
       "  \"/>\n",
       "<polyline clip-path=\"url(#clip162)\" style=\"stroke:#000000; stroke-linecap:butt; stroke-linejoin:round; stroke-width:4; stroke-opacity:1; fill:none\" stroke-dasharray=\"16, 10\" points=\"\n",
       "  2410.47,1624.16 2410.47,1617.16 \n",
       "  \"/>\n",
       "<polyline clip-path=\"url(#clip162)\" style=\"stroke:#000000; stroke-linecap:butt; stroke-linejoin:round; stroke-width:4; stroke-opacity:1; fill:none\" stroke-dasharray=\"16, 10\" points=\"\n",
       "  2545.23,1608.46 2545.23,1597.32 \n",
       "  \"/>\n",
       "<polyline clip-path=\"url(#clip162)\" style=\"stroke:#000000; stroke-linecap:butt; stroke-linejoin:round; stroke-width:4; stroke-opacity:1; fill:none\" stroke-dasharray=\"16, 10\" points=\"\n",
       "  2679.99,1571.99 2679.99,1563.68 \n",
       "  \"/>\n",
       "<line clip-path=\"url(#clip162)\" x1=\"266.313\" y1=\"1763.33\" x2=\"242.313\" y2=\"1763.33\" style=\"stroke:#000000; stroke-width:4; stroke-opacity:1\"/>\n",
       "<line clip-path=\"url(#clip162)\" x1=\"266.313\" y1=\"1763.3\" x2=\"242.313\" y2=\"1763.3\" style=\"stroke:#000000; stroke-width:4; stroke-opacity:1\"/>\n",
       "<line clip-path=\"url(#clip162)\" x1=\"401.073\" y1=\"1763.27\" x2=\"377.073\" y2=\"1763.27\" style=\"stroke:#000000; stroke-width:4; stroke-opacity:1\"/>\n",
       "<line clip-path=\"url(#clip162)\" x1=\"401.073\" y1=\"1763.26\" x2=\"377.073\" y2=\"1763.26\" style=\"stroke:#000000; stroke-width:4; stroke-opacity:1\"/>\n",
       "<line clip-path=\"url(#clip162)\" x1=\"535.833\" y1=\"1760.26\" x2=\"511.833\" y2=\"1760.26\" style=\"stroke:#000000; stroke-width:4; stroke-opacity:1\"/>\n",
       "<line clip-path=\"url(#clip162)\" x1=\"535.833\" y1=\"1753.17\" x2=\"511.833\" y2=\"1753.17\" style=\"stroke:#000000; stroke-width:4; stroke-opacity:1\"/>\n",
       "<line clip-path=\"url(#clip162)\" x1=\"670.592\" y1=\"1760.31\" x2=\"646.592\" y2=\"1760.31\" style=\"stroke:#000000; stroke-width:4; stroke-opacity:1\"/>\n",
       "<line clip-path=\"url(#clip162)\" x1=\"670.592\" y1=\"1753.41\" x2=\"646.592\" y2=\"1753.41\" style=\"stroke:#000000; stroke-width:4; stroke-opacity:1\"/>\n",
       "<line clip-path=\"url(#clip162)\" x1=\"805.352\" y1=\"1747.25\" x2=\"781.352\" y2=\"1747.25\" style=\"stroke:#000000; stroke-width:4; stroke-opacity:1\"/>\n",
       "<line clip-path=\"url(#clip162)\" x1=\"805.352\" y1=\"1747.01\" x2=\"781.352\" y2=\"1747.01\" style=\"stroke:#000000; stroke-width:4; stroke-opacity:1\"/>\n",
       "<line clip-path=\"url(#clip162)\" x1=\"940.111\" y1=\"1748.92\" x2=\"916.111\" y2=\"1748.92\" style=\"stroke:#000000; stroke-width:4; stroke-opacity:1\"/>\n",
       "<line clip-path=\"url(#clip162)\" x1=\"940.111\" y1=\"1741.6\" x2=\"916.111\" y2=\"1741.6\" style=\"stroke:#000000; stroke-width:4; stroke-opacity:1\"/>\n",
       "<line clip-path=\"url(#clip162)\" x1=\"1074.87\" y1=\"1743.85\" x2=\"1050.87\" y2=\"1743.85\" style=\"stroke:#000000; stroke-width:4; stroke-opacity:1\"/>\n",
       "<line clip-path=\"url(#clip162)\" x1=\"1074.87\" y1=\"1736.98\" x2=\"1050.87\" y2=\"1736.98\" style=\"stroke:#000000; stroke-width:4; stroke-opacity:1\"/>\n",
       "<line clip-path=\"url(#clip162)\" x1=\"1209.63\" y1=\"1738.49\" x2=\"1185.63\" y2=\"1738.49\" style=\"stroke:#000000; stroke-width:4; stroke-opacity:1\"/>\n",
       "<line clip-path=\"url(#clip162)\" x1=\"1209.63\" y1=\"1729.63\" x2=\"1185.63\" y2=\"1729.63\" style=\"stroke:#000000; stroke-width:4; stroke-opacity:1\"/>\n",
       "<line clip-path=\"url(#clip162)\" x1=\"1344.39\" y1=\"1740.99\" x2=\"1320.39\" y2=\"1740.99\" style=\"stroke:#000000; stroke-width:4; stroke-opacity:1\"/>\n",
       "<line clip-path=\"url(#clip162)\" x1=\"1344.39\" y1=\"1733.63\" x2=\"1320.39\" y2=\"1733.63\" style=\"stroke:#000000; stroke-width:4; stroke-opacity:1\"/>\n",
       "<line clip-path=\"url(#clip162)\" x1=\"1479.15\" y1=\"1732.88\" x2=\"1455.15\" y2=\"1732.88\" style=\"stroke:#000000; stroke-width:4; stroke-opacity:1\"/>\n",
       "<line clip-path=\"url(#clip162)\" x1=\"1479.15\" y1=\"1725.78\" x2=\"1455.15\" y2=\"1725.78\" style=\"stroke:#000000; stroke-width:4; stroke-opacity:1\"/>\n",
       "<line clip-path=\"url(#clip162)\" x1=\"1613.91\" y1=\"1723.08\" x2=\"1589.91\" y2=\"1723.08\" style=\"stroke:#000000; stroke-width:4; stroke-opacity:1\"/>\n",
       "<line clip-path=\"url(#clip162)\" x1=\"1613.91\" y1=\"1722.37\" x2=\"1589.91\" y2=\"1722.37\" style=\"stroke:#000000; stroke-width:4; stroke-opacity:1\"/>\n",
       "<line clip-path=\"url(#clip162)\" x1=\"1748.67\" y1=\"1712.41\" x2=\"1724.67\" y2=\"1712.41\" style=\"stroke:#000000; stroke-width:4; stroke-opacity:1\"/>\n",
       "<line clip-path=\"url(#clip162)\" x1=\"1748.67\" y1=\"1701.3\" x2=\"1724.67\" y2=\"1701.3\" style=\"stroke:#000000; stroke-width:4; stroke-opacity:1\"/>\n",
       "<line clip-path=\"url(#clip162)\" x1=\"1883.43\" y1=\"1700.74\" x2=\"1859.43\" y2=\"1700.74\" style=\"stroke:#000000; stroke-width:4; stroke-opacity:1\"/>\n",
       "<line clip-path=\"url(#clip162)\" x1=\"1883.43\" y1=\"1693.59\" x2=\"1859.43\" y2=\"1693.59\" style=\"stroke:#000000; stroke-width:4; stroke-opacity:1\"/>\n",
       "<line clip-path=\"url(#clip162)\" x1=\"2018.19\" y1=\"1685.07\" x2=\"1994.19\" y2=\"1685.07\" style=\"stroke:#000000; stroke-width:4; stroke-opacity:1\"/>\n",
       "<line clip-path=\"url(#clip162)\" x1=\"2018.19\" y1=\"1677.68\" x2=\"1994.19\" y2=\"1677.68\" style=\"stroke:#000000; stroke-width:4; stroke-opacity:1\"/>\n",
       "<line clip-path=\"url(#clip162)\" x1=\"2152.95\" y1=\"1663.72\" x2=\"2128.95\" y2=\"1663.72\" style=\"stroke:#000000; stroke-width:4; stroke-opacity:1\"/>\n",
       "<line clip-path=\"url(#clip162)\" x1=\"2152.95\" y1=\"1650.86\" x2=\"2128.95\" y2=\"1650.86\" style=\"stroke:#000000; stroke-width:4; stroke-opacity:1\"/>\n",
       "<line clip-path=\"url(#clip162)\" x1=\"2287.71\" y1=\"1646.79\" x2=\"2263.71\" y2=\"1646.79\" style=\"stroke:#000000; stroke-width:4; stroke-opacity:1\"/>\n",
       "<line clip-path=\"url(#clip162)\" x1=\"2287.71\" y1=\"1632.38\" x2=\"2263.71\" y2=\"1632.38\" style=\"stroke:#000000; stroke-width:4; stroke-opacity:1\"/>\n",
       "<line clip-path=\"url(#clip162)\" x1=\"2422.47\" y1=\"1624.16\" x2=\"2398.47\" y2=\"1624.16\" style=\"stroke:#000000; stroke-width:4; stroke-opacity:1\"/>\n",
       "<line clip-path=\"url(#clip162)\" x1=\"2422.47\" y1=\"1617.16\" x2=\"2398.47\" y2=\"1617.16\" style=\"stroke:#000000; stroke-width:4; stroke-opacity:1\"/>\n",
       "<line clip-path=\"url(#clip162)\" x1=\"2557.23\" y1=\"1608.46\" x2=\"2533.23\" y2=\"1608.46\" style=\"stroke:#000000; stroke-width:4; stroke-opacity:1\"/>\n",
       "<line clip-path=\"url(#clip162)\" x1=\"2557.23\" y1=\"1597.32\" x2=\"2533.23\" y2=\"1597.32\" style=\"stroke:#000000; stroke-width:4; stroke-opacity:1\"/>\n",
       "<line clip-path=\"url(#clip162)\" x1=\"2691.99\" y1=\"1571.99\" x2=\"2667.99\" y2=\"1571.99\" style=\"stroke:#000000; stroke-width:4; stroke-opacity:1\"/>\n",
       "<line clip-path=\"url(#clip162)\" x1=\"2691.99\" y1=\"1563.68\" x2=\"2667.99\" y2=\"1563.68\" style=\"stroke:#000000; stroke-width:4; stroke-opacity:1\"/>\n",
       "<path clip-path=\"url(#clip160)\" d=\"\n",
       "M267.25 261.633 L807.777 261.633 L807.777 106.113 L267.25 106.113  Z\n",
       "  \" fill=\"#ffffff\" fill-rule=\"evenodd\" fill-opacity=\"1\"/>\n",
       "<polyline clip-path=\"url(#clip160)\" style=\"stroke:#000000; stroke-linecap:butt; stroke-linejoin:round; stroke-width:4; stroke-opacity:1; fill:none\" points=\"\n",
       "  267.25,261.633 807.777,261.633 807.777,106.113 267.25,106.113 267.25,261.633 \n",
       "  \"/>\n",
       "<polyline clip-path=\"url(#clip160)\" style=\"stroke:#000000; stroke-linecap:butt; stroke-linejoin:round; stroke-width:4; stroke-opacity:1; fill:none\" stroke-dasharray=\"16, 10\" points=\"\n",
       "  295.819,157.953 467.234,157.953 \n",
       "  \"/>\n",
       "<path clip-path=\"url(#clip160)\" d=\"M355.926 132.353 L355.926 183.553 L407.126 183.553 L407.126 132.353 L355.926 132.353 Z\" fill=\"#000000\" fill-rule=\"evenodd\" fill-opacity=\"1\" stroke=\"none\"/>\n",
       "<path clip-path=\"url(#clip160)\" d=\"M495.803 140.673 L500.478 140.673 L500.478 171.298 L517.307 171.298 L517.307 175.233 L495.803 175.233 L495.803 140.673 Z\" fill=\"#000000\" fill-rule=\"evenodd\" fill-opacity=\"1\" /><path clip-path=\"url(#clip160)\" d=\"M522.029 149.307 L526.288 149.307 L526.288 175.233 L522.029 175.233 L522.029 149.307 M522.029 139.215 L526.288 139.215 L526.288 144.608 L522.029 144.608 L522.029 139.215 Z\" fill=\"#000000\" fill-rule=\"evenodd\" fill-opacity=\"1\" /><path clip-path=\"url(#clip160)\" d=\"M556.751 159.585 L556.751 175.233 L552.492 175.233 L552.492 159.724 Q552.492 156.043 551.057 154.215 Q549.622 152.386 546.751 152.386 Q543.302 152.386 541.312 154.585 Q539.321 156.784 539.321 160.58 L539.321 175.233 L535.038 175.233 L535.038 149.307 L539.321 149.307 L539.321 153.335 Q540.849 150.997 542.909 149.84 Q544.992 148.682 547.7 148.682 Q552.168 148.682 554.46 151.46 Q556.751 154.215 556.751 159.585 Z\" fill=\"#000000\" fill-rule=\"evenodd\" fill-opacity=\"1\" /><path clip-path=\"url(#clip160)\" d=\"M587.422 161.205 L587.422 163.289 L567.839 163.289 Q568.117 167.687 570.478 170.002 Q572.862 172.293 577.098 172.293 Q579.552 172.293 581.844 171.692 Q584.159 171.09 586.427 169.886 L586.427 173.914 Q584.135 174.886 581.728 175.395 Q579.321 175.904 576.844 175.904 Q570.64 175.904 567.006 172.293 Q563.395 168.682 563.395 162.525 Q563.395 156.159 566.821 152.432 Q570.27 148.682 576.103 148.682 Q581.334 148.682 584.367 152.062 Q587.422 155.418 587.422 161.205 M583.163 159.955 Q583.117 156.46 581.196 154.377 Q579.297 152.293 576.149 152.293 Q572.585 152.293 570.432 154.307 Q568.302 156.321 567.978 159.979 L583.163 159.955 Z\" fill=\"#000000\" fill-rule=\"evenodd\" fill-opacity=\"1\" /><path clip-path=\"url(#clip160)\" d=\"M606.195 162.201 Q601.033 162.201 599.043 163.381 Q597.052 164.562 597.052 167.409 Q597.052 169.678 598.533 171.02 Q600.038 172.34 602.608 172.34 Q606.149 172.34 608.279 169.84 Q610.432 167.317 610.432 163.15 L610.432 162.201 L606.195 162.201 M614.691 160.442 L614.691 175.233 L610.432 175.233 L610.432 171.298 Q608.973 173.659 606.797 174.793 Q604.621 175.904 601.473 175.904 Q597.492 175.904 595.131 173.682 Q592.793 171.437 592.793 167.687 Q592.793 163.312 595.709 161.09 Q598.649 158.868 604.459 158.868 L610.432 158.868 L610.432 158.451 Q610.432 155.511 608.487 153.914 Q606.566 152.293 603.07 152.293 Q600.848 152.293 598.742 152.826 Q596.635 153.358 594.691 154.423 L594.691 150.488 Q597.029 149.585 599.228 149.145 Q601.427 148.682 603.51 148.682 Q609.135 148.682 611.913 151.599 Q614.691 154.516 614.691 160.442 Z\" fill=\"#000000\" fill-rule=\"evenodd\" fill-opacity=\"1\" /><path clip-path=\"url(#clip160)\" d=\"M638.487 153.289 Q637.769 152.872 636.913 152.687 Q636.08 152.479 635.061 152.479 Q631.45 152.479 629.506 154.84 Q627.584 157.178 627.584 161.576 L627.584 175.233 L623.302 175.233 L623.302 149.307 L627.584 149.307 L627.584 153.335 Q628.927 150.974 631.08 149.84 Q633.232 148.682 636.311 148.682 Q636.751 148.682 637.283 148.752 Q637.816 148.798 638.464 148.914 L638.487 153.289 Z\" fill=\"#000000\" fill-rule=\"evenodd\" fill-opacity=\"1\" /><path clip-path=\"url(#clip160)\" d=\"M676.681 150.303 L676.681 154.284 Q674.876 153.289 673.047 152.803 Q671.241 152.293 669.39 152.293 Q665.246 152.293 662.954 154.932 Q660.663 157.548 660.663 162.293 Q660.663 167.039 662.954 169.678 Q665.246 172.293 669.39 172.293 Q671.241 172.293 673.047 171.807 Q674.876 171.298 676.681 170.303 L676.681 174.238 Q674.899 175.071 672.978 175.488 Q671.079 175.904 668.927 175.904 Q663.07 175.904 659.621 172.224 Q656.172 168.543 656.172 162.293 Q656.172 155.951 659.644 152.317 Q663.14 148.682 669.204 148.682 Q671.172 148.682 673.047 149.099 Q674.922 149.493 676.681 150.303 Z\" fill=\"#000000\" fill-rule=\"evenodd\" fill-opacity=\"1\" /><path clip-path=\"url(#clip160)\" d=\"M683.649 165.002 L683.649 149.307 L687.908 149.307 L687.908 164.84 Q687.908 168.52 689.343 170.372 Q690.778 172.201 693.649 172.201 Q697.098 172.201 699.088 170.002 Q701.102 167.803 701.102 164.006 L701.102 149.307 L705.362 149.307 L705.362 175.233 L701.102 175.233 L701.102 171.252 Q699.551 173.613 697.491 174.77 Q695.454 175.904 692.746 175.904 Q688.278 175.904 685.964 173.127 Q683.649 170.349 683.649 165.002 M694.366 148.682 L694.366 148.682 Z\" fill=\"#000000\" fill-rule=\"evenodd\" fill-opacity=\"1\" /><path clip-path=\"url(#clip160)\" d=\"M718.348 141.946 L718.348 149.307 L727.121 149.307 L727.121 152.618 L718.348 152.618 L718.348 166.692 Q718.348 169.863 719.204 170.766 Q720.084 171.668 722.746 171.668 L727.121 171.668 L727.121 175.233 L722.746 175.233 Q717.815 175.233 715.94 173.404 Q714.065 171.553 714.065 166.692 L714.065 152.618 L710.94 152.618 L710.94 149.307 L714.065 149.307 L714.065 141.946 L718.348 141.946 Z\" fill=\"#000000\" fill-rule=\"evenodd\" fill-opacity=\"1\" /><path clip-path=\"url(#clip160)\" d=\"M749.25 150.071 L749.25 154.099 Q747.445 153.173 745.5 152.71 Q743.556 152.247 741.473 152.247 Q738.301 152.247 736.704 153.219 Q735.13 154.192 735.13 156.136 Q735.13 157.618 736.264 158.474 Q737.398 159.307 740.824 160.071 L742.283 160.395 Q746.82 161.368 748.718 163.15 Q750.639 164.909 750.639 168.08 Q750.639 171.692 747.769 173.798 Q744.922 175.904 739.922 175.904 Q737.838 175.904 735.57 175.488 Q733.324 175.094 730.824 174.284 L730.824 169.886 Q733.186 171.113 735.477 171.738 Q737.769 172.34 740.014 172.34 Q743.023 172.34 744.644 171.321 Q746.264 170.28 746.264 168.405 Q746.264 166.668 745.084 165.743 Q743.926 164.817 739.968 163.96 L738.486 163.613 Q734.528 162.78 732.769 161.067 Q731.01 159.33 731.01 156.321 Q731.01 152.664 733.602 150.673 Q736.195 148.682 740.963 148.682 Q743.324 148.682 745.408 149.03 Q747.491 149.377 749.25 150.071 Z\" fill=\"#000000\" fill-rule=\"evenodd\" fill-opacity=\"1\" /><polyline clip-path=\"url(#clip160)\" style=\"stroke:#000000; stroke-linecap:butt; stroke-linejoin:round; stroke-width:4; stroke-opacity:1; fill:none\" stroke-dasharray=\"16, 10\" points=\"\n",
       "  295.819,209.793 467.234,209.793 \n",
       "  \"/>\n",
       "<path clip-path=\"url(#clip160)\" d=\"M381.526 184.193 L355.926 209.793 L381.526 235.393 L407.126 209.793 L381.526 184.193 Z\" fill=\"#000000\" fill-rule=\"evenodd\" fill-opacity=\"1\" stroke=\"none\"/>\n",
       "<path clip-path=\"url(#clip160)\" d=\"M495.803 192.513 L517.654 192.513 L517.654 196.448 L500.478 196.448 L500.478 206.68 L516.937 206.68 L516.937 210.615 L500.478 210.615 L500.478 223.138 L518.071 223.138 L518.071 227.073 L495.803 227.073 L495.803 192.513 Z\" fill=\"#000000\" fill-rule=\"evenodd\" fill-opacity=\"1\" /><path clip-path=\"url(#clip160)\" d=\"M525.571 201.147 L529.83 201.147 L529.83 227.073 L525.571 227.073 L525.571 201.147 M525.571 191.055 L529.83 191.055 L529.83 196.448 L525.571 196.448 L525.571 191.055 Z\" fill=\"#000000\" fill-rule=\"evenodd\" fill-opacity=\"1\" /><path clip-path=\"url(#clip160)\" d=\"M555.802 213.809 Q555.802 209.18 553.881 206.633 Q551.983 204.087 548.534 204.087 Q545.108 204.087 543.187 206.633 Q541.288 209.18 541.288 213.809 Q541.288 218.416 543.187 220.962 Q545.108 223.508 548.534 223.508 Q551.983 223.508 553.881 220.962 Q555.802 218.416 555.802 213.809 M560.061 223.856 Q560.061 230.476 557.122 233.694 Q554.182 236.934 548.117 236.934 Q545.872 236.934 543.881 236.587 Q541.89 236.263 540.015 235.569 L540.015 231.425 Q541.89 232.444 543.719 232.93 Q545.548 233.416 547.446 233.416 Q551.636 233.416 553.719 231.217 Q555.802 229.041 555.802 224.62 L555.802 222.513 Q554.483 224.805 552.423 225.939 Q550.362 227.073 547.492 227.073 Q542.724 227.073 539.807 223.439 Q536.89 219.805 536.89 213.809 Q536.89 207.791 539.807 204.157 Q542.724 200.522 547.492 200.522 Q550.362 200.522 552.423 201.657 Q554.483 202.791 555.802 205.083 L555.802 201.147 L560.061 201.147 L560.061 223.856 Z\" fill=\"#000000\" fill-rule=\"evenodd\" fill-opacity=\"1\" /><path clip-path=\"url(#clip160)\" d=\"M591.01 213.045 L591.01 215.129 L571.427 215.129 Q571.705 219.527 574.066 221.842 Q576.45 224.133 580.686 224.133 Q583.14 224.133 585.432 223.532 Q587.746 222.93 590.015 221.726 L590.015 225.754 Q587.723 226.726 585.316 227.235 Q582.909 227.744 580.432 227.744 Q574.228 227.744 570.594 224.133 Q566.983 220.522 566.983 214.365 Q566.983 207.999 570.409 204.272 Q573.858 200.522 579.691 200.522 Q584.922 200.522 587.955 203.902 Q591.01 207.258 591.01 213.045 M586.751 211.795 Q586.705 208.3 584.784 206.217 Q582.885 204.133 579.737 204.133 Q576.172 204.133 574.02 206.147 Q571.89 208.161 571.566 211.819 L586.751 211.795 Z\" fill=\"#000000\" fill-rule=\"evenodd\" fill-opacity=\"1\" /><path clip-path=\"url(#clip160)\" d=\"M619.552 211.425 L619.552 227.073 L615.293 227.073 L615.293 211.564 Q615.293 207.883 613.857 206.055 Q612.422 204.226 609.552 204.226 Q606.103 204.226 604.112 206.425 Q602.121 208.624 602.121 212.42 L602.121 227.073 L597.839 227.073 L597.839 201.147 L602.121 201.147 L602.121 205.175 Q603.649 202.837 605.709 201.68 Q607.793 200.522 610.501 200.522 Q614.969 200.522 617.26 203.3 Q619.552 206.055 619.552 211.425 Z\" fill=\"#000000\" fill-rule=\"evenodd\" fill-opacity=\"1\" /><path clip-path=\"url(#clip160)\" d=\"M661.774 202.143 L661.774 206.124 Q659.968 205.129 658.14 204.643 Q656.334 204.133 654.482 204.133 Q650.339 204.133 648.047 206.772 Q645.755 209.388 645.755 214.133 Q645.755 218.879 648.047 221.518 Q650.339 224.133 654.482 224.133 Q656.334 224.133 658.14 223.647 Q659.968 223.138 661.774 222.143 L661.774 226.078 Q659.991 226.911 658.07 227.328 Q656.172 227.744 654.019 227.744 Q648.163 227.744 644.714 224.064 Q641.265 220.383 641.265 214.133 Q641.265 207.791 644.737 204.157 Q648.232 200.522 654.297 200.522 Q656.265 200.522 658.14 200.939 Q660.015 201.333 661.774 202.143 Z\" fill=\"#000000\" fill-rule=\"evenodd\" fill-opacity=\"1\" /><path clip-path=\"url(#clip160)\" d=\"M668.741 216.842 L668.741 201.147 L673.001 201.147 L673.001 216.68 Q673.001 220.36 674.436 222.212 Q675.871 224.041 678.741 224.041 Q682.19 224.041 684.181 221.842 Q686.195 219.643 686.195 215.846 L686.195 201.147 L690.454 201.147 L690.454 227.073 L686.195 227.073 L686.195 223.092 Q684.644 225.453 682.584 226.61 Q680.547 227.744 677.839 227.744 Q673.371 227.744 671.056 224.967 Q668.741 222.189 668.741 216.842 M679.459 200.522 L679.459 200.522 Z\" fill=\"#000000\" fill-rule=\"evenodd\" fill-opacity=\"1\" /><path clip-path=\"url(#clip160)\" d=\"M703.44 193.786 L703.44 201.147 L712.213 201.147 L712.213 204.458 L703.44 204.458 L703.44 218.532 Q703.44 221.703 704.297 222.606 Q705.176 223.508 707.838 223.508 L712.213 223.508 L712.213 227.073 L707.838 227.073 Q702.908 227.073 701.033 225.244 Q699.158 223.393 699.158 218.532 L699.158 204.458 L696.033 204.458 L696.033 201.147 L699.158 201.147 L699.158 193.786 L703.44 193.786 Z\" fill=\"#000000\" fill-rule=\"evenodd\" fill-opacity=\"1\" /><path clip-path=\"url(#clip160)\" d=\"M734.343 201.911 L734.343 205.939 Q732.537 205.013 730.593 204.55 Q728.649 204.087 726.565 204.087 Q723.394 204.087 721.797 205.059 Q720.223 206.032 720.223 207.976 Q720.223 209.458 721.357 210.314 Q722.491 211.147 725.917 211.911 L727.375 212.235 Q731.912 213.208 733.811 214.99 Q735.732 216.749 735.732 219.92 Q735.732 223.532 732.861 225.638 Q730.014 227.744 725.014 227.744 Q722.931 227.744 720.662 227.328 Q718.417 226.934 715.917 226.124 L715.917 221.726 Q718.278 222.953 720.57 223.578 Q722.862 224.18 725.107 224.18 Q728.116 224.18 729.736 223.161 Q731.357 222.12 731.357 220.245 Q731.357 218.508 730.176 217.583 Q729.019 216.657 725.061 215.8 L723.579 215.453 Q719.621 214.62 717.862 212.907 Q716.102 211.17 716.102 208.161 Q716.102 204.504 718.695 202.513 Q721.287 200.522 726.056 200.522 Q728.417 200.522 730.5 200.87 Q732.584 201.217 734.343 201.911 Z\" fill=\"#000000\" fill-rule=\"evenodd\" fill-opacity=\"1\" /></svg>\n"
      ]
     },
     "execution_count": 55,
     "metadata": {},
     "output_type": "execute_result"
    }
   ],
   "source": [
    " #p = plot(timeResults[1,:],timeResults[2,:],grid=true,legend=:topleft,labels=\"Linear cuts\",seriestype = :scatter,xlabel= \"size of matrix\",ylabel=\"time in seconds\")\n",
    "p= plot(timeResults[1,:],timeResults[2,:],marker=(:square, 3, 1.), label =(\"Linear cuts\"),legend=:topleft,xaxis =\"size of matrix\",yaxis=\"time in seconds\" ,size = (700, 500),linestyle=:dash,yerror =(timeResults[3,:],timeResults[3,:]),colour=\"black\"  )\n",
    "\n",
    "#plot!(timeResults[1,:],timeResults[3,:],grid=true,labels=\"Eigen cuts\",seriestype = :scatter,markershape= :diamond)\n",
    "plot!(timeResults[1,:],timeResults[4,:],marker=(:diamond, 3, 1.), label =(\"Eigen cuts\"),legend=:topleft,xaxis =\"size of matrix\",yaxis=\"time in seconds\" ,size = (700, 500),linestyle=:dash,yerror =(timeResults[5,:],timeResults[5,:]),colour=\"black\"  )\n",
    "\n"
   ]
  },
  {
   "cell_type": "markdown",
   "id": "92050fd7",
   "metadata": {},
   "source": [
    "<h2>Experiments on increasing number of cuts versus Semidefinite program objective value<h2>\n"
   ]
  },
  {
   "cell_type": "code",
   "execution_count": null,
   "id": "0a9f88b3",
   "metadata": {},
   "outputs": [],
   "source": [
    "Random.seed!(12341234)"
   ]
  },
  {
   "cell_type": "code",
   "execution_count": null,
   "id": "756d1aea",
   "metadata": {},
   "outputs": [],
   "source": [
    "#ObjectiveVSIteration(numGraphs,matrixType,targetSparcity,graphSize,rounds)\n",
    "comparedResults  =  ObjectiveVSIteration(12,0,10,60,14)\n"
   ]
  },
  {
   "cell_type": "code",
   "execution_count": null,
   "id": "3b0de41b",
   "metadata": {},
   "outputs": [],
   "source": [
    " styles = filter((s->begin\n",
    "                s in Plots.supported_styles()\n",
    "        end), [:solid, :dash, :dash,:solid, :dash, :dash])\n",
    "styles = reshape(styles, 1, length(styles))\n",
    " plotComparedResults= plot(comparedResults[1,:],transpose(comparedResults[2:7,:]), label =  [\"Lp/sdp Med\" \"Lp/sdp Max\" \"Lp/sdp Min\" \"Eig/sdp Med\" \"Eig/sdp Max\" \"Eig/sdp Min\"   ],title = \"LpOpt,EigOpt over SDPopt as NumCuts grows\",legend=:topright,xaxis =\"cuts\",yaxis=:\"error\" ,size = (700, 500),line = (1, styles))\n"
   ]
  },
  {
   "cell_type": "code",
   "execution_count": null,
   "id": "09330068",
   "metadata": {},
   "outputs": [],
   "source": [
    " styles = filter((s->begin\n",
    "                s in Plots.supported_styles()\n",
    "        end), [:solid, :dash, :dash ])\n",
    "styles = reshape(styles, 1, length(styles))\n",
    " plotComparedResults= plot(comparedResults[1,:],transpose(comparedResults[5:7,:]), label =  [\"opt/sdp Mean\" \"opt/sdp Max\" \"opt/sdp Min\"   ],title = \"Quotient of LpOpt and SDPopt as NumCuts grows\",legend=:bottomleft,xaxis =\"cuts\",yaxis=\"Lp/SDP\" ,size = (700, 500),line = (1, styles))\n"
   ]
  },
  {
   "cell_type": "markdown",
   "id": "24c9c0c1",
   "metadata": {},
   "source": [
    "<h2>Recovery of sparse components: Synthetic experiments.<h2>"
   ]
  },
  {
   "cell_type": "code",
   "execution_count": 7,
   "id": "6a7594ad",
   "metadata": {},
   "outputs": [
    {
     "data": {
      "text/plain": [
       "10×10 Matrix{Float64}:\n",
       "  84100.0   84100.0   84100.0   84100.0  …      0.0  -25230.0  -25230.0\n",
       "  84100.0   84100.0   84100.0   84100.0         0.0  -25230.0  -25230.0\n",
       "  84100.0   84100.0   84100.0   84100.0         0.0  -25230.0  -25230.0\n",
       "  84100.0   84100.0   84100.0   84100.0         0.0  -25230.0  -25230.0\n",
       "      0.0       0.0       0.0       0.0     90000.0   83250.0   83250.0\n",
       "      0.0       0.0       0.0       0.0  …  90000.0   83250.0   83250.0\n",
       "      0.0       0.0       0.0       0.0     90000.0   83250.0   83250.0\n",
       "      0.0       0.0       0.0       0.0     90000.0   83250.0   83250.0\n",
       " -25230.0  -25230.0  -25230.0  -25230.0     83250.0   84575.2   84575.2\n",
       " -25230.0  -25230.0  -25230.0  -25230.0     83250.0   84575.2   84575.2"
      ]
     },
     "execution_count": 7,
     "metadata": {},
     "output_type": "execute_result"
    }
   ],
   "source": [
    "TrueCov = [290^2 290^2 290^2 290^2 0 0 0 0 -0.3*290^2 -0.3*290^2; 290^2 290^2 290^2 290^2 0 0 0 0 -0.3*290^2 -0.3*290^2;\n",
    "    290^2 290^2 290^2 290^2 0 0 0 0 -0.3*290^2 -0.3*290^2; 290^2 290^2 290^2 290^2 0 0 0 0 -0.3*290^2 -0.3*290^2; 0 0 0 0 300^2 300^2 300^2 300^2  0.925*300^2 0.925*300^2; 0 0 0 0 300^2 300^2 300^2 300^2  0.925*300^2 0.925*300^2\n",
    "; 0 0 0 0 300^2 300^2 300^2 300^2  0.925*300^2 0.925*300^2;0 0 0 0 300^2 300^2 300^2 300^2  0.925*300^2 0.925*300^2;  -0.3*290^2 -0.3*290^2 -0.3*290^2 -0.3*290^2 0.925*300^2 0.925*300^2 0.925*300^2 0.925*300^2  (290^2)*(0.3^2)+(300^2)*(0.925)^2 (290^2)*(0.3^2)+(300^2)*(0.925)^2;\n",
    "-0.3*290^2 -0.3*290^2 -0.3*290^2 -0.3*290^2 0.925*300^2 0.925*300^2 0.925*300^2 0.925*300^2  (290^2)*(0.3^2)+(300^2)*(0.925)^2 (290^2)*(0.3^2)+(300^2)*(0.925)^2]"
   ]
  },
  {
   "cell_type": "code",
   "execution_count": 34,
   "id": "33846f5a",
   "metadata": {},
   "outputs": [
    {
     "data": {
      "text/plain": [
       "true"
      ]
     },
     "execution_count": 34,
     "metadata": {},
     "output_type": "execute_result"
    }
   ],
   "source": [
    "issymmetric(TrueCov)"
   ]
  },
  {
   "cell_type": "markdown",
   "id": "24e84629",
   "metadata": {},
   "source": [
    "<h3> Recovery using the semidefinite program <h3>"
   ]
  },
  {
   "cell_type": "code",
   "execution_count": 8,
   "id": "1cbbfcc9",
   "metadata": {},
   "outputs": [
    {
     "data": {
      "text/plain": [
       "10-element Vector{Float64}:\n",
       "  3.612273590984214e-6\n",
       "  3.0474894046585602e-6\n",
       "  3.8764935162499267e-7\n",
       " -2.3179576384464016e-6\n",
       "  0.5000000107326813\n",
       "  0.4999998883468414\n",
       "  0.49999904862856925\n",
       "  0.5000010522610118\n",
       "  7.115566095228232e-7\n",
       " -7.11523379015849e-7"
      ]
     },
     "execution_count": 8,
     "metadata": {},
     "output_type": "execute_result"
    }
   ],
   "source": [
    "SdpSol =SdpSparsePCA(TrueCov,4)[1]\n",
    "firstPcSdp = eigen(SdpSol).vectors[:,10]\n"
   ]
  },
  {
   "cell_type": "code",
   "execution_count": 9,
   "id": "94864d3d",
   "metadata": {},
   "outputs": [
    {
     "data": {
      "text/plain": [
       "10-element Vector{Float64}:\n",
       " -0.5000011247387063\n",
       " -0.4999994682731165\n",
       " -0.4999995568658674\n",
       " -0.4999998477652918\n",
       " -2.4830020311871262e-5\n",
       " -2.3611262639575112e-5\n",
       " -2.4665456693895404e-5\n",
       " -2.383353287473775e-5\n",
       "  1.5580430949846402e-6\n",
       " -1.5425405291868267e-6"
      ]
     },
     "execution_count": 9,
     "metadata": {},
     "output_type": "execute_result"
    }
   ],
   "source": [
    "deflated = TrueCov-(transpose(firstPcSdp)*TrueCov*firstPcSdp)*firstPcSdp*transpose(firstPcSdp)\n",
    "sdpSol2 =SdpSparsePCA(deflated,4)[1]\n",
    "secondPcSdp =eigen(sdpSol2).vectors[:,10]"
   ]
  },
  {
   "cell_type": "markdown",
   "id": "47ff37e3",
   "metadata": {},
   "source": [
    "<h3> Recovery using the linear relaxation <h3>"
   ]
  },
  {
   "cell_type": "code",
   "execution_count": 11,
   "id": "fbb259b4",
   "metadata": {},
   "outputs": [
    {
     "data": {
      "text/plain": [
       "10×10 Matrix{Float64}:\n",
       "  3.24022e-11   8.73168e-12   4.94671e-12  …  -3.8658e-13   -1.66533e-13\n",
       "  8.73168e-12   0.0           5.97922e-12     -3.8658e-13   -1.66533e-13\n",
       "  4.94671e-12   5.97922e-12   1.33536e-10     -3.8658e-13   -1.66533e-13\n",
       "  5.63238e-12   5.63238e-12   5.63238e-12     -3.8658e-13   -1.66533e-13\n",
       " -6.76126e-13  -6.76126e-13  -6.76126e-13      9.88454e-12   5.67548e-11\n",
       " -6.76126e-13  -6.76126e-13  -6.76126e-13  …   9.88454e-12   5.67548e-11\n",
       " -6.76126e-13  -6.76126e-13  -6.76126e-13      9.88454e-12   5.67548e-11\n",
       " -1.34603e-12  -1.34603e-12  -1.34603e-12      2.86611e-11   5.69089e-11\n",
       " -3.8658e-13   -3.8658e-13   -3.8658e-13       9.59006e-12   7.40075e-11\n",
       " -1.66533e-13  -1.66533e-13  -1.66533e-13      7.40075e-11   1.40305e-10"
      ]
     },
     "execution_count": 11,
     "metadata": {},
     "output_type": "execute_result"
    }
   ],
   "source": [
    " linearSol=EigenRelSparsePCA(TrueCov,4)[1]"
   ]
  },
  {
   "cell_type": "code",
   "execution_count": 12,
   "id": "876d1b07",
   "metadata": {},
   "outputs": [
    {
     "data": {
      "text/plain": [
       "10-element Vector{Float64}:\n",
       "  1.389248782963386e-12\n",
       "  1.3892486745431687e-12\n",
       "  1.389248782963386e-12\n",
       "  1.389248782963386e-12\n",
       " -0.5984084238345387\n",
       " -0.5958297886701335\n",
       " -0.45660311358696043\n",
       " -0.28001396015174007\n",
       " -2.265054810379752e-11\n",
       " -1.0200438628249944e-10"
      ]
     },
     "execution_count": 12,
     "metadata": {},
     "output_type": "execute_result"
    }
   ],
   "source": [
    " LinearSolFirstPc =eigen(linearSol).vectors[:,10]"
   ]
  },
  {
   "cell_type": "code",
   "execution_count": 14,
   "id": "cefad344",
   "metadata": {},
   "outputs": [
    {
     "data": {
      "text/plain": [
       "10-element Vector{Float64}:\n",
       "  0.4826804623797477\n",
       "  0.36629234723447673\n",
       "  0.7627011213671436\n",
       "  0.2261337813322724\n",
       " -1.2538960065283395e-11\n",
       " -1.2937422192261505e-11\n",
       " -8.345025880081716e-12\n",
       " -7.75842313513358e-12\n",
       " -1.1901557764957417e-11\n",
       " -1.3383583875104916e-11"
      ]
     },
     "execution_count": 14,
     "metadata": {},
     "output_type": "execute_result"
    }
   ],
   "source": [
    "deflatedCovLinear = TrueCov-(transpose(LinearSolFirstPc)*TrueCov*LinearSolFirstPc)*LinearSolFirstPc*transpose(LinearSolFirstPc)\n",
    "deflatedCovLinear = round.(deflatedCovLinear,digits=5)\n",
    "LinearSol2 =EigenRelSparsePCA(deflatedCovLinear,4)[1]\n",
    "LinearSolSecondPc =eigen(LinearSol2).vectors[:,10]"
   ]
  },
  {
   "cell_type": "markdown",
   "id": "18f9eda0",
   "metadata": {},
   "source": [
    "<h2>PitPros dataset<h2>"
   ]
  },
  {
   "cell_type": "code",
   "execution_count": 15,
   "id": "bd5b486c",
   "metadata": {},
   "outputs": [
    {
     "data": {
      "text/plain": [
       "13×13 Matrix{Float64}:\n",
       "  1.0     0.954   0.364   0.342  -0.129  …   0.545   0.084  -0.019   0.134\n",
       "  0.954   1.0     0.297   0.284  -0.118      0.569   0.076  -0.036   0.144\n",
       "  0.364   0.297   1.0     0.882  -0.148     -0.081   0.162   0.22    0.126\n",
       "  0.342   0.284   0.882   1.0     0.22      -0.014   0.097   0.169   0.015\n",
       " -0.129  -0.118  -0.148   0.22    1.0        0.037  -0.091  -0.145  -0.208\n",
       "  0.313   0.291   0.153   0.381   0.364  …   0.274  -0.036   0.024  -0.329\n",
       "  0.496   0.503  -0.029   0.174   0.296      0.679  -0.113  -0.232  -0.424\n",
       "  0.424   0.419  -0.054  -0.059   0.004      0.557   0.061  -0.357  -0.202\n",
       "  0.592   0.648   0.125   0.137  -0.039      0.526   0.085  -0.127  -0.076\n",
       "  0.545   0.569  -0.081  -0.014   0.037      1.0    -0.319  -0.368  -0.291\n",
       "  0.084   0.076   0.162   0.097  -0.091  …  -0.319   1.0     0.029   0.007\n",
       " -0.019  -0.036   0.22    0.169  -0.145     -0.368   0.029   1.0     0.184\n",
       "  0.134   0.144   0.126   0.015  -0.208     -0.291   0.007   0.184   1.0"
      ]
     },
     "execution_count": 15,
     "metadata": {},
     "output_type": "execute_result"
    }
   ],
   "source": [
    "data = [1,0.954,0.364,0.342,-0.129,0.313,0.496,0.424,0.592,0.545,0.084,-0.019,0.134,\n",
    "0.954,1,0.297,0.284,-0.118,0.291,0.503,0.419,0.648,0.569,0.076,-0.036,0.144,\n",
    "0.364,0.297,1,0.882,-0.148,0.153,-0.029,-0.054,0.125,-0.081,0.162,0.22,0.126,\n",
    "0.342,0.284,0.882,1,0.22,0.381,0.174,-0.059,0.137,-0.014,0.097,0.169,0.015,\n",
    "-0.129,-0.118,-0.148,0.22,1,0.364,0.296,0.004,-0.039,0.037,-0.091,-0.145,-0.208,\n",
    "0.313,0.291,0.153,0.381,0.364,1,0.813,0.09,0.211,0.274,-0.036,0.024,-0.329,\n",
    "0.496,0.503,-0.029,0.174,0.296,0.813,1,0.372,0.465,0.679,-0.113,-0.232,-0.424,\n",
    "0.424,0.419,-0.054,-0.059,0.004,0.09,0.372,1,0.482,0.557,0.061,-0.357,-0.202,\n",
    "0.592,0.648,0.125,0.137,-0.039,0.211,0.465,0.482,1,0.526,0.085,-0.127,-0.076,\n",
    "0.545,0.569,-0.081,-0.014,0.037,0.274,0.679,0.557,0.526,1,-0.319,-0.368,-0.291,\n",
    "0.084,0.076,0.162,0.097,-0.091,-0.036,-0.113,0.061,0.085,-0.319,1,0.029,0.007,\n",
    "-0.019,-0.036,0.22,0.169,-0.145,0.024,-0.232,-0.357,-0.127,-0.368,0.029,1,0.184,\n",
    "0.134,0.144,0.126,0.015,-0.208,-0.329,-0.424,-0.202,-0.076,-0.291,0.007,0.184,1]\n",
    "data = reshape(data,13,13)"
   ]
  },
  {
   "cell_type": "markdown",
   "id": "0ee13932",
   "metadata": {},
   "source": [
    "<h3>Recovery using the semidefinite program<h3>"
   ]
  },
  {
   "cell_type": "code",
   "execution_count": 21,
   "id": "0ab8ca2a",
   "metadata": {},
   "outputs": [
    {
     "data": {
      "text/plain": [
       "13-element Vector{Float64}:\n",
       "  0.559929857404161\n",
       "  0.5826620088260479\n",
       "  5.4353236882192646e-11\n",
       "  2.1253336446045236e-11\n",
       " -5.3758370539471404e-12\n",
       "  6.29384021174909e-11\n",
       "  0.2626999216555817\n",
       "  0.09829239640487608\n",
       "  0.37096628059481995\n",
       "  0.361517513947712\n",
       " -1.0077959765498147e-13\n",
       "  7.574857407988134e-12\n",
       " -1.3334847388407005e-11"
      ]
     },
     "execution_count": 21,
     "metadata": {},
     "output_type": "execute_result"
    }
   ],
   "source": [
    " SdpSolProps=SdpSparsePCA(data,5)[1]\n",
    "SparseEigenVectorSdpSol =eigen(SdpSolProps).vectors \n",
    "firstPCsdp = SparseEigenVectorSdpSol[:,13]"
   ]
  },
  {
   "cell_type": "code",
   "execution_count": 22,
   "id": "64563863",
   "metadata": {},
   "outputs": [
    {
     "data": {
      "text/plain": [
       "13-element Vector{Float64}:\n",
       " -1.2536768584319323e-10\n",
       " -1.9028377357553758e-10\n",
       "  0.7071108900307925\n",
       "  0.707102672318427\n",
       " -1.3803656015744577e-10\n",
       "  7.599284159075003e-10\n",
       "  1.2672277980654567e-11\n",
       "  2.95857631389455e-10\n",
       " -2.372804163080145e-10\n",
       " -3.365052802291182e-10\n",
       "  3.7388164081626796e-11\n",
       " -1.001596583449782e-10\n",
       "  1.2118900840495177e-10"
      ]
     },
     "execution_count": 22,
     "metadata": {},
     "output_type": "execute_result"
    }
   ],
   "source": [
    "deflate1 = data-(transpose(firstPCsdp)*data*firstPCsdp)*firstPCsdp*transpose(firstPCsdp)\n",
    "secondPcMatrix = SdpSparsePCA(deflate1,2)[1]\n",
    "secondPcSdp = eigen(secondPcMatrix).vectors[:,13]"
   ]
  },
  {
   "cell_type": "code",
   "execution_count": 23,
   "id": "956e53e2",
   "metadata": {},
   "outputs": [
    {
     "data": {
      "text/plain": [
       "13-element Vector{Float64}:\n",
       "  1.1450985832224328e-11\n",
       "  1.0695724580270616e-11\n",
       "  3.984540267314717e-12\n",
       "  1.1950797450448403e-11\n",
       "  2.4420658290445004e-11\n",
       "  0.7927001955816912\n",
       "  0.6094931620653804\n",
       "  1.1274473126952482e-11\n",
       "  7.392120233613926e-12\n",
       " -4.108250539743773e-12\n",
       " -4.970971752727073e-12\n",
       " -5.687117443642364e-12\n",
       " -0.01202020466931953"
      ]
     },
     "execution_count": 23,
     "metadata": {},
     "output_type": "execute_result"
    }
   ],
   "source": [
    "deflate2 = deflate1-(transpose(secondPcSdp)*deflate1*secondPcSdp)*secondPcSdp*transpose(secondPcSdp)\n",
    "thirdPcMatrix = SdpSparsePCA(deflate2,2)[1]\n",
    "thirdPcSdp = eigen(thirdPcMatrix).vectors[:,13]"
   ]
  },
  {
   "cell_type": "markdown",
   "id": "7409b44f",
   "metadata": {},
   "source": [
    "<h3>Recovery using the linear relaxation <h3>"
   ]
  },
  {
   "cell_type": "code",
   "execution_count": 16,
   "id": "9a7107f7",
   "metadata": {},
   "outputs": [
    {
     "data": {
      "text/plain": [
       "13-element Vector{Float64}:\n",
       "  0.6453940911647247\n",
       "  0.43731321736661405\n",
       "  1.6232699849647605e-12\n",
       "  1.0919318614777169e-12\n",
       " -2.9085459728449003e-12\n",
       "  0.018837710198198243\n",
       "  0.26841488513009937\n",
       "  1.5323177342695897e-11\n",
       "  0.35186487279498163\n",
       "  0.442733913783635\n",
       " -2.656609672207965e-12\n",
       " -5.300537786467885e-12\n",
       " -3.893881926346667e-12"
      ]
     },
     "execution_count": 16,
     "metadata": {},
     "output_type": "execute_result"
    }
   ],
   "source": [
    " linearProp=EigenRelSparsePCA(data,5)[1]\n",
    "firstLinearPc = eigen(linearProp).vectors[:,13]\n"
   ]
  },
  {
   "cell_type": "code",
   "execution_count": 18,
   "id": "da11b980",
   "metadata": {},
   "outputs": [
    {
     "data": {
      "text/plain": [
       "13-element Vector{Float64}:\n",
       " 0.0\n",
       " 0.0\n",
       " 0.6405238050586909\n",
       " 0.7679383146797248\n",
       " 0.0\n",
       " 0.0\n",
       " 0.0\n",
       " 0.0\n",
       " 0.0\n",
       " 0.0\n",
       " 0.0\n",
       " 0.0\n",
       " 0.0"
      ]
     },
     "execution_count": 18,
     "metadata": {},
     "output_type": "execute_result"
    }
   ],
   "source": [
    "deflate1Linear = data-(transpose(firstLinearPc)*data*firstLinearPc)*firstLinearPc*transpose(firstLinearPc)\n",
    "secondPcMatrixLinear = EigenRelSparsePCA(deflate1Linear,2)[1]\n",
    "secondPcMatrixLinear = round.(secondPcMatrixLinear,digits=5)\n",
    "secondPcLinear = eigen(secondPcMatrixLinear).vectors[:,13]"
   ]
  },
  {
   "cell_type": "code",
   "execution_count": 19,
   "id": "0c719a3d",
   "metadata": {},
   "outputs": [
    {
     "data": {
      "text/plain": [
       "13-element Vector{Float64}:\n",
       " 0.0\n",
       " 0.0\n",
       " 0.0\n",
       " 0.04648072717142303\n",
       " 0.0\n",
       " 0.9318839180056627\n",
       " 0.3597664594761872\n",
       " 0.0\n",
       " 0.0\n",
       " 0.0\n",
       " 0.0\n",
       " 0.0\n",
       " 0.0"
      ]
     },
     "execution_count": 19,
     "metadata": {},
     "output_type": "execute_result"
    }
   ],
   "source": [
    "deflate2Linear = deflate1Linear-(transpose(secondPcLinear)*deflate1Linear*secondPcLinear)*secondPcLinear*transpose(secondPcLinear)\n",
    "ThirdPcMatrixLinear = EigenRelSparsePCA(deflate2Linear,2)[1]\n",
    "ThirdPcMatrixLinear = round.(ThirdPcMatrixLinear,digits=5)\n",
    "ThirdPcLinear = eigen(ThirdPcMatrixLinear).vectors[:,13]"
   ]
  },
  {
   "cell_type": "markdown",
   "id": "774cd788",
   "metadata": {},
   "source": [
    "<h3>k=6,2,2<h3>"
   ]
  },
  {
   "cell_type": "code",
   "execution_count": 30,
   "id": "548ebc2a",
   "metadata": {},
   "outputs": [
    {
     "data": {
      "text/plain": [
       "13-element Vector{Float64}:\n",
       " -0.33173299805971423\n",
       " -0.5393936164056944\n",
       "  2.524143596838246e-10\n",
       "  4.3207674112699453e-10\n",
       "  5.896552055479672e-10\n",
       " -2.5998241488915233e-9\n",
       " -0.6070005040610722\n",
       " -0.08873699785588617\n",
       " -0.22754447962314137\n",
       " -0.4134094672999916\n",
       "  9.451098534923297e-10\n",
       "  1.2939084248486665e-9\n",
       "  1.4173111195154227e-9"
      ]
     },
     "execution_count": 30,
     "metadata": {},
     "output_type": "execute_result"
    }
   ],
   "source": [
    " linearProp6=EigenRelSparsePCA(data,6)[1]\n",
    "firstLinearPc6 = eigen(linearProp6).vectors[:,13]"
   ]
  },
  {
   "cell_type": "code",
   "execution_count": 31,
   "id": "0da03ba6",
   "metadata": {},
   "outputs": [
    {
     "data": {
      "text/plain": [
       "13-element Vector{Float64}:\n",
       " -6.28645637153518e-11\n",
       " -1.3461636144884943e-10\n",
       "  0.707105066335187\n",
       "  0.7071084960337493\n",
       " -9.513024474926507e-12\n",
       "  7.310002234915935e-10\n",
       " -3.1239926728355136e-10\n",
       "  9.180126778703242e-11\n",
       "  1.0347602070657581e-10\n",
       " -8.59029640874706e-11\n",
       "  2.162338902910865e-11\n",
       "  3.287518174355242e-11\n",
       "  1.8576101281503027e-11"
      ]
     },
     "execution_count": 31,
     "metadata": {},
     "output_type": "execute_result"
    }
   ],
   "source": [
    "deflate1Linear6 = data-(transpose(firstLinearPc6)*data*firstLinearPc6)*firstLinearPc6*transpose(firstLinearPc6)\n",
    "secondPcMatrixLinear6 = SdpSparsePCA(deflate1Linear6,2)[1]\n",
    "secondPcLinear6 = eigen(secondPcMatrixLinear6).vectors[:,13]"
   ]
  },
  {
   "cell_type": "code",
   "execution_count": 32,
   "id": "506c837a",
   "metadata": {},
   "outputs": [
    {
     "data": {
      "text/plain": [
       "13-element Vector{Float64}:\n",
       "  1.1498414653195674e-10\n",
       "  7.539992069564064e-11\n",
       "  8.128239736531081e-11\n",
       "  9.635926702917469e-10\n",
       "  3.449507565234002e-8\n",
       "  0.9304287648915897\n",
       "  0.3348398538522405\n",
       "  7.181974037647777e-11\n",
       "  7.072188302367631e-11\n",
       "  1.230002379837545e-10\n",
       " -1.0545993738100449e-11\n",
       " -8.330558465274862e-12\n",
       " -0.1489449083873635"
      ]
     },
     "execution_count": 32,
     "metadata": {},
     "output_type": "execute_result"
    }
   ],
   "source": [
    "deflate2Linear6 = deflate1Linear6-(transpose(secondPcLinear6)*deflate1Linear6*secondPcLinear6)*secondPcLinear6*transpose(secondPcLinear6)\n",
    "ThirdPcMatrixLinear6 = SdpSparsePCA(deflate2Linear6,2)[1]\n",
    "ThirdPcLinear6 = eigen(ThirdPcMatrixLinear6).vectors[:,13]"
   ]
  },
  {
   "cell_type": "markdown",
   "id": "a3fd30d6",
   "metadata": {},
   "source": [
    "<h1>Comparing against second order cone relaxation of Bertsimas<h1>"
   ]
  },
  {
   "cell_type": "code",
   "execution_count": null,
   "id": "48f76691",
   "metadata": {},
   "outputs": [],
   "source": [
    "# First write the SOC relaxation of Bertsimas as an optimization program\n",
    "# @param data: the matrix A of observations.\n",
    "# @param cuts: numbers of cuts the method adds\n",
    "# @param k: target sparcity.\n",
    "# @param CompareBound: the value to which to compare. This might be the semidefinite\n",
    "#rel of sparce PCA or the optimal value (see bertsimas paper).  \n",
    "function BertsimasCuts(A,cuts,k,tolerance)\n",
    "    \n",
    "  n = size(A)[1]\n",
    "    m = Model(Mosek.Optimizer)\n",
    "    set_silent(m)\n",
    "      @variable(m,X[1:n,1:n],Symmetric ) \n",
    "      @constraint(m,tr(X)==1)\n",
    "      @variable(m,Y[1:n,1:n],Symmetric)  \n",
    "          @constraint(m,Y.>=X )\n",
    "           @constraint(m,Y.>=-X )\n",
    "           @constraint(m,sum(Y)<=k)\n",
    "    \n",
    "    for i in 1:n\n",
    "        for j in 1:n\n",
    "            @constraint(m,[X[i,i]+X[j,j];2*X[i,j];X[i,i]-X[j,j]] in SecondOrderCone())\n",
    "        end\n",
    "    end\n",
    "    \n",
    "       @objective(m,Max,tr(A*X))\n",
    "      status = optimize!(m)\n",
    "    \n",
    "      currentObj =  objective_value(m)\n",
    "      \n",
    "       maxEigVecto = eigen(value.(X)).vectors[:,1]\n",
    "        \n",
    "    println(currentObj)\n",
    "    for s in 1:cuts\n",
    "    \n",
    "      @constraint(m, transpose(maxEigVecto)*X*maxEigVecto>=0)    \n",
    "       status = optimize!(m)\n",
    "      currentObj =  objective_value(m)\n",
    "        \n",
    "       maxEigVecto = eigen(value.(X)).vectors[:,n]\n",
    "        println(eigen(value.(X)).values[1])\n",
    "        println(currentObj)\n",
    "    end\n",
    "       \n",
    "     return([value.(X),value.(Y),objective_value(m),solve_time(m)])    \n",
    "    \n",
    "    \n",
    "    \n",
    "end"
   ]
  },
  {
   "cell_type": "code",
   "execution_count": null,
   "id": "c71b590e",
   "metadata": {},
   "outputs": [],
   "source": [
    "function BertsimasCuts2(A,cuts,k,lp)\n",
    "    n = size(A)[1]\n",
    "     H = zeros(n)\n",
    " \n",
    "    for i in 1:cuts\n",
    "        if lp==true\n",
    "           CurrentSol = solverIteratelyLP(A,1,10,H)\n",
    "        else\n",
    "            CurrentSol = solverIteratelySOC(A,1,10,H)\n",
    "        end\n",
    "        println(CurrentSol[2])   \n",
    "       maxEigVecto = eigen(CurrentSol[1]).vectors[:,1]\n",
    "        H = hcat(H,maxEigVecto) \n",
    "        \n",
    "    end\n",
    "       return(H)\n",
    "      \n",
    "    \n",
    "end\n",
    "\n",
    "\n",
    "function solverIteratelySOC(A,cuts,k,H)\n",
    "\n",
    "     n = size(A)[1]\n",
    "    m = Model(Mosek.Optimizer)\n",
    "    set_silent(m)\n",
    "      @variable(m,X[1:n,1:n],Symmetric ) \n",
    "      @constraint(m,tr(X)==1)\n",
    "      @variable(m,Y[1:n,1:n],Symmetric)  \n",
    "          @constraint(m,Y.>=X )\n",
    "           @constraint(m,Y.>=-X )\n",
    "           @constraint(m,sum(Y)<=k)\n",
    "    \n",
    "    \n",
    "    \n",
    "     eigenFacto =  eigen(A)\n",
    "    eigenVectors = eigenFacto.vectors\n",
    "    rounded = round.(eigenFacto.vectors,digits=3)\n",
    "    cons = rounded.*100\n",
    "      \n",
    "       \n",
    "      for i in 1:n\n",
    "               v =  cons[:,i]\n",
    "              @constraint(m,transpose(v)*X*v >=0)\n",
    "     #   println(i)\n",
    "     #   println(sum(v))\n",
    "        end  \n",
    "    \n",
    "    for i in 1:n\n",
    "        @constraint(m,X[i,i]>=0)\n",
    "        for j in 1:n\n",
    "            @constraint(m,[X[i,i]+X[j,j];2*X[i,j];X[i,i]-X[j,j]] in SecondOrderCone())\n",
    "        end\n",
    "    end\n",
    "    \n",
    "    for s in 1:size(H,2)\n",
    "        \n",
    "           @constraint(m, transpose(H[:,s])*X*H[:,s]>=0)  \n",
    "        \n",
    "    end\n",
    "    \n",
    "    @objective(m,Max,tr(A*X))\n",
    "      status = optimize!(m)\n",
    "    \n",
    "    \n",
    "    return(value.(X),objective_value(m))\n",
    "    \n",
    "\n",
    "end\n",
    "\n",
    "\n",
    "function solverIteratelyLPDeprecated(A,cuts,k,H)\n",
    "\n",
    "     n = size(A)[1]\n",
    "    m = Model(Mosek.Optimizer)\n",
    "    set_silent(m)\n",
    "      @variable(m,X[1:n,1:n],Symmetric ) \n",
    "      @constraint(m,tr(X)==1)\n",
    "      @variable(m,Y[1:n,1:n],Symmetric)  \n",
    "          @constraint(m,Y.>=X )\n",
    "           @constraint(m,Y.>=-X )\n",
    "           @constraint(m,sum(Y)<=k)\n",
    "    \n",
    "    \n",
    "    \n",
    "     eigenFacto =  eigen(A)\n",
    "    eigenVectors = eigenFacto.vectors\n",
    "    rounded = round.(eigenFacto.vectors,digits=3)\n",
    "    cons = rounded.*100\n",
    "      \n",
    "       \n",
    "      for i in 1:n\n",
    "               v =  cons[:,i]\n",
    "              @constraint(m,transpose(v)*X*v >=0)\n",
    "     #   println(i)\n",
    "     #   println(sum(v))\n",
    "        end  \n",
    "    \n",
    "    for i in 1:n\n",
    "        @constraint(m,X[i,i]>=0)\n",
    "    end\n",
    "    \n",
    "    for s in 1:size(H,2)\n",
    "        \n",
    "           @constraint(m, transpose(H[:,s])*X*H[:,s]>=0)  \n",
    "        \n",
    "    end\n",
    "    \n",
    "    @objective(m,Max,tr(A*X))\n",
    "      status = optimize!(m)\n",
    "    \n",
    "    \n",
    "    return(value.(X),objective_value(m))\n",
    "    \n",
    "\n",
    "end\n",
    "\n"
   ]
  },
  {
   "cell_type": "code",
   "execution_count": null,
   "id": "23bc91f0",
   "metadata": {},
   "outputs": [],
   "source": [
    "H1= zeros(3)"
   ]
  },
  {
   "cell_type": "code",
   "execution_count": null,
   "id": "1e8b0293",
   "metadata": {},
   "outputs": [],
   "source": [
    "size(hcat(H1,[1,2,3]),2)"
   ]
  },
  {
   "cell_type": "code",
   "execution_count": null,
   "id": "070a65a3",
   "metadata": {},
   "outputs": [],
   "source": []
  },
  {
   "cell_type": "code",
   "execution_count": null,
   "id": "a2aa0a56",
   "metadata": {},
   "outputs": [],
   "source": []
  },
  {
   "cell_type": "code",
   "execution_count": null,
   "id": "de6459c3",
   "metadata": {},
   "outputs": [],
   "source": []
  },
  {
   "cell_type": "code",
   "execution_count": null,
   "id": "b82510ee",
   "metadata": {},
   "outputs": [],
   "source": [
    " B1= rand(Normal(0,50),50,50)\n",
    "PsdMatrix1 = (1/(100-1))*B1*transpose(B1)\n",
    "1"
   ]
  },
  {
   "cell_type": "code",
   "execution_count": null,
   "id": "0c4cfad2",
   "metadata": {},
   "outputs": [],
   "source": [
    "sdpSparse = SdpSparsePCA(PsdMatrix1,10)[3]"
   ]
  },
  {
   "cell_type": "code",
   "execution_count": null,
   "id": "6b1fca96",
   "metadata": {},
   "outputs": [],
   "source": [
    "sdpVals = EigenRelSparsePCA(PsdMatrix1,10)[3]"
   ]
  },
  {
   "cell_type": "code",
   "execution_count": null,
   "id": "3ef392e0",
   "metadata": {},
   "outputs": [],
   "source": [
    "sdpBersekas =  BertsimasCuts(PsdMatrix1,5,10,0)"
   ]
  },
  {
   "cell_type": "code",
   "execution_count": null,
   "id": "2ed51db8",
   "metadata": {},
   "outputs": [],
   "source": [
    " BertsimasCuts2(PsdMatrix1,20,10)"
   ]
  },
  {
   "cell_type": "code",
   "execution_count": null,
   "id": "3d0f8247",
   "metadata": {},
   "outputs": [],
   "source": [
    " BertsimasCuts2(PsdMatrix1,20,10)"
   ]
  },
  {
   "cell_type": "markdown",
   "id": "9c893256",
   "metadata": {},
   "source": [
    "<h1>Experiments on sdpOBj vs number of cuts<h1>\n"
   ]
  },
  {
   "cell_type": "code",
   "execution_count": null,
   "id": "aa7aaf71",
   "metadata": {},
   "outputs": [],
   "source": [
    "#styles = filter((s->begin\n",
    "#                s in Plots.supported_styles()\n",
    "#        end), [:solid, :dash, :dash,:solid, :dash, :dash])\n",
    "#styles = reshape(styles, 1, length(styles))"
   ]
  },
  {
   "cell_type": "code",
   "execution_count": null,
   "id": "1effa905",
   "metadata": {},
   "outputs": [],
   "source": [
    "ObjectiveVSIteration(numGraphs,matrixType,targetSparcity,graphSize,rounds)\n",
    "# comparedResults  =  ObjectiveVSIteration(20,0,10,80,30)\n",
    "#ObjectiveVSIteration(numGraphs,matrixType,targetSparcity,graphSize,rounds)\n",
    " \n",
    " σs = (resultsPfixed05[:,1]-resultsPfixed05[:,3],resultsPfixed05[:,2]-resultsPfixed05[:,1])\n",
    "plot(interv,resultsPfixed05[:,1],grid=true,ribbon=σs,fillalpha=.1,label =  [\"LTn/Tn\"],legend=:topleft,xaxis =\"size of graph\")\n",
    "plotComparedResults= plot(comparedResults[1,:],transpose(comparedResults[2:7,:]), label =  [\"Lp/sdp Med\" \"Lp/sdp Max\" \"Lp/sdp Min\" \"Eig/sdp Med\" \"Eig/sdp Max\" \"Eig/sdp Min\"   ],title = \"LpOpt,EigOpt over SDPopt as NumCuts grows\",legend=:topright,xaxis =\"cuts\",yaxis=:log ,size = (700, 500),line = (1, styles))\n",
    " \n",
    "#plotComparedResults= \n",
    " plot!(comparedResults[1,:],transpose(comparedResults[5:7,:]), label =  [\"opt/sdp Mean\" \"opt/sdp Max\" \"opt/sdp Min\"   ],title = \"Quotient of LpOpt and SDPopt as NumCuts grows\",legend=:bottomleft,xaxis =\"cuts\",yaxis=\"Lp/SDP\" ,size = (700, 500),line = (1, styles))\n"
   ]
  },
  {
   "cell_type": "code",
   "execution_count": null,
   "id": "4aea9d38",
   "metadata": {},
   "outputs": [],
   "source": [
    "serialize(\"comparedResults.jls\",comparedResults)"
   ]
  },
  {
   "cell_type": "code",
   "execution_count": null,
   "id": "5d626729",
   "metadata": {},
   "outputs": [],
   "source": [
    "using serialize"
   ]
  },
  {
   "cell_type": "code",
   "execution_count": null,
   "id": "6c345b13",
   "metadata": {},
   "outputs": [],
   "source": [
    "comparedResults"
   ]
  },
  {
   "cell_type": "code",
   "execution_count": null,
   "id": "ac861eb0",
   "metadata": {},
   "outputs": [],
   "source": [
    "styles = filter((s->begin\n",
    "                s in Plots.supported_styles()\n",
    "        end), [:solid, :dash, :dash ])\n",
    "styles = reshape(styles, 1, length(styles))"
   ]
  },
  {
   "cell_type": "code",
   "execution_count": null,
   "id": "f8df1a00",
   "metadata": {},
   "outputs": [],
   "source": [
    " #,yerror=σs2\n",
    "#σs = [a,b]\n",
    "a = vec(transpose(comparedResults[5,:]) - transpose(comparedResults[6,:]))\n",
    "b = vec(transpose(comparedResults[7,:])-transpose(comparedResults[5,:]))\n",
    "plotComparedResults= plot(comparedResults[1,:], comparedResults[5,:],marker=(:square, 3, 1.), label =(\"EigenCuts/sdp median\"),legend=:topleft,xaxis =\"cuts\",yaxis=\"Lp/SDP\" ,size = (700, 500),linestyle=:dash,yerror =(a,b),colour=\"black\"  )\n",
    "#σs2 = (transpose(comparedResults[2,:])-transpose(comparedResults[3,:]),transpose(comparedResults[4,:])-transpose(comparedResults[2,:]))\n",
    "a2 = vec(transpose(comparedResults[2,:])-transpose(comparedResults[3,:]))\n",
    "b2 = vec(transpose(comparedResults[4,:])-transpose(comparedResults[2,:]))\n",
    "plot!(comparedResults[1,:].+1.5, comparedResults[2,:], label =(\"LinearCuts/sdp median\"),legend=:topleft,marker=(:diamond, 3, 1.),xaxis =\"number of cuts\",yaxis=\"Lp/SDP\" ,size = (700, 500),linestyle =:dash,yerror =(a2,b2),colour=\"black\")\n",
    " \n"
   ]
  },
  {
   "cell_type": "code",
   "execution_count": null,
   "id": "6dec333e",
   "metadata": {},
   "outputs": [],
   "source": [
    "comparedResults[1,:].+2"
   ]
  },
  {
   "cell_type": "code",
   "execution_count": null,
   "id": "e3777a91",
   "metadata": {},
   "outputs": [],
   "source": [
    "a = transpose(comparedResults[5,:]) - transpose(comparedResults[6,:])\n",
    "a = vector(a)"
   ]
  },
  {
   "cell_type": "code",
   "execution_count": null,
   "id": "6ca29a28",
   "metadata": {},
   "outputs": [],
   "source": [
    "vec(a)"
   ]
  },
  {
   "cell_type": "code",
   "execution_count": null,
   "id": "a51bda8d",
   "metadata": {},
   "outputs": [],
   "source": [
    "b = transpose(comparedResults[7,:])-transpose(comparedResults[5,:])"
   ]
  },
  {
   "cell_type": "code",
   "execution_count": null,
   "id": "5a9e643a",
   "metadata": {},
   "outputs": [],
   "source": [
    "σs1 = rand(length(comparedResults[1,:]))\n",
    "σs2 = rand(length(comparedResults[1,:]))\n"
   ]
  }
 ],
 "metadata": {
  "kernelspec": {
   "display_name": "Julia 1.7.3",
   "language": "julia",
   "name": "julia-1.7"
  },
  "language_info": {
   "file_extension": ".jl",
   "mimetype": "application/julia",
   "name": "julia",
   "version": "1.7.3"
  }
 },
 "nbformat": 4,
 "nbformat_minor": 5
}
